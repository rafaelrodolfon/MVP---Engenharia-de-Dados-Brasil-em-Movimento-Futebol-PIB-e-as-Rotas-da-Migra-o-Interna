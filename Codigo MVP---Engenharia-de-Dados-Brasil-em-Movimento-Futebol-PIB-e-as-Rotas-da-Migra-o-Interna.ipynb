{
 "cells": [
  {
   "cell_type": "markdown",
   "metadata": {
    "application/vnd.databricks.v1+cell": {
     "cellMetadata": {},
     "inputWidgets": {},
     "nuid": "c7616492-8496-4799-a312-d2579b08d08d",
     "showTitle": false,
     "tableResultSettingsMap": {},
     "title": ""
    }
   },
   "source": [
    "# Codigo MVP---Engenharia-de-Dados-Brasil-em-Movimento-Futebol-PIB-e-as-Rotas-da-Migra-o-Interna"
   ]
  },
  {
   "cell_type": "markdown",
   "metadata": {
    "application/vnd.databricks.v1+cell": {
     "cellMetadata": {},
     "inputWidgets": {},
     "nuid": "813467a4-a920-4394-9f8a-a531e9f3a20e",
     "showTitle": false,
     "tableResultSettingsMap": {},
     "title": ""
    }
   },
   "source": [
    "### 1.Importação de Bibliotecas"
   ]
  },
  {
   "cell_type": "code",
   "execution_count": 0,
   "metadata": {
    "application/vnd.databricks.v1+cell": {
     "cellMetadata": {
      "byteLimit": 2048000,
      "rowLimit": 10000
     },
     "inputWidgets": {},
     "nuid": "879cc78c-7fdc-49ac-a16b-d8e47b9acd15",
     "showTitle": false,
     "tableResultSettingsMap": {},
     "title": ""
    }
   },
   "outputs": [
    {
     "output_type": "display_data",
     "data": {
      "application/vnd.databricks.v1+bamboolib_hint": "{\"pd.DataFrames\": [], \"version\": \"0.0.1\"}",
      "text/plain": []
     },
     "metadata": {},
     "output_type": "display_data"
    },
    {
     "output_type": "stream",
     "name": "stdout",
     "output_type": "stream",
     "text": [
      "Python interpreter will be restarted.\nRequirement already satisfied: plotly in /databricks/python3/lib/python3.9/site-packages (5.6.0)\nRequirement already satisfied: six in /databricks/python3/lib/python3.9/site-packages (from plotly) (1.16.0)\nRequirement already satisfied: tenacity>=6.2.0 in /databricks/python3/lib/python3.9/site-packages (from plotly) (8.0.1)\nPython interpreter will be restarted.\n"
     ]
    }
   ],
   "source": [
    "import pandas as pd\n",
    "import requests\n",
    "from pyspark.sql.functions import col, when, trim, regexp_replace\n",
    "\n",
    "\n",
    "%pip install plotly\n",
    "\n",
    "import plotly.express as px"
   ]
  },
  {
   "cell_type": "markdown",
   "metadata": {
    "application/vnd.databricks.v1+cell": {
     "cellMetadata": {},
     "inputWidgets": {},
     "nuid": "a59c56b3-0582-450e-be57-b701e26a5e68",
     "showTitle": false,
     "tableResultSettingsMap": {},
     "title": ""
    }
   },
   "source": [
    "### 1.1 Importação de Dados\n",
    "---"
   ]
  },
  {
   "cell_type": "code",
   "execution_count": 0,
   "metadata": {
    "application/vnd.databricks.v1+cell": {
     "cellMetadata": {
      "byteLimit": 2048000,
      "rowLimit": 10000
     },
     "inputWidgets": {},
     "nuid": "657567e5-9d72-40f8-a189-a79b8b234611",
     "showTitle": false,
     "tableResultSettingsMap": {},
     "title": ""
    }
   },
   "outputs": [
    {
     "output_type": "display_data",
     "data": {
      "application/vnd.databricks.v1+bamboolib_hint": "{\"pd.DataFrames\": [], \"version\": \"0.0.1\"}",
      "text/plain": []
     },
     "metadata": {},
     "output_type": "display_data"
    },
    {
     "output_type": "stream",
     "name": "stdout",
     "output_type": "stream",
     "text": [
      "🔄 Baixando dados de: producao_industria\n✅ DataFrame Spark `producao_industria` criado com 3528 linhas.\n🔄 Baixando dados de: pib\n✅ DataFrame Spark `pib` criado com 560 linhas.\n🔄 Baixando dados de: populacao\n✅ DataFrame Spark `populacao` criado com 560 linhas.\n🔄 Baixando dados de: obitos\n✅ DataFrame Spark `obitos` criado com 6468 linhas.\n🔄 Baixando dados de: nascimentos\n✅ DataFrame Spark `nascimentos` criado com 3564 linhas.\n🔄 Baixando dados de: desemprego\n✅ DataFrame Spark `desemprego` criado com 4212 linhas.\n"
     ]
    }
   ],
   "source": [
    "import requests\n",
    "import pandas as pd\n",
    "from pyspark.sql import SparkSession\n",
    "\n",
    "spark = SparkSession.builder.getOrCreate()\n",
    "\n",
    "urls = {\n",
    "    \"producao_industria\": \"https://apisidra.ibge.gov.br/values/t/8159/n3/all/v/11599/p/all/c544/129314/d/v11599%205\",\n",
    "    \"pib\": \"https://apisidra.ibge.gov.br/values/t/5938/n1/all/n3/all/v/37/p/all/d/v37%202\",\n",
    "    \"populacao\": \"https://apisidra.ibge.gov.br/values/t/6579/n1/all/n3/all/v/9324/p/all/d/v9324%202\",\n",
    "    \"obitos\": \"https://apisidra.ibge.gov.br/values/t/2683/n1103/all/n3/all/v/allxp/p/last%2011/c9832/0,78090,78092,78093,78094,99197,99217/c1836/0/c2/0,4,5/c260/0/c257/0\",\n",
    "    \"nascimentos\": \"https://apisidra.ibge.gov.br/values/t/2680/n3/all/v/allxp/p/last%2011/c235/0/c2/0,4,5/c237/0,5349,5350,5351/c238/0/c240/0\",\n",
    "    \"desemprego\": \"https://apisidra.ibge.gov.br/values/t/4093/n3/all/v/1641/p/all/c2/all\"\n",
    "}\n",
    "\n",
    "\n",
    "for nome, url in urls.items():\n",
    "    print(f\"🔄 Baixando dados de: {nome}\")\n",
    "    try:\n",
    "        response = requests.get(url)\n",
    "        response.raise_for_status()\n",
    "        dados = response.json()\n",
    "\n",
    "\n",
    "        if not dados or len(dados) < 2:\n",
    "            raise ValueError(\"Resposta inválida ou vazia da API.\")\n",
    "\n",
    "        colunas = list(dados[0].values())\n",
    "\n",
    "        linhas = [dict(zip(colunas, item.values())) for item in dados[1:]]\n",
    "\n",
    "        df_pandas = pd.DataFrame(linhas)\n",
    "\n",
    "        df_spark = spark.createDataFrame(df_pandas)\n",
    "\n",
    "        globals()[nome] = df_spark\n",
    "\n",
    "        df_spark.createOrReplaceTempView(f\"temp_{nome}\")\n",
    "\n",
    "        print(f\"✅ DataFrame Spark `{nome}` criado com {df_spark.count()} linhas.\")\n",
    "\n",
    "    except Exception as e:\n",
    "        print(f\"❌ Erro ao criar `{nome}`: {type(e).__name__}: {e}\")\n"
   ]
  },
  {
   "cell_type": "code",
   "execution_count": 0,
   "metadata": {
    "application/vnd.databricks.v1+cell": {
     "cellMetadata": {
      "byteLimit": 2048000,
      "rowLimit": 10000
     },
     "inputWidgets": {},
     "nuid": "af1c52c2-c358-49ca-8c06-905a62e60747",
     "showTitle": false,
     "tableResultSettingsMap": {},
     "title": ""
    }
   },
   "outputs": [],
   "source": [
    "file_location = \"/FileStore/tables/Campeonato_Brasilerio_Serie_A_e_B.csv\"\n",
    "file_type = \"csv\"\n",
    "\n",
    "infer_schema = \"false\"\n",
    "first_row_is_header = \"true\"\n",
    "delimiter = \";\"\n",
    "\n",
    "brasileiro = spark.read.format(file_type) \\\n",
    "  .option(\"inferSchema\", infer_schema) \\\n",
    "  .option(\"header\", first_row_is_header) \\\n",
    "  .option(\"sep\", delimiter) \\\n",
    "  .load(file_location)"
   ]
  },
  {
   "cell_type": "markdown",
   "metadata": {
    "application/vnd.databricks.v1+cell": {
     "cellMetadata": {},
     "inputWidgets": {},
     "nuid": "fbd9642c-be1e-484f-87d6-88cfb9605ec4",
     "showTitle": false,
     "tableResultSettingsMap": {},
     "title": ""
    }
   },
   "source": [
    "### 2. Pré-tratamento para inserção dos dados no banco de dados Bronze"
   ]
  },
  {
   "cell_type": "code",
   "execution_count": 0,
   "metadata": {
    "application/vnd.databricks.v1+cell": {
     "cellMetadata": {
      "byteLimit": 2048000,
      "rowLimit": 10000
     },
     "inputWidgets": {},
     "nuid": "a526a318-3803-437e-91b2-5551dfe0abf7",
     "showTitle": false,
     "tableResultSettingsMap": {},
     "title": ""
    }
   },
   "outputs": [],
   "source": [
    "def limpar_colunas(df):\n",
    "    df.columns = (\n",
    "        df.columns\n",
    "        .str.strip()\n",
    "        .str.upper()\n",
    "        .str.normalize(\"NFKD\") \n",
    "        .str.encode(\"ascii\", errors=\"ignore\")\n",
    "        .str.decode(\"utf-8\")\n",
    "        .str.replace(r\"[^\\w]\", \"_\", regex=True) \n",
    "        .str.replace(r\"_+\", \"_\", regex=True) \n",
    "        .str.strip(\"_\")\n",
    "    )\n",
    "    return df\n",
    "    limpar_colunas(brasileiro)\n",
    "    limpar_colunas(pib)\n",
    "    limpar_colunas(producao_agricola)\n",
    "    limpar_colunas(populacao)\n",
    "    limpar_colunas(obitos)\n",
    "    limpar_colunas(nascimentos)\n",
    "    limpar_colunas(desemprego)\n",
    "\n"
   ]
  },
  {
   "cell_type": "code",
   "execution_count": 0,
   "metadata": {
    "application/vnd.databricks.v1+cell": {
     "cellMetadata": {
      "byteLimit": 2048000,
      "rowLimit": 10000
     },
     "inputWidgets": {},
     "nuid": "d56dbb01-bc50-405b-a7dc-0356467bf8da",
     "showTitle": false,
     "tableResultSettingsMap": {},
     "title": ""
    }
   },
   "outputs": [],
   "source": [
    "from pyspark.sql.functions import col, regexp_replace, trim\n",
    "\n",
    "brasileiro = brasileiro.withColumnRenamed(\"Posição\", \"Posicao\")\n",
    "brasileiro = brasileiro.withColumn(\"Posicao_limp\", trim(regexp_replace(col(\"Posicao\"), \"[^0-9]\", \"\")))\n",
    "brasileiro = brasileiro.withColumn(\"Posicao\", col(\"Posicao_limp\").cast(\"int\")).drop(\"Posicao_limp\")\n"
   ]
  },
  {
   "cell_type": "markdown",
   "metadata": {
    "application/vnd.databricks.v1+cell": {
     "cellMetadata": {},
     "inputWidgets": {},
     "nuid": "40fbdba0-8c91-4f08-80f3-e872a0c1008b",
     "showTitle": false,
     "tableResultSettingsMap": {},
     "title": ""
    }
   },
   "source": [
    "### 3. Pre-Visualização dos Dados"
   ]
  },
  {
   "cell_type": "code",
   "execution_count": 0,
   "metadata": {
    "application/vnd.databricks.v1+cell": {
     "cellMetadata": {
      "byteLimit": 2048000,
      "rowLimit": 10000
     },
     "inputWidgets": {},
     "nuid": "9b59eae0-8181-4c50-bb48-a02074325dee",
     "showTitle": false,
     "tableResultSettingsMap": {},
     "title": ""
    }
   },
   "outputs": [
    {
     "output_type": "stream",
     "name": "stdout",
     "output_type": "stream",
     "text": [
      "root\n |-- Nível Territorial (Código): string (nullable = true)\n |-- Nível Territorial: string (nullable = true)\n |-- Unidade de Medida (Código): string (nullable = true)\n |-- Unidade de Medida: string (nullable = true)\n |-- Valor: string (nullable = true)\n |-- Brasil e Unidade da Federação (Código): string (nullable = true)\n |-- Brasil e Unidade da Federação: string (nullable = true)\n |-- Variável (Código): string (nullable = true)\n |-- Variável: string (nullable = true)\n |-- Ano (Código): string (nullable = true)\n |-- Ano: string (nullable = true)\n\n"
     ]
    }
   ],
   "source": [
    "pib.printSchema()"
   ]
  },
  {
   "cell_type": "markdown",
   "metadata": {
    "application/vnd.databricks.v1+cell": {
     "cellMetadata": {},
     "inputWidgets": {},
     "nuid": "2cf61dcb-61ae-41a6-90b4-c9e09bee7adc",
     "showTitle": false,
     "tableResultSettingsMap": {},
     "title": ""
    }
   },
   "source": [
    "### 4.1 Criação do Banco de de Dados Bronze"
   ]
  },
  {
   "cell_type": "markdown",
   "metadata": {
    "application/vnd.databricks.v1+cell": {
     "cellMetadata": {},
     "inputWidgets": {},
     "nuid": "eed6ee52-f31f-4b7b-9d55-0eef0ec96588",
     "showTitle": false,
     "tableResultSettingsMap": {},
     "title": ""
    }
   },
   "source": [
    "Foi definida uma camada Bronze para a ingestão inicial dos dados, onde todas as fontes (SIDRA, Excel de clubes, logs de migração etc.) são carregadas na forma bruta, sem transformações ou agregações. Nessa camada, cada tabela reflete exatamente o formato original:\n",
    "- Manter os dados brutos nessa camada garante traçabilidade (linhagem) e serve como ponto de partida para todas as transformações subsequentes nas camadas Silver e Gold."
   ]
  },
  {
   "cell_type": "code",
   "execution_count": 0,
   "metadata": {
    "application/vnd.databricks.v1+cell": {
     "cellMetadata": {
      "byteLimit": 2048000,
      "rowLimit": 10000
     },
     "inputWidgets": {},
     "nuid": "23c1a38b-353a-49b1-9d9a-918061a029da",
     "showTitle": false,
     "tableResultSettingsMap": {},
     "title": ""
    }
   },
   "outputs": [
    {
     "output_type": "stream",
     "name": "stdout",
     "output_type": "stream",
     "text": [
      "Out[9]: True"
     ]
    }
   ],
   "source": [
    "dbutils.fs.rm(\"dbfs:/user/hive/warehouse/bronze.db/obitos\", recurse=True)\n",
    "dbutils.fs.rm(\"dbfs:/user/hive/warehouse/bronze.db/nascimentos\", recurse=True)\n",
    "dbutils.fs.rm(\"dbfs:/user/hive/warehouse/bronze.db/desemprego\", recurse=True)\n",
    "dbutils.fs.rm(\"dbfs:/user/hive/warehouse/bronze.db/brasileiro\", recurse=True)\n",
    "dbutils.fs.rm(\"dbfs:/user/hive/warehouse/bronze.db/pib\", recurse=True)\n",
    "dbutils.fs.rm(\"dbfs:/user/hive/warehouse/bronze.db/populacao\", recurse=True)\n",
    "dbutils.fs.rm(\"dbfs:/user/hive/warehouse/bronze.db/industria\", recurse=True)\n"
   ]
  },
  {
   "cell_type": "code",
   "execution_count": 0,
   "metadata": {
    "application/vnd.databricks.v1+cell": {
     "cellMetadata": {
      "byteLimit": 2048000,
      "rowLimit": 10000
     },
     "inputWidgets": {},
     "nuid": "1549e091-08eb-41f7-9e0b-d542441c22a4",
     "showTitle": false,
     "tableResultSettingsMap": {},
     "title": ""
    }
   },
   "outputs": [],
   "source": [
    "brasileiro.createOrReplaceTempView(\"temp_brasileiro\")\n",
    "pib.createOrReplaceTempView(\"temp_pib\")\n",
    "populacao.createOrReplaceTempView(\"temp_populacao\")\n",
    "obitos.createOrReplaceTempView(\"temp_obitos\")\n",
    "nascimentos.createOrReplaceTempView(\"temp_nascimentos\")\n",
    "desemprego.createOrReplaceTempView(\"temp_desemprego\")\n",
    "producao_industria.createOrReplaceTempView(\"temp_producao_industria\")"
   ]
  },
  {
   "cell_type": "code",
   "execution_count": 0,
   "metadata": {
    "application/vnd.databricks.v1+cell": {
     "cellMetadata": {
      "byteLimit": 2048000,
      "implicitDf": true,
      "rowLimit": 10000
     },
     "inputWidgets": {},
     "nuid": "19106d5b-2a90-4d7e-a6fc-e81702951194",
     "showTitle": false,
     "tableResultSettingsMap": {},
     "title": ""
    }
   },
   "outputs": [
    {
     "output_type": "display_data",
     "data": {
      "text/html": [
       "<style scoped>\n",
       "  .table-result-container {\n",
       "    max-height: 300px;\n",
       "    overflow: auto;\n",
       "  }\n",
       "  table, th, td {\n",
       "    border: 1px solid black;\n",
       "    border-collapse: collapse;\n",
       "  }\n",
       "  th, td {\n",
       "    padding: 5px;\n",
       "  }\n",
       "  th {\n",
       "    text-align: left;\n",
       "  }\n",
       "</style><div class='table-result-container'><table class='table-result'><thead style='background-color: white'><tr></tr></thead><tbody></tbody></table></div>"
      ]
     },
     "metadata": {
      "application/vnd.databricks.v1+output": {
       "addedWidgets": {},
       "aggData": [],
       "aggError": "",
       "aggOverflow": false,
       "aggSchema": [],
       "aggSeriesLimitReached": false,
       "aggType": "",
       "arguments": {},
       "columnCustomDisplayInfos": {},
       "data": [],
       "datasetInfos": [],
       "dbfsResultPath": null,
       "isJsonSchema": true,
       "metadata": {},
       "overflow": false,
       "plotOptions": {
        "customPlotOptions": {},
        "displayType": "table",
        "pivotAggregation": null,
        "pivotColumns": null,
        "xColumns": null,
        "yColumns": null
       },
       "removedWidgets": [],
       "schema": [],
       "type": "table"
      }
     },
     "output_type": "display_data"
    }
   ],
   "source": [
    "%sql\n",
    "\n",
    "CREATE DATABASE IF NOT EXISTS BRONZE;\n",
    "\n",
    "DROP TABLE IF EXISTS BRONZE.brasileiro;\n",
    "DROP TABLE IF EXISTS BRONZE.PIB;\n",
    "DROP TABLE IF EXISTS BRONZE.AGRICULTURA;\n",
    "DROP TABLE IF EXISTS BRONZE.POPULACAO;\n",
    "DROP TABLE IF EXISTS BRONZE.NASCIMENTOS; \n",
    "DROP TABLE IF EXISTS BRONZE.OBITOS;\n",
    "DROP TABLE IF EXISTS BRONZE.DESEMPREGO;\n",
    "DROP TABLE IF EXISTS BRONZE.INDUSTRIA;\n",
    "\n",
    "USE BRONZE;\n",
    "\n",
    "CREATE TABLE BRONZE.BRASILEIRO (\n",
    "  ANO INT,\n",
    "  POSICAO STRING,\n",
    "  CLUBE STRING,\n",
    "  ESTADO STRING,\n",
    "  SERIE STRING\n",
    ");\n",
    "\n",
    "CREATE TABLE BRONZE.PIB (\n",
    "  ANO INT,\n",
    "  ESTADO STRING,\n",
    "  VALOR_PIB DOUBLE\n",
    " );\n",
    "\n",
    "  CREATE TABLE BRONZE.POPULACAO (\n",
    "  ANO INT,\n",
    "  ESTADO STRING,\n",
    "  VALOR DOUBLE\n",
    " );\n",
    "\n",
    "  CREATE TABLE BRONZE.OBITOS (\n",
    "  ANO INT,\n",
    "  ESTADO STRING,\n",
    "  VALOR INT,\n",
    "  SEXO STRING,\n",
    "  ESTADO_CIVIL STRING\n",
    " );\n",
    "\n",
    "  CREATE TABLE BRONZE.NASCIMENTOS (\n",
    "  ANO INT,\n",
    "  ESTADO STRING,\n",
    "  VALOR INT,\n",
    "  SEXO STRING,\n",
    "  LOCAL_NASC STRING\n",
    " );\n",
    "\n",
    " CREATE TABLE BRONZE.DESEMPREGO (\n",
    "  TRIMESTRE INT,\n",
    "  ESTADO STRING,\n",
    "  VALOR INT,\n",
    "  SEXO STRING\n",
    " );\n",
    " \n",
    " CREATE TABLE BRONZE.INDUSTRIA (\n",
    "  MES_ANO INT,\n",
    "  ESTADO STRING,\n",
    "  VALOR FLOAT\n",
    " );"
   ]
  },
  {
   "cell_type": "markdown",
   "metadata": {
    "application/vnd.databricks.v1+cell": {
     "cellMetadata": {},
     "inputWidgets": {},
     "nuid": "9f106435-5008-484a-ba21-c9a6440abb68",
     "showTitle": false,
     "tableResultSettingsMap": {},
     "title": ""
    }
   },
   "source": [
    "### 4.2 Inserção dos Dados no Banco de dados BRONZE"
   ]
  },
  {
   "cell_type": "code",
   "execution_count": 0,
   "metadata": {
    "application/vnd.databricks.v1+cell": {
     "cellMetadata": {
      "byteLimit": 2048000,
      "implicitDf": true,
      "rowLimit": 10000
     },
     "inputWidgets": {},
     "nuid": "2be05c59-9a9e-4690-a561-d0216633881f",
     "showTitle": false,
     "tableResultSettingsMap": {},
     "title": ""
    }
   },
   "outputs": [
    {
     "output_type": "display_data",
     "data": {
      "text/html": [
       "<style scoped>\n",
       "  .table-result-container {\n",
       "    max-height: 300px;\n",
       "    overflow: auto;\n",
       "  }\n",
       "  table, th, td {\n",
       "    border: 1px solid black;\n",
       "    border-collapse: collapse;\n",
       "  }\n",
       "  th, td {\n",
       "    padding: 5px;\n",
       "  }\n",
       "  th {\n",
       "    text-align: left;\n",
       "  }\n",
       "</style><div class='table-result-container'><table class='table-result'><thead style='background-color: white'><tr><th>num_affected_rows</th><th>num_inserted_rows</th></tr></thead><tbody><tr><td>520</td><td>520</td></tr></tbody></table></div>"
      ]
     },
     "metadata": {
      "application/vnd.databricks.v1+output": {
       "addedWidgets": {},
       "aggData": [],
       "aggError": "",
       "aggOverflow": false,
       "aggSchema": [],
       "aggSeriesLimitReached": false,
       "aggType": "",
       "arguments": {},
       "columnCustomDisplayInfos": {},
       "data": [
        [
         520,
         520
        ]
       ],
       "datasetInfos": [],
       "dbfsResultPath": null,
       "isJsonSchema": true,
       "metadata": {},
       "overflow": false,
       "plotOptions": {
        "customPlotOptions": {},
        "displayType": "table",
        "pivotAggregation": null,
        "pivotColumns": null,
        "xColumns": null,
        "yColumns": null
       },
       "removedWidgets": [],
       "schema": [
        {
         "metadata": "{}",
         "name": "num_affected_rows",
         "type": "\"long\""
        },
        {
         "metadata": "{}",
         "name": "num_inserted_rows",
         "type": "\"long\""
        }
       ],
       "type": "table"
      }
     },
     "output_type": "display_data"
    }
   ],
   "source": [
    "%sql\n",
    "INSERT INTO BRONZE.INDUSTRIA\n",
    "SELECT \n",
    "  try_cast(`Mês (Código)` AS INT) AS MES_ANO,\n",
    "  `Unidade da Federação` AS ESTADO,\n",
    "  try_cast(`Valor` AS FLOAT) AS VALOR\n",
    "FROM temp_producao_industria;\n",
    "\n",
    "INSERT INTO BRONZE.DESEMPREGO\n",
    "SELECT \n",
    "  try_cast(`Trimestre (Código)` AS INT) AS TRIMESTRE,\n",
    "  `Unidade da Federação` AS ESTADO,\n",
    "  try_cast(`Valor` AS INT) AS VALOR,\n",
    "  `Sexo` AS SEXO\n",
    "FROM temp_desemprego;\n",
    "\n",
    "INSERT INTO BRONZE.NASCIMENTOS\n",
    "SELECT \n",
    "  try_cast(`Ano` AS INT) AS ANO,\n",
    "  `Unidade da Federação` AS ESTADO,\n",
    "  try_cast(`Valor` AS INT) AS VALOR,\n",
    "  `Sexo` AS SEXO,\n",
    "  `Local do nascimento` AS LOCAL_NASC\n",
    "FROM temp_nascimentos;\n",
    "\n",
    "INSERT INTO BRONZE.PIB\n",
    "SELECT \n",
    "  `Ano` AS ANO,\n",
    "  `Brasil e Unidade da Federação` AS ESTADO,\n",
    "  `Valor` AS VALOR_PIB\n",
    "FROM temp_pib;\n",
    "\n",
    "\n",
    "INSERT INTO BRONZE.POPULACAO\n",
    "SELECT \n",
    "  `Ano` AS ANO,\n",
    "  `Brasil e Unidade da Federação` AS ESTADO,\n",
    "  `Valor` AS VALOR\n",
    "FROM temp_populacao;\n",
    "\n",
    "INSERT INTO BRONZE.OBITOS\n",
    "SELECT \n",
    "  try_cast(`Ano` AS INT) AS ANO,\n",
    "  `Total e Unidade da Federação` AS ESTADO,\n",
    "  try_cast(`Valor` AS DOUBLE) AS VALOR,\n",
    "  `Sexo` AS SEXO,\n",
    "  `Estado civil` AS ESTADO_CIVIL\n",
    "FROM temp_obitos;\n",
    "\n",
    "INSERT INTO BRONZE.BRASILEIRO\n",
    "SELECT Ano, Posicao, Clube, Estado, Serie\n",
    "FROM temp_brasileiro;\n"
   ]
  },
  {
   "cell_type": "markdown",
   "metadata": {
    "application/vnd.databricks.v1+cell": {
     "cellMetadata": {},
     "inputWidgets": {},
     "nuid": "e3334c0b-b912-48e9-89e3-37b4f770d27e",
     "showTitle": false,
     "tableResultSettingsMap": {},
     "title": ""
    }
   },
   "source": [
    "### 5.1 Criação do Banco de de Dados SILVER"
   ]
  },
  {
   "cell_type": "markdown",
   "metadata": {
    "application/vnd.databricks.v1+cell": {
     "cellMetadata": {},
     "inputWidgets": {},
     "nuid": "7b962cc8-9730-4a12-a9e0-13149af0d85b",
     "showTitle": false,
     "tableResultSettingsMap": {},
     "title": ""
    }
   },
   "source": [
    "- Criação da tabela **SIGLAS_ESTADO**, que mapeia cada estado à sua sigla e região, servindo como chave de referência para unificar e relacionar as demais tabelas do projeto.\n"
   ]
  },
  {
   "cell_type": "code",
   "execution_count": 0,
   "metadata": {
    "application/vnd.databricks.v1+cell": {
     "cellMetadata": {
      "byteLimit": 2048000,
      "implicitDf": true,
      "rowLimit": 10000
     },
     "inputWidgets": {},
     "nuid": "9edfba35-51c0-4459-8266-1ab4210f89ac",
     "showTitle": false,
     "tableResultSettingsMap": {},
     "title": ""
    }
   },
   "outputs": [
    {
     "output_type": "display_data",
     "data": {
      "text/html": [
       "<style scoped>\n",
       "  .table-result-container {\n",
       "    max-height: 300px;\n",
       "    overflow: auto;\n",
       "  }\n",
       "  table, th, td {\n",
       "    border: 1px solid black;\n",
       "    border-collapse: collapse;\n",
       "  }\n",
       "  th, td {\n",
       "    padding: 5px;\n",
       "  }\n",
       "  th {\n",
       "    text-align: left;\n",
       "  }\n",
       "</style><div class='table-result-container'><table class='table-result'><thead style='background-color: white'><tr><th>num_affected_rows</th><th>num_inserted_rows</th></tr></thead><tbody></tbody></table></div>"
      ]
     },
     "metadata": {
      "application/vnd.databricks.v1+output": {
       "addedWidgets": {},
       "aggData": [],
       "aggError": "",
       "aggOverflow": false,
       "aggSchema": [],
       "aggSeriesLimitReached": false,
       "aggType": "",
       "arguments": {},
       "columnCustomDisplayInfos": {},
       "data": [],
       "datasetInfos": [],
       "dbfsResultPath": null,
       "isJsonSchema": true,
       "metadata": {},
       "overflow": false,
       "plotOptions": {
        "customPlotOptions": {},
        "displayType": "table",
        "pivotAggregation": null,
        "pivotColumns": null,
        "xColumns": null,
        "yColumns": null
       },
       "removedWidgets": [],
       "schema": [
        {
         "metadata": "{}",
         "name": "num_affected_rows",
         "type": "\"long\""
        },
        {
         "metadata": "{}",
         "name": "num_inserted_rows",
         "type": "\"long\""
        }
       ],
       "type": "table"
      }
     },
     "output_type": "display_data"
    }
   ],
   "source": [
    "%sql\n",
    "CREATE DATABASE IF NOT EXISTS SILVER;\n",
    "\n",
    "CREATE OR REPLACE TABLE SILVER.SIGLAS_ESTADO AS\n",
    "SELECT * FROM VALUES\n",
    "  ('Acre', 'AC', 'Norte'),\n",
    "  ('Amapá', 'AP', 'Norte'),\n",
    "  ('Amazonas', 'AM', 'Norte'),\n",
    "  ('Pará', 'PA', 'Norte'),\n",
    "  ('Rondônia', 'RO', 'Norte'),\n",
    "  ('Roraima', 'RR', 'Norte'),\n",
    "  ('Tocantins', 'TO', 'Norte'),\n",
    "  ('Alagoas', 'AL', 'Nordeste'),\n",
    "  ('Bahia', 'BA', 'Nordeste'),\n",
    "  ('Ceará', 'CE', 'Nordeste'),\n",
    "  ('Maranhão', 'MA', 'Nordeste'),\n",
    "  ('Paraíba', 'PB', 'Nordeste'),\n",
    "  ('Pernambuco', 'PE', 'Nordeste'),\n",
    "  ('Piauí', 'PI', 'Nordeste'),\n",
    "  ('Rio Grande do Norte', 'RN', 'Nordeste'),\n",
    "  ('Sergipe', 'SE', 'Nordeste'),\n",
    "  ('Distrito Federal', 'DF', 'Centro-Oeste'),\n",
    "  ('Goiás', 'GO', 'Centro-Oeste'),\n",
    "  ('Mato Grosso', 'MT', 'Centro-Oeste'),\n",
    "  ('Mato Grosso do Sul', 'MS', 'Centro-Oeste'),\n",
    "  ('Espírito Santo', 'ES', 'Sudeste'),\n",
    "  ('Minas Gerais', 'MG', 'Sudeste'),\n",
    "  ('Rio de Janeiro', 'RJ', 'Sudeste'),\n",
    "  ('São Paulo', 'SP', 'Sudeste'),\n",
    "  ('Paraná', 'PR', 'Sul'),\n",
    "  ('Rio Grande do Sul', 'RS', 'Sul'),\n",
    "  ('Santa Catarina', 'SC', 'Sul'\n",
    ") AS tbl(ESTADO, SIGLA, REGIAO);\n",
    "\n"
   ]
  },
  {
   "cell_type": "markdown",
   "metadata": {
    "application/vnd.databricks.v1+cell": {
     "cellMetadata": {},
     "inputWidgets": {},
     "nuid": "48b77819-2d5f-4243-9b4f-4ee2070187a8",
     "showTitle": false,
     "tableResultSettingsMap": {},
     "title": ""
    }
   },
   "source": [
    "- Importação das tabelas brutas da camada Bronze e aplicação de limpeza, padronização e agregações para consolidação na camada Silver.\n"
   ]
  },
  {
   "cell_type": "code",
   "execution_count": 0,
   "metadata": {
    "application/vnd.databricks.v1+cell": {
     "cellMetadata": {
      "byteLimit": 2048000,
      "implicitDf": true,
      "rowLimit": 10000
     },
     "inputWidgets": {},
     "nuid": "8f99ffa6-004a-4ad2-a65c-ab5475365203",
     "showTitle": false,
     "tableResultSettingsMap": {},
     "title": ""
    }
   },
   "outputs": [
    {
     "output_type": "display_data",
     "data": {
      "text/html": [
       "<style scoped>\n",
       "  .table-result-container {\n",
       "    max-height: 300px;\n",
       "    overflow: auto;\n",
       "  }\n",
       "  table, th, td {\n",
       "    border: 1px solid black;\n",
       "    border-collapse: collapse;\n",
       "  }\n",
       "  th, td {\n",
       "    padding: 5px;\n",
       "  }\n",
       "  th {\n",
       "    text-align: left;\n",
       "  }\n",
       "</style><div class='table-result-container'><table class='table-result'><thead style='background-color: white'><tr><th>num_affected_rows</th><th>num_inserted_rows</th></tr></thead><tbody></tbody></table></div>"
      ]
     },
     "metadata": {
      "application/vnd.databricks.v1+output": {
       "addedWidgets": {},
       "aggData": [],
       "aggError": "",
       "aggOverflow": false,
       "aggSchema": [],
       "aggSeriesLimitReached": false,
       "aggType": "",
       "arguments": {},
       "columnCustomDisplayInfos": {},
       "data": [],
       "datasetInfos": [],
       "dbfsResultPath": null,
       "isJsonSchema": true,
       "metadata": {},
       "overflow": false,
       "plotOptions": {
        "customPlotOptions": {},
        "displayType": "table",
        "pivotAggregation": null,
        "pivotColumns": null,
        "xColumns": null,
        "yColumns": null
       },
       "removedWidgets": [],
       "schema": [
        {
         "metadata": "{}",
         "name": "num_affected_rows",
         "type": "\"long\""
        },
        {
         "metadata": "{}",
         "name": "num_inserted_rows",
         "type": "\"long\""
        }
       ],
       "type": "table"
      }
     },
     "output_type": "display_data"
    }
   ],
   "source": [
    "%sql\n",
    "\n",
    "CREATE OR REPLACE TABLE SILVER.DESEMPREGO AS\n",
    "SELECT \n",
    "  CAST(TRIMESTRE / 100 AS INT) AS ANO,\n",
    "  ESTADO,\n",
    "  SEXO,\n",
    "  SUM(VALOR) AS VALOR_TOTAL\n",
    "FROM BRONZE.DESEMPREGO\n",
    "WHERE VALOR IS NOT NULL\n",
    "GROUP BY \n",
    "  CAST(TRIMESTRE / 100 AS INT),\n",
    "  ESTADO,\n",
    "  SEXO;\n",
    "\n",
    "CREATE OR REPLACE TABLE SILVER.BRASILEIRO AS\n",
    "SELECT \n",
    "  CASE \n",
    "    WHEN UPPER(TRIM(CLUBE)) IN ('ATLÉTICO GO', 'ATLETICO-GO', 'ATLETICO GO') THEN 'ATLÉTICO-GO'\n",
    "    ELSE UPPER(TRIM(CLUBE))\n",
    "  END AS CLUBE,\n",
    "  ANO,\n",
    "  POSICAO,\n",
    "  UPPER(TRIM(ESTADO)) AS ESTADO,\n",
    "  UPPER(TRIM(SERIE)) AS SERIE\n",
    "FROM BRONZE.BRASILEIRO\n",
    "WHERE CLUBE IS NOT NULL;\n",
    "\n",
    "CREATE OR REPLACE TABLE SILVER.INDUSTRIA AS\n",
    "SELECT \n",
    "  CAST(MES_ANO / 100 AS INT) AS ANO,\n",
    "  CAST(MES_ANO % 100 AS INT) AS MES,\n",
    "  ESTADO,\n",
    "  SUM(VALOR) AS VALOR\n",
    "FROM BRONZE.INDUSTRIA\n",
    "GROUP BY \n",
    "  CAST(MES_ANO / 100 AS INT),\n",
    "  CAST(MES_ANO % 100 AS INT),\n",
    "  ESTADO;\n",
    "\n",
    "CREATE OR REPLACE TABLE SILVER.NASCIMENTOS AS\n",
    "SELECT * FROM BRONZE.NASCIMENTOS;\n",
    "\n",
    "CREATE OR REPLACE TABLE SILVER.POPULACAO AS\n",
    "SELECT * FROM BRONZE.POPULACAO;\n",
    "\n",
    "CREATE OR REPLACE TABLE SILVER.PIB AS\n",
    "SELECT * FROM BRONZE.PIB;\n",
    "\n",
    "CREATE OR REPLACE TABLE SILVER.OBITOS AS\n",
    "SELECT * FROM BRONZE.OBITOS;\n",
    "\n"
   ]
  },
  {
   "cell_type": "markdown",
   "metadata": {
    "application/vnd.databricks.v1+cell": {
     "cellMetadata": {},
     "inputWidgets": {},
     "nuid": "ecfa71d6-c38a-4347-9321-42de4f020090",
     "showTitle": false,
     "tableResultSettingsMap": {},
     "title": ""
    }
   },
   "source": [
    "- Criação da tabela **T_ESTADO_ANO**, responsável por consolidar todas as combinações de ano e estado, estruturando o modelo em formato estrela e servindo como dimensão central para as análises.\n"
   ]
  },
  {
   "cell_type": "code",
   "execution_count": 0,
   "metadata": {
    "application/vnd.databricks.v1+cell": {
     "cellMetadata": {
      "byteLimit": 2048000,
      "implicitDf": true,
      "rowLimit": 10000
     },
     "inputWidgets": {},
     "nuid": "7410a696-87f4-4778-a5ee-cfba88674f03",
     "showTitle": false,
     "tableResultSettingsMap": {},
     "title": ""
    }
   },
   "outputs": [
    {
     "output_type": "display_data",
     "data": {
      "text/html": [
       "<style scoped>\n",
       "  .table-result-container {\n",
       "    max-height: 300px;\n",
       "    overflow: auto;\n",
       "  }\n",
       "  table, th, td {\n",
       "    border: 1px solid black;\n",
       "    border-collapse: collapse;\n",
       "  }\n",
       "  th, td {\n",
       "    padding: 5px;\n",
       "  }\n",
       "  th {\n",
       "    text-align: left;\n",
       "  }\n",
       "</style><div class='table-result-container'><table class='table-result'><thead style='background-color: white'><tr><th>num_affected_rows</th><th>num_inserted_rows</th></tr></thead><tbody></tbody></table></div>"
      ]
     },
     "metadata": {
      "application/vnd.databricks.v1+output": {
       "addedWidgets": {},
       "aggData": [],
       "aggError": "",
       "aggOverflow": false,
       "aggSchema": [],
       "aggSeriesLimitReached": false,
       "aggType": "",
       "arguments": {},
       "columnCustomDisplayInfos": {},
       "data": [],
       "datasetInfos": [],
       "dbfsResultPath": null,
       "isJsonSchema": true,
       "metadata": {},
       "overflow": false,
       "plotOptions": {
        "customPlotOptions": {},
        "displayType": "table",
        "pivotAggregation": null,
        "pivotColumns": null,
        "xColumns": null,
        "yColumns": null
       },
       "removedWidgets": [],
       "schema": [
        {
         "metadata": "{}",
         "name": "num_affected_rows",
         "type": "\"long\""
        },
        {
         "metadata": "{}",
         "name": "num_inserted_rows",
         "type": "\"long\""
        }
       ],
       "type": "table"
      }
     },
     "output_type": "display_data"
    }
   ],
   "source": [
    "%sql\n",
    "CREATE OR REPLACE TABLE SILVER.T_ESTADO_ANO AS\n",
    "SELECT \n",
    "  a.ANO,\n",
    "  s.ESTADO AS ESTADO,\n",
    "  s.SIGLA\n",
    "FROM (\n",
    "\n",
    "  SELECT DISTINCT ANO FROM SILVER.DESEMPREGO\n",
    "  UNION\n",
    "  SELECT DISTINCT ANO FROM SILVER.BRASILEIRO\n",
    "  UNION\n",
    "  SELECT DISTINCT ANO FROM SILVER.INDUSTRIA\n",
    "  UNION\n",
    "  SELECT DISTINCT ANO FROM SILVER.NASCIMENTOS\n",
    "  UNION\n",
    "  SELECT DISTINCT ANO FROM SILVER.POPULACAO\n",
    "  UNION\n",
    "  SELECT DISTINCT ANO FROM SILVER.PIB\n",
    "  UNION\n",
    "  SELECT DISTINCT ANO FROM SILVER.OBITOS\n",
    ") a\n",
    "CROSS JOIN SILVER.SIGLAS_ESTADO s;"
   ]
  },
  {
   "cell_type": "markdown",
   "metadata": {
    "application/vnd.databricks.v1+cell": {
     "cellMetadata": {},
     "inputWidgets": {},
     "nuid": "645524a8-fc67-4dcc-be23-e8b90f673194",
     "showTitle": false,
     "tableResultSettingsMap": {},
     "title": ""
    }
   },
   "source": [
    "> Criação de uma tabela com dados e calculo de Migração por Estado"
   ]
  },
  {
   "cell_type": "code",
   "execution_count": 0,
   "metadata": {
    "application/vnd.databricks.v1+cell": {
     "cellMetadata": {
      "byteLimit": 2048000,
      "implicitDf": true,
      "rowLimit": 10000
     },
     "inputWidgets": {},
     "nuid": "35b84b8e-8747-4e11-bc48-c5d8ae61fdfc",
     "showTitle": false,
     "tableResultSettingsMap": {},
     "title": ""
    }
   },
   "outputs": [
    {
     "output_type": "display_data",
     "data": {
      "text/html": [
       "<style scoped>\n",
       "  .table-result-container {\n",
       "    max-height: 300px;\n",
       "    overflow: auto;\n",
       "  }\n",
       "  table, th, td {\n",
       "    border: 1px solid black;\n",
       "    border-collapse: collapse;\n",
       "  }\n",
       "  th, td {\n",
       "    padding: 5px;\n",
       "  }\n",
       "  th {\n",
       "    text-align: left;\n",
       "  }\n",
       "</style><div class='table-result-container'><table class='table-result'><thead style='background-color: white'><tr><th>num_affected_rows</th><th>num_inserted_rows</th></tr></thead><tbody></tbody></table></div>"
      ]
     },
     "metadata": {
      "application/vnd.databricks.v1+output": {
       "addedWidgets": {},
       "aggData": [],
       "aggError": "",
       "aggOverflow": false,
       "aggSchema": [],
       "aggSeriesLimitReached": false,
       "aggType": "",
       "arguments": {},
       "columnCustomDisplayInfos": {},
       "data": [],
       "datasetInfos": [],
       "dbfsResultPath": null,
       "isJsonSchema": true,
       "metadata": {},
       "overflow": false,
       "plotOptions": {
        "customPlotOptions": {},
        "displayType": "table",
        "pivotAggregation": null,
        "pivotColumns": null,
        "xColumns": null,
        "yColumns": null
       },
       "removedWidgets": [],
       "schema": [
        {
         "metadata": "{}",
         "name": "num_affected_rows",
         "type": "\"long\""
        },
        {
         "metadata": "{}",
         "name": "num_inserted_rows",
         "type": "\"long\""
        }
       ],
       "type": "table"
      }
     },
     "output_type": "display_data"
    }
   ],
   "source": [
    "%sql\n",
    "CREATE OR REPLACE TABLE SILVER.MIGRACAO_ESTADUAL AS\n",
    "\n",
    "WITH \n",
    "BASE_COMPLETA AS (\n",
    "  SELECT \n",
    "    ea.ANO,\n",
    "    ea.ESTADO,\n",
    "    ea.SIGLA,\n",
    "    LAG(ea.ANO) OVER (PARTITION BY ea.ESTADO ORDER BY ea.ANO) AS ANO_ANTERIOR\n",
    "  FROM SILVER.T_ESTADO_ANO ea\n",
    "),\n",
    "\n",
    "POPULACAO_ANALISADA AS (\n",
    "  SELECT\n",
    "    bc.ANO,\n",
    "    bc.ESTADO,\n",
    "    bc.SIGLA,\n",
    "    p.VALOR AS POPULACAO_ATUAL,\n",
    "    LAG(p.VALOR) OVER (PARTITION BY bc.ESTADO ORDER BY bc.ANO) AS POPULACAO_ANTERIOR,\n",
    "    COALESCE(n.VALOR, 0) AS NASCIMENTOS,\n",
    "    COALESCE(o.VALOR, 0) AS OBITOS,\n",
    "    (COALESCE(n.VALOR, 0) - COALESCE(o.VALOR, 0)) AS CRESCIMENTO_NATURAL\n",
    "  FROM BASE_COMPLETA bc\n",
    "  LEFT JOIN SILVER.POPULACAO p ON bc.ANO = p.ANO AND bc.ESTADO = p.ESTADO\n",
    "  LEFT JOIN (\n",
    "    SELECT ANO, ESTADO, SUM(VALOR) AS VALOR \n",
    "    FROM SILVER.NASCIMENTOS \n",
    "    GROUP BY ANO, ESTADO\n",
    "  ) n ON bc.ANO = n.ANO AND bc.ESTADO = n.ESTADO\n",
    "  LEFT JOIN (\n",
    "    SELECT ANO, ESTADO, SUM(VALOR) AS VALOR \n",
    "    FROM SILVER.OBITOS \n",
    "    GROUP BY ANO, ESTADO\n",
    "  ) o ON bc.ANO = o.ANO AND bc.ESTADO = o.ESTADO\n",
    "  WHERE bc.ANO_ANTERIOR IS NOT NULL \n",
    ")\n",
    "\n",
    "SELECT\n",
    "  pa.ANO,\n",
    "  pa.ESTADO,\n",
    "  pa.SIGLA,\n",
    "  pa.POPULACAO_ATUAL,\n",
    "  pa.POPULACAO_ANTERIOR,\n",
    "  pa.NASCIMENTOS,\n",
    "  pa.OBITOS,\n",
    "  pa.CRESCIMENTO_NATURAL,\n",
    "   (pa.POPULACAO_ATUAL - (pa.POPULACAO_ANTERIOR + pa.CRESCIMENTO_NATURAL)) AS MIGRACAO_LIQUIDA,\n",
    "  \n",
    "  CASE\n",
    "    WHEN (pa.POPULACAO_ATUAL - (pa.POPULACAO_ANTERIOR + pa.CRESCIMENTO_NATURAL)) > 0 THEN 'Entrada líquida'\n",
    "    WHEN (pa.POPULACAO_ATUAL - (pa.POPULACAO_ANTERIOR + pa.CRESCIMENTO_NATURAL)) < 0 THEN 'Saída líquida'\n",
    "    ELSE 'Equilíbrio'\n",
    "  END AS TIPO_FLUXO,\n",
    "  \n",
    "  ROUND(\n",
    "    ABS(pa.POPULACAO_ATUAL - (pa.POPULACAO_ANTERIOR + pa.CRESCIMENTO_NATURAL)) / \n",
    "    NULLIF(pa.POPULACAO_ANTERIOR, 0) * 100, \n",
    "    2\n",
    "  ) AS PERCENTUAL_MIGRACAO\n",
    "  \n",
    "FROM POPULACAO_ANALISADA pa\n",
    "WHERE pa.POPULACAO_ATUAL IS NOT NULL\n",
    "  AND pa.NASCIMENTOS > 0\n",
    "  AND pa.OBITOS > 0\n",
    "  AND pa.POPULACAO_ANTERIOR IS NOT NULL;"
   ]
  },
  {
   "cell_type": "markdown",
   "metadata": {
    "application/vnd.databricks.v1+cell": {
     "cellMetadata": {},
     "inputWidgets": {},
     "nuid": "33e00ad2-5dd7-4adc-abe9-c45b4520a4ad",
     "showTitle": false,
     "tableResultSettingsMap": {},
     "title": ""
    }
   },
   "source": [
    "### 6.1 Criação do Banco de de Dados GOLD"
   ]
  },
  {
   "cell_type": "code",
   "execution_count": 0,
   "metadata": {
    "application/vnd.databricks.v1+cell": {
     "cellMetadata": {
      "byteLimit": 2048000,
      "implicitDf": true,
      "rowLimit": 10000
     },
     "inputWidgets": {},
     "nuid": "9a2cb2b8-a079-4b6b-a5f1-5922719a3d7c",
     "showTitle": false,
     "tableResultSettingsMap": {},
     "title": ""
    }
   },
   "outputs": [
    {
     "output_type": "display_data",
     "data": {
      "text/html": [
       "<style scoped>\n",
       "  .table-result-container {\n",
       "    max-height: 300px;\n",
       "    overflow: auto;\n",
       "  }\n",
       "  table, th, td {\n",
       "    border: 1px solid black;\n",
       "    border-collapse: collapse;\n",
       "  }\n",
       "  th, td {\n",
       "    padding: 5px;\n",
       "  }\n",
       "  th {\n",
       "    text-align: left;\n",
       "  }\n",
       "</style><div class='table-result-container'><table class='table-result'><thead style='background-color: white'><tr><th>num_affected_rows</th><th>num_inserted_rows</th></tr></thead><tbody></tbody></table></div>"
      ]
     },
     "metadata": {
      "application/vnd.databricks.v1+output": {
       "addedWidgets": {},
       "aggData": [],
       "aggError": "",
       "aggOverflow": false,
       "aggSchema": [],
       "aggSeriesLimitReached": false,
       "aggType": "",
       "arguments": {},
       "columnCustomDisplayInfos": {},
       "data": [],
       "datasetInfos": [],
       "dbfsResultPath": null,
       "isJsonSchema": true,
       "metadata": {},
       "overflow": false,
       "plotOptions": {
        "customPlotOptions": {},
        "displayType": "table",
        "pivotAggregation": null,
        "pivotColumns": null,
        "xColumns": null,
        "yColumns": null
       },
       "removedWidgets": [],
       "schema": [
        {
         "metadata": "{}",
         "name": "num_affected_rows",
         "type": "\"long\""
        },
        {
         "metadata": "{}",
         "name": "num_inserted_rows",
         "type": "\"long\""
        }
       ],
       "type": "table"
      }
     },
     "output_type": "display_data"
    }
   ],
   "source": [
    "%sql\n",
    "CREATE DATABASE IF NOT EXISTS GOLD;\n",
    "\n",
    "-- Enviando as tabelas para GOLD\n",
    "CREATE OR REPLACE TABLE GOLD.DESEMPREGO AS SELECT * FROM SILVER.DESEMPREGO;\n",
    "CREATE OR REPLACE TABLE GOLD.BRASILEIRO AS SELECT * FROM SILVER.BRASILEIRO;\n",
    "CREATE OR REPLACE TABLE GOLD.INDUSTRIA AS SELECT * FROM SILVER.INDUSTRIA;\n",
    "CREATE OR REPLACE TABLE GOLD.NASCIMENTOS AS SELECT * FROM SILVER.NASCIMENTOS;\n",
    "CREATE OR REPLACE TABLE GOLD.POPULACAO AS SELECT * FROM SILVER.POPULACAO;\n",
    "CREATE OR REPLACE TABLE GOLD.PIB AS SELECT * FROM SILVER.PIB;\n",
    "CREATE OR REPLACE TABLE GOLD.OBITOS AS SELECT * FROM SILVER.OBITOS;\n",
    "CREATE OR REPLACE TABLE GOLD.T_ESTADO_ANO AS SELECT * FROM SILVER.T_ESTADO_ANO;\n",
    "CREATE OR REPLACE TABLE GOLD.SIGLAS_ESTADO AS SELECT * FROM SILVER.SIGLAS_ESTADO;\n",
    "CREATE OR REPLACE TABLE GOLD.MIGRACAO_ESTADUAL as SELECT * FROM SILVER.MIGRACAO_ESTADUAL\n"
   ]
  },
  {
   "cell_type": "code",
   "execution_count": 0,
   "metadata": {
    "application/vnd.databricks.v1+cell": {
     "cellMetadata": {
      "byteLimit": 2048000,
      "implicitDf": true,
      "rowLimit": 10000
     },
     "inputWidgets": {},
     "nuid": "5685c9b9-2a75-4108-a6ea-47f81a7467e7",
     "showTitle": false,
     "tableResultSettingsMap": {},
     "title": ""
    }
   },
   "outputs": [
    {
     "output_type": "display_data",
     "data": {
      "text/html": [
       "<style scoped>\n",
       "  .table-result-container {\n",
       "    max-height: 300px;\n",
       "    overflow: auto;\n",
       "  }\n",
       "  table, th, td {\n",
       "    border: 1px solid black;\n",
       "    border-collapse: collapse;\n",
       "  }\n",
       "  th, td {\n",
       "    padding: 5px;\n",
       "  }\n",
       "  th {\n",
       "    text-align: left;\n",
       "  }\n",
       "</style><div class='table-result-container'><table class='table-result'><thead style='background-color: white'><tr><th>ANO</th><th>ESTADO</th><th>SIGLA</th><th>POPULACAO_ATUAL</th><th>POPULACAO_ANTERIOR</th><th>NASCIMENTOS</th><th>OBITOS</th><th>CRESCIMENTO_NATURAL</th><th>MIGRACAO_LIQUIDA</th><th>TIPO_FLUXO</th><th>PERCENTUAL_MIGRACAO</th></tr></thead><tbody><tr><td>2012</td><td>Acre</td><td>AC</td><td>758786.0</td><td>746386.0</td><td>60886</td><td>12889</td><td>47997</td><td>-35597.0</td><td>Saída líquida</td><td>4.77</td></tr><tr><td>2013</td><td>Acre</td><td>AC</td><td>776463.0</td><td>758786.0</td><td>63364</td><td>12890</td><td>50474</td><td>-32797.0</td><td>Saída líquida</td><td>4.32</td></tr><tr><td>2014</td><td>Acre</td><td>AC</td><td>790101.0</td><td>776463.0</td><td>64180</td><td>13666</td><td>50514</td><td>-36876.0</td><td>Saída líquida</td><td>4.75</td></tr><tr><td>2015</td><td>Acre</td><td>AC</td><td>803513.0</td><td>790101.0</td><td>63796</td><td>13879</td><td>49917</td><td>-36505.0</td><td>Saída líquida</td><td>4.62</td></tr><tr><td>2016</td><td>Acre</td><td>AC</td><td>816687.0</td><td>803513.0</td><td>60238</td><td>14740</td><td>45498</td><td>-32324.0</td><td>Saída líquida</td><td>4.02</td></tr></tbody></table></div>"
      ]
     },
     "metadata": {
      "application/vnd.databricks.v1+output": {
       "addedWidgets": {},
       "aggData": [],
       "aggError": "",
       "aggOverflow": false,
       "aggSchema": [],
       "aggSeriesLimitReached": false,
       "aggType": "",
       "arguments": {},
       "columnCustomDisplayInfos": {},
       "data": [
        [
         2012,
         "Acre",
         "AC",
         758786.0,
         746386.0,
         60886,
         12889,
         47997,
         -35597.0,
         "Saída líquida",
         4.77
        ],
        [
         2013,
         "Acre",
         "AC",
         776463.0,
         758786.0,
         63364,
         12890,
         50474,
         -32797.0,
         "Saída líquida",
         4.32
        ],
        [
         2014,
         "Acre",
         "AC",
         790101.0,
         776463.0,
         64180,
         13666,
         50514,
         -36876.0,
         "Saída líquida",
         4.75
        ],
        [
         2015,
         "Acre",
         "AC",
         803513.0,
         790101.0,
         63796,
         13879,
         49917,
         -36505.0,
         "Saída líquida",
         4.62
        ],
        [
         2016,
         "Acre",
         "AC",
         816687.0,
         803513.0,
         60238,
         14740,
         45498,
         -32324.0,
         "Saída líquida",
         4.02
        ]
       ],
       "datasetInfos": [],
       "dbfsResultPath": null,
       "isJsonSchema": true,
       "metadata": {},
       "overflow": false,
       "plotOptions": {
        "customPlotOptions": {},
        "displayType": "table",
        "pivotAggregation": null,
        "pivotColumns": null,
        "xColumns": null,
        "yColumns": null
       },
       "removedWidgets": [],
       "schema": [
        {
         "metadata": "{}",
         "name": "ANO",
         "type": "\"integer\""
        },
        {
         "metadata": "{}",
         "name": "ESTADO",
         "type": "\"string\""
        },
        {
         "metadata": "{}",
         "name": "SIGLA",
         "type": "\"string\""
        },
        {
         "metadata": "{}",
         "name": "POPULACAO_ATUAL",
         "type": "\"double\""
        },
        {
         "metadata": "{}",
         "name": "POPULACAO_ANTERIOR",
         "type": "\"double\""
        },
        {
         "metadata": "{}",
         "name": "NASCIMENTOS",
         "type": "\"long\""
        },
        {
         "metadata": "{}",
         "name": "OBITOS",
         "type": "\"long\""
        },
        {
         "metadata": "{}",
         "name": "CRESCIMENTO_NATURAL",
         "type": "\"long\""
        },
        {
         "metadata": "{}",
         "name": "MIGRACAO_LIQUIDA",
         "type": "\"double\""
        },
        {
         "metadata": "{}",
         "name": "TIPO_FLUXO",
         "type": "\"string\""
        },
        {
         "metadata": "{}",
         "name": "PERCENTUAL_MIGRACAO",
         "type": "\"double\""
        }
       ],
       "type": "table"
      }
     },
     "output_type": "display_data"
    }
   ],
   "source": [
    "%sql\n",
    "select* from gold.MIGRACAO_ESTADUAL\n",
    "limit 5"
   ]
  },
  {
   "cell_type": "markdown",
   "metadata": {
    "application/vnd.databricks.v1+cell": {
     "cellMetadata": {},
     "inputWidgets": {},
     "nuid": "50ad6cbe-5f15-463c-9fb6-7a4e18f9b334",
     "showTitle": false,
     "tableResultSettingsMap": {},
     "title": ""
    }
   },
   "source": [
    "### Criação de uma tabela de Rank do Campeonato Brasileiro"
   ]
  },
  {
   "cell_type": "code",
   "execution_count": 0,
   "metadata": {
    "application/vnd.databricks.v1+cell": {
     "cellMetadata": {
      "byteLimit": 2048000,
      "implicitDf": true,
      "rowLimit": 10000
     },
     "inputWidgets": {},
     "nuid": "601941ab-0f54-4895-bf57-6b7d8c952e03",
     "showTitle": false,
     "tableResultSettingsMap": {},
     "title": ""
    }
   },
   "outputs": [
    {
     "output_type": "display_data",
     "data": {
      "text/html": [
       "<style scoped>\n",
       "  .table-result-container {\n",
       "    max-height: 300px;\n",
       "    overflow: auto;\n",
       "  }\n",
       "  table, th, td {\n",
       "    border: 1px solid black;\n",
       "    border-collapse: collapse;\n",
       "  }\n",
       "  th, td {\n",
       "    padding: 5px;\n",
       "  }\n",
       "  th {\n",
       "    text-align: left;\n",
       "  }\n",
       "</style><div class='table-result-container'><table class='table-result'><thead style='background-color: white'><tr><th>num_affected_rows</th><th>num_inserted_rows</th></tr></thead><tbody></tbody></table></div>"
      ]
     },
     "metadata": {
      "application/vnd.databricks.v1+output": {
       "addedWidgets": {},
       "aggData": [],
       "aggError": "",
       "aggOverflow": false,
       "aggSchema": [],
       "aggSeriesLimitReached": false,
       "aggType": "",
       "arguments": {},
       "columnCustomDisplayInfos": {},
       "data": [],
       "datasetInfos": [],
       "dbfsResultPath": null,
       "isJsonSchema": true,
       "metadata": {},
       "overflow": false,
       "plotOptions": {
        "customPlotOptions": {},
        "displayType": "table",
        "pivotAggregation": null,
        "pivotColumns": null,
        "xColumns": null,
        "yColumns": null
       },
       "removedWidgets": [],
       "schema": [
        {
         "metadata": "{}",
         "name": "num_affected_rows",
         "type": "\"long\""
        },
        {
         "metadata": "{}",
         "name": "num_inserted_rows",
         "type": "\"long\""
        }
       ],
       "type": "table"
      }
     },
     "output_type": "display_data"
    }
   ],
   "source": [
    "%sql\n",
    "\n",
    "CREATE OR REPLACE TABLE GOLD.PONTUACAO_ESTADOS AS\n",
    "\n",
    "WITH DADOS_BRASILEIRO AS (\n",
    "  SELECT\n",
    "    ANO,\n",
    "    ESTADO,\n",
    "    SERIE,\n",
    "    POSICAO,\n",
    "\n",
    "    CASE \n",
    "      WHEN SERIE = 'A' THEN (20 - (POSICAO - 1)) * 6  \n",
    "      WHEN SERIE = 'B' THEN (20 - (POSICAO - 1)) * 1 \n",
    "      ELSE 0\n",
    "    END AS PONTOS\n",
    "  FROM SILVER.BRASILEIRO\n",
    "  WHERE SERIE IN ('A', 'B') \n",
    "    AND POSICAO <= 20\n",
    "    AND POSICAO > 0 \n",
    ")\n",
    "\n",
    "SELECT\n",
    "  ANO,\n",
    "  ESTADO,\n",
    "  SUM(PONTOS) AS PONTUACAO_TOTAL,\n",
    "  COUNT(*) AS QTD_CLUBES,\n",
    "  SUM(CASE WHEN SERIE = 'A' THEN 1 ELSE 0 END) AS QTD_SERIE_A,\n",
    "  SUM(CASE WHEN SERIE = 'B' THEN 1 ELSE 0 END) AS QTD_SERIE_B,\n",
    "  MAX(CASE WHEN SERIE = 'A' THEN (20 - (POSICAO - 1)) ELSE 0 END) AS MELHOR_POSICAO_A,\n",
    "  MAX(CASE WHEN SERIE = 'B' THEN (20 - (POSICAO - 1)) ELSE 0 END) AS MELHOR_POSICAO_B,\n",
    "  ROUND(SUM(PONTOS) / COUNT(*), 2) AS MEDIA_PONTOS_POR_CLUBE\n",
    "FROM DADOS_BRASILEIRO\n",
    "GROUP BY ANO, ESTADO\n",
    "ORDER BY ANO DESC, PONTUACAO_TOTAL DESC;"
   ]
  },
  {
   "cell_type": "markdown",
   "metadata": {
    "application/vnd.databricks.v1+cell": {
     "cellMetadata": {},
     "inputWidgets": {},
     "nuid": "cc1d2cbc-d819-41b5-89c8-67144e422c88",
     "showTitle": false,
     "tableResultSettingsMap": {},
     "title": ""
    }
   },
   "source": [
    "> Os 10 Times que mais pontuaram no Rank em todo periodo analisao"
   ]
  },
  {
   "cell_type": "code",
   "execution_count": 0,
   "metadata": {
    "application/vnd.databricks.v1+cell": {
     "cellMetadata": {
      "byteLimit": 2048000,
      "implicitDf": true,
      "rowLimit": 10000
     },
     "inputWidgets": {},
     "nuid": "eff3486a-236c-47a0-aeb2-5f187d5f80ec",
     "showTitle": false,
     "tableResultSettingsMap": {},
     "title": ""
    }
   },
   "outputs": [
    {
     "output_type": "display_data",
     "data": {
      "text/html": [
       "<style scoped>\n",
       "  .table-result-container {\n",
       "    max-height: 300px;\n",
       "    overflow: auto;\n",
       "  }\n",
       "  table, th, td {\n",
       "    border: 1px solid black;\n",
       "    border-collapse: collapse;\n",
       "  }\n",
       "  th, td {\n",
       "    padding: 5px;\n",
       "  }\n",
       "  th {\n",
       "    text-align: left;\n",
       "  }\n",
       "</style><div class='table-result-container'><table class='table-result'><thead style='background-color: white'><tr><th>CLUBE</th><th>ESTADO</th><th>PONTOS_TOTAIS</th></tr></thead><tbody><tr><td>ATLÉTICO-MG</td><td>MG</td><td>1188.0</td></tr><tr><td>FLAMENGO</td><td>RJ</td><td>1182.0</td></tr><tr><td>PALMEIRAS</td><td>SP</td><td>1148.0</td></tr><tr><td>CORINTHIANS</td><td>SP</td><td>1092.0</td></tr><tr><td>GRÊMIO</td><td>RS</td><td>1087.0</td></tr><tr><td>SÃO PAULO</td><td>SP</td><td>1062.0</td></tr><tr><td>INTERNACIONAL</td><td>RS</td><td>1003.0</td></tr><tr><td>SANTOS</td><td>SP</td><td>962.0</td></tr><tr><td>FLUMINENSE</td><td>RJ</td><td>900.0</td></tr><tr><td>BOTAFOGO</td><td>RJ</td><td>797.0</td></tr></tbody></table></div>"
      ]
     },
     "metadata": {
      "application/vnd.databricks.v1+output": {
       "addedWidgets": {},
       "aggData": [],
       "aggError": "",
       "aggOverflow": false,
       "aggSchema": [],
       "aggSeriesLimitReached": false,
       "aggType": "",
       "arguments": {},
       "columnCustomDisplayInfos": {},
       "data": [
        [
         "ATLÉTICO-MG",
         "MG",
         1188.0
        ],
        [
         "FLAMENGO",
         "RJ",
         1182.0
        ],
        [
         "PALMEIRAS",
         "SP",
         1148.0
        ],
        [
         "CORINTHIANS",
         "SP",
         1092.0
        ],
        [
         "GRÊMIO",
         "RS",
         1087.0
        ],
        [
         "SÃO PAULO",
         "SP",
         1062.0
        ],
        [
         "INTERNACIONAL",
         "RS",
         1003.0
        ],
        [
         "SANTOS",
         "SP",
         962.0
        ],
        [
         "FLUMINENSE",
         "RJ",
         900.0
        ],
        [
         "BOTAFOGO",
         "RJ",
         797.0
        ]
       ],
       "datasetInfos": [],
       "dbfsResultPath": null,
       "isJsonSchema": true,
       "metadata": {},
       "overflow": false,
       "plotOptions": {
        "customPlotOptions": {},
        "displayType": "table",
        "pivotAggregation": null,
        "pivotColumns": null,
        "xColumns": null,
        "yColumns": null
       },
       "removedWidgets": [],
       "schema": [
        {
         "metadata": "{}",
         "name": "CLUBE",
         "type": "\"string\""
        },
        {
         "metadata": "{}",
         "name": "ESTADO",
         "type": "\"string\""
        },
        {
         "metadata": "{}",
         "name": "PONTOS_TOTAIS",
         "type": "\"double\""
        }
       ],
       "type": "table"
      }
     },
     "output_type": "display_data"
    }
   ],
   "source": [
    "%sql\n",
    "SELECT\n",
    "  CLUBE,\n",
    "  ESTADO,\n",
    "  SUM(\n",
    "    CASE \n",
    "      WHEN SERIE = 'A' THEN (20 - (POSICAO - 1)) * 6  \n",
    "      WHEN SERIE = 'B' THEN (20 - (POSICAO - 1)) * 1 \n",
    "      ELSE 0\n",
    "    END\n",
    "  ) AS PONTOS_TOTAIS\n",
    "FROM SILVER.BRASILEIRO\n",
    "WHERE SERIE IN ('A', 'B')\n",
    "  AND POSICAO BETWEEN 1 AND 20\n",
    "GROUP BY CLUBE, ESTADO\n",
    "ORDER BY PONTOS_TOTAIS DESC\n",
    "LIMIT 10;\n"
   ]
  },
  {
   "cell_type": "markdown",
   "metadata": {
    "application/vnd.databricks.v1+cell": {
     "cellMetadata": {},
     "inputWidgets": {},
     "nuid": "2e5100e9-6750-4832-9483-5894782763f5",
     "showTitle": false,
     "tableResultSettingsMap": {},
     "title": ""
    }
   },
   "source": [
    "> Criação da Tabela Rank por Estado"
   ]
  },
  {
   "cell_type": "code",
   "execution_count": 0,
   "metadata": {
    "application/vnd.databricks.v1+cell": {
     "cellMetadata": {
      "byteLimit": 2048000,
      "implicitDf": true,
      "rowLimit": 10000
     },
     "inputWidgets": {},
     "nuid": "91c6ff3b-c6ad-4931-924e-3f72ad50d63a",
     "showTitle": false,
     "tableResultSettingsMap": {},
     "title": ""
    }
   },
   "outputs": [
    {
     "output_type": "display_data",
     "data": {
      "text/html": [
       "<style scoped>\n",
       "  .table-result-container {\n",
       "    max-height: 300px;\n",
       "    overflow: auto;\n",
       "  }\n",
       "  table, th, td {\n",
       "    border: 1px solid black;\n",
       "    border-collapse: collapse;\n",
       "  }\n",
       "  th, td {\n",
       "    padding: 5px;\n",
       "  }\n",
       "  th {\n",
       "    text-align: left;\n",
       "  }\n",
       "</style><div class='table-result-container'><table class='table-result'><thead style='background-color: white'><tr><th>num_affected_rows</th><th>num_inserted_rows</th></tr></thead><tbody></tbody></table></div>"
      ]
     },
     "metadata": {
      "application/vnd.databricks.v1+output": {
       "addedWidgets": {},
       "aggData": [],
       "aggError": "",
       "aggOverflow": false,
       "aggSchema": [],
       "aggSeriesLimitReached": false,
       "aggType": "",
       "arguments": {},
       "columnCustomDisplayInfos": {},
       "data": [],
       "datasetInfos": [],
       "dbfsResultPath": null,
       "isJsonSchema": true,
       "metadata": {},
       "overflow": false,
       "plotOptions": {
        "customPlotOptions": {},
        "displayType": "table",
        "pivotAggregation": null,
        "pivotColumns": null,
        "xColumns": null,
        "yColumns": null
       },
       "removedWidgets": [],
       "schema": [
        {
         "metadata": "{}",
         "name": "num_affected_rows",
         "type": "\"long\""
        },
        {
         "metadata": "{}",
         "name": "num_inserted_rows",
         "type": "\"long\""
        }
       ],
       "type": "table"
      }
     },
     "output_type": "display_data"
    }
   ],
   "source": [
    "%sql\n",
    "\n",
    "CREATE OR REPLACE TABLE GOLD.RANKING_ESTADOS AS\n",
    "\n",
    "SELECT\n",
    "  ANO,\n",
    "  ESTADO,\n",
    "  SUM(20 - (POSICAO - 1)) AS PONTUACAO_TOTAL, \n",
    "  COUNT(*) AS QTD_CLUBES,\n",
    "  MAX(20 - (POSICAO - 1)) AS MELHOR_POSICAO,\n",
    "  ROUND(AVG(20 - (POSICAO - 1)), 2) AS MEDIA_PONTOS_POR_CLUBE\n",
    "FROM SILVER.BRASILEIRO\n",
    "WHERE POSICAO BETWEEN 1 AND 20 \n",
    "  AND POSICAO IS NOT NULL\n",
    "  AND ESTADO IS NOT NULL\n",
    "  AND ANO IS NOT NULL\n",
    "GROUP BY ANO, ESTADO\n",
    "ORDER BY ANO DESC, PONTUACAO_TOTAL DESC;"
   ]
  },
  {
   "cell_type": "markdown",
   "metadata": {
    "application/vnd.databricks.v1+cell": {
     "cellMetadata": {},
     "inputWidgets": {},
     "nuid": "16527ad9-0411-4d13-805d-1e593ad83056",
     "showTitle": false,
     "tableResultSettingsMap": {},
     "title": ""
    }
   },
   "source": [
    "- Somatorio do PIB e e das Pontuações por estado"
   ]
  },
  {
   "cell_type": "code",
   "execution_count": 0,
   "metadata": {
    "application/vnd.databricks.v1+cell": {
     "cellMetadata": {
      "byteLimit": 2048000,
      "rowLimit": 10000
     },
     "inputWidgets": {},
     "nuid": "24d48a6e-610c-497c-8044-21a52ffe723b",
     "showTitle": false,
     "tableResultSettingsMap": {},
     "title": ""
    }
   },
   "outputs": [
    {
     "output_type": "display_data",
     "data": {
      "text/html": [
       "<style scoped>\n",
       "  .table-result-container {\n",
       "    max-height: 300px;\n",
       "    overflow: auto;\n",
       "  }\n",
       "  table, th, td {\n",
       "    border: 1px solid black;\n",
       "    border-collapse: collapse;\n",
       "  }\n",
       "  th, td {\n",
       "    padding: 5px;\n",
       "  }\n",
       "  th {\n",
       "    text-align: left;\n",
       "  }\n",
       "</style><div class='table-result-container'><table class='table-result'><thead style='background-color: white'><tr><th>REGIAO</th><th>ANO</th><th>TOTAL_PONTOS</th><th>TOTAL_PIB</th><th>PONTOS_POR_PIB</th></tr></thead><tbody><tr><td>Sudeste</td><td>2012</td><td>204.0</td><td>2.5762012467E9</td><td>7.918636025089849E-8</td></tr><tr><td>Sudeste</td><td>2021</td><td>197.0</td><td>4.52664521543E9</td><td>4.3520088415253975E-8</td></tr><tr><td>Sudeste</td><td>2014</td><td>197.0</td><td>3.0459068839E9</td><td>6.467696075717189E-8</td></tr><tr><td>Sudeste</td><td>2019</td><td>194.0</td><td>3.78013860174E9</td><td>5.132086953391119E-8</td></tr><tr><td>Sudeste</td><td>2017</td><td>193.0</td><td>3.36874284785E9</td><td>5.729140178306472E-8</td></tr><tr><td>Sudeste</td><td>2015</td><td>189.0</td><td>3.1183720720899997E9</td><td>6.06085469054782E-8</td></tr><tr><td>Sudeste</td><td>2020</td><td>177.0</td><td>3.81424880688E9</td><td>4.640494340084317E-8</td></tr><tr><td>Sudeste</td><td>2016</td><td>173.0</td><td>3.22396905647E9</td><td>5.366056465486732E-8</td></tr><tr><td>Sudeste</td><td>2018</td><td>173.0</td><td>3.5842968161399994E9</td><td>4.826609203260882E-8</td></tr><tr><td>Sudeste</td><td>2013</td><td>170.0</td><td>2.83146938894E9</td><td>6.003949774771955E-8</td></tr><tr><td>Sul</td><td>2017</td><td>141.0</td><td>1.12203815411E9</td><td>1.2566417593155834E-7</td></tr><tr><td>Sul</td><td>2013</td><td>137.0</td><td>8.802861198199999E8</td><td>1.5563121684573833E-7</td></tr><tr><td>Sul</td><td>2020</td><td>127.0</td><td>1.30814745534E9</td><td>9.708385662608004E-8</td></tr><tr><td>Sul</td><td>2018</td><td>124.0</td><td>1.1955504505E9</td><td>1.0371791499734791E-7</td></tr><tr><td>Sul</td><td>2016</td><td>118.0</td><td>1.06735836099E9</td><td>1.1055331022146322E-7</td></tr><tr><td>Sul</td><td>2012</td><td>115.0</td><td>7.6500187244E8</td><td>1.5032642944154307E-7</td></tr><tr><td>Sul</td><td>2014</td><td>114.0</td><td>9.4845398552E8</td><td>1.2019560436292362E-7</td></tr><tr><td>Sul</td><td>2019</td><td>112.0</td><td>1.27210507131E9</td><td>8.804304182567531E-8</td></tr><tr><td>Nordeste</td><td>2015</td><td>112.0</td><td>7.1473127701E8</td><td>1.5670225104537154E-7</td></tr><tr><td>Nordeste</td><td>2013</td><td>90.0</td><td>5.4383206736E8</td><td>1.6549226388377495E-7</td></tr><tr><td>Nordeste</td><td>2020</td><td>88.0</td><td>8.810706326899999E8</td><td>9.987848503283656E-8</td></tr><tr><td>Nordeste</td><td>2021</td><td>86.0</td><td>1.0214239129200001E9</td><td>8.41961881958952E-8</td></tr><tr><td>Sul</td><td>2015</td><td>85.0</td><td>1.00803506503E9</td><td>8.432246352211004E-8</td></tr><tr><td>Sul</td><td>2021</td><td>84.0</td><td>1.5598276279299998E9</td><td>5.385210422992306E-8</td></tr><tr><td>Nordeste</td><td>2012</td><td>79.0</td><td>4.885979321E8</td><td>1.6168713539260596E-7</td></tr><tr><td>Nordeste</td><td>2014</td><td>75.0</td><td>6.3599169728E8</td><td>1.1792606777849288E-7</td></tr><tr><td>Nordeste</td><td>2018</td><td>73.0</td><td>7.8108788341E8</td><td>9.345939368730632E-8</td></tr><tr><td>Nordeste</td><td>2016</td><td>73.0</td><td>6.992853012099999E8</td><td>1.0439229864217842E-7</td></tr><tr><td>Nordeste</td><td>2019</td><td>72.0</td><td>7.1363293797E8</td><td>1.0089220405774875E-7</td></tr><tr><td>Nordeste</td><td>2017</td><td>50.0</td><td>7.1541218706E8</td><td>6.988977949268093E-8</td></tr><tr><td>Centro-Oeste</td><td>2021</td><td>49.0</td><td>5.0301807654999995E8</td><td>9.741200621669786E-8</td></tr><tr><td>Centro-Oeste</td><td>2016</td><td>49.0</td><td>3.0563989909000003E8</td><td>1.6031938286163106E-7</td></tr><tr><td>Centro-Oeste</td><td>2018</td><td>46.0</td><td>1.9568172399E8</td><td>2.3507560676617278E-7</td></tr><tr><td>Centro-Oeste</td><td>2019</td><td>42.0</td><td>3.5079451968E8</td><td>1.1972821023063026E-7</td></tr><tr><td>Centro-Oeste</td><td>2014</td><td>34.0</td><td>2.6624983874E8</td><td>1.2769960786042728E-7</td></tr><tr><td>Centro-Oeste</td><td>2020</td><td>28.0</td><td>4.0277567575E8</td><td>6.951760417970076E-8</td></tr><tr><td>Centro-Oeste</td><td>2017</td><td>26.0</td><td>3.1879419884000003E8</td><td>8.155731846629106E-8</td></tr><tr><td>Centro-Oeste</td><td>2012</td><td>22.0</td><td>1.3875782503E8</td><td>1.5854961689723454E-7</td></tr><tr><td>Centro-Oeste</td><td>2013</td><td>20.0</td><td>1.5130017511E8</td><td>1.3218755355345338E-7</td></tr><tr><td>Centro-Oeste</td><td>2015</td><td>20.0</td><td>2.8105076887E8</td><td>7.11615203203767E-8</td></tr><tr><td>Norte</td><td>2015</td><td>14.0</td><td>1.3089950512E8</td><td>1.0695227600108744E-7</td></tr><tr><td>Norte</td><td>2017</td><td>10.0</td><td>1.5523240379E8</td><td>6.441953970852699E-8</td></tr><tr><td>Norte</td><td>2016</td><td>7.0</td><td>1.3810751426E8</td><td>5.068514944684228E-8</td></tr><tr><td>Norte</td><td>2021</td><td>4.0</td><td>2.6290497912E8</td><td>1.521462245937246E-8</td></tr><tr><td>Norte</td><td>2018</td><td>4.0</td><td>1.6134960205E8</td><td>2.4790888537552484E-8</td></tr><tr><td>Norte</td><td>2013</td><td>3.0</td><td>1.2122484659E8</td><td>2.4747401909663244E-8</td></tr></tbody></table></div>"
      ]
     },
     "metadata": {
      "application/vnd.databricks.v1+output": {
       "addedWidgets": {},
       "aggData": [],
       "aggError": "",
       "aggOverflow": false,
       "aggSchema": [],
       "aggSeriesLimitReached": false,
       "aggType": "",
       "arguments": {},
       "columnCustomDisplayInfos": {},
       "data": [
        [
         "Sudeste",
         2012,
         204.0,
         2.5762012467E9,
         7.918636025089849E-8
        ],
        [
         "Sudeste",
         2021,
         197.0,
         4.52664521543E9,
         4.3520088415253975E-8
        ],
        [
         "Sudeste",
         2014,
         197.0,
         3.0459068839E9,
         6.467696075717189E-8
        ],
        [
         "Sudeste",
         2019,
         194.0,
         3.78013860174E9,
         5.132086953391119E-8
        ],
        [
         "Sudeste",
         2017,
         193.0,
         3.36874284785E9,
         5.729140178306472E-8
        ],
        [
         "Sudeste",
         2015,
         189.0,
         3.1183720720899997E9,
         6.06085469054782E-8
        ],
        [
         "Sudeste",
         2020,
         177.0,
         3.81424880688E9,
         4.640494340084317E-8
        ],
        [
         "Sudeste",
         2016,
         173.0,
         3.22396905647E9,
         5.366056465486732E-8
        ],
        [
         "Sudeste",
         2018,
         173.0,
         3.5842968161399994E9,
         4.826609203260882E-8
        ],
        [
         "Sudeste",
         2013,
         170.0,
         2.83146938894E9,
         6.003949774771955E-8
        ],
        [
         "Sul",
         2017,
         141.0,
         1.12203815411E9,
         1.2566417593155834E-7
        ],
        [
         "Sul",
         2013,
         137.0,
         8.802861198199999E8,
         1.5563121684573833E-7
        ],
        [
         "Sul",
         2020,
         127.0,
         1.30814745534E9,
         9.708385662608004E-8
        ],
        [
         "Sul",
         2018,
         124.0,
         1.1955504505E9,
         1.0371791499734791E-7
        ],
        [
         "Sul",
         2016,
         118.0,
         1.06735836099E9,
         1.1055331022146322E-7
        ],
        [
         "Sul",
         2012,
         115.0,
         7.6500187244E8,
         1.5032642944154307E-7
        ],
        [
         "Sul",
         2014,
         114.0,
         9.4845398552E8,
         1.2019560436292362E-7
        ],
        [
         "Sul",
         2019,
         112.0,
         1.27210507131E9,
         8.804304182567531E-8
        ],
        [
         "Nordeste",
         2015,
         112.0,
         7.1473127701E8,
         1.5670225104537154E-7
        ],
        [
         "Nordeste",
         2013,
         90.0,
         5.4383206736E8,
         1.6549226388377495E-7
        ],
        [
         "Nordeste",
         2020,
         88.0,
         8.810706326899999E8,
         9.987848503283656E-8
        ],
        [
         "Nordeste",
         2021,
         86.0,
         1.0214239129200001E9,
         8.41961881958952E-8
        ],
        [
         "Sul",
         2015,
         85.0,
         1.00803506503E9,
         8.432246352211004E-8
        ],
        [
         "Sul",
         2021,
         84.0,
         1.5598276279299998E9,
         5.385210422992306E-8
        ],
        [
         "Nordeste",
         2012,
         79.0,
         4.885979321E8,
         1.6168713539260596E-7
        ],
        [
         "Nordeste",
         2014,
         75.0,
         6.3599169728E8,
         1.1792606777849288E-7
        ],
        [
         "Nordeste",
         2018,
         73.0,
         7.8108788341E8,
         9.345939368730632E-8
        ],
        [
         "Nordeste",
         2016,
         73.0,
         6.992853012099999E8,
         1.0439229864217842E-7
        ],
        [
         "Nordeste",
         2019,
         72.0,
         7.1363293797E8,
         1.0089220405774875E-7
        ],
        [
         "Nordeste",
         2017,
         50.0,
         7.1541218706E8,
         6.988977949268093E-8
        ],
        [
         "Centro-Oeste",
         2021,
         49.0,
         5.0301807654999995E8,
         9.741200621669786E-8
        ],
        [
         "Centro-Oeste",
         2016,
         49.0,
         3.0563989909000003E8,
         1.6031938286163106E-7
        ],
        [
         "Centro-Oeste",
         2018,
         46.0,
         1.9568172399E8,
         2.3507560676617278E-7
        ],
        [
         "Centro-Oeste",
         2019,
         42.0,
         3.5079451968E8,
         1.1972821023063026E-7
        ],
        [
         "Centro-Oeste",
         2014,
         34.0,
         2.6624983874E8,
         1.2769960786042728E-7
        ],
        [
         "Centro-Oeste",
         2020,
         28.0,
         4.0277567575E8,
         6.951760417970076E-8
        ],
        [
         "Centro-Oeste",
         2017,
         26.0,
         3.1879419884000003E8,
         8.155731846629106E-8
        ],
        [
         "Centro-Oeste",
         2012,
         22.0,
         1.3875782503E8,
         1.5854961689723454E-7
        ],
        [
         "Centro-Oeste",
         2013,
         20.0,
         1.5130017511E8,
         1.3218755355345338E-7
        ],
        [
         "Centro-Oeste",
         2015,
         20.0,
         2.8105076887E8,
         7.11615203203767E-8
        ],
        [
         "Norte",
         2015,
         14.0,
         1.3089950512E8,
         1.0695227600108744E-7
        ],
        [
         "Norte",
         2017,
         10.0,
         1.5523240379E8,
         6.441953970852699E-8
        ],
        [
         "Norte",
         2016,
         7.0,
         1.3810751426E8,
         5.068514944684228E-8
        ],
        [
         "Norte",
         2021,
         4.0,
         2.6290497912E8,
         1.521462245937246E-8
        ],
        [
         "Norte",
         2018,
         4.0,
         1.6134960205E8,
         2.4790888537552484E-8
        ],
        [
         "Norte",
         2013,
         3.0,
         1.2122484659E8,
         2.4747401909663244E-8
        ]
       ],
       "datasetInfos": [],
       "dbfsResultPath": null,
       "isJsonSchema": true,
       "metadata": {},
       "overflow": false,
       "plotOptions": {
        "customPlotOptions": {},
        "displayType": "table",
        "pivotAggregation": null,
        "pivotColumns": null,
        "xColumns": null,
        "yColumns": null
       },
       "removedWidgets": [],
       "schema": [
        {
         "metadata": "{}",
         "name": "REGIAO",
         "type": "\"string\""
        },
        {
         "metadata": "{}",
         "name": "ANO",
         "type": "\"integer\""
        },
        {
         "metadata": "{}",
         "name": "TOTAL_PONTOS",
         "type": "\"double\""
        },
        {
         "metadata": "{}",
         "name": "TOTAL_PIB",
         "type": "\"double\""
        },
        {
         "metadata": "{}",
         "name": "PONTOS_POR_PIB",
         "type": "\"double\""
        }
       ],
       "type": "table"
      }
     },
     "output_type": "display_data"
    }
   ],
   "source": [
    "from pyspark.sql.functions import col\n",
    "\n",
    "df_com_razao = spark.sql(\"\"\"\n",
    "SELECT\n",
    "  se.REGIAO,\n",
    "  p.ANO,\n",
    "  SUM(p.PONTUACAO_TOTAL) AS TOTAL_PONTOS,\n",
    "  SUM(b.VALOR_PIB) AS TOTAL_PIB\n",
    "FROM GOLD.RANKING_ESTADOS p\n",
    "JOIN GOLD.SIGLAS_ESTADO se \n",
    "  ON p.ESTADO = se.SIGLA\n",
    "JOIN GOLD.PIB b \n",
    "  ON se.ESTADO = b.ESTADO AND p.ANO = b.ANO\n",
    "GROUP BY se.REGIAO, p.ANO\n",
    "\"\"\")\n",
    "\n",
    "df_com_razao = df_com_razao.withColumn(\n",
    "    \"PONTOS_POR_PIB\",\n",
    "    col(\"TOTAL_PONTOS\") / col(\"TOTAL_PIB\")\n",
    ")\n",
    "\n",
    "\n",
    "df_final = df_com_razao.orderBy(\"ANO\", ascending=False).orderBy(\"TOTAL_PONTOS\", ascending=False)\n",
    "\n",
    "display(df_final)"
   ]
  },
  {
   "cell_type": "markdown",
   "metadata": {
    "application/vnd.databricks.v1+cell": {
     "cellMetadata": {},
     "inputWidgets": {},
     "nuid": "dafe7604-17a2-4d4d-8ce2-330a42ac06ff",
     "showTitle": false,
     "tableResultSettingsMap": {},
     "title": ""
    }
   },
   "source": [
    "- Criação de Grafico do PIB/Pontos no Campeonato Brasileiro Serie A e B"
   ]
  },
  {
   "cell_type": "code",
   "execution_count": 0,
   "metadata": {
    "application/vnd.databricks.v1+cell": {
     "cellMetadata": {
      "byteLimit": 2048000,
      "rowLimit": 10000
     },
     "inputWidgets": {},
     "nuid": "15eb1e63-0d68-4bd9-88cf-94e632ba949f",
     "showTitle": false,
     "tableResultSettingsMap": {},
     "title": ""
    }
   },
   "outputs": [
    {
     "output_type": "display_data",
     "data": {
      "text/html": [
       "<html>\n",
       "<head><meta charset=\"utf-8\" /></head>\n",
       "<body>\n",
       "    <div>            <script src=\"https://cdnjs.cloudflare.com/ajax/libs/mathjax/2.7.5/MathJax.js?config=TeX-AMS-MML_SVG\"></script><script type=\"text/javascript\">if (window.MathJax) {MathJax.Hub.Config({SVG: {font: \"STIX-Web\"}});}</script>                <script type=\"text/javascript\">window.PlotlyConfig = {MathJaxConfig: 'local'};</script>\n",
       "        <script src=\"https://cdn.plot.ly/plotly-2.9.0.min.js\"></script>                <div id=\"5b0135f0-5941-4d13-922c-70246e924394\" class=\"plotly-graph-div\" style=\"height:100%; width:100%;\"></div>            <script type=\"text/javascript\">                                    window.PLOTLYENV=window.PLOTLYENV || {};                                    if (document.getElementById(\"5b0135f0-5941-4d13-922c-70246e924394\")) {                    Plotly.newPlot(                        \"5b0135f0-5941-4d13-922c-70246e924394\",                        [{\"hovertemplate\":\"REGIAO=Sudeste<br>ANO=%{x}<br>PONTOS_POR_PIB=%{y}<extra></extra>\",\"legendgroup\":\"Sudeste\",\"line\":{\"color\":\"#636efa\",\"dash\":\"solid\"},\"marker\":{\"symbol\":\"circle\"},\"mode\":\"lines\",\"name\":\"Sudeste\",\"orientation\":\"v\",\"showlegend\":true,\"x\":[2012,2013,2014,2015,2016,2017,2018,2019,2020,2021],\"xaxis\":\"x\",\"y\":[7.918636025089849e-08,6.003949774771957e-08,6.467696075717189e-08,6.06085469054782e-08,5.366056465486731e-08,5.7291401783064727e-08,4.8266092032608816e-08,5.132086953391119e-08,4.640494340084317e-08,4.3520088415253975e-08],\"yaxis\":\"y\",\"type\":\"scatter\"},{\"hovertemplate\":\"REGIAO=Centro-Oeste<br>ANO=%{x}<br>PONTOS_POR_PIB=%{y}<extra></extra>\",\"legendgroup\":\"Centro-Oeste\",\"line\":{\"color\":\"#EF553B\",\"dash\":\"solid\"},\"marker\":{\"symbol\":\"circle\"},\"mode\":\"lines\",\"name\":\"Centro-Oeste\",\"orientation\":\"v\",\"showlegend\":true,\"x\":[2012,2013,2014,2015,2016,2017,2018,2019,2020,2021],\"xaxis\":\"x\",\"y\":[1.5854961689723454e-07,1.3218755355345338e-07,1.2769960786042728e-07,7.11615203203767e-08,1.6031938286163106e-07,8.155731846629106e-08,2.3507560676617278e-07,1.1972821023063026e-07,6.951760417970076e-08,9.741200621669786e-08],\"yaxis\":\"y\",\"type\":\"scatter\"},{\"hovertemplate\":\"REGIAO=Nordeste<br>ANO=%{x}<br>PONTOS_POR_PIB=%{y}<extra></extra>\",\"legendgroup\":\"Nordeste\",\"line\":{\"color\":\"#00cc96\",\"dash\":\"solid\"},\"marker\":{\"symbol\":\"circle\"},\"mode\":\"lines\",\"name\":\"Nordeste\",\"orientation\":\"v\",\"showlegend\":true,\"x\":[2012,2013,2014,2015,2016,2017,2018,2019,2020,2021],\"xaxis\":\"x\",\"y\":[1.6168713539260596e-07,1.6549226388377495e-07,1.1792606777849289e-07,1.5670225104537154e-07,1.0439229864217842e-07,6.988977949268093e-08,9.345939368730632e-08,1.0089220405774875e-07,9.987848503283656e-08,8.41961881958952e-08],\"yaxis\":\"y\",\"type\":\"scatter\"},{\"hovertemplate\":\"REGIAO=Sul<br>ANO=%{x}<br>PONTOS_POR_PIB=%{y}<extra></extra>\",\"legendgroup\":\"Sul\",\"line\":{\"color\":\"#ab63fa\",\"dash\":\"solid\"},\"marker\":{\"symbol\":\"circle\"},\"mode\":\"lines\",\"name\":\"Sul\",\"orientation\":\"v\",\"showlegend\":true,\"x\":[2012,2013,2014,2015,2016,2017,2018,2019,2020,2021],\"xaxis\":\"x\",\"y\":[1.503264294415431e-07,1.5563121684573833e-07,1.201956043629236e-07,8.432246352211004e-08,1.1055331022146322e-07,1.2566417593155834e-07,1.0371791499734791e-07,8.804304182567531e-08,9.708385662608004e-08,5.385210422992306e-08],\"yaxis\":\"y\",\"type\":\"scatter\"},{\"hovertemplate\":\"REGIAO=Norte<br>ANO=%{x}<br>PONTOS_POR_PIB=%{y}<extra></extra>\",\"legendgroup\":\"Norte\",\"line\":{\"color\":\"#FFA15A\",\"dash\":\"solid\"},\"marker\":{\"symbol\":\"circle\"},\"mode\":\"lines\",\"name\":\"Norte\",\"orientation\":\"v\",\"showlegend\":true,\"x\":[2013,2015,2016,2017,2018,2021],\"xaxis\":\"x\",\"y\":[2.4747401909663244e-08,1.0695227600108744e-07,5.068514944684228e-08,6.441953970852699e-08,2.4790888537552484e-08,1.521462245937246e-08],\"yaxis\":\"y\",\"type\":\"scatter\"}],                        {\"template\":{\"data\":{\"bar\":[{\"error_x\":{\"color\":\"#2a3f5f\"},\"error_y\":{\"color\":\"#2a3f5f\"},\"marker\":{\"line\":{\"color\":\"#E5ECF6\",\"width\":0.5},\"pattern\":{\"fillmode\":\"overlay\",\"size\":10,\"solidity\":0.2}},\"type\":\"bar\"}],\"barpolar\":[{\"marker\":{\"line\":{\"color\":\"#E5ECF6\",\"width\":0.5},\"pattern\":{\"fillmode\":\"overlay\",\"size\":10,\"solidity\":0.2}},\"type\":\"barpolar\"}],\"carpet\":[{\"aaxis\":{\"endlinecolor\":\"#2a3f5f\",\"gridcolor\":\"white\",\"linecolor\":\"white\",\"minorgridcolor\":\"white\",\"startlinecolor\":\"#2a3f5f\"},\"baxis\":{\"endlinecolor\":\"#2a3f5f\",\"gridcolor\":\"white\",\"linecolor\":\"white\",\"minorgridcolor\":\"white\",\"startlinecolor\":\"#2a3f5f\"},\"type\":\"carpet\"}],\"choropleth\":[{\"colorbar\":{\"outlinewidth\":0,\"ticks\":\"\"},\"type\":\"choropleth\"}],\"contour\":[{\"colorbar\":{\"outlinewidth\":0,\"ticks\":\"\"},\"colorscale\":[[0.0,\"#0d0887\"],[0.1111111111111111,\"#46039f\"],[0.2222222222222222,\"#7201a8\"],[0.3333333333333333,\"#9c179e\"],[0.4444444444444444,\"#bd3786\"],[0.5555555555555556,\"#d8576b\"],[0.6666666666666666,\"#ed7953\"],[0.7777777777777778,\"#fb9f3a\"],[0.8888888888888888,\"#fdca26\"],[1.0,\"#f0f921\"]],\"type\":\"contour\"}],\"contourcarpet\":[{\"colorbar\":{\"outlinewidth\":0,\"ticks\":\"\"},\"type\":\"contourcarpet\"}],\"heatmap\":[{\"colorbar\":{\"outlinewidth\":0,\"ticks\":\"\"},\"colorscale\":[[0.0,\"#0d0887\"],[0.1111111111111111,\"#46039f\"],[0.2222222222222222,\"#7201a8\"],[0.3333333333333333,\"#9c179e\"],[0.4444444444444444,\"#bd3786\"],[0.5555555555555556,\"#d8576b\"],[0.6666666666666666,\"#ed7953\"],[0.7777777777777778,\"#fb9f3a\"],[0.8888888888888888,\"#fdca26\"],[1.0,\"#f0f921\"]],\"type\":\"heatmap\"}],\"heatmapgl\":[{\"colorbar\":{\"outlinewidth\":0,\"ticks\":\"\"},\"colorscale\":[[0.0,\"#0d0887\"],[0.1111111111111111,\"#46039f\"],[0.2222222222222222,\"#7201a8\"],[0.3333333333333333,\"#9c179e\"],[0.4444444444444444,\"#bd3786\"],[0.5555555555555556,\"#d8576b\"],[0.6666666666666666,\"#ed7953\"],[0.7777777777777778,\"#fb9f3a\"],[0.8888888888888888,\"#fdca26\"],[1.0,\"#f0f921\"]],\"type\":\"heatmapgl\"}],\"histogram\":[{\"marker\":{\"pattern\":{\"fillmode\":\"overlay\",\"size\":10,\"solidity\":0.2}},\"type\":\"histogram\"}],\"histogram2d\":[{\"colorbar\":{\"outlinewidth\":0,\"ticks\":\"\"},\"colorscale\":[[0.0,\"#0d0887\"],[0.1111111111111111,\"#46039f\"],[0.2222222222222222,\"#7201a8\"],[0.3333333333333333,\"#9c179e\"],[0.4444444444444444,\"#bd3786\"],[0.5555555555555556,\"#d8576b\"],[0.6666666666666666,\"#ed7953\"],[0.7777777777777778,\"#fb9f3a\"],[0.8888888888888888,\"#fdca26\"],[1.0,\"#f0f921\"]],\"type\":\"histogram2d\"}],\"histogram2dcontour\":[{\"colorbar\":{\"outlinewidth\":0,\"ticks\":\"\"},\"colorscale\":[[0.0,\"#0d0887\"],[0.1111111111111111,\"#46039f\"],[0.2222222222222222,\"#7201a8\"],[0.3333333333333333,\"#9c179e\"],[0.4444444444444444,\"#bd3786\"],[0.5555555555555556,\"#d8576b\"],[0.6666666666666666,\"#ed7953\"],[0.7777777777777778,\"#fb9f3a\"],[0.8888888888888888,\"#fdca26\"],[1.0,\"#f0f921\"]],\"type\":\"histogram2dcontour\"}],\"mesh3d\":[{\"colorbar\":{\"outlinewidth\":0,\"ticks\":\"\"},\"type\":\"mesh3d\"}],\"parcoords\":[{\"line\":{\"colorbar\":{\"outlinewidth\":0,\"ticks\":\"\"}},\"type\":\"parcoords\"}],\"pie\":[{\"automargin\":true,\"type\":\"pie\"}],\"scatter\":[{\"marker\":{\"colorbar\":{\"outlinewidth\":0,\"ticks\":\"\"}},\"type\":\"scatter\"}],\"scatter3d\":[{\"line\":{\"colorbar\":{\"outlinewidth\":0,\"ticks\":\"\"}},\"marker\":{\"colorbar\":{\"outlinewidth\":0,\"ticks\":\"\"}},\"type\":\"scatter3d\"}],\"scattercarpet\":[{\"marker\":{\"colorbar\":{\"outlinewidth\":0,\"ticks\":\"\"}},\"type\":\"scattercarpet\"}],\"scattergeo\":[{\"marker\":{\"colorbar\":{\"outlinewidth\":0,\"ticks\":\"\"}},\"type\":\"scattergeo\"}],\"scattergl\":[{\"marker\":{\"colorbar\":{\"outlinewidth\":0,\"ticks\":\"\"}},\"type\":\"scattergl\"}],\"scattermapbox\":[{\"marker\":{\"colorbar\":{\"outlinewidth\":0,\"ticks\":\"\"}},\"type\":\"scattermapbox\"}],\"scatterpolar\":[{\"marker\":{\"colorbar\":{\"outlinewidth\":0,\"ticks\":\"\"}},\"type\":\"scatterpolar\"}],\"scatterpolargl\":[{\"marker\":{\"colorbar\":{\"outlinewidth\":0,\"ticks\":\"\"}},\"type\":\"scatterpolargl\"}],\"scatterternary\":[{\"marker\":{\"colorbar\":{\"outlinewidth\":0,\"ticks\":\"\"}},\"type\":\"scatterternary\"}],\"surface\":[{\"colorbar\":{\"outlinewidth\":0,\"ticks\":\"\"},\"colorscale\":[[0.0,\"#0d0887\"],[0.1111111111111111,\"#46039f\"],[0.2222222222222222,\"#7201a8\"],[0.3333333333333333,\"#9c179e\"],[0.4444444444444444,\"#bd3786\"],[0.5555555555555556,\"#d8576b\"],[0.6666666666666666,\"#ed7953\"],[0.7777777777777778,\"#fb9f3a\"],[0.8888888888888888,\"#fdca26\"],[1.0,\"#f0f921\"]],\"type\":\"surface\"}],\"table\":[{\"cells\":{\"fill\":{\"color\":\"#EBF0F8\"},\"line\":{\"color\":\"white\"}},\"header\":{\"fill\":{\"color\":\"#C8D4E3\"},\"line\":{\"color\":\"white\"}},\"type\":\"table\"}]},\"layout\":{\"annotationdefaults\":{\"arrowcolor\":\"#2a3f5f\",\"arrowhead\":0,\"arrowwidth\":1},\"autotypenumbers\":\"strict\",\"coloraxis\":{\"colorbar\":{\"outlinewidth\":0,\"ticks\":\"\"}},\"colorscale\":{\"diverging\":[[0,\"#8e0152\"],[0.1,\"#c51b7d\"],[0.2,\"#de77ae\"],[0.3,\"#f1b6da\"],[0.4,\"#fde0ef\"],[0.5,\"#f7f7f7\"],[0.6,\"#e6f5d0\"],[0.7,\"#b8e186\"],[0.8,\"#7fbc41\"],[0.9,\"#4d9221\"],[1,\"#276419\"]],\"sequential\":[[0.0,\"#0d0887\"],[0.1111111111111111,\"#46039f\"],[0.2222222222222222,\"#7201a8\"],[0.3333333333333333,\"#9c179e\"],[0.4444444444444444,\"#bd3786\"],[0.5555555555555556,\"#d8576b\"],[0.6666666666666666,\"#ed7953\"],[0.7777777777777778,\"#fb9f3a\"],[0.8888888888888888,\"#fdca26\"],[1.0,\"#f0f921\"]],\"sequentialminus\":[[0.0,\"#0d0887\"],[0.1111111111111111,\"#46039f\"],[0.2222222222222222,\"#7201a8\"],[0.3333333333333333,\"#9c179e\"],[0.4444444444444444,\"#bd3786\"],[0.5555555555555556,\"#d8576b\"],[0.6666666666666666,\"#ed7953\"],[0.7777777777777778,\"#fb9f3a\"],[0.8888888888888888,\"#fdca26\"],[1.0,\"#f0f921\"]]},\"colorway\":[\"#636efa\",\"#EF553B\",\"#00cc96\",\"#ab63fa\",\"#FFA15A\",\"#19d3f3\",\"#FF6692\",\"#B6E880\",\"#FF97FF\",\"#FECB52\"],\"font\":{\"color\":\"#2a3f5f\"},\"geo\":{\"bgcolor\":\"white\",\"lakecolor\":\"white\",\"landcolor\":\"#E5ECF6\",\"showlakes\":true,\"showland\":true,\"subunitcolor\":\"white\"},\"hoverlabel\":{\"align\":\"left\"},\"hovermode\":\"closest\",\"mapbox\":{\"style\":\"light\"},\"paper_bgcolor\":\"white\",\"plot_bgcolor\":\"#E5ECF6\",\"polar\":{\"angularaxis\":{\"gridcolor\":\"white\",\"linecolor\":\"white\",\"ticks\":\"\"},\"bgcolor\":\"#E5ECF6\",\"radialaxis\":{\"gridcolor\":\"white\",\"linecolor\":\"white\",\"ticks\":\"\"}},\"scene\":{\"xaxis\":{\"backgroundcolor\":\"#E5ECF6\",\"gridcolor\":\"white\",\"gridwidth\":2,\"linecolor\":\"white\",\"showbackground\":true,\"ticks\":\"\",\"zerolinecolor\":\"white\"},\"yaxis\":{\"backgroundcolor\":\"#E5ECF6\",\"gridcolor\":\"white\",\"gridwidth\":2,\"linecolor\":\"white\",\"showbackground\":true,\"ticks\":\"\",\"zerolinecolor\":\"white\"},\"zaxis\":{\"backgroundcolor\":\"#E5ECF6\",\"gridcolor\":\"white\",\"gridwidth\":2,\"linecolor\":\"white\",\"showbackground\":true,\"ticks\":\"\",\"zerolinecolor\":\"white\"}},\"shapedefaults\":{\"line\":{\"color\":\"#2a3f5f\"}},\"ternary\":{\"aaxis\":{\"gridcolor\":\"white\",\"linecolor\":\"white\",\"ticks\":\"\"},\"baxis\":{\"gridcolor\":\"white\",\"linecolor\":\"white\",\"ticks\":\"\"},\"bgcolor\":\"#E5ECF6\",\"caxis\":{\"gridcolor\":\"white\",\"linecolor\":\"white\",\"ticks\":\"\"}},\"title\":{\"x\":0.05},\"xaxis\":{\"automargin\":true,\"gridcolor\":\"white\",\"linecolor\":\"white\",\"ticks\":\"\",\"title\":{\"standoff\":15},\"zerolinecolor\":\"white\",\"zerolinewidth\":2},\"yaxis\":{\"automargin\":true,\"gridcolor\":\"white\",\"linecolor\":\"white\",\"ticks\":\"\",\"title\":{\"standoff\":15},\"zerolinecolor\":\"white\",\"zerolinewidth\":2}}},\"xaxis\":{\"anchor\":\"y\",\"domain\":[0.0,1.0],\"title\":{\"text\":\"ANO\"}},\"yaxis\":{\"anchor\":\"x\",\"domain\":[0.0,1.0],\"title\":{\"text\":\"PONTOS_POR_PIB\"}},\"legend\":{\"title\":{\"text\":\"REGIAO\"},\"tracegroupgap\":0},\"title\":{\"text\":\"Raz\\u00e3o Pontua\\u00e7\\u00e3o/PIB por Regi\\u00e3o ao Longo dos Anos\"}},                        {\"responsive\": true}                    )                };                            </script>        </div>\n",
       "</body>\n",
       "</html>"
      ]
     },
     "metadata": {
      "application/vnd.databricks.v1+output": {
       "addedWidgets": {},
       "arguments": {},
       "data": "<html>\n<head><meta charset=\"utf-8\" /></head>\n<body>\n    <div>            <script src=\"https://cdnjs.cloudflare.com/ajax/libs/mathjax/2.7.5/MathJax.js?config=TeX-AMS-MML_SVG\"></script><script type=\"text/javascript\">if (window.MathJax) {MathJax.Hub.Config({SVG: {font: \"STIX-Web\"}});}</script>                <script type=\"text/javascript\">window.PlotlyConfig = {MathJaxConfig: 'local'};</script>\n        <script src=\"https://cdn.plot.ly/plotly-2.9.0.min.js\"></script>                <div id=\"5b0135f0-5941-4d13-922c-70246e924394\" class=\"plotly-graph-div\" style=\"height:100%; width:100%;\"></div>            <script type=\"text/javascript\">                                    window.PLOTLYENV=window.PLOTLYENV || {};                                    if (document.getElementById(\"5b0135f0-5941-4d13-922c-70246e924394\")) {                    Plotly.newPlot(                        \"5b0135f0-5941-4d13-922c-70246e924394\",                        [{\"hovertemplate\":\"REGIAO=Sudeste<br>ANO=%{x}<br>PONTOS_POR_PIB=%{y}<extra></extra>\",\"legendgroup\":\"Sudeste\",\"line\":{\"color\":\"#636efa\",\"dash\":\"solid\"},\"marker\":{\"symbol\":\"circle\"},\"mode\":\"lines\",\"name\":\"Sudeste\",\"orientation\":\"v\",\"showlegend\":true,\"x\":[2012,2013,2014,2015,2016,2017,2018,2019,2020,2021],\"xaxis\":\"x\",\"y\":[7.918636025089849e-08,6.003949774771957e-08,6.467696075717189e-08,6.06085469054782e-08,5.366056465486731e-08,5.7291401783064727e-08,4.8266092032608816e-08,5.132086953391119e-08,4.640494340084317e-08,4.3520088415253975e-08],\"yaxis\":\"y\",\"type\":\"scatter\"},{\"hovertemplate\":\"REGIAO=Centro-Oeste<br>ANO=%{x}<br>PONTOS_POR_PIB=%{y}<extra></extra>\",\"legendgroup\":\"Centro-Oeste\",\"line\":{\"color\":\"#EF553B\",\"dash\":\"solid\"},\"marker\":{\"symbol\":\"circle\"},\"mode\":\"lines\",\"name\":\"Centro-Oeste\",\"orientation\":\"v\",\"showlegend\":true,\"x\":[2012,2013,2014,2015,2016,2017,2018,2019,2020,2021],\"xaxis\":\"x\",\"y\":[1.5854961689723454e-07,1.3218755355345338e-07,1.2769960786042728e-07,7.11615203203767e-08,1.6031938286163106e-07,8.155731846629106e-08,2.3507560676617278e-07,1.1972821023063026e-07,6.951760417970076e-08,9.741200621669786e-08],\"yaxis\":\"y\",\"type\":\"scatter\"},{\"hovertemplate\":\"REGIAO=Nordeste<br>ANO=%{x}<br>PONTOS_POR_PIB=%{y}<extra></extra>\",\"legendgroup\":\"Nordeste\",\"line\":{\"color\":\"#00cc96\",\"dash\":\"solid\"},\"marker\":{\"symbol\":\"circle\"},\"mode\":\"lines\",\"name\":\"Nordeste\",\"orientation\":\"v\",\"showlegend\":true,\"x\":[2012,2013,2014,2015,2016,2017,2018,2019,2020,2021],\"xaxis\":\"x\",\"y\":[1.6168713539260596e-07,1.6549226388377495e-07,1.1792606777849289e-07,1.5670225104537154e-07,1.0439229864217842e-07,6.988977949268093e-08,9.345939368730632e-08,1.0089220405774875e-07,9.987848503283656e-08,8.41961881958952e-08],\"yaxis\":\"y\",\"type\":\"scatter\"},{\"hovertemplate\":\"REGIAO=Sul<br>ANO=%{x}<br>PONTOS_POR_PIB=%{y}<extra></extra>\",\"legendgroup\":\"Sul\",\"line\":{\"color\":\"#ab63fa\",\"dash\":\"solid\"},\"marker\":{\"symbol\":\"circle\"},\"mode\":\"lines\",\"name\":\"Sul\",\"orientation\":\"v\",\"showlegend\":true,\"x\":[2012,2013,2014,2015,2016,2017,2018,2019,2020,2021],\"xaxis\":\"x\",\"y\":[1.503264294415431e-07,1.5563121684573833e-07,1.201956043629236e-07,8.432246352211004e-08,1.1055331022146322e-07,1.2566417593155834e-07,1.0371791499734791e-07,8.804304182567531e-08,9.708385662608004e-08,5.385210422992306e-08],\"yaxis\":\"y\",\"type\":\"scatter\"},{\"hovertemplate\":\"REGIAO=Norte<br>ANO=%{x}<br>PONTOS_POR_PIB=%{y}<extra></extra>\",\"legendgroup\":\"Norte\",\"line\":{\"color\":\"#FFA15A\",\"dash\":\"solid\"},\"marker\":{\"symbol\":\"circle\"},\"mode\":\"lines\",\"name\":\"Norte\",\"orientation\":\"v\",\"showlegend\":true,\"x\":[2013,2015,2016,2017,2018,2021],\"xaxis\":\"x\",\"y\":[2.4747401909663244e-08,1.0695227600108744e-07,5.068514944684228e-08,6.441953970852699e-08,2.4790888537552484e-08,1.521462245937246e-08],\"yaxis\":\"y\",\"type\":\"scatter\"}],                        {\"template\":{\"data\":{\"bar\":[{\"error_x\":{\"color\":\"#2a3f5f\"},\"error_y\":{\"color\":\"#2a3f5f\"},\"marker\":{\"line\":{\"color\":\"#E5ECF6\",\"width\":0.5},\"pattern\":{\"fillmode\":\"overlay\",\"size\":10,\"solidity\":0.2}},\"type\":\"bar\"}],\"barpolar\":[{\"marker\":{\"line\":{\"color\":\"#E5ECF6\",\"width\":0.5},\"pattern\":{\"fillmode\":\"overlay\",\"size\":10,\"solidity\":0.2}},\"type\":\"barpolar\"}],\"carpet\":[{\"aaxis\":{\"endlinecolor\":\"#2a3f5f\",\"gridcolor\":\"white\",\"linecolor\":\"white\",\"minorgridcolor\":\"white\",\"startlinecolor\":\"#2a3f5f\"},\"baxis\":{\"endlinecolor\":\"#2a3f5f\",\"gridcolor\":\"white\",\"linecolor\":\"white\",\"minorgridcolor\":\"white\",\"startlinecolor\":\"#2a3f5f\"},\"type\":\"carpet\"}],\"choropleth\":[{\"colorbar\":{\"outlinewidth\":0,\"ticks\":\"\"},\"type\":\"choropleth\"}],\"contour\":[{\"colorbar\":{\"outlinewidth\":0,\"ticks\":\"\"},\"colorscale\":[[0.0,\"#0d0887\"],[0.1111111111111111,\"#46039f\"],[0.2222222222222222,\"#7201a8\"],[0.3333333333333333,\"#9c179e\"],[0.4444444444444444,\"#bd3786\"],[0.5555555555555556,\"#d8576b\"],[0.6666666666666666,\"#ed7953\"],[0.7777777777777778,\"#fb9f3a\"],[0.8888888888888888,\"#fdca26\"],[1.0,\"#f0f921\"]],\"type\":\"contour\"}],\"contourcarpet\":[{\"colorbar\":{\"outlinewidth\":0,\"ticks\":\"\"},\"type\":\"contourcarpet\"}],\"heatmap\":[{\"colorbar\":{\"outlinewidth\":0,\"ticks\":\"\"},\"colorscale\":[[0.0,\"#0d0887\"],[0.1111111111111111,\"#46039f\"],[0.2222222222222222,\"#7201a8\"],[0.3333333333333333,\"#9c179e\"],[0.4444444444444444,\"#bd3786\"],[0.5555555555555556,\"#d8576b\"],[0.6666666666666666,\"#ed7953\"],[0.7777777777777778,\"#fb9f3a\"],[0.8888888888888888,\"#fdca26\"],[1.0,\"#f0f921\"]],\"type\":\"heatmap\"}],\"heatmapgl\":[{\"colorbar\":{\"outlinewidth\":0,\"ticks\":\"\"},\"colorscale\":[[0.0,\"#0d0887\"],[0.1111111111111111,\"#46039f\"],[0.2222222222222222,\"#7201a8\"],[0.3333333333333333,\"#9c179e\"],[0.4444444444444444,\"#bd3786\"],[0.5555555555555556,\"#d8576b\"],[0.6666666666666666,\"#ed7953\"],[0.7777777777777778,\"#fb9f3a\"],[0.8888888888888888,\"#fdca26\"],[1.0,\"#f0f921\"]],\"type\":\"heatmapgl\"}],\"histogram\":[{\"marker\":{\"pattern\":{\"fillmode\":\"overlay\",\"size\":10,\"solidity\":0.2}},\"type\":\"histogram\"}],\"histogram2d\":[{\"colorbar\":{\"outlinewidth\":0,\"ticks\":\"\"},\"colorscale\":[[0.0,\"#0d0887\"],[0.1111111111111111,\"#46039f\"],[0.2222222222222222,\"#7201a8\"],[0.3333333333333333,\"#9c179e\"],[0.4444444444444444,\"#bd3786\"],[0.5555555555555556,\"#d8576b\"],[0.6666666666666666,\"#ed7953\"],[0.7777777777777778,\"#fb9f3a\"],[0.8888888888888888,\"#fdca26\"],[1.0,\"#f0f921\"]],\"type\":\"histogram2d\"}],\"histogram2dcontour\":[{\"colorbar\":{\"outlinewidth\":0,\"ticks\":\"\"},\"colorscale\":[[0.0,\"#0d0887\"],[0.1111111111111111,\"#46039f\"],[0.2222222222222222,\"#7201a8\"],[0.3333333333333333,\"#9c179e\"],[0.4444444444444444,\"#bd3786\"],[0.5555555555555556,\"#d8576b\"],[0.6666666666666666,\"#ed7953\"],[0.7777777777777778,\"#fb9f3a\"],[0.8888888888888888,\"#fdca26\"],[1.0,\"#f0f921\"]],\"type\":\"histogram2dcontour\"}],\"mesh3d\":[{\"colorbar\":{\"outlinewidth\":0,\"ticks\":\"\"},\"type\":\"mesh3d\"}],\"parcoords\":[{\"line\":{\"colorbar\":{\"outlinewidth\":0,\"ticks\":\"\"}},\"type\":\"parcoords\"}],\"pie\":[{\"automargin\":true,\"type\":\"pie\"}],\"scatter\":[{\"marker\":{\"colorbar\":{\"outlinewidth\":0,\"ticks\":\"\"}},\"type\":\"scatter\"}],\"scatter3d\":[{\"line\":{\"colorbar\":{\"outlinewidth\":0,\"ticks\":\"\"}},\"marker\":{\"colorbar\":{\"outlinewidth\":0,\"ticks\":\"\"}},\"type\":\"scatter3d\"}],\"scattercarpet\":[{\"marker\":{\"colorbar\":{\"outlinewidth\":0,\"ticks\":\"\"}},\"type\":\"scattercarpet\"}],\"scattergeo\":[{\"marker\":{\"colorbar\":{\"outlinewidth\":0,\"ticks\":\"\"}},\"type\":\"scattergeo\"}],\"scattergl\":[{\"marker\":{\"colorbar\":{\"outlinewidth\":0,\"ticks\":\"\"}},\"type\":\"scattergl\"}],\"scattermapbox\":[{\"marker\":{\"colorbar\":{\"outlinewidth\":0,\"ticks\":\"\"}},\"type\":\"scattermapbox\"}],\"scatterpolar\":[{\"marker\":{\"colorbar\":{\"outlinewidth\":0,\"ticks\":\"\"}},\"type\":\"scatterpolar\"}],\"scatterpolargl\":[{\"marker\":{\"colorbar\":{\"outlinewidth\":0,\"ticks\":\"\"}},\"type\":\"scatterpolargl\"}],\"scatterternary\":[{\"marker\":{\"colorbar\":{\"outlinewidth\":0,\"ticks\":\"\"}},\"type\":\"scatterternary\"}],\"surface\":[{\"colorbar\":{\"outlinewidth\":0,\"ticks\":\"\"},\"colorscale\":[[0.0,\"#0d0887\"],[0.1111111111111111,\"#46039f\"],[0.2222222222222222,\"#7201a8\"],[0.3333333333333333,\"#9c179e\"],[0.4444444444444444,\"#bd3786\"],[0.5555555555555556,\"#d8576b\"],[0.6666666666666666,\"#ed7953\"],[0.7777777777777778,\"#fb9f3a\"],[0.8888888888888888,\"#fdca26\"],[1.0,\"#f0f921\"]],\"type\":\"surface\"}],\"table\":[{\"cells\":{\"fill\":{\"color\":\"#EBF0F8\"},\"line\":{\"color\":\"white\"}},\"header\":{\"fill\":{\"color\":\"#C8D4E3\"},\"line\":{\"color\":\"white\"}},\"type\":\"table\"}]},\"layout\":{\"annotationdefaults\":{\"arrowcolor\":\"#2a3f5f\",\"arrowhead\":0,\"arrowwidth\":1},\"autotypenumbers\":\"strict\",\"coloraxis\":{\"colorbar\":{\"outlinewidth\":0,\"ticks\":\"\"}},\"colorscale\":{\"diverging\":[[0,\"#8e0152\"],[0.1,\"#c51b7d\"],[0.2,\"#de77ae\"],[0.3,\"#f1b6da\"],[0.4,\"#fde0ef\"],[0.5,\"#f7f7f7\"],[0.6,\"#e6f5d0\"],[0.7,\"#b8e186\"],[0.8,\"#7fbc41\"],[0.9,\"#4d9221\"],[1,\"#276419\"]],\"sequential\":[[0.0,\"#0d0887\"],[0.1111111111111111,\"#46039f\"],[0.2222222222222222,\"#7201a8\"],[0.3333333333333333,\"#9c179e\"],[0.4444444444444444,\"#bd3786\"],[0.5555555555555556,\"#d8576b\"],[0.6666666666666666,\"#ed7953\"],[0.7777777777777778,\"#fb9f3a\"],[0.8888888888888888,\"#fdca26\"],[1.0,\"#f0f921\"]],\"sequentialminus\":[[0.0,\"#0d0887\"],[0.1111111111111111,\"#46039f\"],[0.2222222222222222,\"#7201a8\"],[0.3333333333333333,\"#9c179e\"],[0.4444444444444444,\"#bd3786\"],[0.5555555555555556,\"#d8576b\"],[0.6666666666666666,\"#ed7953\"],[0.7777777777777778,\"#fb9f3a\"],[0.8888888888888888,\"#fdca26\"],[1.0,\"#f0f921\"]]},\"colorway\":[\"#636efa\",\"#EF553B\",\"#00cc96\",\"#ab63fa\",\"#FFA15A\",\"#19d3f3\",\"#FF6692\",\"#B6E880\",\"#FF97FF\",\"#FECB52\"],\"font\":{\"color\":\"#2a3f5f\"},\"geo\":{\"bgcolor\":\"white\",\"lakecolor\":\"white\",\"landcolor\":\"#E5ECF6\",\"showlakes\":true,\"showland\":true,\"subunitcolor\":\"white\"},\"hoverlabel\":{\"align\":\"left\"},\"hovermode\":\"closest\",\"mapbox\":{\"style\":\"light\"},\"paper_bgcolor\":\"white\",\"plot_bgcolor\":\"#E5ECF6\",\"polar\":{\"angularaxis\":{\"gridcolor\":\"white\",\"linecolor\":\"white\",\"ticks\":\"\"},\"bgcolor\":\"#E5ECF6\",\"radialaxis\":{\"gridcolor\":\"white\",\"linecolor\":\"white\",\"ticks\":\"\"}},\"scene\":{\"xaxis\":{\"backgroundcolor\":\"#E5ECF6\",\"gridcolor\":\"white\",\"gridwidth\":2,\"linecolor\":\"white\",\"showbackground\":true,\"ticks\":\"\",\"zerolinecolor\":\"white\"},\"yaxis\":{\"backgroundcolor\":\"#E5ECF6\",\"gridcolor\":\"white\",\"gridwidth\":2,\"linecolor\":\"white\",\"showbackground\":true,\"ticks\":\"\",\"zerolinecolor\":\"white\"},\"zaxis\":{\"backgroundcolor\":\"#E5ECF6\",\"gridcolor\":\"white\",\"gridwidth\":2,\"linecolor\":\"white\",\"showbackground\":true,\"ticks\":\"\",\"zerolinecolor\":\"white\"}},\"shapedefaults\":{\"line\":{\"color\":\"#2a3f5f\"}},\"ternary\":{\"aaxis\":{\"gridcolor\":\"white\",\"linecolor\":\"white\",\"ticks\":\"\"},\"baxis\":{\"gridcolor\":\"white\",\"linecolor\":\"white\",\"ticks\":\"\"},\"bgcolor\":\"#E5ECF6\",\"caxis\":{\"gridcolor\":\"white\",\"linecolor\":\"white\",\"ticks\":\"\"}},\"title\":{\"x\":0.05},\"xaxis\":{\"automargin\":true,\"gridcolor\":\"white\",\"linecolor\":\"white\",\"ticks\":\"\",\"title\":{\"standoff\":15},\"zerolinecolor\":\"white\",\"zerolinewidth\":2},\"yaxis\":{\"automargin\":true,\"gridcolor\":\"white\",\"linecolor\":\"white\",\"ticks\":\"\",\"title\":{\"standoff\":15},\"zerolinecolor\":\"white\",\"zerolinewidth\":2}}},\"xaxis\":{\"anchor\":\"y\",\"domain\":[0.0,1.0],\"title\":{\"text\":\"ANO\"}},\"yaxis\":{\"anchor\":\"x\",\"domain\":[0.0,1.0],\"title\":{\"text\":\"PONTOS_POR_PIB\"}},\"legend\":{\"title\":{\"text\":\"REGIAO\"},\"tracegroupgap\":0},\"title\":{\"text\":\"Raz\\u00e3o Pontua\\u00e7\\u00e3o/PIB por Regi\\u00e3o ao Longo dos Anos\"}},                        {\"responsive\": true}                    )                };                            </script>        </div>\n</body>\n</html>",
       "datasetInfos": [],
       "metadata": {},
       "removedWidgets": [],
       "textData": null,
       "type": "htmlSandbox"
      }
     },
     "output_type": "display_data"
    }
   ],
   "source": [
    "\n",
    "df_pandas = df_final.toPandas()\n",
    "df_pandas  = df_pandas.sort_values('ANO')\n",
    "import plotly.express as px\n",
    "fig = px.line(df_pandas, x='ANO', y='PONTOS_POR_PIB', color='REGIAO', \n",
    "             title='Razão Pontuação/PIB por Região ao Longo dos Anos')\n",
    "fig.show()"
   ]
  },
  {
   "cell_type": "markdown",
   "metadata": {
    "application/vnd.databricks.v1+cell": {
     "cellMetadata": {},
     "inputWidgets": {},
     "nuid": "65f5a32b-bfdd-4cb7-a32a-90881952319f",
     "showTitle": false,
     "tableResultSettingsMap": {},
     "title": ""
    }
   },
   "source": [
    "- Verificação de correlações"
   ]
  },
  {
   "cell_type": "code",
   "execution_count": 0,
   "metadata": {
    "application/vnd.databricks.v1+cell": {
     "cellMetadata": {
      "byteLimit": 2048000,
      "implicitDf": true,
      "rowLimit": 10000
     },
     "inputWidgets": {},
     "nuid": "aeab98e8-2678-4b2d-a255-722085844a82",
     "showTitle": false,
     "tableResultSettingsMap": {},
     "title": ""
    }
   },
   "outputs": [
    {
     "output_type": "display_data",
     "data": {
      "text/html": [
       "<style scoped>\n",
       "  .table-result-container {\n",
       "    max-height: 300px;\n",
       "    overflow: auto;\n",
       "  }\n",
       "  table, th, td {\n",
       "    border: 1px solid black;\n",
       "    border-collapse: collapse;\n",
       "  }\n",
       "  th, td {\n",
       "    padding: 5px;\n",
       "  }\n",
       "  th {\n",
       "    text-align: left;\n",
       "  }\n",
       "</style><div class='table-result-container'><table class='table-result'><thead style='background-color: white'><tr><th>correlacao_pontos_pib</th><th>correlacao_pontos_ano</th><th>correlacao_pib_ano</th></tr></thead><tbody><tr><td>0.8319031171832897</td><td>-0.03809479477996244</td><td>0.117219258343482</td></tr></tbody></table></div>"
      ]
     },
     "metadata": {
      "application/vnd.databricks.v1+output": {
       "addedWidgets": {},
       "aggData": [],
       "aggError": "",
       "aggOverflow": false,
       "aggSchema": [],
       "aggSeriesLimitReached": false,
       "aggType": "",
       "arguments": {},
       "columnCustomDisplayInfos": {},
       "data": [
        [
         0.8319031171832897,
         -0.03809479477996244,
         0.117219258343482
        ]
       ],
       "datasetInfos": [],
       "dbfsResultPath": null,
       "isJsonSchema": true,
       "metadata": {},
       "overflow": false,
       "plotOptions": {
        "customPlotOptions": {},
        "displayType": "table",
        "pivotAggregation": null,
        "pivotColumns": null,
        "xColumns": null,
        "yColumns": null
       },
       "removedWidgets": [],
       "schema": [
        {
         "metadata": "{}",
         "name": "correlacao_pontos_pib",
         "type": "\"double\""
        },
        {
         "metadata": "{}",
         "name": "correlacao_pontos_ano",
         "type": "\"double\""
        },
        {
         "metadata": "{}",
         "name": "correlacao_pib_ano",
         "type": "\"double\""
        }
       ],
       "type": "table"
      }
     },
     "output_type": "display_data"
    }
   ],
   "source": [
    "%sql\n",
    "WITH dados_combinados AS (\n",
    "  SELECT\n",
    "    p.ANO,\n",
    "    p.ESTADO,\n",
    "    p.PONTUACAO_TOTAL AS PONTOS,\n",
    "    b.VALOR_PIB\n",
    "  FROM GOLD.RANKING_ESTADOS p\n",
    "  JOIN GOLD.SIGLAS_ESTADO se ON p.ESTADO = se.SIGLA\n",
    "  JOIN GOLD.PIB b ON se.ESTADO = b.ESTADO AND p.ANO = b.ANO\n",
    ")\n",
    "\n",
    "SELECT\n",
    "  corr(PONTOS, VALOR_PIB) AS correlacao_pontos_pib,\n",
    "  corr(PONTOS, ANO) AS correlacao_pontos_ano,\n",
    "  corr(VALOR_PIB, ANO) AS correlacao_pib_ano\n",
    "FROM dados_combinados"
   ]
  },
  {
   "cell_type": "code",
   "execution_count": 0,
   "metadata": {
    "application/vnd.databricks.v1+cell": {
     "cellMetadata": {
      "byteLimit": 2048000,
      "rowLimit": 10000
     },
     "inputWidgets": {},
     "nuid": "2327ceda-a98a-4007-9d2e-dfa6bcf0a82f",
     "showTitle": false,
     "tableResultSettingsMap": {},
     "title": ""
    }
   },
   "outputs": [
    {
     "output_type": "display_data",
     "data": {
      "text/html": [
       "<html>\n",
       "<head><meta charset=\"utf-8\" /></head>\n",
       "<body>\n",
       "    <div>            <script src=\"https://cdnjs.cloudflare.com/ajax/libs/mathjax/2.7.5/MathJax.js?config=TeX-AMS-MML_SVG\"></script><script type=\"text/javascript\">if (window.MathJax) {MathJax.Hub.Config({SVG: {font: \"STIX-Web\"}});}</script>                <script type=\"text/javascript\">window.PlotlyConfig = {MathJaxConfig: 'local'};</script>\n",
       "        <script src=\"https://cdn.plot.ly/plotly-2.9.0.min.js\"></script>                <div id=\"1e7699c3-115a-446e-8943-9f83762276c6\" class=\"plotly-graph-div\" style=\"height:600px; width:100%;\"></div>            <script type=\"text/javascript\">                                    window.PLOTLYENV=window.PLOTLYENV || {};                                    if (document.getElementById(\"1e7699c3-115a-446e-8943-9f83762276c6\")) {                    Plotly.newPlot(                        \"1e7699c3-115a-446e-8943-9f83762276c6\",                        [{\"hovertemplate\":\"Estado=AL<br>Ano=%{x}<br>Pontua\\u00e7\\u00e3o Total=%{y}<extra></extra>\",\"legendgroup\":\"AL\",\"line\":{\"color\":\"#636efa\",\"dash\":\"solid\"},\"marker\":{\"symbol\":\"circle\"},\"mode\":\"lines\",\"name\":\"AL\",\"orientation\":\"v\",\"showlegend\":true,\"x\":[2012,2013,2015,2016,2017,2018,2019,2020,2021,2022,2023,2024],\"xaxis\":\"x\",\"y\":[12.0,1.0,10.0,14.0,6.0,28.0,32.0,27.0,30.0,14.0,12.0,5.0],\"yaxis\":\"y\",\"type\":\"scatter\"},{\"hovertemplate\":\"Estado=BA<br>Ano=%{x}<br>Pontua\\u00e7\\u00e3o Total=%{y}<extra></extra>\",\"legendgroup\":\"BA\",\"line\":{\"color\":\"#EF553B\",\"dash\":\"solid\"},\"marker\":{\"symbol\":\"circle\"},\"mode\":\"lines\",\"name\":\"BA\",\"orientation\":\"v\",\"showlegend\":true,\"x\":[2012,2013,2014,2015,2016,2017,2018,2019,2020,2021,2022,2023,2024],\"xaxis\":\"x\",\"y\":[53.0,150.0,42.0,30.0,47.0,84.0,72.0,69.0,49.0,21.0,18.0,50.0,138.0],\"yaxis\":\"y\",\"type\":\"scatter\"},{\"hovertemplate\":\"Estado=CE<br>Ano=%{x}<br>Pontua\\u00e7\\u00e3o Total=%{y}<extra></extra>\",\"legendgroup\":\"CE\",\"line\":{\"color\":\"#00cc96\",\"dash\":\"solid\"},\"marker\":{\"symbol\":\"circle\"},\"mode\":\"lines\",\"name\":\"CE\",\"orientation\":\"v\",\"showlegend\":true,\"x\":[2012,2013,2014,2015,2016,2017,2018,2019,2020,2021,2022,2023,2024],\"xaxis\":\"x\",\"y\":[10.0,30.0,16.0,6.0,11.0,18.0,56.0,102.0,90.0,162.0,102.0,76.0,119.0],\"yaxis\":\"y\",\"type\":\"scatter\"},{\"hovertemplate\":\"Estado=GO<br>Ano=%{x}<br>Pontua\\u00e7\\u00e3o Total=%{y}<extra></extra>\",\"legendgroup\":\"GO\",\"line\":{\"color\":\"#ab63fa\",\"dash\":\"solid\"},\"marker\":{\"symbol\":\"circle\"},\"mode\":\"lines\",\"name\":\"GO\",\"orientation\":\"v\",\"showlegend\":true,\"x\":[2012,2013,2014,2015,2016,2017,2018,2019,2020,2021,2022,2023,2024],\"xaxis\":\"x\",\"y\":[32.0,95.0,70.0,19.0,37.0,27.0,46.0,84.0,66.0,103.0,74.0,48.0,39.0],\"yaxis\":\"y\",\"type\":\"scatter\"},{\"hovertemplate\":\"Estado=MG<br>Ano=%{x}<br>Pontua\\u00e7\\u00e3o Total=%{y}<extra></extra>\",\"legendgroup\":\"MG\",\"line\":{\"color\":\"#FFA15A\",\"dash\":\"solid\"},\"marker\":{\"symbol\":\"circle\"},\"mode\":\"lines\",\"name\":\"MG\",\"orientation\":\"v\",\"showlegend\":true,\"x\":[2012,2013,2014,2015,2016,2017,2018,2019,2020,2021,2022,2023,2024],\"xaxis\":\"x\",\"y\":[207.0,220.0,247.0,211.0,165.0,199.0,187.0,88.0,137.0,205.0,176.0,159.0,139.0],\"yaxis\":\"y\",\"type\":\"scatter\"},{\"hovertemplate\":\"Estado=PE<br>Ano=%{x}<br>Pontua\\u00e7\\u00e3o Total=%{y}<extra></extra>\",\"legendgroup\":\"PE\",\"line\":{\"color\":\"#19d3f3\",\"dash\":\"solid\"},\"marker\":{\"symbol\":\"circle\"},\"mode\":\"lines\",\"name\":\"PE\",\"orientation\":\"v\",\"showlegend\":true,\"x\":[2012,2013,2014,2015,2016,2017,2018,2019,2020,2021,2022,2023,2024],\"xaxis\":\"x\",\"y\":[78.0,24.0,80.0,125.0,70.0,40.0,24.0,19.0,41.0,25.0,15.0,14.0,18.0],\"yaxis\":\"y\",\"type\":\"scatter\"},{\"hovertemplate\":\"Estado=PR<br>Ano=%{x}<br>Pontua\\u00e7\\u00e3o Total=%{y}<extra></extra>\",\"legendgroup\":\"PR\",\"line\":{\"color\":\"#FF6692\",\"dash\":\"solid\"},\"marker\":{\"symbol\":\"circle\"},\"mode\":\"lines\",\"name\":\"PR\",\"orientation\":\"v\",\"showlegend\":true,\"x\":[2012,2013,2014,2015,2016,2017,2018,2019,2020,2021,2022,2023,2024],\"xaxis\":\"x\",\"y\":[77.0,181.0,130.0,110.0,147.0,117.0,114.0,144.0,100.0,74.0,140.0,92.0,47.0],\"yaxis\":\"y\",\"type\":\"scatter\"},{\"hovertemplate\":\"Estado=RJ<br>Ano=%{x}<br>Pontua\\u00e7\\u00e3o Total=%{y}<extra></extra>\",\"legendgroup\":\"RJ\",\"line\":{\"color\":\"#B6E880\",\"dash\":\"solid\"},\"marker\":{\"symbol\":\"circle\"},\"mode\":\"lines\",\"name\":\"RJ\",\"orientation\":\"v\",\"showlegend\":true,\"x\":[2012,2013,2014,2015,2016,2017,2018,2019,2020,2021,2022,2023,2024],\"xaxis\":\"x\",\"y\":[360.0,186.0,186.0,144.0,270.0,282.0,270.0,252.0,246.0,229.0,281.0,318.0,349.0],\"yaxis\":\"y\",\"type\":\"scatter\"},{\"hovertemplate\":\"Estado=RN<br>Ano=%{x}<br>Pontua\\u00e7\\u00e3o Total=%{y}<extra></extra>\",\"legendgroup\":\"RN\",\"line\":{\"color\":\"#FF97FF\",\"dash\":\"solid\"},\"marker\":{\"symbol\":\"circle\"},\"mode\":\"lines\",\"name\":\"RN\",\"orientation\":\"v\",\"showlegend\":true,\"x\":[2012,2013,2014,2015,2017,2023],\"xaxis\":\"x\",\"y\":[21.0,15.0,11.0,3.0,2.0,1.0],\"yaxis\":\"y\",\"type\":\"scatter\"},{\"hovertemplate\":\"Estado=RS<br>Ano=%{x}<br>Pontua\\u00e7\\u00e3o Total=%{y}<extra></extra>\",\"legendgroup\":\"RS\",\"line\":{\"color\":\"#FECB52\",\"dash\":\"solid\"},\"marker\":{\"symbol\":\"circle\"},\"mode\":\"lines\",\"name\":\"RS\",\"orientation\":\"v\",\"showlegend\":true,\"x\":[2012,2013,2014,2015,2016,2017,2018,2019,2020,2021,2022,2023,2024],\"xaxis\":\"x\",\"y\":[174.0,162.0,192.0,204.0,112.0,146.0,222.0,193.0,231.0,109.0,139.0,205.0,174.0],\"yaxis\":\"y\",\"type\":\"scatter\"},{\"hovertemplate\":\"Estado=SC<br>Ano=%{x}<br>Pontua\\u00e7\\u00e3o Total=%{y}<extra></extra>\",\"legendgroup\":\"SC\",\"line\":{\"color\":\"#636efa\",\"dash\":\"solid\"},\"marker\":{\"symbol\":\"circle\"},\"mode\":\"lines\",\"name\":\"SC\",\"orientation\":\"v\",\"showlegend\":true,\"x\":[2012,2013,2014,2015,2016,2017,2018,2019,2020,2021,2022,2023,2024],\"xaxis\":\"x\",\"y\":[54.0,104.0,127.0,111.0,114.0,113.0,73.0,25.0,36.0,31.0,35.0,31.0,37.0],\"yaxis\":\"y\",\"type\":\"scatter\"},{\"hovertemplate\":\"Estado=SP<br>Ano=%{x}<br>Pontua\\u00e7\\u00e3o Total=%{y}<extra></extra>\",\"legendgroup\":\"SP\",\"line\":{\"color\":\"#EF553B\",\"dash\":\"solid\"},\"marker\":{\"symbol\":\"circle\"},\"mode\":\"lines\",\"name\":\"SP\",\"orientation\":\"v\",\"showlegend\":true,\"x\":[2012,2013,2014,2015,2016,2017,2018,2019,2020,2021,2022,2023,2024],\"xaxis\":\"x\",\"y\":[392.0,299.0,349.0,459.0,463.0,422.0,371.0,449.0,409.0,433.0,430.0,406.0,381.0],\"yaxis\":\"y\",\"type\":\"scatter\"},{\"hovertemplate\":\"Estado=PA<br>Ano=%{x}<br>Pontua\\u00e7\\u00e3o Total=%{y}<extra></extra>\",\"legendgroup\":\"PA\",\"line\":{\"color\":\"#00cc96\",\"dash\":\"solid\"},\"marker\":{\"symbol\":\"circle\"},\"mode\":\"lines\",\"name\":\"PA\",\"orientation\":\"v\",\"showlegend\":true,\"x\":[2013,2015,2016,2017,2018,2021,2024],\"xaxis\":\"x\",\"y\":[3.0,14.0,7.0,10.0,4.0,4.0,8.0],\"yaxis\":\"y\",\"type\":\"scatter\"},{\"hovertemplate\":\"Estado=MA<br>Ano=%{x}<br>Pontua\\u00e7\\u00e3o Total=%{y}<extra></extra>\",\"legendgroup\":\"MA\",\"line\":{\"color\":\"#ab63fa\",\"dash\":\"solid\"},\"marker\":{\"symbol\":\"circle\"},\"mode\":\"lines\",\"name\":\"MA\",\"orientation\":\"v\",\"showlegend\":true,\"x\":[2014,2015,2016,2018,2020,2021,2022,2023],\"xaxis\":\"x\",\"y\":[11.0,13.0,1.0,3.0,15.0,6.0,16.0,4.0],\"yaxis\":\"y\",\"type\":\"scatter\"},{\"hovertemplate\":\"Estado=MT<br>Ano=%{x}<br>Pontua\\u00e7\\u00e3o Total=%{y}<extra></extra>\",\"legendgroup\":\"MT\",\"line\":{\"color\":\"#FFA15A\",\"dash\":\"solid\"},\"marker\":{\"symbol\":\"circle\"},\"mode\":\"lines\",\"name\":\"MT\",\"orientation\":\"v\",\"showlegend\":true,\"x\":[2014,2015,2016,2017,2019,2020,2021,2022,2023,2024],\"xaxis\":\"x\",\"y\":[9.0,11.0,12.0,4.0,13.0,17.0,36.0,30.0,54.0,6.0],\"yaxis\":\"y\",\"type\":\"scatter\"},{\"hovertemplate\":\"Estado=SE<br>Ano=%{x}<br>Pontua\\u00e7\\u00e3o Total=%{y}<extra></extra>\",\"legendgroup\":\"SE\",\"line\":{\"color\":\"#19d3f3\",\"dash\":\"solid\"},\"marker\":{\"symbol\":\"circle\"},\"mode\":\"lines\",\"name\":\"SE\",\"orientation\":\"v\",\"showlegend\":true,\"x\":[2020,2021],\"xaxis\":\"x\",\"y\":[6.0,2.0],\"yaxis\":\"y\",\"type\":\"scatter\"},{\"hovertemplate\":\"Estado=AM<br>Ano=%{x}<br>Pontua\\u00e7\\u00e3o Total=%{y}<extra></extra>\",\"legendgroup\":\"AM\",\"line\":{\"color\":\"#FF6692\",\"dash\":\"solid\"},\"marker\":{\"symbol\":\"circle\"},\"mode\":\"lines\",\"name\":\"AM\",\"orientation\":\"v\",\"showlegend\":true,\"x\":[2024],\"xaxis\":\"x\",\"y\":[10.0],\"yaxis\":\"y\",\"type\":\"scatter\"}],                        {\"template\":{\"data\":{\"barpolar\":[{\"marker\":{\"line\":{\"color\":\"white\",\"width\":0.5},\"pattern\":{\"fillmode\":\"overlay\",\"size\":10,\"solidity\":0.2}},\"type\":\"barpolar\"}],\"bar\":[{\"error_x\":{\"color\":\"#2a3f5f\"},\"error_y\":{\"color\":\"#2a3f5f\"},\"marker\":{\"line\":{\"color\":\"white\",\"width\":0.5},\"pattern\":{\"fillmode\":\"overlay\",\"size\":10,\"solidity\":0.2}},\"type\":\"bar\"}],\"carpet\":[{\"aaxis\":{\"endlinecolor\":\"#2a3f5f\",\"gridcolor\":\"#C8D4E3\",\"linecolor\":\"#C8D4E3\",\"minorgridcolor\":\"#C8D4E3\",\"startlinecolor\":\"#2a3f5f\"},\"baxis\":{\"endlinecolor\":\"#2a3f5f\",\"gridcolor\":\"#C8D4E3\",\"linecolor\":\"#C8D4E3\",\"minorgridcolor\":\"#C8D4E3\",\"startlinecolor\":\"#2a3f5f\"},\"type\":\"carpet\"}],\"choropleth\":[{\"colorbar\":{\"outlinewidth\":0,\"ticks\":\"\"},\"type\":\"choropleth\"}],\"contourcarpet\":[{\"colorbar\":{\"outlinewidth\":0,\"ticks\":\"\"},\"type\":\"contourcarpet\"}],\"contour\":[{\"colorbar\":{\"outlinewidth\":0,\"ticks\":\"\"},\"colorscale\":[[0.0,\"#0d0887\"],[0.1111111111111111,\"#46039f\"],[0.2222222222222222,\"#7201a8\"],[0.3333333333333333,\"#9c179e\"],[0.4444444444444444,\"#bd3786\"],[0.5555555555555556,\"#d8576b\"],[0.6666666666666666,\"#ed7953\"],[0.7777777777777778,\"#fb9f3a\"],[0.8888888888888888,\"#fdca26\"],[1.0,\"#f0f921\"]],\"type\":\"contour\"}],\"heatmapgl\":[{\"colorbar\":{\"outlinewidth\":0,\"ticks\":\"\"},\"colorscale\":[[0.0,\"#0d0887\"],[0.1111111111111111,\"#46039f\"],[0.2222222222222222,\"#7201a8\"],[0.3333333333333333,\"#9c179e\"],[0.4444444444444444,\"#bd3786\"],[0.5555555555555556,\"#d8576b\"],[0.6666666666666666,\"#ed7953\"],[0.7777777777777778,\"#fb9f3a\"],[0.8888888888888888,\"#fdca26\"],[1.0,\"#f0f921\"]],\"type\":\"heatmapgl\"}],\"heatmap\":[{\"colorbar\":{\"outlinewidth\":0,\"ticks\":\"\"},\"colorscale\":[[0.0,\"#0d0887\"],[0.1111111111111111,\"#46039f\"],[0.2222222222222222,\"#7201a8\"],[0.3333333333333333,\"#9c179e\"],[0.4444444444444444,\"#bd3786\"],[0.5555555555555556,\"#d8576b\"],[0.6666666666666666,\"#ed7953\"],[0.7777777777777778,\"#fb9f3a\"],[0.8888888888888888,\"#fdca26\"],[1.0,\"#f0f921\"]],\"type\":\"heatmap\"}],\"histogram2dcontour\":[{\"colorbar\":{\"outlinewidth\":0,\"ticks\":\"\"},\"colorscale\":[[0.0,\"#0d0887\"],[0.1111111111111111,\"#46039f\"],[0.2222222222222222,\"#7201a8\"],[0.3333333333333333,\"#9c179e\"],[0.4444444444444444,\"#bd3786\"],[0.5555555555555556,\"#d8576b\"],[0.6666666666666666,\"#ed7953\"],[0.7777777777777778,\"#fb9f3a\"],[0.8888888888888888,\"#fdca26\"],[1.0,\"#f0f921\"]],\"type\":\"histogram2dcontour\"}],\"histogram2d\":[{\"colorbar\":{\"outlinewidth\":0,\"ticks\":\"\"},\"colorscale\":[[0.0,\"#0d0887\"],[0.1111111111111111,\"#46039f\"],[0.2222222222222222,\"#7201a8\"],[0.3333333333333333,\"#9c179e\"],[0.4444444444444444,\"#bd3786\"],[0.5555555555555556,\"#d8576b\"],[0.6666666666666666,\"#ed7953\"],[0.7777777777777778,\"#fb9f3a\"],[0.8888888888888888,\"#fdca26\"],[1.0,\"#f0f921\"]],\"type\":\"histogram2d\"}],\"histogram\":[{\"marker\":{\"pattern\":{\"fillmode\":\"overlay\",\"size\":10,\"solidity\":0.2}},\"type\":\"histogram\"}],\"mesh3d\":[{\"colorbar\":{\"outlinewidth\":0,\"ticks\":\"\"},\"type\":\"mesh3d\"}],\"parcoords\":[{\"line\":{\"colorbar\":{\"outlinewidth\":0,\"ticks\":\"\"}},\"type\":\"parcoords\"}],\"pie\":[{\"automargin\":true,\"type\":\"pie\"}],\"scatter3d\":[{\"line\":{\"colorbar\":{\"outlinewidth\":0,\"ticks\":\"\"}},\"marker\":{\"colorbar\":{\"outlinewidth\":0,\"ticks\":\"\"}},\"type\":\"scatter3d\"}],\"scattercarpet\":[{\"marker\":{\"colorbar\":{\"outlinewidth\":0,\"ticks\":\"\"}},\"type\":\"scattercarpet\"}],\"scattergeo\":[{\"marker\":{\"colorbar\":{\"outlinewidth\":0,\"ticks\":\"\"}},\"type\":\"scattergeo\"}],\"scattergl\":[{\"marker\":{\"colorbar\":{\"outlinewidth\":0,\"ticks\":\"\"}},\"type\":\"scattergl\"}],\"scattermapbox\":[{\"marker\":{\"colorbar\":{\"outlinewidth\":0,\"ticks\":\"\"}},\"type\":\"scattermapbox\"}],\"scatterpolargl\":[{\"marker\":{\"colorbar\":{\"outlinewidth\":0,\"ticks\":\"\"}},\"type\":\"scatterpolargl\"}],\"scatterpolar\":[{\"marker\":{\"colorbar\":{\"outlinewidth\":0,\"ticks\":\"\"}},\"type\":\"scatterpolar\"}],\"scatter\":[{\"marker\":{\"colorbar\":{\"outlinewidth\":0,\"ticks\":\"\"}},\"type\":\"scatter\"}],\"scatterternary\":[{\"marker\":{\"colorbar\":{\"outlinewidth\":0,\"ticks\":\"\"}},\"type\":\"scatterternary\"}],\"surface\":[{\"colorbar\":{\"outlinewidth\":0,\"ticks\":\"\"},\"colorscale\":[[0.0,\"#0d0887\"],[0.1111111111111111,\"#46039f\"],[0.2222222222222222,\"#7201a8\"],[0.3333333333333333,\"#9c179e\"],[0.4444444444444444,\"#bd3786\"],[0.5555555555555556,\"#d8576b\"],[0.6666666666666666,\"#ed7953\"],[0.7777777777777778,\"#fb9f3a\"],[0.8888888888888888,\"#fdca26\"],[1.0,\"#f0f921\"]],\"type\":\"surface\"}],\"table\":[{\"cells\":{\"fill\":{\"color\":\"#EBF0F8\"},\"line\":{\"color\":\"white\"}},\"header\":{\"fill\":{\"color\":\"#C8D4E3\"},\"line\":{\"color\":\"white\"}},\"type\":\"table\"}]},\"layout\":{\"annotationdefaults\":{\"arrowcolor\":\"#2a3f5f\",\"arrowhead\":0,\"arrowwidth\":1},\"autotypenumbers\":\"strict\",\"coloraxis\":{\"colorbar\":{\"outlinewidth\":0,\"ticks\":\"\"}},\"colorscale\":{\"diverging\":[[0,\"#8e0152\"],[0.1,\"#c51b7d\"],[0.2,\"#de77ae\"],[0.3,\"#f1b6da\"],[0.4,\"#fde0ef\"],[0.5,\"#f7f7f7\"],[0.6,\"#e6f5d0\"],[0.7,\"#b8e186\"],[0.8,\"#7fbc41\"],[0.9,\"#4d9221\"],[1,\"#276419\"]],\"sequential\":[[0.0,\"#0d0887\"],[0.1111111111111111,\"#46039f\"],[0.2222222222222222,\"#7201a8\"],[0.3333333333333333,\"#9c179e\"],[0.4444444444444444,\"#bd3786\"],[0.5555555555555556,\"#d8576b\"],[0.6666666666666666,\"#ed7953\"],[0.7777777777777778,\"#fb9f3a\"],[0.8888888888888888,\"#fdca26\"],[1.0,\"#f0f921\"]],\"sequentialminus\":[[0.0,\"#0d0887\"],[0.1111111111111111,\"#46039f\"],[0.2222222222222222,\"#7201a8\"],[0.3333333333333333,\"#9c179e\"],[0.4444444444444444,\"#bd3786\"],[0.5555555555555556,\"#d8576b\"],[0.6666666666666666,\"#ed7953\"],[0.7777777777777778,\"#fb9f3a\"],[0.8888888888888888,\"#fdca26\"],[1.0,\"#f0f921\"]]},\"colorway\":[\"#636efa\",\"#EF553B\",\"#00cc96\",\"#ab63fa\",\"#FFA15A\",\"#19d3f3\",\"#FF6692\",\"#B6E880\",\"#FF97FF\",\"#FECB52\"],\"font\":{\"color\":\"#2a3f5f\"},\"geo\":{\"bgcolor\":\"white\",\"lakecolor\":\"white\",\"landcolor\":\"white\",\"showlakes\":true,\"showland\":true,\"subunitcolor\":\"#C8D4E3\"},\"hoverlabel\":{\"align\":\"left\"},\"hovermode\":\"closest\",\"mapbox\":{\"style\":\"light\"},\"paper_bgcolor\":\"white\",\"plot_bgcolor\":\"white\",\"polar\":{\"angularaxis\":{\"gridcolor\":\"#EBF0F8\",\"linecolor\":\"#EBF0F8\",\"ticks\":\"\"},\"bgcolor\":\"white\",\"radialaxis\":{\"gridcolor\":\"#EBF0F8\",\"linecolor\":\"#EBF0F8\",\"ticks\":\"\"}},\"scene\":{\"xaxis\":{\"backgroundcolor\":\"white\",\"gridcolor\":\"#DFE8F3\",\"gridwidth\":2,\"linecolor\":\"#EBF0F8\",\"showbackground\":true,\"ticks\":\"\",\"zerolinecolor\":\"#EBF0F8\"},\"yaxis\":{\"backgroundcolor\":\"white\",\"gridcolor\":\"#DFE8F3\",\"gridwidth\":2,\"linecolor\":\"#EBF0F8\",\"showbackground\":true,\"ticks\":\"\",\"zerolinecolor\":\"#EBF0F8\"},\"zaxis\":{\"backgroundcolor\":\"white\",\"gridcolor\":\"#DFE8F3\",\"gridwidth\":2,\"linecolor\":\"#EBF0F8\",\"showbackground\":true,\"ticks\":\"\",\"zerolinecolor\":\"#EBF0F8\"}},\"shapedefaults\":{\"line\":{\"color\":\"#2a3f5f\"}},\"ternary\":{\"aaxis\":{\"gridcolor\":\"#DFE8F3\",\"linecolor\":\"#A2B1C6\",\"ticks\":\"\"},\"baxis\":{\"gridcolor\":\"#DFE8F3\",\"linecolor\":\"#A2B1C6\",\"ticks\":\"\"},\"bgcolor\":\"white\",\"caxis\":{\"gridcolor\":\"#DFE8F3\",\"linecolor\":\"#A2B1C6\",\"ticks\":\"\"}},\"title\":{\"x\":0.05},\"xaxis\":{\"automargin\":true,\"gridcolor\":\"#EBF0F8\",\"linecolor\":\"#EBF0F8\",\"ticks\":\"\",\"title\":{\"standoff\":15},\"zerolinecolor\":\"#EBF0F8\",\"zerolinewidth\":2},\"yaxis\":{\"automargin\":true,\"gridcolor\":\"#EBF0F8\",\"linecolor\":\"#EBF0F8\",\"ticks\":\"\",\"title\":{\"standoff\":15},\"zerolinecolor\":\"#EBF0F8\",\"zerolinewidth\":2}}},\"xaxis\":{\"anchor\":\"y\",\"domain\":[0.0,1.0],\"title\":{\"text\":\"Ano\"}},\"yaxis\":{\"anchor\":\"x\",\"domain\":[0.0,1.0],\"title\":{\"text\":\"Pontua\\u00e7\\u00e3o Total\"}},\"legend\":{\"title\":{\"text\":\"Estado\"},\"tracegroupgap\":0},\"title\":{\"text\":\"Evolu\\u00e7\\u00e3o da Pontua\\u00e7\\u00e3o Esportiva por Estado\"},\"height\":600},                        {\"responsive\": true}                    )                };                            </script>        </div>\n",
       "</body>\n",
       "</html>"
      ]
     },
     "metadata": {
      "application/vnd.databricks.v1+output": {
       "addedWidgets": {},
       "arguments": {},
       "data": "<html>\n<head><meta charset=\"utf-8\" /></head>\n<body>\n    <div>            <script src=\"https://cdnjs.cloudflare.com/ajax/libs/mathjax/2.7.5/MathJax.js?config=TeX-AMS-MML_SVG\"></script><script type=\"text/javascript\">if (window.MathJax) {MathJax.Hub.Config({SVG: {font: \"STIX-Web\"}});}</script>                <script type=\"text/javascript\">window.PlotlyConfig = {MathJaxConfig: 'local'};</script>\n        <script src=\"https://cdn.plot.ly/plotly-2.9.0.min.js\"></script>                <div id=\"1e7699c3-115a-446e-8943-9f83762276c6\" class=\"plotly-graph-div\" style=\"height:600px; width:100%;\"></div>            <script type=\"text/javascript\">                                    window.PLOTLYENV=window.PLOTLYENV || {};                                    if (document.getElementById(\"1e7699c3-115a-446e-8943-9f83762276c6\")) {                    Plotly.newPlot(                        \"1e7699c3-115a-446e-8943-9f83762276c6\",                        [{\"hovertemplate\":\"Estado=AL<br>Ano=%{x}<br>Pontua\\u00e7\\u00e3o Total=%{y}<extra></extra>\",\"legendgroup\":\"AL\",\"line\":{\"color\":\"#636efa\",\"dash\":\"solid\"},\"marker\":{\"symbol\":\"circle\"},\"mode\":\"lines\",\"name\":\"AL\",\"orientation\":\"v\",\"showlegend\":true,\"x\":[2012,2013,2015,2016,2017,2018,2019,2020,2021,2022,2023,2024],\"xaxis\":\"x\",\"y\":[12.0,1.0,10.0,14.0,6.0,28.0,32.0,27.0,30.0,14.0,12.0,5.0],\"yaxis\":\"y\",\"type\":\"scatter\"},{\"hovertemplate\":\"Estado=BA<br>Ano=%{x}<br>Pontua\\u00e7\\u00e3o Total=%{y}<extra></extra>\",\"legendgroup\":\"BA\",\"line\":{\"color\":\"#EF553B\",\"dash\":\"solid\"},\"marker\":{\"symbol\":\"circle\"},\"mode\":\"lines\",\"name\":\"BA\",\"orientation\":\"v\",\"showlegend\":true,\"x\":[2012,2013,2014,2015,2016,2017,2018,2019,2020,2021,2022,2023,2024],\"xaxis\":\"x\",\"y\":[53.0,150.0,42.0,30.0,47.0,84.0,72.0,69.0,49.0,21.0,18.0,50.0,138.0],\"yaxis\":\"y\",\"type\":\"scatter\"},{\"hovertemplate\":\"Estado=CE<br>Ano=%{x}<br>Pontua\\u00e7\\u00e3o Total=%{y}<extra></extra>\",\"legendgroup\":\"CE\",\"line\":{\"color\":\"#00cc96\",\"dash\":\"solid\"},\"marker\":{\"symbol\":\"circle\"},\"mode\":\"lines\",\"name\":\"CE\",\"orientation\":\"v\",\"showlegend\":true,\"x\":[2012,2013,2014,2015,2016,2017,2018,2019,2020,2021,2022,2023,2024],\"xaxis\":\"x\",\"y\":[10.0,30.0,16.0,6.0,11.0,18.0,56.0,102.0,90.0,162.0,102.0,76.0,119.0],\"yaxis\":\"y\",\"type\":\"scatter\"},{\"hovertemplate\":\"Estado=GO<br>Ano=%{x}<br>Pontua\\u00e7\\u00e3o Total=%{y}<extra></extra>\",\"legendgroup\":\"GO\",\"line\":{\"color\":\"#ab63fa\",\"dash\":\"solid\"},\"marker\":{\"symbol\":\"circle\"},\"mode\":\"lines\",\"name\":\"GO\",\"orientation\":\"v\",\"showlegend\":true,\"x\":[2012,2013,2014,2015,2016,2017,2018,2019,2020,2021,2022,2023,2024],\"xaxis\":\"x\",\"y\":[32.0,95.0,70.0,19.0,37.0,27.0,46.0,84.0,66.0,103.0,74.0,48.0,39.0],\"yaxis\":\"y\",\"type\":\"scatter\"},{\"hovertemplate\":\"Estado=MG<br>Ano=%{x}<br>Pontua\\u00e7\\u00e3o Total=%{y}<extra></extra>\",\"legendgroup\":\"MG\",\"line\":{\"color\":\"#FFA15A\",\"dash\":\"solid\"},\"marker\":{\"symbol\":\"circle\"},\"mode\":\"lines\",\"name\":\"MG\",\"orientation\":\"v\",\"showlegend\":true,\"x\":[2012,2013,2014,2015,2016,2017,2018,2019,2020,2021,2022,2023,2024],\"xaxis\":\"x\",\"y\":[207.0,220.0,247.0,211.0,165.0,199.0,187.0,88.0,137.0,205.0,176.0,159.0,139.0],\"yaxis\":\"y\",\"type\":\"scatter\"},{\"hovertemplate\":\"Estado=PE<br>Ano=%{x}<br>Pontua\\u00e7\\u00e3o Total=%{y}<extra></extra>\",\"legendgroup\":\"PE\",\"line\":{\"color\":\"#19d3f3\",\"dash\":\"solid\"},\"marker\":{\"symbol\":\"circle\"},\"mode\":\"lines\",\"name\":\"PE\",\"orientation\":\"v\",\"showlegend\":true,\"x\":[2012,2013,2014,2015,2016,2017,2018,2019,2020,2021,2022,2023,2024],\"xaxis\":\"x\",\"y\":[78.0,24.0,80.0,125.0,70.0,40.0,24.0,19.0,41.0,25.0,15.0,14.0,18.0],\"yaxis\":\"y\",\"type\":\"scatter\"},{\"hovertemplate\":\"Estado=PR<br>Ano=%{x}<br>Pontua\\u00e7\\u00e3o Total=%{y}<extra></extra>\",\"legendgroup\":\"PR\",\"line\":{\"color\":\"#FF6692\",\"dash\":\"solid\"},\"marker\":{\"symbol\":\"circle\"},\"mode\":\"lines\",\"name\":\"PR\",\"orientation\":\"v\",\"showlegend\":true,\"x\":[2012,2013,2014,2015,2016,2017,2018,2019,2020,2021,2022,2023,2024],\"xaxis\":\"x\",\"y\":[77.0,181.0,130.0,110.0,147.0,117.0,114.0,144.0,100.0,74.0,140.0,92.0,47.0],\"yaxis\":\"y\",\"type\":\"scatter\"},{\"hovertemplate\":\"Estado=RJ<br>Ano=%{x}<br>Pontua\\u00e7\\u00e3o Total=%{y}<extra></extra>\",\"legendgroup\":\"RJ\",\"line\":{\"color\":\"#B6E880\",\"dash\":\"solid\"},\"marker\":{\"symbol\":\"circle\"},\"mode\":\"lines\",\"name\":\"RJ\",\"orientation\":\"v\",\"showlegend\":true,\"x\":[2012,2013,2014,2015,2016,2017,2018,2019,2020,2021,2022,2023,2024],\"xaxis\":\"x\",\"y\":[360.0,186.0,186.0,144.0,270.0,282.0,270.0,252.0,246.0,229.0,281.0,318.0,349.0],\"yaxis\":\"y\",\"type\":\"scatter\"},{\"hovertemplate\":\"Estado=RN<br>Ano=%{x}<br>Pontua\\u00e7\\u00e3o Total=%{y}<extra></extra>\",\"legendgroup\":\"RN\",\"line\":{\"color\":\"#FF97FF\",\"dash\":\"solid\"},\"marker\":{\"symbol\":\"circle\"},\"mode\":\"lines\",\"name\":\"RN\",\"orientation\":\"v\",\"showlegend\":true,\"x\":[2012,2013,2014,2015,2017,2023],\"xaxis\":\"x\",\"y\":[21.0,15.0,11.0,3.0,2.0,1.0],\"yaxis\":\"y\",\"type\":\"scatter\"},{\"hovertemplate\":\"Estado=RS<br>Ano=%{x}<br>Pontua\\u00e7\\u00e3o Total=%{y}<extra></extra>\",\"legendgroup\":\"RS\",\"line\":{\"color\":\"#FECB52\",\"dash\":\"solid\"},\"marker\":{\"symbol\":\"circle\"},\"mode\":\"lines\",\"name\":\"RS\",\"orientation\":\"v\",\"showlegend\":true,\"x\":[2012,2013,2014,2015,2016,2017,2018,2019,2020,2021,2022,2023,2024],\"xaxis\":\"x\",\"y\":[174.0,162.0,192.0,204.0,112.0,146.0,222.0,193.0,231.0,109.0,139.0,205.0,174.0],\"yaxis\":\"y\",\"type\":\"scatter\"},{\"hovertemplate\":\"Estado=SC<br>Ano=%{x}<br>Pontua\\u00e7\\u00e3o Total=%{y}<extra></extra>\",\"legendgroup\":\"SC\",\"line\":{\"color\":\"#636efa\",\"dash\":\"solid\"},\"marker\":{\"symbol\":\"circle\"},\"mode\":\"lines\",\"name\":\"SC\",\"orientation\":\"v\",\"showlegend\":true,\"x\":[2012,2013,2014,2015,2016,2017,2018,2019,2020,2021,2022,2023,2024],\"xaxis\":\"x\",\"y\":[54.0,104.0,127.0,111.0,114.0,113.0,73.0,25.0,36.0,31.0,35.0,31.0,37.0],\"yaxis\":\"y\",\"type\":\"scatter\"},{\"hovertemplate\":\"Estado=SP<br>Ano=%{x}<br>Pontua\\u00e7\\u00e3o Total=%{y}<extra></extra>\",\"legendgroup\":\"SP\",\"line\":{\"color\":\"#EF553B\",\"dash\":\"solid\"},\"marker\":{\"symbol\":\"circle\"},\"mode\":\"lines\",\"name\":\"SP\",\"orientation\":\"v\",\"showlegend\":true,\"x\":[2012,2013,2014,2015,2016,2017,2018,2019,2020,2021,2022,2023,2024],\"xaxis\":\"x\",\"y\":[392.0,299.0,349.0,459.0,463.0,422.0,371.0,449.0,409.0,433.0,430.0,406.0,381.0],\"yaxis\":\"y\",\"type\":\"scatter\"},{\"hovertemplate\":\"Estado=PA<br>Ano=%{x}<br>Pontua\\u00e7\\u00e3o Total=%{y}<extra></extra>\",\"legendgroup\":\"PA\",\"line\":{\"color\":\"#00cc96\",\"dash\":\"solid\"},\"marker\":{\"symbol\":\"circle\"},\"mode\":\"lines\",\"name\":\"PA\",\"orientation\":\"v\",\"showlegend\":true,\"x\":[2013,2015,2016,2017,2018,2021,2024],\"xaxis\":\"x\",\"y\":[3.0,14.0,7.0,10.0,4.0,4.0,8.0],\"yaxis\":\"y\",\"type\":\"scatter\"},{\"hovertemplate\":\"Estado=MA<br>Ano=%{x}<br>Pontua\\u00e7\\u00e3o Total=%{y}<extra></extra>\",\"legendgroup\":\"MA\",\"line\":{\"color\":\"#ab63fa\",\"dash\":\"solid\"},\"marker\":{\"symbol\":\"circle\"},\"mode\":\"lines\",\"name\":\"MA\",\"orientation\":\"v\",\"showlegend\":true,\"x\":[2014,2015,2016,2018,2020,2021,2022,2023],\"xaxis\":\"x\",\"y\":[11.0,13.0,1.0,3.0,15.0,6.0,16.0,4.0],\"yaxis\":\"y\",\"type\":\"scatter\"},{\"hovertemplate\":\"Estado=MT<br>Ano=%{x}<br>Pontua\\u00e7\\u00e3o Total=%{y}<extra></extra>\",\"legendgroup\":\"MT\",\"line\":{\"color\":\"#FFA15A\",\"dash\":\"solid\"},\"marker\":{\"symbol\":\"circle\"},\"mode\":\"lines\",\"name\":\"MT\",\"orientation\":\"v\",\"showlegend\":true,\"x\":[2014,2015,2016,2017,2019,2020,2021,2022,2023,2024],\"xaxis\":\"x\",\"y\":[9.0,11.0,12.0,4.0,13.0,17.0,36.0,30.0,54.0,6.0],\"yaxis\":\"y\",\"type\":\"scatter\"},{\"hovertemplate\":\"Estado=SE<br>Ano=%{x}<br>Pontua\\u00e7\\u00e3o Total=%{y}<extra></extra>\",\"legendgroup\":\"SE\",\"line\":{\"color\":\"#19d3f3\",\"dash\":\"solid\"},\"marker\":{\"symbol\":\"circle\"},\"mode\":\"lines\",\"name\":\"SE\",\"orientation\":\"v\",\"showlegend\":true,\"x\":[2020,2021],\"xaxis\":\"x\",\"y\":[6.0,2.0],\"yaxis\":\"y\",\"type\":\"scatter\"},{\"hovertemplate\":\"Estado=AM<br>Ano=%{x}<br>Pontua\\u00e7\\u00e3o Total=%{y}<extra></extra>\",\"legendgroup\":\"AM\",\"line\":{\"color\":\"#FF6692\",\"dash\":\"solid\"},\"marker\":{\"symbol\":\"circle\"},\"mode\":\"lines\",\"name\":\"AM\",\"orientation\":\"v\",\"showlegend\":true,\"x\":[2024],\"xaxis\":\"x\",\"y\":[10.0],\"yaxis\":\"y\",\"type\":\"scatter\"}],                        {\"template\":{\"data\":{\"barpolar\":[{\"marker\":{\"line\":{\"color\":\"white\",\"width\":0.5},\"pattern\":{\"fillmode\":\"overlay\",\"size\":10,\"solidity\":0.2}},\"type\":\"barpolar\"}],\"bar\":[{\"error_x\":{\"color\":\"#2a3f5f\"},\"error_y\":{\"color\":\"#2a3f5f\"},\"marker\":{\"line\":{\"color\":\"white\",\"width\":0.5},\"pattern\":{\"fillmode\":\"overlay\",\"size\":10,\"solidity\":0.2}},\"type\":\"bar\"}],\"carpet\":[{\"aaxis\":{\"endlinecolor\":\"#2a3f5f\",\"gridcolor\":\"#C8D4E3\",\"linecolor\":\"#C8D4E3\",\"minorgridcolor\":\"#C8D4E3\",\"startlinecolor\":\"#2a3f5f\"},\"baxis\":{\"endlinecolor\":\"#2a3f5f\",\"gridcolor\":\"#C8D4E3\",\"linecolor\":\"#C8D4E3\",\"minorgridcolor\":\"#C8D4E3\",\"startlinecolor\":\"#2a3f5f\"},\"type\":\"carpet\"}],\"choropleth\":[{\"colorbar\":{\"outlinewidth\":0,\"ticks\":\"\"},\"type\":\"choropleth\"}],\"contourcarpet\":[{\"colorbar\":{\"outlinewidth\":0,\"ticks\":\"\"},\"type\":\"contourcarpet\"}],\"contour\":[{\"colorbar\":{\"outlinewidth\":0,\"ticks\":\"\"},\"colorscale\":[[0.0,\"#0d0887\"],[0.1111111111111111,\"#46039f\"],[0.2222222222222222,\"#7201a8\"],[0.3333333333333333,\"#9c179e\"],[0.4444444444444444,\"#bd3786\"],[0.5555555555555556,\"#d8576b\"],[0.6666666666666666,\"#ed7953\"],[0.7777777777777778,\"#fb9f3a\"],[0.8888888888888888,\"#fdca26\"],[1.0,\"#f0f921\"]],\"type\":\"contour\"}],\"heatmapgl\":[{\"colorbar\":{\"outlinewidth\":0,\"ticks\":\"\"},\"colorscale\":[[0.0,\"#0d0887\"],[0.1111111111111111,\"#46039f\"],[0.2222222222222222,\"#7201a8\"],[0.3333333333333333,\"#9c179e\"],[0.4444444444444444,\"#bd3786\"],[0.5555555555555556,\"#d8576b\"],[0.6666666666666666,\"#ed7953\"],[0.7777777777777778,\"#fb9f3a\"],[0.8888888888888888,\"#fdca26\"],[1.0,\"#f0f921\"]],\"type\":\"heatmapgl\"}],\"heatmap\":[{\"colorbar\":{\"outlinewidth\":0,\"ticks\":\"\"},\"colorscale\":[[0.0,\"#0d0887\"],[0.1111111111111111,\"#46039f\"],[0.2222222222222222,\"#7201a8\"],[0.3333333333333333,\"#9c179e\"],[0.4444444444444444,\"#bd3786\"],[0.5555555555555556,\"#d8576b\"],[0.6666666666666666,\"#ed7953\"],[0.7777777777777778,\"#fb9f3a\"],[0.8888888888888888,\"#fdca26\"],[1.0,\"#f0f921\"]],\"type\":\"heatmap\"}],\"histogram2dcontour\":[{\"colorbar\":{\"outlinewidth\":0,\"ticks\":\"\"},\"colorscale\":[[0.0,\"#0d0887\"],[0.1111111111111111,\"#46039f\"],[0.2222222222222222,\"#7201a8\"],[0.3333333333333333,\"#9c179e\"],[0.4444444444444444,\"#bd3786\"],[0.5555555555555556,\"#d8576b\"],[0.6666666666666666,\"#ed7953\"],[0.7777777777777778,\"#fb9f3a\"],[0.8888888888888888,\"#fdca26\"],[1.0,\"#f0f921\"]],\"type\":\"histogram2dcontour\"}],\"histogram2d\":[{\"colorbar\":{\"outlinewidth\":0,\"ticks\":\"\"},\"colorscale\":[[0.0,\"#0d0887\"],[0.1111111111111111,\"#46039f\"],[0.2222222222222222,\"#7201a8\"],[0.3333333333333333,\"#9c179e\"],[0.4444444444444444,\"#bd3786\"],[0.5555555555555556,\"#d8576b\"],[0.6666666666666666,\"#ed7953\"],[0.7777777777777778,\"#fb9f3a\"],[0.8888888888888888,\"#fdca26\"],[1.0,\"#f0f921\"]],\"type\":\"histogram2d\"}],\"histogram\":[{\"marker\":{\"pattern\":{\"fillmode\":\"overlay\",\"size\":10,\"solidity\":0.2}},\"type\":\"histogram\"}],\"mesh3d\":[{\"colorbar\":{\"outlinewidth\":0,\"ticks\":\"\"},\"type\":\"mesh3d\"}],\"parcoords\":[{\"line\":{\"colorbar\":{\"outlinewidth\":0,\"ticks\":\"\"}},\"type\":\"parcoords\"}],\"pie\":[{\"automargin\":true,\"type\":\"pie\"}],\"scatter3d\":[{\"line\":{\"colorbar\":{\"outlinewidth\":0,\"ticks\":\"\"}},\"marker\":{\"colorbar\":{\"outlinewidth\":0,\"ticks\":\"\"}},\"type\":\"scatter3d\"}],\"scattercarpet\":[{\"marker\":{\"colorbar\":{\"outlinewidth\":0,\"ticks\":\"\"}},\"type\":\"scattercarpet\"}],\"scattergeo\":[{\"marker\":{\"colorbar\":{\"outlinewidth\":0,\"ticks\":\"\"}},\"type\":\"scattergeo\"}],\"scattergl\":[{\"marker\":{\"colorbar\":{\"outlinewidth\":0,\"ticks\":\"\"}},\"type\":\"scattergl\"}],\"scattermapbox\":[{\"marker\":{\"colorbar\":{\"outlinewidth\":0,\"ticks\":\"\"}},\"type\":\"scattermapbox\"}],\"scatterpolargl\":[{\"marker\":{\"colorbar\":{\"outlinewidth\":0,\"ticks\":\"\"}},\"type\":\"scatterpolargl\"}],\"scatterpolar\":[{\"marker\":{\"colorbar\":{\"outlinewidth\":0,\"ticks\":\"\"}},\"type\":\"scatterpolar\"}],\"scatter\":[{\"marker\":{\"colorbar\":{\"outlinewidth\":0,\"ticks\":\"\"}},\"type\":\"scatter\"}],\"scatterternary\":[{\"marker\":{\"colorbar\":{\"outlinewidth\":0,\"ticks\":\"\"}},\"type\":\"scatterternary\"}],\"surface\":[{\"colorbar\":{\"outlinewidth\":0,\"ticks\":\"\"},\"colorscale\":[[0.0,\"#0d0887\"],[0.1111111111111111,\"#46039f\"],[0.2222222222222222,\"#7201a8\"],[0.3333333333333333,\"#9c179e\"],[0.4444444444444444,\"#bd3786\"],[0.5555555555555556,\"#d8576b\"],[0.6666666666666666,\"#ed7953\"],[0.7777777777777778,\"#fb9f3a\"],[0.8888888888888888,\"#fdca26\"],[1.0,\"#f0f921\"]],\"type\":\"surface\"}],\"table\":[{\"cells\":{\"fill\":{\"color\":\"#EBF0F8\"},\"line\":{\"color\":\"white\"}},\"header\":{\"fill\":{\"color\":\"#C8D4E3\"},\"line\":{\"color\":\"white\"}},\"type\":\"table\"}]},\"layout\":{\"annotationdefaults\":{\"arrowcolor\":\"#2a3f5f\",\"arrowhead\":0,\"arrowwidth\":1},\"autotypenumbers\":\"strict\",\"coloraxis\":{\"colorbar\":{\"outlinewidth\":0,\"ticks\":\"\"}},\"colorscale\":{\"diverging\":[[0,\"#8e0152\"],[0.1,\"#c51b7d\"],[0.2,\"#de77ae\"],[0.3,\"#f1b6da\"],[0.4,\"#fde0ef\"],[0.5,\"#f7f7f7\"],[0.6,\"#e6f5d0\"],[0.7,\"#b8e186\"],[0.8,\"#7fbc41\"],[0.9,\"#4d9221\"],[1,\"#276419\"]],\"sequential\":[[0.0,\"#0d0887\"],[0.1111111111111111,\"#46039f\"],[0.2222222222222222,\"#7201a8\"],[0.3333333333333333,\"#9c179e\"],[0.4444444444444444,\"#bd3786\"],[0.5555555555555556,\"#d8576b\"],[0.6666666666666666,\"#ed7953\"],[0.7777777777777778,\"#fb9f3a\"],[0.8888888888888888,\"#fdca26\"],[1.0,\"#f0f921\"]],\"sequentialminus\":[[0.0,\"#0d0887\"],[0.1111111111111111,\"#46039f\"],[0.2222222222222222,\"#7201a8\"],[0.3333333333333333,\"#9c179e\"],[0.4444444444444444,\"#bd3786\"],[0.5555555555555556,\"#d8576b\"],[0.6666666666666666,\"#ed7953\"],[0.7777777777777778,\"#fb9f3a\"],[0.8888888888888888,\"#fdca26\"],[1.0,\"#f0f921\"]]},\"colorway\":[\"#636efa\",\"#EF553B\",\"#00cc96\",\"#ab63fa\",\"#FFA15A\",\"#19d3f3\",\"#FF6692\",\"#B6E880\",\"#FF97FF\",\"#FECB52\"],\"font\":{\"color\":\"#2a3f5f\"},\"geo\":{\"bgcolor\":\"white\",\"lakecolor\":\"white\",\"landcolor\":\"white\",\"showlakes\":true,\"showland\":true,\"subunitcolor\":\"#C8D4E3\"},\"hoverlabel\":{\"align\":\"left\"},\"hovermode\":\"closest\",\"mapbox\":{\"style\":\"light\"},\"paper_bgcolor\":\"white\",\"plot_bgcolor\":\"white\",\"polar\":{\"angularaxis\":{\"gridcolor\":\"#EBF0F8\",\"linecolor\":\"#EBF0F8\",\"ticks\":\"\"},\"bgcolor\":\"white\",\"radialaxis\":{\"gridcolor\":\"#EBF0F8\",\"linecolor\":\"#EBF0F8\",\"ticks\":\"\"}},\"scene\":{\"xaxis\":{\"backgroundcolor\":\"white\",\"gridcolor\":\"#DFE8F3\",\"gridwidth\":2,\"linecolor\":\"#EBF0F8\",\"showbackground\":true,\"ticks\":\"\",\"zerolinecolor\":\"#EBF0F8\"},\"yaxis\":{\"backgroundcolor\":\"white\",\"gridcolor\":\"#DFE8F3\",\"gridwidth\":2,\"linecolor\":\"#EBF0F8\",\"showbackground\":true,\"ticks\":\"\",\"zerolinecolor\":\"#EBF0F8\"},\"zaxis\":{\"backgroundcolor\":\"white\",\"gridcolor\":\"#DFE8F3\",\"gridwidth\":2,\"linecolor\":\"#EBF0F8\",\"showbackground\":true,\"ticks\":\"\",\"zerolinecolor\":\"#EBF0F8\"}},\"shapedefaults\":{\"line\":{\"color\":\"#2a3f5f\"}},\"ternary\":{\"aaxis\":{\"gridcolor\":\"#DFE8F3\",\"linecolor\":\"#A2B1C6\",\"ticks\":\"\"},\"baxis\":{\"gridcolor\":\"#DFE8F3\",\"linecolor\":\"#A2B1C6\",\"ticks\":\"\"},\"bgcolor\":\"white\",\"caxis\":{\"gridcolor\":\"#DFE8F3\",\"linecolor\":\"#A2B1C6\",\"ticks\":\"\"}},\"title\":{\"x\":0.05},\"xaxis\":{\"automargin\":true,\"gridcolor\":\"#EBF0F8\",\"linecolor\":\"#EBF0F8\",\"ticks\":\"\",\"title\":{\"standoff\":15},\"zerolinecolor\":\"#EBF0F8\",\"zerolinewidth\":2},\"yaxis\":{\"automargin\":true,\"gridcolor\":\"#EBF0F8\",\"linecolor\":\"#EBF0F8\",\"ticks\":\"\",\"title\":{\"standoff\":15},\"zerolinecolor\":\"#EBF0F8\",\"zerolinewidth\":2}}},\"xaxis\":{\"anchor\":\"y\",\"domain\":[0.0,1.0],\"title\":{\"text\":\"Ano\"}},\"yaxis\":{\"anchor\":\"x\",\"domain\":[0.0,1.0],\"title\":{\"text\":\"Pontua\\u00e7\\u00e3o Total\"}},\"legend\":{\"title\":{\"text\":\"Estado\"},\"tracegroupgap\":0},\"title\":{\"text\":\"Evolu\\u00e7\\u00e3o da Pontua\\u00e7\\u00e3o Esportiva por Estado\"},\"height\":600},                        {\"responsive\": true}                    )                };                            </script>        </div>\n</body>\n</html>",
       "datasetInfos": [],
       "metadata": {},
       "removedWidgets": [],
       "textData": null,
       "type": "htmlSandbox"
      }
     },
     "output_type": "display_data"
    }
   ],
   "source": [
    "from pyspark.sql import functions as F\n",
    "\n",
    "\n",
    "df = (spark.table(\"GOLD.PONTUACAO_ESTADOS\")\n",
    "      .select(\"ANO\", \"ESTADO\", \"PONTUACAO_TOTAL\")\n",
    "      .orderBy(\"ANO\", \"ESTADO\")\n",
    ")\n",
    "\n",
    "\n",
    "df_pandas = df.toPandas()\n",
    "\n",
    "import plotly.express as px\n",
    "\n",
    "fig = px.line(\n",
    "    df_pandas,\n",
    "    x=\"ANO\",\n",
    "    y=\"PONTUACAO_TOTAL\",\n",
    "    color=\"ESTADO\",\n",
    "    title=\"Evolução da Pontuação Esportiva por Estado\",\n",
    "    labels={\n",
    "        \"PONTUACAO_TOTAL\": \"Pontuação Total\", \n",
    "        \"ANO\": \"Ano\",\n",
    "        \"ESTADO\": \"Estado\"\n",
    "    },\n",
    "    template=\"plotly_white\",\n",
    "    height=600\n",
    ")\n",
    "\n",
    "\n",
    "\n",
    "fig.show()"
   ]
  },
  {
   "cell_type": "code",
   "execution_count": 0,
   "metadata": {
    "application/vnd.databricks.v1+cell": {
     "cellMetadata": {
      "byteLimit": 2048000,
      "rowLimit": 10000
     },
     "inputWidgets": {},
     "nuid": "7d97a4c3-6874-41b2-bacf-1a2359fc4682",
     "showTitle": false,
     "tableResultSettingsMap": {},
     "title": ""
    }
   },
   "outputs": [
    {
     "output_type": "display_data",
     "data": {
      "text/html": [
       "<html>\n",
       "<head><meta charset=\"utf-8\" /></head>\n",
       "<body>\n",
       "    <div>            <script src=\"https://cdnjs.cloudflare.com/ajax/libs/mathjax/2.7.5/MathJax.js?config=TeX-AMS-MML_SVG\"></script><script type=\"text/javascript\">if (window.MathJax) {MathJax.Hub.Config({SVG: {font: \"STIX-Web\"}});}</script>                <script type=\"text/javascript\">window.PlotlyConfig = {MathJaxConfig: 'local'};</script>\n",
       "        <script src=\"https://cdn.plot.ly/plotly-2.9.0.min.js\"></script>                <div id=\"066f78f0-3110-4575-9f65-5939d038f709\" class=\"plotly-graph-div\" style=\"height:600px; width:100%;\"></div>            <script type=\"text/javascript\">                                    window.PLOTLYENV=window.PLOTLYENV || {};                                    if (document.getElementById(\"066f78f0-3110-4575-9f65-5939d038f709\")) {                    Plotly.newPlot(                        \"066f78f0-3110-4575-9f65-5939d038f709\",                        [{\"alignmentgroup\":\"True\",\"hovertemplate\":\"Estado=%{x}<br>Pontua\\u00e7\\u00e3o Total=%{y}<extra></extra>\",\"legendgroup\":\"SP\",\"marker\":{\"color\":\"#636EFA\",\"pattern\":{\"shape\":\"\"},\"line\":{\"color\":\"rgb(8,48,107)\",\"width\":1.5}},\"name\":\"SP\",\"offsetgroup\":\"SP\",\"orientation\":\"v\",\"showlegend\":true,\"textposition\":\"outside\",\"x\":[\"SP\"],\"xaxis\":\"x\",\"y\":[5263.0],\"yaxis\":\"y\",\"type\":\"bar\",\"opacity\":0.8,\"texttemplate\":\"%{y:,.0f} pontos\"},{\"alignmentgroup\":\"True\",\"hovertemplate\":\"Estado=%{x}<br>Pontua\\u00e7\\u00e3o Total=%{y}<extra></extra>\",\"legendgroup\":\"RJ\",\"marker\":{\"color\":\"#EF553B\",\"pattern\":{\"shape\":\"\"},\"line\":{\"color\":\"rgb(8,48,107)\",\"width\":1.5}},\"name\":\"RJ\",\"offsetgroup\":\"RJ\",\"orientation\":\"v\",\"showlegend\":true,\"textposition\":\"outside\",\"x\":[\"RJ\"],\"xaxis\":\"x\",\"y\":[3373.0],\"yaxis\":\"y\",\"type\":\"bar\",\"opacity\":0.8,\"texttemplate\":\"%{y:,.0f} pontos\"},{\"alignmentgroup\":\"True\",\"hovertemplate\":\"Estado=%{x}<br>Pontua\\u00e7\\u00e3o Total=%{y}<extra></extra>\",\"legendgroup\":\"MG\",\"marker\":{\"color\":\"#00CC96\",\"pattern\":{\"shape\":\"\"},\"line\":{\"color\":\"rgb(8,48,107)\",\"width\":1.5}},\"name\":\"MG\",\"offsetgroup\":\"MG\",\"orientation\":\"v\",\"showlegend\":true,\"textposition\":\"outside\",\"x\":[\"MG\"],\"xaxis\":\"x\",\"y\":[2340.0],\"yaxis\":\"y\",\"type\":\"bar\",\"opacity\":0.8,\"texttemplate\":\"%{y:,.0f} pontos\"},{\"alignmentgroup\":\"True\",\"hovertemplate\":\"Estado=%{x}<br>Pontua\\u00e7\\u00e3o Total=%{y}<extra></extra>\",\"legendgroup\":\"RS\",\"marker\":{\"color\":\"#AB63FA\",\"pattern\":{\"shape\":\"\"},\"line\":{\"color\":\"rgb(8,48,107)\",\"width\":1.5}},\"name\":\"RS\",\"offsetgroup\":\"RS\",\"orientation\":\"v\",\"showlegend\":true,\"textposition\":\"outside\",\"x\":[\"RS\"],\"xaxis\":\"x\",\"y\":[2263.0],\"yaxis\":\"y\",\"type\":\"bar\",\"opacity\":0.8,\"texttemplate\":\"%{y:,.0f} pontos\"},{\"alignmentgroup\":\"True\",\"hovertemplate\":\"Estado=%{x}<br>Pontua\\u00e7\\u00e3o Total=%{y}<extra></extra>\",\"legendgroup\":\"PR\",\"marker\":{\"color\":\"#FFA15A\",\"pattern\":{\"shape\":\"\"},\"line\":{\"color\":\"rgb(8,48,107)\",\"width\":1.5}},\"name\":\"PR\",\"offsetgroup\":\"PR\",\"orientation\":\"v\",\"showlegend\":true,\"textposition\":\"outside\",\"x\":[\"PR\"],\"xaxis\":\"x\",\"y\":[1473.0],\"yaxis\":\"y\",\"type\":\"bar\",\"opacity\":0.8,\"texttemplate\":\"%{y:,.0f} pontos\"},{\"alignmentgroup\":\"True\",\"hovertemplate\":\"Estado=%{x}<br>Pontua\\u00e7\\u00e3o Total=%{y}<extra></extra>\",\"legendgroup\":\"SC\",\"marker\":{\"color\":\"#19D3F3\",\"pattern\":{\"shape\":\"\"},\"line\":{\"color\":\"rgb(8,48,107)\",\"width\":1.5}},\"name\":\"SC\",\"offsetgroup\":\"SC\",\"orientation\":\"v\",\"showlegend\":true,\"textposition\":\"outside\",\"x\":[\"SC\"],\"xaxis\":\"x\",\"y\":[891.0],\"yaxis\":\"y\",\"type\":\"bar\",\"opacity\":0.8,\"texttemplate\":\"%{y:,.0f} pontos\"},{\"alignmentgroup\":\"True\",\"hovertemplate\":\"Estado=%{x}<br>Pontua\\u00e7\\u00e3o Total=%{y}<extra></extra>\",\"legendgroup\":\"BA\",\"marker\":{\"color\":\"#FF6692\",\"pattern\":{\"shape\":\"\"},\"line\":{\"color\":\"rgb(8,48,107)\",\"width\":1.5}},\"name\":\"BA\",\"offsetgroup\":\"BA\",\"orientation\":\"v\",\"showlegend\":true,\"textposition\":\"outside\",\"x\":[\"BA\"],\"xaxis\":\"x\",\"y\":[823.0],\"yaxis\":\"y\",\"type\":\"bar\",\"opacity\":0.8,\"texttemplate\":\"%{y:,.0f} pontos\"},{\"alignmentgroup\":\"True\",\"hovertemplate\":\"Estado=%{x}<br>Pontua\\u00e7\\u00e3o Total=%{y}<extra></extra>\",\"legendgroup\":\"CE\",\"marker\":{\"color\":\"#B6E880\",\"pattern\":{\"shape\":\"\"},\"line\":{\"color\":\"rgb(8,48,107)\",\"width\":1.5}},\"name\":\"CE\",\"offsetgroup\":\"CE\",\"orientation\":\"v\",\"showlegend\":true,\"textposition\":\"outside\",\"x\":[\"CE\"],\"xaxis\":\"x\",\"y\":[798.0],\"yaxis\":\"y\",\"type\":\"bar\",\"opacity\":0.8,\"texttemplate\":\"%{y:,.0f} pontos\"},{\"alignmentgroup\":\"True\",\"hovertemplate\":\"Estado=%{x}<br>Pontua\\u00e7\\u00e3o Total=%{y}<extra></extra>\",\"legendgroup\":\"GO\",\"marker\":{\"color\":\"#FF97FF\",\"pattern\":{\"shape\":\"\"},\"line\":{\"color\":\"rgb(8,48,107)\",\"width\":1.5}},\"name\":\"GO\",\"offsetgroup\":\"GO\",\"orientation\":\"v\",\"showlegend\":true,\"textposition\":\"outside\",\"x\":[\"GO\"],\"xaxis\":\"x\",\"y\":[740.0],\"yaxis\":\"y\",\"type\":\"bar\",\"opacity\":0.8,\"texttemplate\":\"%{y:,.0f} pontos\"},{\"alignmentgroup\":\"True\",\"hovertemplate\":\"Estado=%{x}<br>Pontua\\u00e7\\u00e3o Total=%{y}<extra></extra>\",\"legendgroup\":\"PE\",\"marker\":{\"color\":\"#FECB52\",\"pattern\":{\"shape\":\"\"},\"line\":{\"color\":\"rgb(8,48,107)\",\"width\":1.5}},\"name\":\"PE\",\"offsetgroup\":\"PE\",\"orientation\":\"v\",\"showlegend\":true,\"textposition\":\"outside\",\"x\":[\"PE\"],\"xaxis\":\"x\",\"y\":[573.0],\"yaxis\":\"y\",\"type\":\"bar\",\"opacity\":0.8,\"texttemplate\":\"%{y:,.0f} pontos\"},{\"alignmentgroup\":\"True\",\"hovertemplate\":\"Estado=%{x}<br>Pontua\\u00e7\\u00e3o Total=%{y}<extra></extra>\",\"legendgroup\":\"MT\",\"marker\":{\"color\":\"#636EFA\",\"pattern\":{\"shape\":\"\"},\"line\":{\"color\":\"rgb(8,48,107)\",\"width\":1.5}},\"name\":\"MT\",\"offsetgroup\":\"MT\",\"orientation\":\"v\",\"showlegend\":true,\"textposition\":\"outside\",\"x\":[\"MT\"],\"xaxis\":\"x\",\"y\":[192.0],\"yaxis\":\"y\",\"type\":\"bar\",\"opacity\":0.8,\"texttemplate\":\"%{y:,.0f} pontos\"},{\"alignmentgroup\":\"True\",\"hovertemplate\":\"Estado=%{x}<br>Pontua\\u00e7\\u00e3o Total=%{y}<extra></extra>\",\"legendgroup\":\"AL\",\"marker\":{\"color\":\"#EF553B\",\"pattern\":{\"shape\":\"\"},\"line\":{\"color\":\"rgb(8,48,107)\",\"width\":1.5}},\"name\":\"AL\",\"offsetgroup\":\"AL\",\"orientation\":\"v\",\"showlegend\":true,\"textposition\":\"outside\",\"x\":[\"AL\"],\"xaxis\":\"x\",\"y\":[191.0],\"yaxis\":\"y\",\"type\":\"bar\",\"opacity\":0.8,\"texttemplate\":\"%{y:,.0f} pontos\"},{\"alignmentgroup\":\"True\",\"hovertemplate\":\"Estado=%{x}<br>Pontua\\u00e7\\u00e3o Total=%{y}<extra></extra>\",\"legendgroup\":\"MA\",\"marker\":{\"color\":\"#00CC96\",\"pattern\":{\"shape\":\"\"},\"line\":{\"color\":\"rgb(8,48,107)\",\"width\":1.5}},\"name\":\"MA\",\"offsetgroup\":\"MA\",\"orientation\":\"v\",\"showlegend\":true,\"textposition\":\"outside\",\"x\":[\"MA\"],\"xaxis\":\"x\",\"y\":[69.0],\"yaxis\":\"y\",\"type\":\"bar\",\"opacity\":0.8,\"texttemplate\":\"%{y:,.0f} pontos\"},{\"alignmentgroup\":\"True\",\"hovertemplate\":\"Estado=%{x}<br>Pontua\\u00e7\\u00e3o Total=%{y}<extra></extra>\",\"legendgroup\":\"RN\",\"marker\":{\"color\":\"#AB63FA\",\"pattern\":{\"shape\":\"\"},\"line\":{\"color\":\"rgb(8,48,107)\",\"width\":1.5}},\"name\":\"RN\",\"offsetgroup\":\"RN\",\"orientation\":\"v\",\"showlegend\":true,\"textposition\":\"outside\",\"x\":[\"RN\"],\"xaxis\":\"x\",\"y\":[53.0],\"yaxis\":\"y\",\"type\":\"bar\",\"opacity\":0.8,\"texttemplate\":\"%{y:,.0f} pontos\"},{\"alignmentgroup\":\"True\",\"hovertemplate\":\"Estado=%{x}<br>Pontua\\u00e7\\u00e3o Total=%{y}<extra></extra>\",\"legendgroup\":\"PA\",\"marker\":{\"color\":\"#FFA15A\",\"pattern\":{\"shape\":\"\"},\"line\":{\"color\":\"rgb(8,48,107)\",\"width\":1.5}},\"name\":\"PA\",\"offsetgroup\":\"PA\",\"orientation\":\"v\",\"showlegend\":true,\"textposition\":\"outside\",\"x\":[\"PA\"],\"xaxis\":\"x\",\"y\":[50.0],\"yaxis\":\"y\",\"type\":\"bar\",\"opacity\":0.8,\"texttemplate\":\"%{y:,.0f} pontos\"},{\"alignmentgroup\":\"True\",\"hovertemplate\":\"Estado=%{x}<br>Pontua\\u00e7\\u00e3o Total=%{y}<extra></extra>\",\"legendgroup\":\"AM\",\"marker\":{\"color\":\"#19D3F3\",\"pattern\":{\"shape\":\"\"},\"line\":{\"color\":\"rgb(8,48,107)\",\"width\":1.5}},\"name\":\"AM\",\"offsetgroup\":\"AM\",\"orientation\":\"v\",\"showlegend\":true,\"textposition\":\"outside\",\"x\":[\"AM\"],\"xaxis\":\"x\",\"y\":[10.0],\"yaxis\":\"y\",\"type\":\"bar\",\"opacity\":0.8,\"texttemplate\":\"%{y:,.0f} pontos\"},{\"alignmentgroup\":\"True\",\"hovertemplate\":\"Estado=%{x}<br>Pontua\\u00e7\\u00e3o Total=%{y}<extra></extra>\",\"legendgroup\":\"SE\",\"marker\":{\"color\":\"#FF6692\",\"pattern\":{\"shape\":\"\"},\"line\":{\"color\":\"rgb(8,48,107)\",\"width\":1.5}},\"name\":\"SE\",\"offsetgroup\":\"SE\",\"orientation\":\"v\",\"showlegend\":true,\"textposition\":\"outside\",\"x\":[\"SE\"],\"xaxis\":\"x\",\"y\":[8.0],\"yaxis\":\"y\",\"type\":\"bar\",\"opacity\":0.8,\"texttemplate\":\"%{y:,.0f} pontos\"}],                        {\"template\":{\"data\":{\"barpolar\":[{\"marker\":{\"line\":{\"color\":\"white\",\"width\":0.5},\"pattern\":{\"fillmode\":\"overlay\",\"size\":10,\"solidity\":0.2}},\"type\":\"barpolar\"}],\"bar\":[{\"error_x\":{\"color\":\"#2a3f5f\"},\"error_y\":{\"color\":\"#2a3f5f\"},\"marker\":{\"line\":{\"color\":\"white\",\"width\":0.5},\"pattern\":{\"fillmode\":\"overlay\",\"size\":10,\"solidity\":0.2}},\"type\":\"bar\"}],\"carpet\":[{\"aaxis\":{\"endlinecolor\":\"#2a3f5f\",\"gridcolor\":\"#C8D4E3\",\"linecolor\":\"#C8D4E3\",\"minorgridcolor\":\"#C8D4E3\",\"startlinecolor\":\"#2a3f5f\"},\"baxis\":{\"endlinecolor\":\"#2a3f5f\",\"gridcolor\":\"#C8D4E3\",\"linecolor\":\"#C8D4E3\",\"minorgridcolor\":\"#C8D4E3\",\"startlinecolor\":\"#2a3f5f\"},\"type\":\"carpet\"}],\"choropleth\":[{\"colorbar\":{\"outlinewidth\":0,\"ticks\":\"\"},\"type\":\"choropleth\"}],\"contourcarpet\":[{\"colorbar\":{\"outlinewidth\":0,\"ticks\":\"\"},\"type\":\"contourcarpet\"}],\"contour\":[{\"colorbar\":{\"outlinewidth\":0,\"ticks\":\"\"},\"colorscale\":[[0.0,\"#0d0887\"],[0.1111111111111111,\"#46039f\"],[0.2222222222222222,\"#7201a8\"],[0.3333333333333333,\"#9c179e\"],[0.4444444444444444,\"#bd3786\"],[0.5555555555555556,\"#d8576b\"],[0.6666666666666666,\"#ed7953\"],[0.7777777777777778,\"#fb9f3a\"],[0.8888888888888888,\"#fdca26\"],[1.0,\"#f0f921\"]],\"type\":\"contour\"}],\"heatmapgl\":[{\"colorbar\":{\"outlinewidth\":0,\"ticks\":\"\"},\"colorscale\":[[0.0,\"#0d0887\"],[0.1111111111111111,\"#46039f\"],[0.2222222222222222,\"#7201a8\"],[0.3333333333333333,\"#9c179e\"],[0.4444444444444444,\"#bd3786\"],[0.5555555555555556,\"#d8576b\"],[0.6666666666666666,\"#ed7953\"],[0.7777777777777778,\"#fb9f3a\"],[0.8888888888888888,\"#fdca26\"],[1.0,\"#f0f921\"]],\"type\":\"heatmapgl\"}],\"heatmap\":[{\"colorbar\":{\"outlinewidth\":0,\"ticks\":\"\"},\"colorscale\":[[0.0,\"#0d0887\"],[0.1111111111111111,\"#46039f\"],[0.2222222222222222,\"#7201a8\"],[0.3333333333333333,\"#9c179e\"],[0.4444444444444444,\"#bd3786\"],[0.5555555555555556,\"#d8576b\"],[0.6666666666666666,\"#ed7953\"],[0.7777777777777778,\"#fb9f3a\"],[0.8888888888888888,\"#fdca26\"],[1.0,\"#f0f921\"]],\"type\":\"heatmap\"}],\"histogram2dcontour\":[{\"colorbar\":{\"outlinewidth\":0,\"ticks\":\"\"},\"colorscale\":[[0.0,\"#0d0887\"],[0.1111111111111111,\"#46039f\"],[0.2222222222222222,\"#7201a8\"],[0.3333333333333333,\"#9c179e\"],[0.4444444444444444,\"#bd3786\"],[0.5555555555555556,\"#d8576b\"],[0.6666666666666666,\"#ed7953\"],[0.7777777777777778,\"#fb9f3a\"],[0.8888888888888888,\"#fdca26\"],[1.0,\"#f0f921\"]],\"type\":\"histogram2dcontour\"}],\"histogram2d\":[{\"colorbar\":{\"outlinewidth\":0,\"ticks\":\"\"},\"colorscale\":[[0.0,\"#0d0887\"],[0.1111111111111111,\"#46039f\"],[0.2222222222222222,\"#7201a8\"],[0.3333333333333333,\"#9c179e\"],[0.4444444444444444,\"#bd3786\"],[0.5555555555555556,\"#d8576b\"],[0.6666666666666666,\"#ed7953\"],[0.7777777777777778,\"#fb9f3a\"],[0.8888888888888888,\"#fdca26\"],[1.0,\"#f0f921\"]],\"type\":\"histogram2d\"}],\"histogram\":[{\"marker\":{\"pattern\":{\"fillmode\":\"overlay\",\"size\":10,\"solidity\":0.2}},\"type\":\"histogram\"}],\"mesh3d\":[{\"colorbar\":{\"outlinewidth\":0,\"ticks\":\"\"},\"type\":\"mesh3d\"}],\"parcoords\":[{\"line\":{\"colorbar\":{\"outlinewidth\":0,\"ticks\":\"\"}},\"type\":\"parcoords\"}],\"pie\":[{\"automargin\":true,\"type\":\"pie\"}],\"scatter3d\":[{\"line\":{\"colorbar\":{\"outlinewidth\":0,\"ticks\":\"\"}},\"marker\":{\"colorbar\":{\"outlinewidth\":0,\"ticks\":\"\"}},\"type\":\"scatter3d\"}],\"scattercarpet\":[{\"marker\":{\"colorbar\":{\"outlinewidth\":0,\"ticks\":\"\"}},\"type\":\"scattercarpet\"}],\"scattergeo\":[{\"marker\":{\"colorbar\":{\"outlinewidth\":0,\"ticks\":\"\"}},\"type\":\"scattergeo\"}],\"scattergl\":[{\"marker\":{\"colorbar\":{\"outlinewidth\":0,\"ticks\":\"\"}},\"type\":\"scattergl\"}],\"scattermapbox\":[{\"marker\":{\"colorbar\":{\"outlinewidth\":0,\"ticks\":\"\"}},\"type\":\"scattermapbox\"}],\"scatterpolargl\":[{\"marker\":{\"colorbar\":{\"outlinewidth\":0,\"ticks\":\"\"}},\"type\":\"scatterpolargl\"}],\"scatterpolar\":[{\"marker\":{\"colorbar\":{\"outlinewidth\":0,\"ticks\":\"\"}},\"type\":\"scatterpolar\"}],\"scatter\":[{\"marker\":{\"colorbar\":{\"outlinewidth\":0,\"ticks\":\"\"}},\"type\":\"scatter\"}],\"scatterternary\":[{\"marker\":{\"colorbar\":{\"outlinewidth\":0,\"ticks\":\"\"}},\"type\":\"scatterternary\"}],\"surface\":[{\"colorbar\":{\"outlinewidth\":0,\"ticks\":\"\"},\"colorscale\":[[0.0,\"#0d0887\"],[0.1111111111111111,\"#46039f\"],[0.2222222222222222,\"#7201a8\"],[0.3333333333333333,\"#9c179e\"],[0.4444444444444444,\"#bd3786\"],[0.5555555555555556,\"#d8576b\"],[0.6666666666666666,\"#ed7953\"],[0.7777777777777778,\"#fb9f3a\"],[0.8888888888888888,\"#fdca26\"],[1.0,\"#f0f921\"]],\"type\":\"surface\"}],\"table\":[{\"cells\":{\"fill\":{\"color\":\"#EBF0F8\"},\"line\":{\"color\":\"white\"}},\"header\":{\"fill\":{\"color\":\"#C8D4E3\"},\"line\":{\"color\":\"white\"}},\"type\":\"table\"}]},\"layout\":{\"annotationdefaults\":{\"arrowcolor\":\"#2a3f5f\",\"arrowhead\":0,\"arrowwidth\":1},\"autotypenumbers\":\"strict\",\"coloraxis\":{\"colorbar\":{\"outlinewidth\":0,\"ticks\":\"\"}},\"colorscale\":{\"diverging\":[[0,\"#8e0152\"],[0.1,\"#c51b7d\"],[0.2,\"#de77ae\"],[0.3,\"#f1b6da\"],[0.4,\"#fde0ef\"],[0.5,\"#f7f7f7\"],[0.6,\"#e6f5d0\"],[0.7,\"#b8e186\"],[0.8,\"#7fbc41\"],[0.9,\"#4d9221\"],[1,\"#276419\"]],\"sequential\":[[0.0,\"#0d0887\"],[0.1111111111111111,\"#46039f\"],[0.2222222222222222,\"#7201a8\"],[0.3333333333333333,\"#9c179e\"],[0.4444444444444444,\"#bd3786\"],[0.5555555555555556,\"#d8576b\"],[0.6666666666666666,\"#ed7953\"],[0.7777777777777778,\"#fb9f3a\"],[0.8888888888888888,\"#fdca26\"],[1.0,\"#f0f921\"]],\"sequentialminus\":[[0.0,\"#0d0887\"],[0.1111111111111111,\"#46039f\"],[0.2222222222222222,\"#7201a8\"],[0.3333333333333333,\"#9c179e\"],[0.4444444444444444,\"#bd3786\"],[0.5555555555555556,\"#d8576b\"],[0.6666666666666666,\"#ed7953\"],[0.7777777777777778,\"#fb9f3a\"],[0.8888888888888888,\"#fdca26\"],[1.0,\"#f0f921\"]]},\"colorway\":[\"#636efa\",\"#EF553B\",\"#00cc96\",\"#ab63fa\",\"#FFA15A\",\"#19d3f3\",\"#FF6692\",\"#B6E880\",\"#FF97FF\",\"#FECB52\"],\"font\":{\"color\":\"#2a3f5f\"},\"geo\":{\"bgcolor\":\"white\",\"lakecolor\":\"white\",\"landcolor\":\"white\",\"showlakes\":true,\"showland\":true,\"subunitcolor\":\"#C8D4E3\"},\"hoverlabel\":{\"align\":\"left\"},\"hovermode\":\"closest\",\"mapbox\":{\"style\":\"light\"},\"paper_bgcolor\":\"white\",\"plot_bgcolor\":\"white\",\"polar\":{\"angularaxis\":{\"gridcolor\":\"#EBF0F8\",\"linecolor\":\"#EBF0F8\",\"ticks\":\"\"},\"bgcolor\":\"white\",\"radialaxis\":{\"gridcolor\":\"#EBF0F8\",\"linecolor\":\"#EBF0F8\",\"ticks\":\"\"}},\"scene\":{\"xaxis\":{\"backgroundcolor\":\"white\",\"gridcolor\":\"#DFE8F3\",\"gridwidth\":2,\"linecolor\":\"#EBF0F8\",\"showbackground\":true,\"ticks\":\"\",\"zerolinecolor\":\"#EBF0F8\"},\"yaxis\":{\"backgroundcolor\":\"white\",\"gridcolor\":\"#DFE8F3\",\"gridwidth\":2,\"linecolor\":\"#EBF0F8\",\"showbackground\":true,\"ticks\":\"\",\"zerolinecolor\":\"#EBF0F8\"},\"zaxis\":{\"backgroundcolor\":\"white\",\"gridcolor\":\"#DFE8F3\",\"gridwidth\":2,\"linecolor\":\"#EBF0F8\",\"showbackground\":true,\"ticks\":\"\",\"zerolinecolor\":\"#EBF0F8\"}},\"shapedefaults\":{\"line\":{\"color\":\"#2a3f5f\"}},\"ternary\":{\"aaxis\":{\"gridcolor\":\"#DFE8F3\",\"linecolor\":\"#A2B1C6\",\"ticks\":\"\"},\"baxis\":{\"gridcolor\":\"#DFE8F3\",\"linecolor\":\"#A2B1C6\",\"ticks\":\"\"},\"bgcolor\":\"white\",\"caxis\":{\"gridcolor\":\"#DFE8F3\",\"linecolor\":\"#A2B1C6\",\"ticks\":\"\"}},\"title\":{\"x\":0.05},\"xaxis\":{\"automargin\":true,\"gridcolor\":\"#EBF0F8\",\"linecolor\":\"#EBF0F8\",\"ticks\":\"\",\"title\":{\"standoff\":15},\"zerolinecolor\":\"#EBF0F8\",\"zerolinewidth\":2},\"yaxis\":{\"automargin\":true,\"gridcolor\":\"#EBF0F8\",\"linecolor\":\"#EBF0F8\",\"ticks\":\"\",\"title\":{\"standoff\":15},\"zerolinecolor\":\"#EBF0F8\",\"zerolinewidth\":2}}},\"xaxis\":{\"anchor\":\"y\",\"domain\":[0.0,1.0],\"title\":{\"text\":\"\"},\"categoryorder\":\"total descending\",\"categoryarray\":[\"SP\",\"RJ\",\"MG\",\"RS\",\"PR\",\"SC\",\"BA\",\"CE\",\"GO\",\"PE\",\"MT\",\"AL\",\"MA\",\"RN\",\"PA\",\"AM\",\"SE\"]},\"yaxis\":{\"anchor\":\"x\",\"domain\":[0.0,1.0],\"title\":{\"text\":\"Pontua\\u00e7\\u00e3o Total\"}},\"legend\":{\"title\":{\"text\":\"Estado\"},\"tracegroupgap\":0},\"title\":{\"text\":\"Pontua\\u00e7\\u00e3o Total Acumulada por Estado (Todos os Anos)\"},\"barmode\":\"relative\",\"hoverlabel\":{\"font\":{\"size\":12,\"family\":\"Arial\"},\"bgcolor\":\"white\"},\"height\":600,\"showlegend\":false},                        {\"responsive\": true}                    )                };                            </script>        </div>\n",
       "</body>\n",
       "</html>"
      ]
     },
     "metadata": {
      "application/vnd.databricks.v1+output": {
       "addedWidgets": {},
       "arguments": {},
       "data": "<html>\n<head><meta charset=\"utf-8\" /></head>\n<body>\n    <div>            <script src=\"https://cdnjs.cloudflare.com/ajax/libs/mathjax/2.7.5/MathJax.js?config=TeX-AMS-MML_SVG\"></script><script type=\"text/javascript\">if (window.MathJax) {MathJax.Hub.Config({SVG: {font: \"STIX-Web\"}});}</script>                <script type=\"text/javascript\">window.PlotlyConfig = {MathJaxConfig: 'local'};</script>\n        <script src=\"https://cdn.plot.ly/plotly-2.9.0.min.js\"></script>                <div id=\"066f78f0-3110-4575-9f65-5939d038f709\" class=\"plotly-graph-div\" style=\"height:600px; width:100%;\"></div>            <script type=\"text/javascript\">                                    window.PLOTLYENV=window.PLOTLYENV || {};                                    if (document.getElementById(\"066f78f0-3110-4575-9f65-5939d038f709\")) {                    Plotly.newPlot(                        \"066f78f0-3110-4575-9f65-5939d038f709\",                        [{\"alignmentgroup\":\"True\",\"hovertemplate\":\"Estado=%{x}<br>Pontua\\u00e7\\u00e3o Total=%{y}<extra></extra>\",\"legendgroup\":\"SP\",\"marker\":{\"color\":\"#636EFA\",\"pattern\":{\"shape\":\"\"},\"line\":{\"color\":\"rgb(8,48,107)\",\"width\":1.5}},\"name\":\"SP\",\"offsetgroup\":\"SP\",\"orientation\":\"v\",\"showlegend\":true,\"textposition\":\"outside\",\"x\":[\"SP\"],\"xaxis\":\"x\",\"y\":[5263.0],\"yaxis\":\"y\",\"type\":\"bar\",\"opacity\":0.8,\"texttemplate\":\"%{y:,.0f} pontos\"},{\"alignmentgroup\":\"True\",\"hovertemplate\":\"Estado=%{x}<br>Pontua\\u00e7\\u00e3o Total=%{y}<extra></extra>\",\"legendgroup\":\"RJ\",\"marker\":{\"color\":\"#EF553B\",\"pattern\":{\"shape\":\"\"},\"line\":{\"color\":\"rgb(8,48,107)\",\"width\":1.5}},\"name\":\"RJ\",\"offsetgroup\":\"RJ\",\"orientation\":\"v\",\"showlegend\":true,\"textposition\":\"outside\",\"x\":[\"RJ\"],\"xaxis\":\"x\",\"y\":[3373.0],\"yaxis\":\"y\",\"type\":\"bar\",\"opacity\":0.8,\"texttemplate\":\"%{y:,.0f} pontos\"},{\"alignmentgroup\":\"True\",\"hovertemplate\":\"Estado=%{x}<br>Pontua\\u00e7\\u00e3o Total=%{y}<extra></extra>\",\"legendgroup\":\"MG\",\"marker\":{\"color\":\"#00CC96\",\"pattern\":{\"shape\":\"\"},\"line\":{\"color\":\"rgb(8,48,107)\",\"width\":1.5}},\"name\":\"MG\",\"offsetgroup\":\"MG\",\"orientation\":\"v\",\"showlegend\":true,\"textposition\":\"outside\",\"x\":[\"MG\"],\"xaxis\":\"x\",\"y\":[2340.0],\"yaxis\":\"y\",\"type\":\"bar\",\"opacity\":0.8,\"texttemplate\":\"%{y:,.0f} pontos\"},{\"alignmentgroup\":\"True\",\"hovertemplate\":\"Estado=%{x}<br>Pontua\\u00e7\\u00e3o Total=%{y}<extra></extra>\",\"legendgroup\":\"RS\",\"marker\":{\"color\":\"#AB63FA\",\"pattern\":{\"shape\":\"\"},\"line\":{\"color\":\"rgb(8,48,107)\",\"width\":1.5}},\"name\":\"RS\",\"offsetgroup\":\"RS\",\"orientation\":\"v\",\"showlegend\":true,\"textposition\":\"outside\",\"x\":[\"RS\"],\"xaxis\":\"x\",\"y\":[2263.0],\"yaxis\":\"y\",\"type\":\"bar\",\"opacity\":0.8,\"texttemplate\":\"%{y:,.0f} pontos\"},{\"alignmentgroup\":\"True\",\"hovertemplate\":\"Estado=%{x}<br>Pontua\\u00e7\\u00e3o Total=%{y}<extra></extra>\",\"legendgroup\":\"PR\",\"marker\":{\"color\":\"#FFA15A\",\"pattern\":{\"shape\":\"\"},\"line\":{\"color\":\"rgb(8,48,107)\",\"width\":1.5}},\"name\":\"PR\",\"offsetgroup\":\"PR\",\"orientation\":\"v\",\"showlegend\":true,\"textposition\":\"outside\",\"x\":[\"PR\"],\"xaxis\":\"x\",\"y\":[1473.0],\"yaxis\":\"y\",\"type\":\"bar\",\"opacity\":0.8,\"texttemplate\":\"%{y:,.0f} pontos\"},{\"alignmentgroup\":\"True\",\"hovertemplate\":\"Estado=%{x}<br>Pontua\\u00e7\\u00e3o Total=%{y}<extra></extra>\",\"legendgroup\":\"SC\",\"marker\":{\"color\":\"#19D3F3\",\"pattern\":{\"shape\":\"\"},\"line\":{\"color\":\"rgb(8,48,107)\",\"width\":1.5}},\"name\":\"SC\",\"offsetgroup\":\"SC\",\"orientation\":\"v\",\"showlegend\":true,\"textposition\":\"outside\",\"x\":[\"SC\"],\"xaxis\":\"x\",\"y\":[891.0],\"yaxis\":\"y\",\"type\":\"bar\",\"opacity\":0.8,\"texttemplate\":\"%{y:,.0f} pontos\"},{\"alignmentgroup\":\"True\",\"hovertemplate\":\"Estado=%{x}<br>Pontua\\u00e7\\u00e3o Total=%{y}<extra></extra>\",\"legendgroup\":\"BA\",\"marker\":{\"color\":\"#FF6692\",\"pattern\":{\"shape\":\"\"},\"line\":{\"color\":\"rgb(8,48,107)\",\"width\":1.5}},\"name\":\"BA\",\"offsetgroup\":\"BA\",\"orientation\":\"v\",\"showlegend\":true,\"textposition\":\"outside\",\"x\":[\"BA\"],\"xaxis\":\"x\",\"y\":[823.0],\"yaxis\":\"y\",\"type\":\"bar\",\"opacity\":0.8,\"texttemplate\":\"%{y:,.0f} pontos\"},{\"alignmentgroup\":\"True\",\"hovertemplate\":\"Estado=%{x}<br>Pontua\\u00e7\\u00e3o Total=%{y}<extra></extra>\",\"legendgroup\":\"CE\",\"marker\":{\"color\":\"#B6E880\",\"pattern\":{\"shape\":\"\"},\"line\":{\"color\":\"rgb(8,48,107)\",\"width\":1.5}},\"name\":\"CE\",\"offsetgroup\":\"CE\",\"orientation\":\"v\",\"showlegend\":true,\"textposition\":\"outside\",\"x\":[\"CE\"],\"xaxis\":\"x\",\"y\":[798.0],\"yaxis\":\"y\",\"type\":\"bar\",\"opacity\":0.8,\"texttemplate\":\"%{y:,.0f} pontos\"},{\"alignmentgroup\":\"True\",\"hovertemplate\":\"Estado=%{x}<br>Pontua\\u00e7\\u00e3o Total=%{y}<extra></extra>\",\"legendgroup\":\"GO\",\"marker\":{\"color\":\"#FF97FF\",\"pattern\":{\"shape\":\"\"},\"line\":{\"color\":\"rgb(8,48,107)\",\"width\":1.5}},\"name\":\"GO\",\"offsetgroup\":\"GO\",\"orientation\":\"v\",\"showlegend\":true,\"textposition\":\"outside\",\"x\":[\"GO\"],\"xaxis\":\"x\",\"y\":[740.0],\"yaxis\":\"y\",\"type\":\"bar\",\"opacity\":0.8,\"texttemplate\":\"%{y:,.0f} pontos\"},{\"alignmentgroup\":\"True\",\"hovertemplate\":\"Estado=%{x}<br>Pontua\\u00e7\\u00e3o Total=%{y}<extra></extra>\",\"legendgroup\":\"PE\",\"marker\":{\"color\":\"#FECB52\",\"pattern\":{\"shape\":\"\"},\"line\":{\"color\":\"rgb(8,48,107)\",\"width\":1.5}},\"name\":\"PE\",\"offsetgroup\":\"PE\",\"orientation\":\"v\",\"showlegend\":true,\"textposition\":\"outside\",\"x\":[\"PE\"],\"xaxis\":\"x\",\"y\":[573.0],\"yaxis\":\"y\",\"type\":\"bar\",\"opacity\":0.8,\"texttemplate\":\"%{y:,.0f} pontos\"},{\"alignmentgroup\":\"True\",\"hovertemplate\":\"Estado=%{x}<br>Pontua\\u00e7\\u00e3o Total=%{y}<extra></extra>\",\"legendgroup\":\"MT\",\"marker\":{\"color\":\"#636EFA\",\"pattern\":{\"shape\":\"\"},\"line\":{\"color\":\"rgb(8,48,107)\",\"width\":1.5}},\"name\":\"MT\",\"offsetgroup\":\"MT\",\"orientation\":\"v\",\"showlegend\":true,\"textposition\":\"outside\",\"x\":[\"MT\"],\"xaxis\":\"x\",\"y\":[192.0],\"yaxis\":\"y\",\"type\":\"bar\",\"opacity\":0.8,\"texttemplate\":\"%{y:,.0f} pontos\"},{\"alignmentgroup\":\"True\",\"hovertemplate\":\"Estado=%{x}<br>Pontua\\u00e7\\u00e3o Total=%{y}<extra></extra>\",\"legendgroup\":\"AL\",\"marker\":{\"color\":\"#EF553B\",\"pattern\":{\"shape\":\"\"},\"line\":{\"color\":\"rgb(8,48,107)\",\"width\":1.5}},\"name\":\"AL\",\"offsetgroup\":\"AL\",\"orientation\":\"v\",\"showlegend\":true,\"textposition\":\"outside\",\"x\":[\"AL\"],\"xaxis\":\"x\",\"y\":[191.0],\"yaxis\":\"y\",\"type\":\"bar\",\"opacity\":0.8,\"texttemplate\":\"%{y:,.0f} pontos\"},{\"alignmentgroup\":\"True\",\"hovertemplate\":\"Estado=%{x}<br>Pontua\\u00e7\\u00e3o Total=%{y}<extra></extra>\",\"legendgroup\":\"MA\",\"marker\":{\"color\":\"#00CC96\",\"pattern\":{\"shape\":\"\"},\"line\":{\"color\":\"rgb(8,48,107)\",\"width\":1.5}},\"name\":\"MA\",\"offsetgroup\":\"MA\",\"orientation\":\"v\",\"showlegend\":true,\"textposition\":\"outside\",\"x\":[\"MA\"],\"xaxis\":\"x\",\"y\":[69.0],\"yaxis\":\"y\",\"type\":\"bar\",\"opacity\":0.8,\"texttemplate\":\"%{y:,.0f} pontos\"},{\"alignmentgroup\":\"True\",\"hovertemplate\":\"Estado=%{x}<br>Pontua\\u00e7\\u00e3o Total=%{y}<extra></extra>\",\"legendgroup\":\"RN\",\"marker\":{\"color\":\"#AB63FA\",\"pattern\":{\"shape\":\"\"},\"line\":{\"color\":\"rgb(8,48,107)\",\"width\":1.5}},\"name\":\"RN\",\"offsetgroup\":\"RN\",\"orientation\":\"v\",\"showlegend\":true,\"textposition\":\"outside\",\"x\":[\"RN\"],\"xaxis\":\"x\",\"y\":[53.0],\"yaxis\":\"y\",\"type\":\"bar\",\"opacity\":0.8,\"texttemplate\":\"%{y:,.0f} pontos\"},{\"alignmentgroup\":\"True\",\"hovertemplate\":\"Estado=%{x}<br>Pontua\\u00e7\\u00e3o Total=%{y}<extra></extra>\",\"legendgroup\":\"PA\",\"marker\":{\"color\":\"#FFA15A\",\"pattern\":{\"shape\":\"\"},\"line\":{\"color\":\"rgb(8,48,107)\",\"width\":1.5}},\"name\":\"PA\",\"offsetgroup\":\"PA\",\"orientation\":\"v\",\"showlegend\":true,\"textposition\":\"outside\",\"x\":[\"PA\"],\"xaxis\":\"x\",\"y\":[50.0],\"yaxis\":\"y\",\"type\":\"bar\",\"opacity\":0.8,\"texttemplate\":\"%{y:,.0f} pontos\"},{\"alignmentgroup\":\"True\",\"hovertemplate\":\"Estado=%{x}<br>Pontua\\u00e7\\u00e3o Total=%{y}<extra></extra>\",\"legendgroup\":\"AM\",\"marker\":{\"color\":\"#19D3F3\",\"pattern\":{\"shape\":\"\"},\"line\":{\"color\":\"rgb(8,48,107)\",\"width\":1.5}},\"name\":\"AM\",\"offsetgroup\":\"AM\",\"orientation\":\"v\",\"showlegend\":true,\"textposition\":\"outside\",\"x\":[\"AM\"],\"xaxis\":\"x\",\"y\":[10.0],\"yaxis\":\"y\",\"type\":\"bar\",\"opacity\":0.8,\"texttemplate\":\"%{y:,.0f} pontos\"},{\"alignmentgroup\":\"True\",\"hovertemplate\":\"Estado=%{x}<br>Pontua\\u00e7\\u00e3o Total=%{y}<extra></extra>\",\"legendgroup\":\"SE\",\"marker\":{\"color\":\"#FF6692\",\"pattern\":{\"shape\":\"\"},\"line\":{\"color\":\"rgb(8,48,107)\",\"width\":1.5}},\"name\":\"SE\",\"offsetgroup\":\"SE\",\"orientation\":\"v\",\"showlegend\":true,\"textposition\":\"outside\",\"x\":[\"SE\"],\"xaxis\":\"x\",\"y\":[8.0],\"yaxis\":\"y\",\"type\":\"bar\",\"opacity\":0.8,\"texttemplate\":\"%{y:,.0f} pontos\"}],                        {\"template\":{\"data\":{\"barpolar\":[{\"marker\":{\"line\":{\"color\":\"white\",\"width\":0.5},\"pattern\":{\"fillmode\":\"overlay\",\"size\":10,\"solidity\":0.2}},\"type\":\"barpolar\"}],\"bar\":[{\"error_x\":{\"color\":\"#2a3f5f\"},\"error_y\":{\"color\":\"#2a3f5f\"},\"marker\":{\"line\":{\"color\":\"white\",\"width\":0.5},\"pattern\":{\"fillmode\":\"overlay\",\"size\":10,\"solidity\":0.2}},\"type\":\"bar\"}],\"carpet\":[{\"aaxis\":{\"endlinecolor\":\"#2a3f5f\",\"gridcolor\":\"#C8D4E3\",\"linecolor\":\"#C8D4E3\",\"minorgridcolor\":\"#C8D4E3\",\"startlinecolor\":\"#2a3f5f\"},\"baxis\":{\"endlinecolor\":\"#2a3f5f\",\"gridcolor\":\"#C8D4E3\",\"linecolor\":\"#C8D4E3\",\"minorgridcolor\":\"#C8D4E3\",\"startlinecolor\":\"#2a3f5f\"},\"type\":\"carpet\"}],\"choropleth\":[{\"colorbar\":{\"outlinewidth\":0,\"ticks\":\"\"},\"type\":\"choropleth\"}],\"contourcarpet\":[{\"colorbar\":{\"outlinewidth\":0,\"ticks\":\"\"},\"type\":\"contourcarpet\"}],\"contour\":[{\"colorbar\":{\"outlinewidth\":0,\"ticks\":\"\"},\"colorscale\":[[0.0,\"#0d0887\"],[0.1111111111111111,\"#46039f\"],[0.2222222222222222,\"#7201a8\"],[0.3333333333333333,\"#9c179e\"],[0.4444444444444444,\"#bd3786\"],[0.5555555555555556,\"#d8576b\"],[0.6666666666666666,\"#ed7953\"],[0.7777777777777778,\"#fb9f3a\"],[0.8888888888888888,\"#fdca26\"],[1.0,\"#f0f921\"]],\"type\":\"contour\"}],\"heatmapgl\":[{\"colorbar\":{\"outlinewidth\":0,\"ticks\":\"\"},\"colorscale\":[[0.0,\"#0d0887\"],[0.1111111111111111,\"#46039f\"],[0.2222222222222222,\"#7201a8\"],[0.3333333333333333,\"#9c179e\"],[0.4444444444444444,\"#bd3786\"],[0.5555555555555556,\"#d8576b\"],[0.6666666666666666,\"#ed7953\"],[0.7777777777777778,\"#fb9f3a\"],[0.8888888888888888,\"#fdca26\"],[1.0,\"#f0f921\"]],\"type\":\"heatmapgl\"}],\"heatmap\":[{\"colorbar\":{\"outlinewidth\":0,\"ticks\":\"\"},\"colorscale\":[[0.0,\"#0d0887\"],[0.1111111111111111,\"#46039f\"],[0.2222222222222222,\"#7201a8\"],[0.3333333333333333,\"#9c179e\"],[0.4444444444444444,\"#bd3786\"],[0.5555555555555556,\"#d8576b\"],[0.6666666666666666,\"#ed7953\"],[0.7777777777777778,\"#fb9f3a\"],[0.8888888888888888,\"#fdca26\"],[1.0,\"#f0f921\"]],\"type\":\"heatmap\"}],\"histogram2dcontour\":[{\"colorbar\":{\"outlinewidth\":0,\"ticks\":\"\"},\"colorscale\":[[0.0,\"#0d0887\"],[0.1111111111111111,\"#46039f\"],[0.2222222222222222,\"#7201a8\"],[0.3333333333333333,\"#9c179e\"],[0.4444444444444444,\"#bd3786\"],[0.5555555555555556,\"#d8576b\"],[0.6666666666666666,\"#ed7953\"],[0.7777777777777778,\"#fb9f3a\"],[0.8888888888888888,\"#fdca26\"],[1.0,\"#f0f921\"]],\"type\":\"histogram2dcontour\"}],\"histogram2d\":[{\"colorbar\":{\"outlinewidth\":0,\"ticks\":\"\"},\"colorscale\":[[0.0,\"#0d0887\"],[0.1111111111111111,\"#46039f\"],[0.2222222222222222,\"#7201a8\"],[0.3333333333333333,\"#9c179e\"],[0.4444444444444444,\"#bd3786\"],[0.5555555555555556,\"#d8576b\"],[0.6666666666666666,\"#ed7953\"],[0.7777777777777778,\"#fb9f3a\"],[0.8888888888888888,\"#fdca26\"],[1.0,\"#f0f921\"]],\"type\":\"histogram2d\"}],\"histogram\":[{\"marker\":{\"pattern\":{\"fillmode\":\"overlay\",\"size\":10,\"solidity\":0.2}},\"type\":\"histogram\"}],\"mesh3d\":[{\"colorbar\":{\"outlinewidth\":0,\"ticks\":\"\"},\"type\":\"mesh3d\"}],\"parcoords\":[{\"line\":{\"colorbar\":{\"outlinewidth\":0,\"ticks\":\"\"}},\"type\":\"parcoords\"}],\"pie\":[{\"automargin\":true,\"type\":\"pie\"}],\"scatter3d\":[{\"line\":{\"colorbar\":{\"outlinewidth\":0,\"ticks\":\"\"}},\"marker\":{\"colorbar\":{\"outlinewidth\":0,\"ticks\":\"\"}},\"type\":\"scatter3d\"}],\"scattercarpet\":[{\"marker\":{\"colorbar\":{\"outlinewidth\":0,\"ticks\":\"\"}},\"type\":\"scattercarpet\"}],\"scattergeo\":[{\"marker\":{\"colorbar\":{\"outlinewidth\":0,\"ticks\":\"\"}},\"type\":\"scattergeo\"}],\"scattergl\":[{\"marker\":{\"colorbar\":{\"outlinewidth\":0,\"ticks\":\"\"}},\"type\":\"scattergl\"}],\"scattermapbox\":[{\"marker\":{\"colorbar\":{\"outlinewidth\":0,\"ticks\":\"\"}},\"type\":\"scattermapbox\"}],\"scatterpolargl\":[{\"marker\":{\"colorbar\":{\"outlinewidth\":0,\"ticks\":\"\"}},\"type\":\"scatterpolargl\"}],\"scatterpolar\":[{\"marker\":{\"colorbar\":{\"outlinewidth\":0,\"ticks\":\"\"}},\"type\":\"scatterpolar\"}],\"scatter\":[{\"marker\":{\"colorbar\":{\"outlinewidth\":0,\"ticks\":\"\"}},\"type\":\"scatter\"}],\"scatterternary\":[{\"marker\":{\"colorbar\":{\"outlinewidth\":0,\"ticks\":\"\"}},\"type\":\"scatterternary\"}],\"surface\":[{\"colorbar\":{\"outlinewidth\":0,\"ticks\":\"\"},\"colorscale\":[[0.0,\"#0d0887\"],[0.1111111111111111,\"#46039f\"],[0.2222222222222222,\"#7201a8\"],[0.3333333333333333,\"#9c179e\"],[0.4444444444444444,\"#bd3786\"],[0.5555555555555556,\"#d8576b\"],[0.6666666666666666,\"#ed7953\"],[0.7777777777777778,\"#fb9f3a\"],[0.8888888888888888,\"#fdca26\"],[1.0,\"#f0f921\"]],\"type\":\"surface\"}],\"table\":[{\"cells\":{\"fill\":{\"color\":\"#EBF0F8\"},\"line\":{\"color\":\"white\"}},\"header\":{\"fill\":{\"color\":\"#C8D4E3\"},\"line\":{\"color\":\"white\"}},\"type\":\"table\"}]},\"layout\":{\"annotationdefaults\":{\"arrowcolor\":\"#2a3f5f\",\"arrowhead\":0,\"arrowwidth\":1},\"autotypenumbers\":\"strict\",\"coloraxis\":{\"colorbar\":{\"outlinewidth\":0,\"ticks\":\"\"}},\"colorscale\":{\"diverging\":[[0,\"#8e0152\"],[0.1,\"#c51b7d\"],[0.2,\"#de77ae\"],[0.3,\"#f1b6da\"],[0.4,\"#fde0ef\"],[0.5,\"#f7f7f7\"],[0.6,\"#e6f5d0\"],[0.7,\"#b8e186\"],[0.8,\"#7fbc41\"],[0.9,\"#4d9221\"],[1,\"#276419\"]],\"sequential\":[[0.0,\"#0d0887\"],[0.1111111111111111,\"#46039f\"],[0.2222222222222222,\"#7201a8\"],[0.3333333333333333,\"#9c179e\"],[0.4444444444444444,\"#bd3786\"],[0.5555555555555556,\"#d8576b\"],[0.6666666666666666,\"#ed7953\"],[0.7777777777777778,\"#fb9f3a\"],[0.8888888888888888,\"#fdca26\"],[1.0,\"#f0f921\"]],\"sequentialminus\":[[0.0,\"#0d0887\"],[0.1111111111111111,\"#46039f\"],[0.2222222222222222,\"#7201a8\"],[0.3333333333333333,\"#9c179e\"],[0.4444444444444444,\"#bd3786\"],[0.5555555555555556,\"#d8576b\"],[0.6666666666666666,\"#ed7953\"],[0.7777777777777778,\"#fb9f3a\"],[0.8888888888888888,\"#fdca26\"],[1.0,\"#f0f921\"]]},\"colorway\":[\"#636efa\",\"#EF553B\",\"#00cc96\",\"#ab63fa\",\"#FFA15A\",\"#19d3f3\",\"#FF6692\",\"#B6E880\",\"#FF97FF\",\"#FECB52\"],\"font\":{\"color\":\"#2a3f5f\"},\"geo\":{\"bgcolor\":\"white\",\"lakecolor\":\"white\",\"landcolor\":\"white\",\"showlakes\":true,\"showland\":true,\"subunitcolor\":\"#C8D4E3\"},\"hoverlabel\":{\"align\":\"left\"},\"hovermode\":\"closest\",\"mapbox\":{\"style\":\"light\"},\"paper_bgcolor\":\"white\",\"plot_bgcolor\":\"white\",\"polar\":{\"angularaxis\":{\"gridcolor\":\"#EBF0F8\",\"linecolor\":\"#EBF0F8\",\"ticks\":\"\"},\"bgcolor\":\"white\",\"radialaxis\":{\"gridcolor\":\"#EBF0F8\",\"linecolor\":\"#EBF0F8\",\"ticks\":\"\"}},\"scene\":{\"xaxis\":{\"backgroundcolor\":\"white\",\"gridcolor\":\"#DFE8F3\",\"gridwidth\":2,\"linecolor\":\"#EBF0F8\",\"showbackground\":true,\"ticks\":\"\",\"zerolinecolor\":\"#EBF0F8\"},\"yaxis\":{\"backgroundcolor\":\"white\",\"gridcolor\":\"#DFE8F3\",\"gridwidth\":2,\"linecolor\":\"#EBF0F8\",\"showbackground\":true,\"ticks\":\"\",\"zerolinecolor\":\"#EBF0F8\"},\"zaxis\":{\"backgroundcolor\":\"white\",\"gridcolor\":\"#DFE8F3\",\"gridwidth\":2,\"linecolor\":\"#EBF0F8\",\"showbackground\":true,\"ticks\":\"\",\"zerolinecolor\":\"#EBF0F8\"}},\"shapedefaults\":{\"line\":{\"color\":\"#2a3f5f\"}},\"ternary\":{\"aaxis\":{\"gridcolor\":\"#DFE8F3\",\"linecolor\":\"#A2B1C6\",\"ticks\":\"\"},\"baxis\":{\"gridcolor\":\"#DFE8F3\",\"linecolor\":\"#A2B1C6\",\"ticks\":\"\"},\"bgcolor\":\"white\",\"caxis\":{\"gridcolor\":\"#DFE8F3\",\"linecolor\":\"#A2B1C6\",\"ticks\":\"\"}},\"title\":{\"x\":0.05},\"xaxis\":{\"automargin\":true,\"gridcolor\":\"#EBF0F8\",\"linecolor\":\"#EBF0F8\",\"ticks\":\"\",\"title\":{\"standoff\":15},\"zerolinecolor\":\"#EBF0F8\",\"zerolinewidth\":2},\"yaxis\":{\"automargin\":true,\"gridcolor\":\"#EBF0F8\",\"linecolor\":\"#EBF0F8\",\"ticks\":\"\",\"title\":{\"standoff\":15},\"zerolinecolor\":\"#EBF0F8\",\"zerolinewidth\":2}}},\"xaxis\":{\"anchor\":\"y\",\"domain\":[0.0,1.0],\"title\":{\"text\":\"\"},\"categoryorder\":\"total descending\",\"categoryarray\":[\"SP\",\"RJ\",\"MG\",\"RS\",\"PR\",\"SC\",\"BA\",\"CE\",\"GO\",\"PE\",\"MT\",\"AL\",\"MA\",\"RN\",\"PA\",\"AM\",\"SE\"]},\"yaxis\":{\"anchor\":\"x\",\"domain\":[0.0,1.0],\"title\":{\"text\":\"Pontua\\u00e7\\u00e3o Total\"}},\"legend\":{\"title\":{\"text\":\"Estado\"},\"tracegroupgap\":0},\"title\":{\"text\":\"Pontua\\u00e7\\u00e3o Total Acumulada por Estado (Todos os Anos)\"},\"barmode\":\"relative\",\"hoverlabel\":{\"font\":{\"size\":12,\"family\":\"Arial\"},\"bgcolor\":\"white\"},\"height\":600,\"showlegend\":false},                        {\"responsive\": true}                    )                };                            </script>        </div>\n</body>\n</html>",
       "datasetInfos": [],
       "metadata": {},
       "removedWidgets": [],
       "textData": null,
       "type": "htmlSandbox"
      }
     },
     "output_type": "display_data"
    }
   ],
   "source": [
    "from pyspark.sql import functions as F\n",
    "\n",
    "df_barras = (spark.table(\"GOLD.PONTUACAO_ESTADOS\")\n",
    "             .groupBy(\"ESTADO\")\n",
    "             .agg(F.sum(\"PONTUACAO_TOTAL\").alias(\"PONTUACAO_ACUMULADA\"))\n",
    "             .orderBy(F.desc(\"PONTUACAO_ACUMULADA\"))\n",
    ")\n",
    "\n",
    "\n",
    "df_barras_pandas = df_barras.toPandas()\n",
    "\n",
    "\n",
    "import plotly.express as px\n",
    "\n",
    "fig = px.bar(\n",
    "    df_barras_pandas,\n",
    "    x=\"ESTADO\",\n",
    "    y=\"PONTUACAO_ACUMULADA\",\n",
    "    title=\"Pontuação Total Acumulada por Estado (Todos os Anos)\",\n",
    "    labels={\n",
    "        \"PONTUACAO_ACUMULADA\": \"Pontuação Total\", \n",
    "        \"ESTADO\": \"Estado\"\n",
    "    },\n",
    "    color=\"ESTADO\",\n",
    "    color_discrete_sequence=px.colors.qualitative.Plotly,\n",
    "    template=\"plotly_white\"\n",
    ")\n",
    "\n",
    "fig.update_layout(\n",
    "    height=600,\n",
    "    xaxis_title=\"\",\n",
    "    yaxis_title=\"Pontuação Total\",\n",
    "    showlegend=False,\n",
    "    xaxis={'categoryorder':'total descending'}, \n",
    "    hoverlabel=dict(\n",
    "        bgcolor=\"white\",\n",
    "        font_size=12,\n",
    "        font_family=\"Arial\"\n",
    "    )\n",
    ")\n",
    "\n",
    "\n",
    "fig.update_traces(\n",
    "    marker_line_color='rgb(8,48,107)',\n",
    "    marker_line_width=1.5,\n",
    "    opacity=0.8,\n",
    "    texttemplate='%{y:,.0f} pontos',  \n",
    "    textposition='outside'\n",
    ")\n",
    "\n",
    "\n",
    "fig.show()"
   ]
  },
  {
   "cell_type": "markdown",
   "metadata": {
    "application/vnd.databricks.v1+cell": {
     "cellMetadata": {},
     "inputWidgets": {},
     "nuid": "9a3d467f-b945-435b-acb7-f1d0e8409aba",
     "showTitle": false,
     "tableResultSettingsMap": {},
     "title": ""
    }
   },
   "source": [
    ">  Dados de Migração"
   ]
  },
  {
   "cell_type": "code",
   "execution_count": 0,
   "metadata": {
    "application/vnd.databricks.v1+cell": {
     "cellMetadata": {
      "byteLimit": 2048000,
      "implicitDf": true,
      "rowLimit": 10000
     },
     "inputWidgets": {},
     "nuid": "e7d3357c-4231-4a68-b95c-5b45b69c006d",
     "showTitle": false,
     "tableResultSettingsMap": {},
     "title": ""
    }
   },
   "outputs": [
    {
     "output_type": "display_data",
     "data": {
      "text/html": [
       "<style scoped>\n",
       "  .table-result-container {\n",
       "    max-height: 300px;\n",
       "    overflow: auto;\n",
       "  }\n",
       "  table, th, td {\n",
       "    border: 1px solid black;\n",
       "    border-collapse: collapse;\n",
       "  }\n",
       "  th, td {\n",
       "    padding: 5px;\n",
       "  }\n",
       "  th {\n",
       "    text-align: left;\n",
       "  }\n",
       "</style><div class='table-result-container'><table class='table-result'><thead style='background-color: white'><tr><th>ESTADO</th><th>SALDO_MIGRATORIO_MEDIO</th><th>PERCENTUAL_MEDIO</th><th>ANOS_ATRATOR</th></tr></thead><tbody><tr><td>Roraima</td><td>-13508.7</td><td>3.342999999999999</td><td>1</td></tr><tr><td>Amapá</td><td>-26343.9</td><td>3.414</td><td>0</td></tr><tr><td>Acre</td><td>-30871.6</td><td>3.813999999999999</td><td>0</td></tr><tr><td>Tocantins</td><td>-43735.7</td><td>2.8879999999999995</td><td>0</td></tr><tr><td>Rondônia</td><td>-47704.3</td><td>3.511</td><td>1</td></tr><tr><td>Sergipe</td><td>-54224.7</td><td>2.4210000000000003</td><td>0</td></tr><tr><td>Espírito Santo</td><td>-65035.1</td><td>2.3630000000000004</td><td>1</td></tr><tr><td>Goiás</td><td>-66956.3</td><td>1.3090000000000002</td><td>2</td></tr><tr><td>Rio Grande do Norte</td><td>-68225.2</td><td>2.175</td><td>1</td></tr><tr><td>Mato Grosso do Sul</td><td>-69136.0</td><td>2.607</td><td>0</td></tr><tr><td>Paraíba</td><td>-92829.1</td><td>2.3440000000000003</td><td>0</td></tr><tr><td>Mato Grosso</td><td>-97905.7</td><td>2.9779999999999998</td><td>0</td></tr><tr><td>Piauí</td><td>-97967.9</td><td>3.0500000000000003</td><td>0</td></tr><tr><td>Alagoas</td><td>-100384.6</td><td>3.0269999999999997</td><td>0</td></tr><tr><td>Santa Catarina</td><td>-113880.9</td><td>1.842</td><td>1</td></tr><tr><td>Distrito Federal</td><td>-114787.0</td><td>3.9549999999999996</td><td>0</td></tr><tr><td>Rio Grande do Sul</td><td>-123996.6</td><td>1.437</td><td>2</td></tr><tr><td>Rio de Janeiro</td><td>-136463.5</td><td>1.108</td><td>3</td></tr><tr><td>Amazonas</td><td>-141806.2</td><td>3.604</td><td>0</td></tr><tr><td>Pernambuco</td><td>-195231.8</td><td>2.097</td><td>0</td></tr><tr><td>Paraná</td><td>-205157.2</td><td>1.9779999999999998</td><td>1</td></tr><tr><td>Ceará</td><td>-207031.3</td><td>2.327</td><td>0</td></tr><tr><td>Pará</td><td>-261517.2</td><td>3.1919999999999997</td><td>0</td></tr><tr><td>Maranhão</td><td>-263298.5</td><td>3.8099999999999996</td><td>0</td></tr><tr><td>Minas Gerais</td><td>-305529.0</td><td>1.675</td><td>1</td></tr><tr><td>Bahia</td><td>-353689.1</td><td>2.882</td><td>1</td></tr><tr><td>São Paulo</td><td>-652098.4</td><td>1.6640000000000001</td><td>1</td></tr></tbody></table></div>"
      ]
     },
     "metadata": {
      "application/vnd.databricks.v1+output": {
       "addedWidgets": {},
       "aggData": [],
       "aggError": "",
       "aggOverflow": false,
       "aggSchema": [],
       "aggSeriesLimitReached": false,
       "aggType": "",
       "arguments": {},
       "columnCustomDisplayInfos": {},
       "data": [
        [
         "Roraima",
         -13508.7,
         3.342999999999999,
         1
        ],
        [
         "Amapá",
         -26343.9,
         3.414,
         0
        ],
        [
         "Acre",
         -30871.6,
         3.813999999999999,
         0
        ],
        [
         "Tocantins",
         -43735.7,
         2.8879999999999995,
         0
        ],
        [
         "Rondônia",
         -47704.3,
         3.511,
         1
        ],
        [
         "Sergipe",
         -54224.7,
         2.4210000000000003,
         0
        ],
        [
         "Espírito Santo",
         -65035.1,
         2.3630000000000004,
         1
        ],
        [
         "Goiás",
         -66956.3,
         1.3090000000000002,
         2
        ],
        [
         "Rio Grande do Norte",
         -68225.2,
         2.175,
         1
        ],
        [
         "Mato Grosso do Sul",
         -69136.0,
         2.607,
         0
        ],
        [
         "Paraíba",
         -92829.1,
         2.3440000000000003,
         0
        ],
        [
         "Mato Grosso",
         -97905.7,
         2.9779999999999998,
         0
        ],
        [
         "Piauí",
         -97967.9,
         3.0500000000000003,
         0
        ],
        [
         "Alagoas",
         -100384.6,
         3.0269999999999997,
         0
        ],
        [
         "Santa Catarina",
         -113880.9,
         1.842,
         1
        ],
        [
         "Distrito Federal",
         -114787.0,
         3.9549999999999996,
         0
        ],
        [
         "Rio Grande do Sul",
         -123996.6,
         1.437,
         2
        ],
        [
         "Rio de Janeiro",
         -136463.5,
         1.108,
         3
        ],
        [
         "Amazonas",
         -141806.2,
         3.604,
         0
        ],
        [
         "Pernambuco",
         -195231.8,
         2.097,
         0
        ],
        [
         "Paraná",
         -205157.2,
         1.9779999999999998,
         1
        ],
        [
         "Ceará",
         -207031.3,
         2.327,
         0
        ],
        [
         "Pará",
         -261517.2,
         3.1919999999999997,
         0
        ],
        [
         "Maranhão",
         -263298.5,
         3.8099999999999996,
         0
        ],
        [
         "Minas Gerais",
         -305529.0,
         1.675,
         1
        ],
        [
         "Bahia",
         -353689.1,
         2.882,
         1
        ],
        [
         "São Paulo",
         -652098.4,
         1.6640000000000001,
         1
        ]
       ],
       "datasetInfos": [],
       "dbfsResultPath": null,
       "isJsonSchema": true,
       "metadata": {},
       "overflow": false,
       "plotOptions": {
        "customPlotOptions": {},
        "displayType": "table",
        "pivotAggregation": null,
        "pivotColumns": null,
        "xColumns": null,
        "yColumns": null
       },
       "removedWidgets": [],
       "schema": [
        {
         "metadata": "{}",
         "name": "ESTADO",
         "type": "\"string\""
        },
        {
         "metadata": "{}",
         "name": "SALDO_MIGRATORIO_MEDIO",
         "type": "\"double\""
        },
        {
         "metadata": "{}",
         "name": "PERCENTUAL_MEDIO",
         "type": "\"double\""
        },
        {
         "metadata": "{}",
         "name": "ANOS_ATRATOR",
         "type": "\"long\""
        }
       ],
       "type": "table"
      }
     },
     "output_type": "display_data"
    }
   ],
   "source": [
    "%sql\n",
    "SELECT \n",
    "    ESTADO,\n",
    "    AVG(MIGRACAO_LIQUIDA) AS SALDO_MIGRATORIO_MEDIO,\n",
    "    AVG(PERCENTUAL_MIGRACAO) AS PERCENTUAL_MEDIO,\n",
    "    COUNT(CASE WHEN TIPO_FLUXO = 'Entrada líquida' THEN 1 END) AS ANOS_ATRATOR\n",
    "FROM GOLD.MIGRACAO_ESTADUAL\n",
    "GROUP BY ESTADO\n",
    "ORDER BY SALDO_MIGRATORIO_MEDIO DESC;"
   ]
  },
  {
   "cell_type": "code",
   "execution_count": 0,
   "metadata": {
    "application/vnd.databricks.v1+cell": {
     "cellMetadata": {
      "byteLimit": 2048000,
      "rowLimit": 10000
     },
     "inputWidgets": {},
     "nuid": "5a9bbc82-bfd0-4cc1-986f-cea823fbbbc5",
     "showTitle": false,
     "tableResultSettingsMap": {},
     "title": ""
    }
   },
   "outputs": [
    {
     "output_type": "display_data",
     "data": {
      "text/html": [
       "<html>\n",
       "<head><meta charset=\"utf-8\" /></head>\n",
       "<body>\n",
       "    <div>            <script src=\"https://cdnjs.cloudflare.com/ajax/libs/mathjax/2.7.5/MathJax.js?config=TeX-AMS-MML_SVG\"></script><script type=\"text/javascript\">if (window.MathJax) {MathJax.Hub.Config({SVG: {font: \"STIX-Web\"}});}</script>                <script type=\"text/javascript\">window.PlotlyConfig = {MathJaxConfig: 'local'};</script>\n",
       "        <script src=\"https://cdn.plot.ly/plotly-2.9.0.min.js\"></script>                <div id=\"a694d25f-f50b-4323-9446-debde095d0f9\" class=\"plotly-graph-div\" style=\"height:800px; width:100%;\"></div>            <script type=\"text/javascript\">                                    window.PLOTLYENV=window.PLOTLYENV || {};                                    if (document.getElementById(\"a694d25f-f50b-4323-9446-debde095d0f9\")) {                    Plotly.newPlot(                        \"a694d25f-f50b-4323-9446-debde095d0f9\",                        [{\"alignmentgroup\":\"True\",\"customdata\":[[1.6640000000000001,1.0],[2.882,1.0],[1.675,1.0],[3.8099999999999996,0.0],[3.1919999999999997,0.0],[2.327,0.0],[1.9779999999999998,1.0],[2.097,0.0],[3.604,0.0],[1.108,3.0],[1.437,2.0],[3.9549999999999996,0.0],[1.842,1.0],[3.0269999999999997,0.0],[3.0500000000000003,0.0],[2.9779999999999998,0.0],[2.3440000000000003,0.0],[2.607,0.0],[2.175,1.0],[1.3090000000000002,2.0],[2.3630000000000004,1.0],[2.4210000000000003,0.0],[3.511,1.0],[2.8879999999999995,0.0],[3.813999999999999,0.0],[3.414,0.0],[3.342999999999999,1.0]],\"hovertemplate\":\"Saldo (pessoas/ano)=%{marker.color}<br>ESTADO=%{y}<br>PERCENTUAL_MEDIO=%{customdata[0]}<br>ANOS_ATRATOR=%{customdata[1]}<extra></extra>\",\"legendgroup\":\"\",\"marker\":{\"color\":[-652098.4,-353689.1,-305529.0,-263298.5,-261517.2,-207031.3,-205157.2,-195231.8,-141806.2,-136463.5,-123996.6,-114787.0,-113880.9,-100384.6,-97967.9,-97905.7,-92829.1,-69136.0,-68225.2,-66956.3,-65035.1,-54224.7,-47704.3,-43735.7,-30871.6,-26343.9,-13508.7],\"coloraxis\":\"coloraxis\",\"pattern\":{\"shape\":\"\"}},\"name\":\"\",\"offsetgroup\":\"\",\"orientation\":\"h\",\"showlegend\":false,\"textposition\":\"auto\",\"x\":[-652098.4,-353689.1,-305529.0,-263298.5,-261517.2,-207031.3,-205157.2,-195231.8,-141806.2,-136463.5,-123996.6,-114787.0,-113880.9,-100384.6,-97967.9,-97905.7,-92829.1,-69136.0,-68225.2,-66956.3,-65035.1,-54224.7,-47704.3,-43735.7,-30871.6,-26343.9,-13508.7],\"xaxis\":\"x\",\"y\":[\"S\\u00e3o Paulo\",\"Bahia\",\"Minas Gerais\",\"Maranh\\u00e3o\",\"Par\\u00e1\",\"Cear\\u00e1\",\"Paran\\u00e1\",\"Pernambuco\",\"Amazonas\",\"Rio de Janeiro\",\"Rio Grande do Sul\",\"Distrito Federal\",\"Santa Catarina\",\"Alagoas\",\"Piau\\u00ed\",\"Mato Grosso\",\"Para\\u00edba\",\"Mato Grosso do Sul\",\"Rio Grande do Norte\",\"Goi\\u00e1s\",\"Esp\\u00edrito Santo\",\"Sergipe\",\"Rond\\u00f4nia\",\"Tocantins\",\"Acre\",\"Amap\\u00e1\",\"Roraima\"],\"yaxis\":\"y\",\"type\":\"bar\"}],                        {\"template\":{\"data\":{\"bar\":[{\"error_x\":{\"color\":\"#2a3f5f\"},\"error_y\":{\"color\":\"#2a3f5f\"},\"marker\":{\"line\":{\"color\":\"#E5ECF6\",\"width\":0.5},\"pattern\":{\"fillmode\":\"overlay\",\"size\":10,\"solidity\":0.2}},\"type\":\"bar\"}],\"barpolar\":[{\"marker\":{\"line\":{\"color\":\"#E5ECF6\",\"width\":0.5},\"pattern\":{\"fillmode\":\"overlay\",\"size\":10,\"solidity\":0.2}},\"type\":\"barpolar\"}],\"carpet\":[{\"aaxis\":{\"endlinecolor\":\"#2a3f5f\",\"gridcolor\":\"white\",\"linecolor\":\"white\",\"minorgridcolor\":\"white\",\"startlinecolor\":\"#2a3f5f\"},\"baxis\":{\"endlinecolor\":\"#2a3f5f\",\"gridcolor\":\"white\",\"linecolor\":\"white\",\"minorgridcolor\":\"white\",\"startlinecolor\":\"#2a3f5f\"},\"type\":\"carpet\"}],\"choropleth\":[{\"colorbar\":{\"outlinewidth\":0,\"ticks\":\"\"},\"type\":\"choropleth\"}],\"contour\":[{\"colorbar\":{\"outlinewidth\":0,\"ticks\":\"\"},\"colorscale\":[[0.0,\"#0d0887\"],[0.1111111111111111,\"#46039f\"],[0.2222222222222222,\"#7201a8\"],[0.3333333333333333,\"#9c179e\"],[0.4444444444444444,\"#bd3786\"],[0.5555555555555556,\"#d8576b\"],[0.6666666666666666,\"#ed7953\"],[0.7777777777777778,\"#fb9f3a\"],[0.8888888888888888,\"#fdca26\"],[1.0,\"#f0f921\"]],\"type\":\"contour\"}],\"contourcarpet\":[{\"colorbar\":{\"outlinewidth\":0,\"ticks\":\"\"},\"type\":\"contourcarpet\"}],\"heatmap\":[{\"colorbar\":{\"outlinewidth\":0,\"ticks\":\"\"},\"colorscale\":[[0.0,\"#0d0887\"],[0.1111111111111111,\"#46039f\"],[0.2222222222222222,\"#7201a8\"],[0.3333333333333333,\"#9c179e\"],[0.4444444444444444,\"#bd3786\"],[0.5555555555555556,\"#d8576b\"],[0.6666666666666666,\"#ed7953\"],[0.7777777777777778,\"#fb9f3a\"],[0.8888888888888888,\"#fdca26\"],[1.0,\"#f0f921\"]],\"type\":\"heatmap\"}],\"heatmapgl\":[{\"colorbar\":{\"outlinewidth\":0,\"ticks\":\"\"},\"colorscale\":[[0.0,\"#0d0887\"],[0.1111111111111111,\"#46039f\"],[0.2222222222222222,\"#7201a8\"],[0.3333333333333333,\"#9c179e\"],[0.4444444444444444,\"#bd3786\"],[0.5555555555555556,\"#d8576b\"],[0.6666666666666666,\"#ed7953\"],[0.7777777777777778,\"#fb9f3a\"],[0.8888888888888888,\"#fdca26\"],[1.0,\"#f0f921\"]],\"type\":\"heatmapgl\"}],\"histogram\":[{\"marker\":{\"pattern\":{\"fillmode\":\"overlay\",\"size\":10,\"solidity\":0.2}},\"type\":\"histogram\"}],\"histogram2d\":[{\"colorbar\":{\"outlinewidth\":0,\"ticks\":\"\"},\"colorscale\":[[0.0,\"#0d0887\"],[0.1111111111111111,\"#46039f\"],[0.2222222222222222,\"#7201a8\"],[0.3333333333333333,\"#9c179e\"],[0.4444444444444444,\"#bd3786\"],[0.5555555555555556,\"#d8576b\"],[0.6666666666666666,\"#ed7953\"],[0.7777777777777778,\"#fb9f3a\"],[0.8888888888888888,\"#fdca26\"],[1.0,\"#f0f921\"]],\"type\":\"histogram2d\"}],\"histogram2dcontour\":[{\"colorbar\":{\"outlinewidth\":0,\"ticks\":\"\"},\"colorscale\":[[0.0,\"#0d0887\"],[0.1111111111111111,\"#46039f\"],[0.2222222222222222,\"#7201a8\"],[0.3333333333333333,\"#9c179e\"],[0.4444444444444444,\"#bd3786\"],[0.5555555555555556,\"#d8576b\"],[0.6666666666666666,\"#ed7953\"],[0.7777777777777778,\"#fb9f3a\"],[0.8888888888888888,\"#fdca26\"],[1.0,\"#f0f921\"]],\"type\":\"histogram2dcontour\"}],\"mesh3d\":[{\"colorbar\":{\"outlinewidth\":0,\"ticks\":\"\"},\"type\":\"mesh3d\"}],\"parcoords\":[{\"line\":{\"colorbar\":{\"outlinewidth\":0,\"ticks\":\"\"}},\"type\":\"parcoords\"}],\"pie\":[{\"automargin\":true,\"type\":\"pie\"}],\"scatter\":[{\"marker\":{\"colorbar\":{\"outlinewidth\":0,\"ticks\":\"\"}},\"type\":\"scatter\"}],\"scatter3d\":[{\"line\":{\"colorbar\":{\"outlinewidth\":0,\"ticks\":\"\"}},\"marker\":{\"colorbar\":{\"outlinewidth\":0,\"ticks\":\"\"}},\"type\":\"scatter3d\"}],\"scattercarpet\":[{\"marker\":{\"colorbar\":{\"outlinewidth\":0,\"ticks\":\"\"}},\"type\":\"scattercarpet\"}],\"scattergeo\":[{\"marker\":{\"colorbar\":{\"outlinewidth\":0,\"ticks\":\"\"}},\"type\":\"scattergeo\"}],\"scattergl\":[{\"marker\":{\"colorbar\":{\"outlinewidth\":0,\"ticks\":\"\"}},\"type\":\"scattergl\"}],\"scattermapbox\":[{\"marker\":{\"colorbar\":{\"outlinewidth\":0,\"ticks\":\"\"}},\"type\":\"scattermapbox\"}],\"scatterpolar\":[{\"marker\":{\"colorbar\":{\"outlinewidth\":0,\"ticks\":\"\"}},\"type\":\"scatterpolar\"}],\"scatterpolargl\":[{\"marker\":{\"colorbar\":{\"outlinewidth\":0,\"ticks\":\"\"}},\"type\":\"scatterpolargl\"}],\"scatterternary\":[{\"marker\":{\"colorbar\":{\"outlinewidth\":0,\"ticks\":\"\"}},\"type\":\"scatterternary\"}],\"surface\":[{\"colorbar\":{\"outlinewidth\":0,\"ticks\":\"\"},\"colorscale\":[[0.0,\"#0d0887\"],[0.1111111111111111,\"#46039f\"],[0.2222222222222222,\"#7201a8\"],[0.3333333333333333,\"#9c179e\"],[0.4444444444444444,\"#bd3786\"],[0.5555555555555556,\"#d8576b\"],[0.6666666666666666,\"#ed7953\"],[0.7777777777777778,\"#fb9f3a\"],[0.8888888888888888,\"#fdca26\"],[1.0,\"#f0f921\"]],\"type\":\"surface\"}],\"table\":[{\"cells\":{\"fill\":{\"color\":\"#EBF0F8\"},\"line\":{\"color\":\"white\"}},\"header\":{\"fill\":{\"color\":\"#C8D4E3\"},\"line\":{\"color\":\"white\"}},\"type\":\"table\"}]},\"layout\":{\"annotationdefaults\":{\"arrowcolor\":\"#2a3f5f\",\"arrowhead\":0,\"arrowwidth\":1},\"autotypenumbers\":\"strict\",\"coloraxis\":{\"colorbar\":{\"outlinewidth\":0,\"ticks\":\"\"}},\"colorscale\":{\"diverging\":[[0,\"#8e0152\"],[0.1,\"#c51b7d\"],[0.2,\"#de77ae\"],[0.3,\"#f1b6da\"],[0.4,\"#fde0ef\"],[0.5,\"#f7f7f7\"],[0.6,\"#e6f5d0\"],[0.7,\"#b8e186\"],[0.8,\"#7fbc41\"],[0.9,\"#4d9221\"],[1,\"#276419\"]],\"sequential\":[[0.0,\"#0d0887\"],[0.1111111111111111,\"#46039f\"],[0.2222222222222222,\"#7201a8\"],[0.3333333333333333,\"#9c179e\"],[0.4444444444444444,\"#bd3786\"],[0.5555555555555556,\"#d8576b\"],[0.6666666666666666,\"#ed7953\"],[0.7777777777777778,\"#fb9f3a\"],[0.8888888888888888,\"#fdca26\"],[1.0,\"#f0f921\"]],\"sequentialminus\":[[0.0,\"#0d0887\"],[0.1111111111111111,\"#46039f\"],[0.2222222222222222,\"#7201a8\"],[0.3333333333333333,\"#9c179e\"],[0.4444444444444444,\"#bd3786\"],[0.5555555555555556,\"#d8576b\"],[0.6666666666666666,\"#ed7953\"],[0.7777777777777778,\"#fb9f3a\"],[0.8888888888888888,\"#fdca26\"],[1.0,\"#f0f921\"]]},\"colorway\":[\"#636efa\",\"#EF553B\",\"#00cc96\",\"#ab63fa\",\"#FFA15A\",\"#19d3f3\",\"#FF6692\",\"#B6E880\",\"#FF97FF\",\"#FECB52\"],\"font\":{\"color\":\"#2a3f5f\"},\"geo\":{\"bgcolor\":\"white\",\"lakecolor\":\"white\",\"landcolor\":\"#E5ECF6\",\"showlakes\":true,\"showland\":true,\"subunitcolor\":\"white\"},\"hoverlabel\":{\"align\":\"left\"},\"hovermode\":\"closest\",\"mapbox\":{\"style\":\"light\"},\"paper_bgcolor\":\"white\",\"plot_bgcolor\":\"#E5ECF6\",\"polar\":{\"angularaxis\":{\"gridcolor\":\"white\",\"linecolor\":\"white\",\"ticks\":\"\"},\"bgcolor\":\"#E5ECF6\",\"radialaxis\":{\"gridcolor\":\"white\",\"linecolor\":\"white\",\"ticks\":\"\"}},\"scene\":{\"xaxis\":{\"backgroundcolor\":\"#E5ECF6\",\"gridcolor\":\"white\",\"gridwidth\":2,\"linecolor\":\"white\",\"showbackground\":true,\"ticks\":\"\",\"zerolinecolor\":\"white\"},\"yaxis\":{\"backgroundcolor\":\"#E5ECF6\",\"gridcolor\":\"white\",\"gridwidth\":2,\"linecolor\":\"white\",\"showbackground\":true,\"ticks\":\"\",\"zerolinecolor\":\"white\"},\"zaxis\":{\"backgroundcolor\":\"#E5ECF6\",\"gridcolor\":\"white\",\"gridwidth\":2,\"linecolor\":\"white\",\"showbackground\":true,\"ticks\":\"\",\"zerolinecolor\":\"white\"}},\"shapedefaults\":{\"line\":{\"color\":\"#2a3f5f\"}},\"ternary\":{\"aaxis\":{\"gridcolor\":\"white\",\"linecolor\":\"white\",\"ticks\":\"\"},\"baxis\":{\"gridcolor\":\"white\",\"linecolor\":\"white\",\"ticks\":\"\"},\"bgcolor\":\"#E5ECF6\",\"caxis\":{\"gridcolor\":\"white\",\"linecolor\":\"white\",\"ticks\":\"\"}},\"title\":{\"x\":0.05},\"xaxis\":{\"automargin\":true,\"gridcolor\":\"white\",\"linecolor\":\"white\",\"ticks\":\"\",\"title\":{\"standoff\":15},\"zerolinecolor\":\"white\",\"zerolinewidth\":2},\"yaxis\":{\"automargin\":true,\"gridcolor\":\"white\",\"linecolor\":\"white\",\"ticks\":\"\",\"title\":{\"standoff\":15},\"zerolinecolor\":\"white\",\"zerolinewidth\":2}}},\"xaxis\":{\"anchor\":\"y\",\"domain\":[0.0,1.0],\"title\":{\"text\":\"Saldo (pessoas/ano)\"}},\"yaxis\":{\"anchor\":\"x\",\"domain\":[0.0,1.0],\"title\":{\"text\":\"ESTADO\"}},\"coloraxis\":{\"colorbar\":{\"title\":{\"text\":\"Saldo (pessoas/ano)\"}},\"colorscale\":[[0.0,\"rgb(165,0,38)\"],[0.1,\"rgb(215,48,39)\"],[0.2,\"rgb(244,109,67)\"],[0.3,\"rgb(253,174,97)\"],[0.4,\"rgb(254,224,144)\"],[0.5,\"rgb(255,255,191)\"],[0.6,\"rgb(224,243,248)\"],[0.7,\"rgb(171,217,233)\"],[0.8,\"rgb(116,173,209)\"],[0.9,\"rgb(69,117,180)\"],[1.0,\"rgb(49,54,149)\"]],\"cmin\":-652098.4,\"cmax\":-13508.7},\"legend\":{\"tracegroupgap\":0},\"title\":{\"text\":\"Saldo Migrat\\u00f3rio por Estado\"},\"barmode\":\"relative\",\"height\":800},                        {\"responsive\": true}                    )                };                            </script>        </div>\n",
       "</body>\n",
       "</html>"
      ]
     },
     "metadata": {
      "application/vnd.databricks.v1+output": {
       "addedWidgets": {},
       "arguments": {},
       "data": "<html>\n<head><meta charset=\"utf-8\" /></head>\n<body>\n    <div>            <script src=\"https://cdnjs.cloudflare.com/ajax/libs/mathjax/2.7.5/MathJax.js?config=TeX-AMS-MML_SVG\"></script><script type=\"text/javascript\">if (window.MathJax) {MathJax.Hub.Config({SVG: {font: \"STIX-Web\"}});}</script>                <script type=\"text/javascript\">window.PlotlyConfig = {MathJaxConfig: 'local'};</script>\n        <script src=\"https://cdn.plot.ly/plotly-2.9.0.min.js\"></script>                <div id=\"a694d25f-f50b-4323-9446-debde095d0f9\" class=\"plotly-graph-div\" style=\"height:800px; width:100%;\"></div>            <script type=\"text/javascript\">                                    window.PLOTLYENV=window.PLOTLYENV || {};                                    if (document.getElementById(\"a694d25f-f50b-4323-9446-debde095d0f9\")) {                    Plotly.newPlot(                        \"a694d25f-f50b-4323-9446-debde095d0f9\",                        [{\"alignmentgroup\":\"True\",\"customdata\":[[1.6640000000000001,1.0],[2.882,1.0],[1.675,1.0],[3.8099999999999996,0.0],[3.1919999999999997,0.0],[2.327,0.0],[1.9779999999999998,1.0],[2.097,0.0],[3.604,0.0],[1.108,3.0],[1.437,2.0],[3.9549999999999996,0.0],[1.842,1.0],[3.0269999999999997,0.0],[3.0500000000000003,0.0],[2.9779999999999998,0.0],[2.3440000000000003,0.0],[2.607,0.0],[2.175,1.0],[1.3090000000000002,2.0],[2.3630000000000004,1.0],[2.4210000000000003,0.0],[3.511,1.0],[2.8879999999999995,0.0],[3.813999999999999,0.0],[3.414,0.0],[3.342999999999999,1.0]],\"hovertemplate\":\"Saldo (pessoas/ano)=%{marker.color}<br>ESTADO=%{y}<br>PERCENTUAL_MEDIO=%{customdata[0]}<br>ANOS_ATRATOR=%{customdata[1]}<extra></extra>\",\"legendgroup\":\"\",\"marker\":{\"color\":[-652098.4,-353689.1,-305529.0,-263298.5,-261517.2,-207031.3,-205157.2,-195231.8,-141806.2,-136463.5,-123996.6,-114787.0,-113880.9,-100384.6,-97967.9,-97905.7,-92829.1,-69136.0,-68225.2,-66956.3,-65035.1,-54224.7,-47704.3,-43735.7,-30871.6,-26343.9,-13508.7],\"coloraxis\":\"coloraxis\",\"pattern\":{\"shape\":\"\"}},\"name\":\"\",\"offsetgroup\":\"\",\"orientation\":\"h\",\"showlegend\":false,\"textposition\":\"auto\",\"x\":[-652098.4,-353689.1,-305529.0,-263298.5,-261517.2,-207031.3,-205157.2,-195231.8,-141806.2,-136463.5,-123996.6,-114787.0,-113880.9,-100384.6,-97967.9,-97905.7,-92829.1,-69136.0,-68225.2,-66956.3,-65035.1,-54224.7,-47704.3,-43735.7,-30871.6,-26343.9,-13508.7],\"xaxis\":\"x\",\"y\":[\"S\\u00e3o Paulo\",\"Bahia\",\"Minas Gerais\",\"Maranh\\u00e3o\",\"Par\\u00e1\",\"Cear\\u00e1\",\"Paran\\u00e1\",\"Pernambuco\",\"Amazonas\",\"Rio de Janeiro\",\"Rio Grande do Sul\",\"Distrito Federal\",\"Santa Catarina\",\"Alagoas\",\"Piau\\u00ed\",\"Mato Grosso\",\"Para\\u00edba\",\"Mato Grosso do Sul\",\"Rio Grande do Norte\",\"Goi\\u00e1s\",\"Esp\\u00edrito Santo\",\"Sergipe\",\"Rond\\u00f4nia\",\"Tocantins\",\"Acre\",\"Amap\\u00e1\",\"Roraima\"],\"yaxis\":\"y\",\"type\":\"bar\"}],                        {\"template\":{\"data\":{\"bar\":[{\"error_x\":{\"color\":\"#2a3f5f\"},\"error_y\":{\"color\":\"#2a3f5f\"},\"marker\":{\"line\":{\"color\":\"#E5ECF6\",\"width\":0.5},\"pattern\":{\"fillmode\":\"overlay\",\"size\":10,\"solidity\":0.2}},\"type\":\"bar\"}],\"barpolar\":[{\"marker\":{\"line\":{\"color\":\"#E5ECF6\",\"width\":0.5},\"pattern\":{\"fillmode\":\"overlay\",\"size\":10,\"solidity\":0.2}},\"type\":\"barpolar\"}],\"carpet\":[{\"aaxis\":{\"endlinecolor\":\"#2a3f5f\",\"gridcolor\":\"white\",\"linecolor\":\"white\",\"minorgridcolor\":\"white\",\"startlinecolor\":\"#2a3f5f\"},\"baxis\":{\"endlinecolor\":\"#2a3f5f\",\"gridcolor\":\"white\",\"linecolor\":\"white\",\"minorgridcolor\":\"white\",\"startlinecolor\":\"#2a3f5f\"},\"type\":\"carpet\"}],\"choropleth\":[{\"colorbar\":{\"outlinewidth\":0,\"ticks\":\"\"},\"type\":\"choropleth\"}],\"contour\":[{\"colorbar\":{\"outlinewidth\":0,\"ticks\":\"\"},\"colorscale\":[[0.0,\"#0d0887\"],[0.1111111111111111,\"#46039f\"],[0.2222222222222222,\"#7201a8\"],[0.3333333333333333,\"#9c179e\"],[0.4444444444444444,\"#bd3786\"],[0.5555555555555556,\"#d8576b\"],[0.6666666666666666,\"#ed7953\"],[0.7777777777777778,\"#fb9f3a\"],[0.8888888888888888,\"#fdca26\"],[1.0,\"#f0f921\"]],\"type\":\"contour\"}],\"contourcarpet\":[{\"colorbar\":{\"outlinewidth\":0,\"ticks\":\"\"},\"type\":\"contourcarpet\"}],\"heatmap\":[{\"colorbar\":{\"outlinewidth\":0,\"ticks\":\"\"},\"colorscale\":[[0.0,\"#0d0887\"],[0.1111111111111111,\"#46039f\"],[0.2222222222222222,\"#7201a8\"],[0.3333333333333333,\"#9c179e\"],[0.4444444444444444,\"#bd3786\"],[0.5555555555555556,\"#d8576b\"],[0.6666666666666666,\"#ed7953\"],[0.7777777777777778,\"#fb9f3a\"],[0.8888888888888888,\"#fdca26\"],[1.0,\"#f0f921\"]],\"type\":\"heatmap\"}],\"heatmapgl\":[{\"colorbar\":{\"outlinewidth\":0,\"ticks\":\"\"},\"colorscale\":[[0.0,\"#0d0887\"],[0.1111111111111111,\"#46039f\"],[0.2222222222222222,\"#7201a8\"],[0.3333333333333333,\"#9c179e\"],[0.4444444444444444,\"#bd3786\"],[0.5555555555555556,\"#d8576b\"],[0.6666666666666666,\"#ed7953\"],[0.7777777777777778,\"#fb9f3a\"],[0.8888888888888888,\"#fdca26\"],[1.0,\"#f0f921\"]],\"type\":\"heatmapgl\"}],\"histogram\":[{\"marker\":{\"pattern\":{\"fillmode\":\"overlay\",\"size\":10,\"solidity\":0.2}},\"type\":\"histogram\"}],\"histogram2d\":[{\"colorbar\":{\"outlinewidth\":0,\"ticks\":\"\"},\"colorscale\":[[0.0,\"#0d0887\"],[0.1111111111111111,\"#46039f\"],[0.2222222222222222,\"#7201a8\"],[0.3333333333333333,\"#9c179e\"],[0.4444444444444444,\"#bd3786\"],[0.5555555555555556,\"#d8576b\"],[0.6666666666666666,\"#ed7953\"],[0.7777777777777778,\"#fb9f3a\"],[0.8888888888888888,\"#fdca26\"],[1.0,\"#f0f921\"]],\"type\":\"histogram2d\"}],\"histogram2dcontour\":[{\"colorbar\":{\"outlinewidth\":0,\"ticks\":\"\"},\"colorscale\":[[0.0,\"#0d0887\"],[0.1111111111111111,\"#46039f\"],[0.2222222222222222,\"#7201a8\"],[0.3333333333333333,\"#9c179e\"],[0.4444444444444444,\"#bd3786\"],[0.5555555555555556,\"#d8576b\"],[0.6666666666666666,\"#ed7953\"],[0.7777777777777778,\"#fb9f3a\"],[0.8888888888888888,\"#fdca26\"],[1.0,\"#f0f921\"]],\"type\":\"histogram2dcontour\"}],\"mesh3d\":[{\"colorbar\":{\"outlinewidth\":0,\"ticks\":\"\"},\"type\":\"mesh3d\"}],\"parcoords\":[{\"line\":{\"colorbar\":{\"outlinewidth\":0,\"ticks\":\"\"}},\"type\":\"parcoords\"}],\"pie\":[{\"automargin\":true,\"type\":\"pie\"}],\"scatter\":[{\"marker\":{\"colorbar\":{\"outlinewidth\":0,\"ticks\":\"\"}},\"type\":\"scatter\"}],\"scatter3d\":[{\"line\":{\"colorbar\":{\"outlinewidth\":0,\"ticks\":\"\"}},\"marker\":{\"colorbar\":{\"outlinewidth\":0,\"ticks\":\"\"}},\"type\":\"scatter3d\"}],\"scattercarpet\":[{\"marker\":{\"colorbar\":{\"outlinewidth\":0,\"ticks\":\"\"}},\"type\":\"scattercarpet\"}],\"scattergeo\":[{\"marker\":{\"colorbar\":{\"outlinewidth\":0,\"ticks\":\"\"}},\"type\":\"scattergeo\"}],\"scattergl\":[{\"marker\":{\"colorbar\":{\"outlinewidth\":0,\"ticks\":\"\"}},\"type\":\"scattergl\"}],\"scattermapbox\":[{\"marker\":{\"colorbar\":{\"outlinewidth\":0,\"ticks\":\"\"}},\"type\":\"scattermapbox\"}],\"scatterpolar\":[{\"marker\":{\"colorbar\":{\"outlinewidth\":0,\"ticks\":\"\"}},\"type\":\"scatterpolar\"}],\"scatterpolargl\":[{\"marker\":{\"colorbar\":{\"outlinewidth\":0,\"ticks\":\"\"}},\"type\":\"scatterpolargl\"}],\"scatterternary\":[{\"marker\":{\"colorbar\":{\"outlinewidth\":0,\"ticks\":\"\"}},\"type\":\"scatterternary\"}],\"surface\":[{\"colorbar\":{\"outlinewidth\":0,\"ticks\":\"\"},\"colorscale\":[[0.0,\"#0d0887\"],[0.1111111111111111,\"#46039f\"],[0.2222222222222222,\"#7201a8\"],[0.3333333333333333,\"#9c179e\"],[0.4444444444444444,\"#bd3786\"],[0.5555555555555556,\"#d8576b\"],[0.6666666666666666,\"#ed7953\"],[0.7777777777777778,\"#fb9f3a\"],[0.8888888888888888,\"#fdca26\"],[1.0,\"#f0f921\"]],\"type\":\"surface\"}],\"table\":[{\"cells\":{\"fill\":{\"color\":\"#EBF0F8\"},\"line\":{\"color\":\"white\"}},\"header\":{\"fill\":{\"color\":\"#C8D4E3\"},\"line\":{\"color\":\"white\"}},\"type\":\"table\"}]},\"layout\":{\"annotationdefaults\":{\"arrowcolor\":\"#2a3f5f\",\"arrowhead\":0,\"arrowwidth\":1},\"autotypenumbers\":\"strict\",\"coloraxis\":{\"colorbar\":{\"outlinewidth\":0,\"ticks\":\"\"}},\"colorscale\":{\"diverging\":[[0,\"#8e0152\"],[0.1,\"#c51b7d\"],[0.2,\"#de77ae\"],[0.3,\"#f1b6da\"],[0.4,\"#fde0ef\"],[0.5,\"#f7f7f7\"],[0.6,\"#e6f5d0\"],[0.7,\"#b8e186\"],[0.8,\"#7fbc41\"],[0.9,\"#4d9221\"],[1,\"#276419\"]],\"sequential\":[[0.0,\"#0d0887\"],[0.1111111111111111,\"#46039f\"],[0.2222222222222222,\"#7201a8\"],[0.3333333333333333,\"#9c179e\"],[0.4444444444444444,\"#bd3786\"],[0.5555555555555556,\"#d8576b\"],[0.6666666666666666,\"#ed7953\"],[0.7777777777777778,\"#fb9f3a\"],[0.8888888888888888,\"#fdca26\"],[1.0,\"#f0f921\"]],\"sequentialminus\":[[0.0,\"#0d0887\"],[0.1111111111111111,\"#46039f\"],[0.2222222222222222,\"#7201a8\"],[0.3333333333333333,\"#9c179e\"],[0.4444444444444444,\"#bd3786\"],[0.5555555555555556,\"#d8576b\"],[0.6666666666666666,\"#ed7953\"],[0.7777777777777778,\"#fb9f3a\"],[0.8888888888888888,\"#fdca26\"],[1.0,\"#f0f921\"]]},\"colorway\":[\"#636efa\",\"#EF553B\",\"#00cc96\",\"#ab63fa\",\"#FFA15A\",\"#19d3f3\",\"#FF6692\",\"#B6E880\",\"#FF97FF\",\"#FECB52\"],\"font\":{\"color\":\"#2a3f5f\"},\"geo\":{\"bgcolor\":\"white\",\"lakecolor\":\"white\",\"landcolor\":\"#E5ECF6\",\"showlakes\":true,\"showland\":true,\"subunitcolor\":\"white\"},\"hoverlabel\":{\"align\":\"left\"},\"hovermode\":\"closest\",\"mapbox\":{\"style\":\"light\"},\"paper_bgcolor\":\"white\",\"plot_bgcolor\":\"#E5ECF6\",\"polar\":{\"angularaxis\":{\"gridcolor\":\"white\",\"linecolor\":\"white\",\"ticks\":\"\"},\"bgcolor\":\"#E5ECF6\",\"radialaxis\":{\"gridcolor\":\"white\",\"linecolor\":\"white\",\"ticks\":\"\"}},\"scene\":{\"xaxis\":{\"backgroundcolor\":\"#E5ECF6\",\"gridcolor\":\"white\",\"gridwidth\":2,\"linecolor\":\"white\",\"showbackground\":true,\"ticks\":\"\",\"zerolinecolor\":\"white\"},\"yaxis\":{\"backgroundcolor\":\"#E5ECF6\",\"gridcolor\":\"white\",\"gridwidth\":2,\"linecolor\":\"white\",\"showbackground\":true,\"ticks\":\"\",\"zerolinecolor\":\"white\"},\"zaxis\":{\"backgroundcolor\":\"#E5ECF6\",\"gridcolor\":\"white\",\"gridwidth\":2,\"linecolor\":\"white\",\"showbackground\":true,\"ticks\":\"\",\"zerolinecolor\":\"white\"}},\"shapedefaults\":{\"line\":{\"color\":\"#2a3f5f\"}},\"ternary\":{\"aaxis\":{\"gridcolor\":\"white\",\"linecolor\":\"white\",\"ticks\":\"\"},\"baxis\":{\"gridcolor\":\"white\",\"linecolor\":\"white\",\"ticks\":\"\"},\"bgcolor\":\"#E5ECF6\",\"caxis\":{\"gridcolor\":\"white\",\"linecolor\":\"white\",\"ticks\":\"\"}},\"title\":{\"x\":0.05},\"xaxis\":{\"automargin\":true,\"gridcolor\":\"white\",\"linecolor\":\"white\",\"ticks\":\"\",\"title\":{\"standoff\":15},\"zerolinecolor\":\"white\",\"zerolinewidth\":2},\"yaxis\":{\"automargin\":true,\"gridcolor\":\"white\",\"linecolor\":\"white\",\"ticks\":\"\",\"title\":{\"standoff\":15},\"zerolinecolor\":\"white\",\"zerolinewidth\":2}}},\"xaxis\":{\"anchor\":\"y\",\"domain\":[0.0,1.0],\"title\":{\"text\":\"Saldo (pessoas/ano)\"}},\"yaxis\":{\"anchor\":\"x\",\"domain\":[0.0,1.0],\"title\":{\"text\":\"ESTADO\"}},\"coloraxis\":{\"colorbar\":{\"title\":{\"text\":\"Saldo (pessoas/ano)\"}},\"colorscale\":[[0.0,\"rgb(165,0,38)\"],[0.1,\"rgb(215,48,39)\"],[0.2,\"rgb(244,109,67)\"],[0.3,\"rgb(253,174,97)\"],[0.4,\"rgb(254,224,144)\"],[0.5,\"rgb(255,255,191)\"],[0.6,\"rgb(224,243,248)\"],[0.7,\"rgb(171,217,233)\"],[0.8,\"rgb(116,173,209)\"],[0.9,\"rgb(69,117,180)\"],[1.0,\"rgb(49,54,149)\"]],\"cmin\":-652098.4,\"cmax\":-13508.7},\"legend\":{\"tracegroupgap\":0},\"title\":{\"text\":\"Saldo Migrat\\u00f3rio por Estado\"},\"barmode\":\"relative\",\"height\":800},                        {\"responsive\": true}                    )                };                            </script>        </div>\n</body>\n</html>",
       "datasetInfos": [],
       "metadata": {},
       "removedWidgets": [],
       "textData": null,
       "type": "htmlSandbox"
      }
     },
     "output_type": "display_data"
    }
   ],
   "source": [
    "import plotly.express as px\n",
    "\n",
    "fig = px.bar(\n",
    "    df.sort_values('SALDO_MIGRATORIO_MEDIO', ascending=True),\n",
    "    x='SALDO_MIGRATORIO_MEDIO',\n",
    "    y='ESTADO',\n",
    "    color='SALDO_MIGRATORIO_MEDIO',\n",
    "    color_continuous_scale='RdYlBu',  \n",
    "    range_color=[df['SALDO_MIGRATORIO_MEDIO'].min(), df['SALDO_MIGRATORIO_MEDIO'].max()],\n",
    "    title='Saldo Migratório por Estado',\n",
    "    labels={'SALDO_MIGRATORIO_MEDIO': 'Saldo (pessoas/ano)'},\n",
    "    hover_data=['PERCENTUAL_MEDIO', 'ANOS_ATRATOR'],\n",
    "    orientation='h',\n",
    "    height=800  \n",
    ")\n",
    "\n",
    "\n",
    "\n",
    "fig.show()"
   ]
  },
  {
   "cell_type": "code",
   "execution_count": 0,
   "metadata": {
    "application/vnd.databricks.v1+cell": {
     "cellMetadata": {
      "byteLimit": 2048000,
      "implicitDf": true,
      "rowLimit": 10000
     },
     "inputWidgets": {},
     "nuid": "a32a448e-ee95-42ce-b9ec-ccbc8008ee98",
     "showTitle": false,
     "tableResultSettingsMap": {},
     "title": ""
    }
   },
   "outputs": [
    {
     "output_type": "display_data",
     "data": {
      "text/html": [
       "<style scoped>\n",
       "  .table-result-container {\n",
       "    max-height: 300px;\n",
       "    overflow: auto;\n",
       "  }\n",
       "  table, th, td {\n",
       "    border: 1px solid black;\n",
       "    border-collapse: collapse;\n",
       "  }\n",
       "  th, td {\n",
       "    padding: 5px;\n",
       "  }\n",
       "  th {\n",
       "    text-align: left;\n",
       "  }\n",
       "</style><div class='table-result-container'><table class='table-result'><thead style='background-color: white'><tr><th>ESTADO</th><th>SIGLA</th><th>REGIAO</th><th>SALDO_MIGRATORIO_MEDIO</th><th>PERCENTUAL_MEDIO</th><th>ANOS_ATRATOR</th></tr></thead><tbody><tr><td>Roraima</td><td>RR</td><td>Norte</td><td>-13508.7</td><td>3.342999999999999</td><td>1</td></tr><tr><td>Amapá</td><td>AP</td><td>Norte</td><td>-26343.9</td><td>3.414</td><td>0</td></tr><tr><td>Acre</td><td>AC</td><td>Norte</td><td>-30871.6</td><td>3.813999999999999</td><td>0</td></tr><tr><td>Tocantins</td><td>TO</td><td>Norte</td><td>-43735.7</td><td>2.8879999999999995</td><td>0</td></tr><tr><td>Rondônia</td><td>RO</td><td>Norte</td><td>-47704.3</td><td>3.511</td><td>1</td></tr><tr><td>Sergipe</td><td>SE</td><td>Nordeste</td><td>-54224.7</td><td>2.4210000000000003</td><td>0</td></tr><tr><td>Espírito Santo</td><td>ES</td><td>Sudeste</td><td>-65035.1</td><td>2.3630000000000004</td><td>1</td></tr><tr><td>Goiás</td><td>GO</td><td>Centro-Oeste</td><td>-66956.3</td><td>1.3090000000000002</td><td>2</td></tr><tr><td>Rio Grande do Norte</td><td>RN</td><td>Nordeste</td><td>-68225.2</td><td>2.175</td><td>1</td></tr><tr><td>Mato Grosso do Sul</td><td>MS</td><td>Centro-Oeste</td><td>-69136.0</td><td>2.607</td><td>0</td></tr><tr><td>Paraíba</td><td>PB</td><td>Nordeste</td><td>-92829.1</td><td>2.3440000000000003</td><td>0</td></tr><tr><td>Mato Grosso</td><td>MT</td><td>Centro-Oeste</td><td>-97905.7</td><td>2.9779999999999998</td><td>0</td></tr><tr><td>Piauí</td><td>PI</td><td>Nordeste</td><td>-97967.9</td><td>3.0500000000000003</td><td>0</td></tr><tr><td>Alagoas</td><td>AL</td><td>Nordeste</td><td>-100384.6</td><td>3.0269999999999997</td><td>0</td></tr><tr><td>Santa Catarina</td><td>SC</td><td>Sul</td><td>-113880.9</td><td>1.842</td><td>1</td></tr><tr><td>Distrito Federal</td><td>DF</td><td>Centro-Oeste</td><td>-114787.0</td><td>3.9549999999999996</td><td>0</td></tr><tr><td>Rio Grande do Sul</td><td>RS</td><td>Sul</td><td>-123996.6</td><td>1.437</td><td>2</td></tr><tr><td>Rio de Janeiro</td><td>RJ</td><td>Sudeste</td><td>-136463.5</td><td>1.108</td><td>3</td></tr><tr><td>Amazonas</td><td>AM</td><td>Norte</td><td>-141806.2</td><td>3.604</td><td>0</td></tr><tr><td>Pernambuco</td><td>PE</td><td>Nordeste</td><td>-195231.8</td><td>2.097</td><td>0</td></tr><tr><td>Paraná</td><td>PR</td><td>Sul</td><td>-205157.2</td><td>1.9779999999999998</td><td>1</td></tr><tr><td>Ceará</td><td>CE</td><td>Nordeste</td><td>-207031.3</td><td>2.327</td><td>0</td></tr><tr><td>Pará</td><td>PA</td><td>Norte</td><td>-261517.2</td><td>3.1919999999999997</td><td>0</td></tr><tr><td>Maranhão</td><td>MA</td><td>Nordeste</td><td>-263298.5</td><td>3.8099999999999996</td><td>0</td></tr><tr><td>Minas Gerais</td><td>MG</td><td>Sudeste</td><td>-305529.0</td><td>1.675</td><td>1</td></tr><tr><td>Bahia</td><td>BA</td><td>Nordeste</td><td>-353689.1</td><td>2.882</td><td>1</td></tr><tr><td>São Paulo</td><td>SP</td><td>Sudeste</td><td>-652098.4</td><td>1.6640000000000001</td><td>1</td></tr></tbody></table></div>"
      ]
     },
     "metadata": {
      "application/vnd.databricks.v1+output": {
       "addedWidgets": {},
       "aggData": [],
       "aggError": "",
       "aggOverflow": false,
       "aggSchema": [],
       "aggSeriesLimitReached": false,
       "aggType": "",
       "arguments": {},
       "columnCustomDisplayInfos": {},
       "data": [
        [
         "Roraima",
         "RR",
         "Norte",
         -13508.7,
         3.342999999999999,
         1
        ],
        [
         "Amapá",
         "AP",
         "Norte",
         -26343.9,
         3.414,
         0
        ],
        [
         "Acre",
         "AC",
         "Norte",
         -30871.6,
         3.813999999999999,
         0
        ],
        [
         "Tocantins",
         "TO",
         "Norte",
         -43735.7,
         2.8879999999999995,
         0
        ],
        [
         "Rondônia",
         "RO",
         "Norte",
         -47704.3,
         3.511,
         1
        ],
        [
         "Sergipe",
         "SE",
         "Nordeste",
         -54224.7,
         2.4210000000000003,
         0
        ],
        [
         "Espírito Santo",
         "ES",
         "Sudeste",
         -65035.1,
         2.3630000000000004,
         1
        ],
        [
         "Goiás",
         "GO",
         "Centro-Oeste",
         -66956.3,
         1.3090000000000002,
         2
        ],
        [
         "Rio Grande do Norte",
         "RN",
         "Nordeste",
         -68225.2,
         2.175,
         1
        ],
        [
         "Mato Grosso do Sul",
         "MS",
         "Centro-Oeste",
         -69136.0,
         2.607,
         0
        ],
        [
         "Paraíba",
         "PB",
         "Nordeste",
         -92829.1,
         2.3440000000000003,
         0
        ],
        [
         "Mato Grosso",
         "MT",
         "Centro-Oeste",
         -97905.7,
         2.9779999999999998,
         0
        ],
        [
         "Piauí",
         "PI",
         "Nordeste",
         -97967.9,
         3.0500000000000003,
         0
        ],
        [
         "Alagoas",
         "AL",
         "Nordeste",
         -100384.6,
         3.0269999999999997,
         0
        ],
        [
         "Santa Catarina",
         "SC",
         "Sul",
         -113880.9,
         1.842,
         1
        ],
        [
         "Distrito Federal",
         "DF",
         "Centro-Oeste",
         -114787.0,
         3.9549999999999996,
         0
        ],
        [
         "Rio Grande do Sul",
         "RS",
         "Sul",
         -123996.6,
         1.437,
         2
        ],
        [
         "Rio de Janeiro",
         "RJ",
         "Sudeste",
         -136463.5,
         1.108,
         3
        ],
        [
         "Amazonas",
         "AM",
         "Norte",
         -141806.2,
         3.604,
         0
        ],
        [
         "Pernambuco",
         "PE",
         "Nordeste",
         -195231.8,
         2.097,
         0
        ],
        [
         "Paraná",
         "PR",
         "Sul",
         -205157.2,
         1.9779999999999998,
         1
        ],
        [
         "Ceará",
         "CE",
         "Nordeste",
         -207031.3,
         2.327,
         0
        ],
        [
         "Pará",
         "PA",
         "Norte",
         -261517.2,
         3.1919999999999997,
         0
        ],
        [
         "Maranhão",
         "MA",
         "Nordeste",
         -263298.5,
         3.8099999999999996,
         0
        ],
        [
         "Minas Gerais",
         "MG",
         "Sudeste",
         -305529.0,
         1.675,
         1
        ],
        [
         "Bahia",
         "BA",
         "Nordeste",
         -353689.1,
         2.882,
         1
        ],
        [
         "São Paulo",
         "SP",
         "Sudeste",
         -652098.4,
         1.6640000000000001,
         1
        ]
       ],
       "datasetInfos": [],
       "dbfsResultPath": null,
       "isJsonSchema": true,
       "metadata": {},
       "overflow": false,
       "plotOptions": {
        "customPlotOptions": {},
        "displayType": "table",
        "pivotAggregation": null,
        "pivotColumns": null,
        "xColumns": null,
        "yColumns": null
       },
       "removedWidgets": [],
       "schema": [
        {
         "metadata": "{}",
         "name": "ESTADO",
         "type": "\"string\""
        },
        {
         "metadata": "{}",
         "name": "SIGLA",
         "type": "\"string\""
        },
        {
         "metadata": "{}",
         "name": "REGIAO",
         "type": "\"string\""
        },
        {
         "metadata": "{}",
         "name": "SALDO_MIGRATORIO_MEDIO",
         "type": "\"double\""
        },
        {
         "metadata": "{}",
         "name": "PERCENTUAL_MEDIO",
         "type": "\"double\""
        },
        {
         "metadata": "{}",
         "name": "ANOS_ATRATOR",
         "type": "\"long\""
        }
       ],
       "type": "table"
      }
     },
     "output_type": "display_data"
    }
   ],
   "source": [
    "%sql\n",
    "SELECT \n",
    "    m.ESTADO,\n",
    "    e.SIGLA,\n",
    "    e.REGIAO,\n",
    "    AVG(m.MIGRACAO_LIQUIDA) AS SALDO_MIGRATORIO_MEDIO,\n",
    "    AVG(m.PERCENTUAL_MIGRACAO) AS PERCENTUAL_MEDIO,\n",
    "    COUNT(CASE WHEN m.TIPO_FLUXO = 'Entrada líquida' THEN 1 END) AS ANOS_ATRATOR\n",
    "FROM GOLD.MIGRACAO_ESTADUAL m\n",
    "JOIN GOLD.SIGLAS_ESTADO e ON m.ESTADO = e.ESTADO\n",
    "GROUP BY m.ESTADO, e.SIGLA, e.REGIAO\n",
    "ORDER BY SALDO_MIGRATORIO_MEDIO DESC"
   ]
  },
  {
   "cell_type": "code",
   "execution_count": 0,
   "metadata": {
    "application/vnd.databricks.v1+cell": {
     "cellMetadata": {
      "byteLimit": 2048000,
      "rowLimit": 10000
     },
     "inputWidgets": {},
     "nuid": "ac94a1b2-4fcc-408f-8d0e-9fa6776d9215",
     "showTitle": false,
     "tableResultSettingsMap": {},
     "title": ""
    }
   },
   "outputs": [
    {
     "output_type": "display_data",
     "data": {
      "text/html": [
       "<html>\n",
       "<head><meta charset=\"utf-8\" /></head>\n",
       "<body>\n",
       "    <div>            <script src=\"https://cdnjs.cloudflare.com/ajax/libs/mathjax/2.7.5/MathJax.js?config=TeX-AMS-MML_SVG\"></script><script type=\"text/javascript\">if (window.MathJax) {MathJax.Hub.Config({SVG: {font: \"STIX-Web\"}});}</script>                <script type=\"text/javascript\">window.PlotlyConfig = {MathJaxConfig: 'local'};</script>\n",
       "        <script src=\"https://cdn.plot.ly/plotly-2.9.0.min.js\"></script>                <div id=\"3ed68cf6-9132-45da-8140-1fb187c56974\" class=\"plotly-graph-div\" style=\"height:800px; width:100%;\"></div>            <script type=\"text/javascript\">                                    window.PLOTLYENV=window.PLOTLYENV || {};                                    if (document.getElementById(\"3ed68cf6-9132-45da-8140-1fb187c56974\")) {                    Plotly.newPlot(                        \"3ed68cf6-9132-45da-8140-1fb187c56974\",                        [{\"alignmentgroup\":\"True\",\"customdata\":[[\"SP\",1.6640000000000001,1],[\"MG\",1.675,1],[\"RJ\",1.108,3],[\"ES\",2.3630000000000004,1]],\"hovertemplate\":\"<b>%{y}</b><br>Saldo: %{x:,.0f}<br>Regi\\u00e3o: %{customdata[0]}\",\"legendgroup\":\"Sudeste\",\"marker\":{\"color\":\"rgb(102, 197, 204)\",\"pattern\":{\"shape\":\"\"}},\"name\":\"Sudeste\",\"offsetgroup\":\"Sudeste\",\"orientation\":\"h\",\"showlegend\":true,\"textposition\":\"auto\",\"x\":[-652098.4,-305529.0,-136463.5,-65035.1],\"xaxis\":\"x\",\"y\":[\"S\\u00e3o Paulo\",\"Minas Gerais\",\"Rio de Janeiro\",\"Esp\\u00edrito Santo\"],\"yaxis\":\"y\",\"type\":\"bar\"},{\"alignmentgroup\":\"True\",\"customdata\":[[\"BA\",2.882,1],[\"MA\",3.8099999999999996,0],[\"CE\",2.327,0],[\"PE\",2.097,0],[\"AL\",3.0269999999999997,0],[\"PI\",3.0500000000000003,0],[\"PB\",2.3440000000000003,0],[\"RN\",2.175,1],[\"SE\",2.4210000000000003,0]],\"hovertemplate\":\"<b>%{y}</b><br>Saldo: %{x:,.0f}<br>Regi\\u00e3o: %{customdata[0]}\",\"legendgroup\":\"Nordeste\",\"marker\":{\"color\":\"rgb(246, 207, 113)\",\"pattern\":{\"shape\":\"\"}},\"name\":\"Nordeste\",\"offsetgroup\":\"Nordeste\",\"orientation\":\"h\",\"showlegend\":true,\"textposition\":\"auto\",\"x\":[-353689.1,-263298.5,-207031.3,-195231.8,-100384.6,-97967.9,-92829.1,-68225.2,-54224.7],\"xaxis\":\"x\",\"y\":[\"Bahia\",\"Maranh\\u00e3o\",\"Cear\\u00e1\",\"Pernambuco\",\"Alagoas\",\"Piau\\u00ed\",\"Para\\u00edba\",\"Rio Grande do Norte\",\"Sergipe\"],\"yaxis\":\"y\",\"type\":\"bar\"},{\"alignmentgroup\":\"True\",\"customdata\":[[\"PA\",3.1919999999999997,0],[\"AM\",3.604,0],[\"RO\",3.511,1],[\"TO\",2.8879999999999995,0],[\"AC\",3.813999999999999,0],[\"AP\",3.414,0],[\"RR\",3.342999999999999,1]],\"hovertemplate\":\"<b>%{y}</b><br>Saldo: %{x:,.0f}<br>Regi\\u00e3o: %{customdata[0]}\",\"legendgroup\":\"Norte\",\"marker\":{\"color\":\"rgb(248, 156, 116)\",\"pattern\":{\"shape\":\"\"}},\"name\":\"Norte\",\"offsetgroup\":\"Norte\",\"orientation\":\"h\",\"showlegend\":true,\"textposition\":\"auto\",\"x\":[-261517.2,-141806.2,-47704.3,-43735.7,-30871.6,-26343.9,-13508.7],\"xaxis\":\"x\",\"y\":[\"Par\\u00e1\",\"Amazonas\",\"Rond\\u00f4nia\",\"Tocantins\",\"Acre\",\"Amap\\u00e1\",\"Roraima\"],\"yaxis\":\"y\",\"type\":\"bar\"},{\"alignmentgroup\":\"True\",\"customdata\":[[\"PR\",1.9779999999999998,1],[\"RS\",1.437,2],[\"SC\",1.842,1]],\"hovertemplate\":\"<b>%{y}</b><br>Saldo: %{x:,.0f}<br>Regi\\u00e3o: %{customdata[0]}\",\"legendgroup\":\"Sul\",\"marker\":{\"color\":\"rgb(220, 176, 242)\",\"pattern\":{\"shape\":\"\"}},\"name\":\"Sul\",\"offsetgroup\":\"Sul\",\"orientation\":\"h\",\"showlegend\":true,\"textposition\":\"auto\",\"x\":[-205157.2,-123996.6,-113880.9],\"xaxis\":\"x\",\"y\":[\"Paran\\u00e1\",\"Rio Grande do Sul\",\"Santa Catarina\"],\"yaxis\":\"y\",\"type\":\"bar\"},{\"alignmentgroup\":\"True\",\"customdata\":[[\"DF\",3.9549999999999996,0],[\"MT\",2.9779999999999998,0],[\"MS\",2.607,0],[\"GO\",1.3090000000000002,2]],\"hovertemplate\":\"<b>%{y}</b><br>Saldo: %{x:,.0f}<br>Regi\\u00e3o: %{customdata[0]}\",\"legendgroup\":\"Centro-Oeste\",\"marker\":{\"color\":\"rgb(135, 197, 95)\",\"pattern\":{\"shape\":\"\"}},\"name\":\"Centro-Oeste\",\"offsetgroup\":\"Centro-Oeste\",\"orientation\":\"h\",\"showlegend\":true,\"textposition\":\"auto\",\"x\":[-114787.0,-97905.7,-69136.0,-66956.3],\"xaxis\":\"x\",\"y\":[\"Distrito Federal\",\"Mato Grosso\",\"Mato Grosso do Sul\",\"Goi\\u00e1s\"],\"yaxis\":\"y\",\"type\":\"bar\"}],                        {\"template\":{\"data\":{\"bar\":[{\"error_x\":{\"color\":\"#2a3f5f\"},\"error_y\":{\"color\":\"#2a3f5f\"},\"marker\":{\"line\":{\"color\":\"#E5ECF6\",\"width\":0.5},\"pattern\":{\"fillmode\":\"overlay\",\"size\":10,\"solidity\":0.2}},\"type\":\"bar\"}],\"barpolar\":[{\"marker\":{\"line\":{\"color\":\"#E5ECF6\",\"width\":0.5},\"pattern\":{\"fillmode\":\"overlay\",\"size\":10,\"solidity\":0.2}},\"type\":\"barpolar\"}],\"carpet\":[{\"aaxis\":{\"endlinecolor\":\"#2a3f5f\",\"gridcolor\":\"white\",\"linecolor\":\"white\",\"minorgridcolor\":\"white\",\"startlinecolor\":\"#2a3f5f\"},\"baxis\":{\"endlinecolor\":\"#2a3f5f\",\"gridcolor\":\"white\",\"linecolor\":\"white\",\"minorgridcolor\":\"white\",\"startlinecolor\":\"#2a3f5f\"},\"type\":\"carpet\"}],\"choropleth\":[{\"colorbar\":{\"outlinewidth\":0,\"ticks\":\"\"},\"type\":\"choropleth\"}],\"contour\":[{\"colorbar\":{\"outlinewidth\":0,\"ticks\":\"\"},\"colorscale\":[[0.0,\"#0d0887\"],[0.1111111111111111,\"#46039f\"],[0.2222222222222222,\"#7201a8\"],[0.3333333333333333,\"#9c179e\"],[0.4444444444444444,\"#bd3786\"],[0.5555555555555556,\"#d8576b\"],[0.6666666666666666,\"#ed7953\"],[0.7777777777777778,\"#fb9f3a\"],[0.8888888888888888,\"#fdca26\"],[1.0,\"#f0f921\"]],\"type\":\"contour\"}],\"contourcarpet\":[{\"colorbar\":{\"outlinewidth\":0,\"ticks\":\"\"},\"type\":\"contourcarpet\"}],\"heatmap\":[{\"colorbar\":{\"outlinewidth\":0,\"ticks\":\"\"},\"colorscale\":[[0.0,\"#0d0887\"],[0.1111111111111111,\"#46039f\"],[0.2222222222222222,\"#7201a8\"],[0.3333333333333333,\"#9c179e\"],[0.4444444444444444,\"#bd3786\"],[0.5555555555555556,\"#d8576b\"],[0.6666666666666666,\"#ed7953\"],[0.7777777777777778,\"#fb9f3a\"],[0.8888888888888888,\"#fdca26\"],[1.0,\"#f0f921\"]],\"type\":\"heatmap\"}],\"heatmapgl\":[{\"colorbar\":{\"outlinewidth\":0,\"ticks\":\"\"},\"colorscale\":[[0.0,\"#0d0887\"],[0.1111111111111111,\"#46039f\"],[0.2222222222222222,\"#7201a8\"],[0.3333333333333333,\"#9c179e\"],[0.4444444444444444,\"#bd3786\"],[0.5555555555555556,\"#d8576b\"],[0.6666666666666666,\"#ed7953\"],[0.7777777777777778,\"#fb9f3a\"],[0.8888888888888888,\"#fdca26\"],[1.0,\"#f0f921\"]],\"type\":\"heatmapgl\"}],\"histogram\":[{\"marker\":{\"pattern\":{\"fillmode\":\"overlay\",\"size\":10,\"solidity\":0.2}},\"type\":\"histogram\"}],\"histogram2d\":[{\"colorbar\":{\"outlinewidth\":0,\"ticks\":\"\"},\"colorscale\":[[0.0,\"#0d0887\"],[0.1111111111111111,\"#46039f\"],[0.2222222222222222,\"#7201a8\"],[0.3333333333333333,\"#9c179e\"],[0.4444444444444444,\"#bd3786\"],[0.5555555555555556,\"#d8576b\"],[0.6666666666666666,\"#ed7953\"],[0.7777777777777778,\"#fb9f3a\"],[0.8888888888888888,\"#fdca26\"],[1.0,\"#f0f921\"]],\"type\":\"histogram2d\"}],\"histogram2dcontour\":[{\"colorbar\":{\"outlinewidth\":0,\"ticks\":\"\"},\"colorscale\":[[0.0,\"#0d0887\"],[0.1111111111111111,\"#46039f\"],[0.2222222222222222,\"#7201a8\"],[0.3333333333333333,\"#9c179e\"],[0.4444444444444444,\"#bd3786\"],[0.5555555555555556,\"#d8576b\"],[0.6666666666666666,\"#ed7953\"],[0.7777777777777778,\"#fb9f3a\"],[0.8888888888888888,\"#fdca26\"],[1.0,\"#f0f921\"]],\"type\":\"histogram2dcontour\"}],\"mesh3d\":[{\"colorbar\":{\"outlinewidth\":0,\"ticks\":\"\"},\"type\":\"mesh3d\"}],\"parcoords\":[{\"line\":{\"colorbar\":{\"outlinewidth\":0,\"ticks\":\"\"}},\"type\":\"parcoords\"}],\"pie\":[{\"automargin\":true,\"type\":\"pie\"}],\"scatter\":[{\"marker\":{\"colorbar\":{\"outlinewidth\":0,\"ticks\":\"\"}},\"type\":\"scatter\"}],\"scatter3d\":[{\"line\":{\"colorbar\":{\"outlinewidth\":0,\"ticks\":\"\"}},\"marker\":{\"colorbar\":{\"outlinewidth\":0,\"ticks\":\"\"}},\"type\":\"scatter3d\"}],\"scattercarpet\":[{\"marker\":{\"colorbar\":{\"outlinewidth\":0,\"ticks\":\"\"}},\"type\":\"scattercarpet\"}],\"scattergeo\":[{\"marker\":{\"colorbar\":{\"outlinewidth\":0,\"ticks\":\"\"}},\"type\":\"scattergeo\"}],\"scattergl\":[{\"marker\":{\"colorbar\":{\"outlinewidth\":0,\"ticks\":\"\"}},\"type\":\"scattergl\"}],\"scattermapbox\":[{\"marker\":{\"colorbar\":{\"outlinewidth\":0,\"ticks\":\"\"}},\"type\":\"scattermapbox\"}],\"scatterpolar\":[{\"marker\":{\"colorbar\":{\"outlinewidth\":0,\"ticks\":\"\"}},\"type\":\"scatterpolar\"}],\"scatterpolargl\":[{\"marker\":{\"colorbar\":{\"outlinewidth\":0,\"ticks\":\"\"}},\"type\":\"scatterpolargl\"}],\"scatterternary\":[{\"marker\":{\"colorbar\":{\"outlinewidth\":0,\"ticks\":\"\"}},\"type\":\"scatterternary\"}],\"surface\":[{\"colorbar\":{\"outlinewidth\":0,\"ticks\":\"\"},\"colorscale\":[[0.0,\"#0d0887\"],[0.1111111111111111,\"#46039f\"],[0.2222222222222222,\"#7201a8\"],[0.3333333333333333,\"#9c179e\"],[0.4444444444444444,\"#bd3786\"],[0.5555555555555556,\"#d8576b\"],[0.6666666666666666,\"#ed7953\"],[0.7777777777777778,\"#fb9f3a\"],[0.8888888888888888,\"#fdca26\"],[1.0,\"#f0f921\"]],\"type\":\"surface\"}],\"table\":[{\"cells\":{\"fill\":{\"color\":\"#EBF0F8\"},\"line\":{\"color\":\"white\"}},\"header\":{\"fill\":{\"color\":\"#C8D4E3\"},\"line\":{\"color\":\"white\"}},\"type\":\"table\"}]},\"layout\":{\"annotationdefaults\":{\"arrowcolor\":\"#2a3f5f\",\"arrowhead\":0,\"arrowwidth\":1},\"autotypenumbers\":\"strict\",\"coloraxis\":{\"colorbar\":{\"outlinewidth\":0,\"ticks\":\"\"}},\"colorscale\":{\"diverging\":[[0,\"#8e0152\"],[0.1,\"#c51b7d\"],[0.2,\"#de77ae\"],[0.3,\"#f1b6da\"],[0.4,\"#fde0ef\"],[0.5,\"#f7f7f7\"],[0.6,\"#e6f5d0\"],[0.7,\"#b8e186\"],[0.8,\"#7fbc41\"],[0.9,\"#4d9221\"],[1,\"#276419\"]],\"sequential\":[[0.0,\"#0d0887\"],[0.1111111111111111,\"#46039f\"],[0.2222222222222222,\"#7201a8\"],[0.3333333333333333,\"#9c179e\"],[0.4444444444444444,\"#bd3786\"],[0.5555555555555556,\"#d8576b\"],[0.6666666666666666,\"#ed7953\"],[0.7777777777777778,\"#fb9f3a\"],[0.8888888888888888,\"#fdca26\"],[1.0,\"#f0f921\"]],\"sequentialminus\":[[0.0,\"#0d0887\"],[0.1111111111111111,\"#46039f\"],[0.2222222222222222,\"#7201a8\"],[0.3333333333333333,\"#9c179e\"],[0.4444444444444444,\"#bd3786\"],[0.5555555555555556,\"#d8576b\"],[0.6666666666666666,\"#ed7953\"],[0.7777777777777778,\"#fb9f3a\"],[0.8888888888888888,\"#fdca26\"],[1.0,\"#f0f921\"]]},\"colorway\":[\"#636efa\",\"#EF553B\",\"#00cc96\",\"#ab63fa\",\"#FFA15A\",\"#19d3f3\",\"#FF6692\",\"#B6E880\",\"#FF97FF\",\"#FECB52\"],\"font\":{\"color\":\"#2a3f5f\"},\"geo\":{\"bgcolor\":\"white\",\"lakecolor\":\"white\",\"landcolor\":\"#E5ECF6\",\"showlakes\":true,\"showland\":true,\"subunitcolor\":\"white\"},\"hoverlabel\":{\"align\":\"left\"},\"hovermode\":\"closest\",\"mapbox\":{\"style\":\"light\"},\"paper_bgcolor\":\"white\",\"plot_bgcolor\":\"#E5ECF6\",\"polar\":{\"angularaxis\":{\"gridcolor\":\"white\",\"linecolor\":\"white\",\"ticks\":\"\"},\"bgcolor\":\"#E5ECF6\",\"radialaxis\":{\"gridcolor\":\"white\",\"linecolor\":\"white\",\"ticks\":\"\"}},\"scene\":{\"xaxis\":{\"backgroundcolor\":\"#E5ECF6\",\"gridcolor\":\"white\",\"gridwidth\":2,\"linecolor\":\"white\",\"showbackground\":true,\"ticks\":\"\",\"zerolinecolor\":\"white\"},\"yaxis\":{\"backgroundcolor\":\"#E5ECF6\",\"gridcolor\":\"white\",\"gridwidth\":2,\"linecolor\":\"white\",\"showbackground\":true,\"ticks\":\"\",\"zerolinecolor\":\"white\"},\"zaxis\":{\"backgroundcolor\":\"#E5ECF6\",\"gridcolor\":\"white\",\"gridwidth\":2,\"linecolor\":\"white\",\"showbackground\":true,\"ticks\":\"\",\"zerolinecolor\":\"white\"}},\"shapedefaults\":{\"line\":{\"color\":\"#2a3f5f\"}},\"ternary\":{\"aaxis\":{\"gridcolor\":\"white\",\"linecolor\":\"white\",\"ticks\":\"\"},\"baxis\":{\"gridcolor\":\"white\",\"linecolor\":\"white\",\"ticks\":\"\"},\"bgcolor\":\"#E5ECF6\",\"caxis\":{\"gridcolor\":\"white\",\"linecolor\":\"white\",\"ticks\":\"\"}},\"title\":{\"x\":0.05},\"xaxis\":{\"automargin\":true,\"gridcolor\":\"white\",\"linecolor\":\"white\",\"ticks\":\"\",\"title\":{\"standoff\":15},\"zerolinecolor\":\"white\",\"zerolinewidth\":2},\"yaxis\":{\"automargin\":true,\"gridcolor\":\"white\",\"linecolor\":\"white\",\"ticks\":\"\",\"title\":{\"standoff\":15},\"zerolinecolor\":\"white\",\"zerolinewidth\":2}}},\"xaxis\":{\"anchor\":\"y\",\"domain\":[0.0,1.0],\"title\":{\"text\":\"Saldo Migrat\\u00f3rio M\\u00e9dio\"}},\"yaxis\":{\"anchor\":\"x\",\"domain\":[0.0,1.0],\"title\":{\"text\":\"ESTADO\"}},\"legend\":{\"title\":{\"text\":\"REGIAO\"},\"tracegroupgap\":0},\"title\":{\"text\":\"Saldo Migrat\\u00f3rio por Estado e Regi\\u00e3o\"},\"barmode\":\"relative\",\"height\":800},                        {\"responsive\": true}                    )                };                            </script>        </div>\n",
       "</body>\n",
       "</html>"
      ]
     },
     "metadata": {
      "application/vnd.databricks.v1+output": {
       "addedWidgets": {},
       "arguments": {},
       "data": "<html>\n<head><meta charset=\"utf-8\" /></head>\n<body>\n    <div>            <script src=\"https://cdnjs.cloudflare.com/ajax/libs/mathjax/2.7.5/MathJax.js?config=TeX-AMS-MML_SVG\"></script><script type=\"text/javascript\">if (window.MathJax) {MathJax.Hub.Config({SVG: {font: \"STIX-Web\"}});}</script>                <script type=\"text/javascript\">window.PlotlyConfig = {MathJaxConfig: 'local'};</script>\n        <script src=\"https://cdn.plot.ly/plotly-2.9.0.min.js\"></script>                <div id=\"3ed68cf6-9132-45da-8140-1fb187c56974\" class=\"plotly-graph-div\" style=\"height:800px; width:100%;\"></div>            <script type=\"text/javascript\">                                    window.PLOTLYENV=window.PLOTLYENV || {};                                    if (document.getElementById(\"3ed68cf6-9132-45da-8140-1fb187c56974\")) {                    Plotly.newPlot(                        \"3ed68cf6-9132-45da-8140-1fb187c56974\",                        [{\"alignmentgroup\":\"True\",\"customdata\":[[\"SP\",1.6640000000000001,1],[\"MG\",1.675,1],[\"RJ\",1.108,3],[\"ES\",2.3630000000000004,1]],\"hovertemplate\":\"<b>%{y}</b><br>Saldo: %{x:,.0f}<br>Regi\\u00e3o: %{customdata[0]}\",\"legendgroup\":\"Sudeste\",\"marker\":{\"color\":\"rgb(102, 197, 204)\",\"pattern\":{\"shape\":\"\"}},\"name\":\"Sudeste\",\"offsetgroup\":\"Sudeste\",\"orientation\":\"h\",\"showlegend\":true,\"textposition\":\"auto\",\"x\":[-652098.4,-305529.0,-136463.5,-65035.1],\"xaxis\":\"x\",\"y\":[\"S\\u00e3o Paulo\",\"Minas Gerais\",\"Rio de Janeiro\",\"Esp\\u00edrito Santo\"],\"yaxis\":\"y\",\"type\":\"bar\"},{\"alignmentgroup\":\"True\",\"customdata\":[[\"BA\",2.882,1],[\"MA\",3.8099999999999996,0],[\"CE\",2.327,0],[\"PE\",2.097,0],[\"AL\",3.0269999999999997,0],[\"PI\",3.0500000000000003,0],[\"PB\",2.3440000000000003,0],[\"RN\",2.175,1],[\"SE\",2.4210000000000003,0]],\"hovertemplate\":\"<b>%{y}</b><br>Saldo: %{x:,.0f}<br>Regi\\u00e3o: %{customdata[0]}\",\"legendgroup\":\"Nordeste\",\"marker\":{\"color\":\"rgb(246, 207, 113)\",\"pattern\":{\"shape\":\"\"}},\"name\":\"Nordeste\",\"offsetgroup\":\"Nordeste\",\"orientation\":\"h\",\"showlegend\":true,\"textposition\":\"auto\",\"x\":[-353689.1,-263298.5,-207031.3,-195231.8,-100384.6,-97967.9,-92829.1,-68225.2,-54224.7],\"xaxis\":\"x\",\"y\":[\"Bahia\",\"Maranh\\u00e3o\",\"Cear\\u00e1\",\"Pernambuco\",\"Alagoas\",\"Piau\\u00ed\",\"Para\\u00edba\",\"Rio Grande do Norte\",\"Sergipe\"],\"yaxis\":\"y\",\"type\":\"bar\"},{\"alignmentgroup\":\"True\",\"customdata\":[[\"PA\",3.1919999999999997,0],[\"AM\",3.604,0],[\"RO\",3.511,1],[\"TO\",2.8879999999999995,0],[\"AC\",3.813999999999999,0],[\"AP\",3.414,0],[\"RR\",3.342999999999999,1]],\"hovertemplate\":\"<b>%{y}</b><br>Saldo: %{x:,.0f}<br>Regi\\u00e3o: %{customdata[0]}\",\"legendgroup\":\"Norte\",\"marker\":{\"color\":\"rgb(248, 156, 116)\",\"pattern\":{\"shape\":\"\"}},\"name\":\"Norte\",\"offsetgroup\":\"Norte\",\"orientation\":\"h\",\"showlegend\":true,\"textposition\":\"auto\",\"x\":[-261517.2,-141806.2,-47704.3,-43735.7,-30871.6,-26343.9,-13508.7],\"xaxis\":\"x\",\"y\":[\"Par\\u00e1\",\"Amazonas\",\"Rond\\u00f4nia\",\"Tocantins\",\"Acre\",\"Amap\\u00e1\",\"Roraima\"],\"yaxis\":\"y\",\"type\":\"bar\"},{\"alignmentgroup\":\"True\",\"customdata\":[[\"PR\",1.9779999999999998,1],[\"RS\",1.437,2],[\"SC\",1.842,1]],\"hovertemplate\":\"<b>%{y}</b><br>Saldo: %{x:,.0f}<br>Regi\\u00e3o: %{customdata[0]}\",\"legendgroup\":\"Sul\",\"marker\":{\"color\":\"rgb(220, 176, 242)\",\"pattern\":{\"shape\":\"\"}},\"name\":\"Sul\",\"offsetgroup\":\"Sul\",\"orientation\":\"h\",\"showlegend\":true,\"textposition\":\"auto\",\"x\":[-205157.2,-123996.6,-113880.9],\"xaxis\":\"x\",\"y\":[\"Paran\\u00e1\",\"Rio Grande do Sul\",\"Santa Catarina\"],\"yaxis\":\"y\",\"type\":\"bar\"},{\"alignmentgroup\":\"True\",\"customdata\":[[\"DF\",3.9549999999999996,0],[\"MT\",2.9779999999999998,0],[\"MS\",2.607,0],[\"GO\",1.3090000000000002,2]],\"hovertemplate\":\"<b>%{y}</b><br>Saldo: %{x:,.0f}<br>Regi\\u00e3o: %{customdata[0]}\",\"legendgroup\":\"Centro-Oeste\",\"marker\":{\"color\":\"rgb(135, 197, 95)\",\"pattern\":{\"shape\":\"\"}},\"name\":\"Centro-Oeste\",\"offsetgroup\":\"Centro-Oeste\",\"orientation\":\"h\",\"showlegend\":true,\"textposition\":\"auto\",\"x\":[-114787.0,-97905.7,-69136.0,-66956.3],\"xaxis\":\"x\",\"y\":[\"Distrito Federal\",\"Mato Grosso\",\"Mato Grosso do Sul\",\"Goi\\u00e1s\"],\"yaxis\":\"y\",\"type\":\"bar\"}],                        {\"template\":{\"data\":{\"bar\":[{\"error_x\":{\"color\":\"#2a3f5f\"},\"error_y\":{\"color\":\"#2a3f5f\"},\"marker\":{\"line\":{\"color\":\"#E5ECF6\",\"width\":0.5},\"pattern\":{\"fillmode\":\"overlay\",\"size\":10,\"solidity\":0.2}},\"type\":\"bar\"}],\"barpolar\":[{\"marker\":{\"line\":{\"color\":\"#E5ECF6\",\"width\":0.5},\"pattern\":{\"fillmode\":\"overlay\",\"size\":10,\"solidity\":0.2}},\"type\":\"barpolar\"}],\"carpet\":[{\"aaxis\":{\"endlinecolor\":\"#2a3f5f\",\"gridcolor\":\"white\",\"linecolor\":\"white\",\"minorgridcolor\":\"white\",\"startlinecolor\":\"#2a3f5f\"},\"baxis\":{\"endlinecolor\":\"#2a3f5f\",\"gridcolor\":\"white\",\"linecolor\":\"white\",\"minorgridcolor\":\"white\",\"startlinecolor\":\"#2a3f5f\"},\"type\":\"carpet\"}],\"choropleth\":[{\"colorbar\":{\"outlinewidth\":0,\"ticks\":\"\"},\"type\":\"choropleth\"}],\"contour\":[{\"colorbar\":{\"outlinewidth\":0,\"ticks\":\"\"},\"colorscale\":[[0.0,\"#0d0887\"],[0.1111111111111111,\"#46039f\"],[0.2222222222222222,\"#7201a8\"],[0.3333333333333333,\"#9c179e\"],[0.4444444444444444,\"#bd3786\"],[0.5555555555555556,\"#d8576b\"],[0.6666666666666666,\"#ed7953\"],[0.7777777777777778,\"#fb9f3a\"],[0.8888888888888888,\"#fdca26\"],[1.0,\"#f0f921\"]],\"type\":\"contour\"}],\"contourcarpet\":[{\"colorbar\":{\"outlinewidth\":0,\"ticks\":\"\"},\"type\":\"contourcarpet\"}],\"heatmap\":[{\"colorbar\":{\"outlinewidth\":0,\"ticks\":\"\"},\"colorscale\":[[0.0,\"#0d0887\"],[0.1111111111111111,\"#46039f\"],[0.2222222222222222,\"#7201a8\"],[0.3333333333333333,\"#9c179e\"],[0.4444444444444444,\"#bd3786\"],[0.5555555555555556,\"#d8576b\"],[0.6666666666666666,\"#ed7953\"],[0.7777777777777778,\"#fb9f3a\"],[0.8888888888888888,\"#fdca26\"],[1.0,\"#f0f921\"]],\"type\":\"heatmap\"}],\"heatmapgl\":[{\"colorbar\":{\"outlinewidth\":0,\"ticks\":\"\"},\"colorscale\":[[0.0,\"#0d0887\"],[0.1111111111111111,\"#46039f\"],[0.2222222222222222,\"#7201a8\"],[0.3333333333333333,\"#9c179e\"],[0.4444444444444444,\"#bd3786\"],[0.5555555555555556,\"#d8576b\"],[0.6666666666666666,\"#ed7953\"],[0.7777777777777778,\"#fb9f3a\"],[0.8888888888888888,\"#fdca26\"],[1.0,\"#f0f921\"]],\"type\":\"heatmapgl\"}],\"histogram\":[{\"marker\":{\"pattern\":{\"fillmode\":\"overlay\",\"size\":10,\"solidity\":0.2}},\"type\":\"histogram\"}],\"histogram2d\":[{\"colorbar\":{\"outlinewidth\":0,\"ticks\":\"\"},\"colorscale\":[[0.0,\"#0d0887\"],[0.1111111111111111,\"#46039f\"],[0.2222222222222222,\"#7201a8\"],[0.3333333333333333,\"#9c179e\"],[0.4444444444444444,\"#bd3786\"],[0.5555555555555556,\"#d8576b\"],[0.6666666666666666,\"#ed7953\"],[0.7777777777777778,\"#fb9f3a\"],[0.8888888888888888,\"#fdca26\"],[1.0,\"#f0f921\"]],\"type\":\"histogram2d\"}],\"histogram2dcontour\":[{\"colorbar\":{\"outlinewidth\":0,\"ticks\":\"\"},\"colorscale\":[[0.0,\"#0d0887\"],[0.1111111111111111,\"#46039f\"],[0.2222222222222222,\"#7201a8\"],[0.3333333333333333,\"#9c179e\"],[0.4444444444444444,\"#bd3786\"],[0.5555555555555556,\"#d8576b\"],[0.6666666666666666,\"#ed7953\"],[0.7777777777777778,\"#fb9f3a\"],[0.8888888888888888,\"#fdca26\"],[1.0,\"#f0f921\"]],\"type\":\"histogram2dcontour\"}],\"mesh3d\":[{\"colorbar\":{\"outlinewidth\":0,\"ticks\":\"\"},\"type\":\"mesh3d\"}],\"parcoords\":[{\"line\":{\"colorbar\":{\"outlinewidth\":0,\"ticks\":\"\"}},\"type\":\"parcoords\"}],\"pie\":[{\"automargin\":true,\"type\":\"pie\"}],\"scatter\":[{\"marker\":{\"colorbar\":{\"outlinewidth\":0,\"ticks\":\"\"}},\"type\":\"scatter\"}],\"scatter3d\":[{\"line\":{\"colorbar\":{\"outlinewidth\":0,\"ticks\":\"\"}},\"marker\":{\"colorbar\":{\"outlinewidth\":0,\"ticks\":\"\"}},\"type\":\"scatter3d\"}],\"scattercarpet\":[{\"marker\":{\"colorbar\":{\"outlinewidth\":0,\"ticks\":\"\"}},\"type\":\"scattercarpet\"}],\"scattergeo\":[{\"marker\":{\"colorbar\":{\"outlinewidth\":0,\"ticks\":\"\"}},\"type\":\"scattergeo\"}],\"scattergl\":[{\"marker\":{\"colorbar\":{\"outlinewidth\":0,\"ticks\":\"\"}},\"type\":\"scattergl\"}],\"scattermapbox\":[{\"marker\":{\"colorbar\":{\"outlinewidth\":0,\"ticks\":\"\"}},\"type\":\"scattermapbox\"}],\"scatterpolar\":[{\"marker\":{\"colorbar\":{\"outlinewidth\":0,\"ticks\":\"\"}},\"type\":\"scatterpolar\"}],\"scatterpolargl\":[{\"marker\":{\"colorbar\":{\"outlinewidth\":0,\"ticks\":\"\"}},\"type\":\"scatterpolargl\"}],\"scatterternary\":[{\"marker\":{\"colorbar\":{\"outlinewidth\":0,\"ticks\":\"\"}},\"type\":\"scatterternary\"}],\"surface\":[{\"colorbar\":{\"outlinewidth\":0,\"ticks\":\"\"},\"colorscale\":[[0.0,\"#0d0887\"],[0.1111111111111111,\"#46039f\"],[0.2222222222222222,\"#7201a8\"],[0.3333333333333333,\"#9c179e\"],[0.4444444444444444,\"#bd3786\"],[0.5555555555555556,\"#d8576b\"],[0.6666666666666666,\"#ed7953\"],[0.7777777777777778,\"#fb9f3a\"],[0.8888888888888888,\"#fdca26\"],[1.0,\"#f0f921\"]],\"type\":\"surface\"}],\"table\":[{\"cells\":{\"fill\":{\"color\":\"#EBF0F8\"},\"line\":{\"color\":\"white\"}},\"header\":{\"fill\":{\"color\":\"#C8D4E3\"},\"line\":{\"color\":\"white\"}},\"type\":\"table\"}]},\"layout\":{\"annotationdefaults\":{\"arrowcolor\":\"#2a3f5f\",\"arrowhead\":0,\"arrowwidth\":1},\"autotypenumbers\":\"strict\",\"coloraxis\":{\"colorbar\":{\"outlinewidth\":0,\"ticks\":\"\"}},\"colorscale\":{\"diverging\":[[0,\"#8e0152\"],[0.1,\"#c51b7d\"],[0.2,\"#de77ae\"],[0.3,\"#f1b6da\"],[0.4,\"#fde0ef\"],[0.5,\"#f7f7f7\"],[0.6,\"#e6f5d0\"],[0.7,\"#b8e186\"],[0.8,\"#7fbc41\"],[0.9,\"#4d9221\"],[1,\"#276419\"]],\"sequential\":[[0.0,\"#0d0887\"],[0.1111111111111111,\"#46039f\"],[0.2222222222222222,\"#7201a8\"],[0.3333333333333333,\"#9c179e\"],[0.4444444444444444,\"#bd3786\"],[0.5555555555555556,\"#d8576b\"],[0.6666666666666666,\"#ed7953\"],[0.7777777777777778,\"#fb9f3a\"],[0.8888888888888888,\"#fdca26\"],[1.0,\"#f0f921\"]],\"sequentialminus\":[[0.0,\"#0d0887\"],[0.1111111111111111,\"#46039f\"],[0.2222222222222222,\"#7201a8\"],[0.3333333333333333,\"#9c179e\"],[0.4444444444444444,\"#bd3786\"],[0.5555555555555556,\"#d8576b\"],[0.6666666666666666,\"#ed7953\"],[0.7777777777777778,\"#fb9f3a\"],[0.8888888888888888,\"#fdca26\"],[1.0,\"#f0f921\"]]},\"colorway\":[\"#636efa\",\"#EF553B\",\"#00cc96\",\"#ab63fa\",\"#FFA15A\",\"#19d3f3\",\"#FF6692\",\"#B6E880\",\"#FF97FF\",\"#FECB52\"],\"font\":{\"color\":\"#2a3f5f\"},\"geo\":{\"bgcolor\":\"white\",\"lakecolor\":\"white\",\"landcolor\":\"#E5ECF6\",\"showlakes\":true,\"showland\":true,\"subunitcolor\":\"white\"},\"hoverlabel\":{\"align\":\"left\"},\"hovermode\":\"closest\",\"mapbox\":{\"style\":\"light\"},\"paper_bgcolor\":\"white\",\"plot_bgcolor\":\"#E5ECF6\",\"polar\":{\"angularaxis\":{\"gridcolor\":\"white\",\"linecolor\":\"white\",\"ticks\":\"\"},\"bgcolor\":\"#E5ECF6\",\"radialaxis\":{\"gridcolor\":\"white\",\"linecolor\":\"white\",\"ticks\":\"\"}},\"scene\":{\"xaxis\":{\"backgroundcolor\":\"#E5ECF6\",\"gridcolor\":\"white\",\"gridwidth\":2,\"linecolor\":\"white\",\"showbackground\":true,\"ticks\":\"\",\"zerolinecolor\":\"white\"},\"yaxis\":{\"backgroundcolor\":\"#E5ECF6\",\"gridcolor\":\"white\",\"gridwidth\":2,\"linecolor\":\"white\",\"showbackground\":true,\"ticks\":\"\",\"zerolinecolor\":\"white\"},\"zaxis\":{\"backgroundcolor\":\"#E5ECF6\",\"gridcolor\":\"white\",\"gridwidth\":2,\"linecolor\":\"white\",\"showbackground\":true,\"ticks\":\"\",\"zerolinecolor\":\"white\"}},\"shapedefaults\":{\"line\":{\"color\":\"#2a3f5f\"}},\"ternary\":{\"aaxis\":{\"gridcolor\":\"white\",\"linecolor\":\"white\",\"ticks\":\"\"},\"baxis\":{\"gridcolor\":\"white\",\"linecolor\":\"white\",\"ticks\":\"\"},\"bgcolor\":\"#E5ECF6\",\"caxis\":{\"gridcolor\":\"white\",\"linecolor\":\"white\",\"ticks\":\"\"}},\"title\":{\"x\":0.05},\"xaxis\":{\"automargin\":true,\"gridcolor\":\"white\",\"linecolor\":\"white\",\"ticks\":\"\",\"title\":{\"standoff\":15},\"zerolinecolor\":\"white\",\"zerolinewidth\":2},\"yaxis\":{\"automargin\":true,\"gridcolor\":\"white\",\"linecolor\":\"white\",\"ticks\":\"\",\"title\":{\"standoff\":15},\"zerolinecolor\":\"white\",\"zerolinewidth\":2}}},\"xaxis\":{\"anchor\":\"y\",\"domain\":[0.0,1.0],\"title\":{\"text\":\"Saldo Migrat\\u00f3rio M\\u00e9dio\"}},\"yaxis\":{\"anchor\":\"x\",\"domain\":[0.0,1.0],\"title\":{\"text\":\"ESTADO\"}},\"legend\":{\"title\":{\"text\":\"REGIAO\"},\"tracegroupgap\":0},\"title\":{\"text\":\"Saldo Migrat\\u00f3rio por Estado e Regi\\u00e3o\"},\"barmode\":\"relative\",\"height\":800},                        {\"responsive\": true}                    )                };                            </script>        </div>\n</body>\n</html>",
       "datasetInfos": [],
       "metadata": {},
       "removedWidgets": [],
       "textData": null,
       "type": "htmlSandbox"
      }
     },
     "output_type": "display_data"
    }
   ],
   "source": [
    "import plotly.express as px\n",
    "\n",
    "# Ordenar por saldo migratório\n",
    "df_sorted = df.sort_values('SALDO_MIGRATORIO_MEDIO')\n",
    "\n",
    "# Criar gráfico de barras\n",
    "fig = px.bar(\n",
    "    df_sorted,\n",
    "    x='SALDO_MIGRATORIO_MEDIO',\n",
    "    y='ESTADO',\n",
    "    color='REGIAO',\n",
    "    orientation='h',\n",
    "    height=800,\n",
    "    title='Saldo Migratório por Estado e Região',\n",
    "    labels={'SALDO_MIGRATORIO_MEDIO': 'Saldo Migratório Médio'},\n",
    "    hover_data=['SIGLA', 'PERCENTUAL_MEDIO', 'ANOS_ATRATOR'],\n",
    "    color_discrete_sequence=px.colors.qualitative.Pastel\n",
    ")\n",
    "\n",
    "# Melhorar tooltip\n",
    "fig.update_traces(\n",
    "    hovertemplate=\"<b>%{y}</b><br>Saldo: %{x:,.0f}<br>Região: %{customdata[0]}\"\n",
    ")\n",
    "fig.show()"
   ]
  },
  {
   "cell_type": "code",
   "execution_count": 0,
   "metadata": {
    "application/vnd.databricks.v1+cell": {
     "cellMetadata": {
      "byteLimit": 2048000,
      "rowLimit": 10000
     },
     "inputWidgets": {},
     "nuid": "18c314e1-0710-4ea7-9eed-0b6479d11824",
     "showTitle": false,
     "tableResultSettingsMap": {},
     "title": ""
    }
   },
   "outputs": [
    {
     "output_type": "display_data",
     "data": {
      "text/html": [
       "<html>\n",
       "<head><meta charset=\"utf-8\" /></head>\n",
       "<body>\n",
       "    <div>            <script src=\"https://cdnjs.cloudflare.com/ajax/libs/mathjax/2.7.5/MathJax.js?config=TeX-AMS-MML_SVG\"></script><script type=\"text/javascript\">if (window.MathJax) {MathJax.Hub.Config({SVG: {font: \"STIX-Web\"}});}</script>                <script type=\"text/javascript\">window.PlotlyConfig = {MathJaxConfig: 'local'};</script>\n",
       "        <script src=\"https://cdn.plot.ly/plotly-2.9.0.min.js\"></script>                <div id=\"23411c6d-49d1-4c6c-ba3b-c26a3cb1e308\" class=\"plotly-graph-div\" style=\"height:100%; width:100%;\"></div>            <script type=\"text/javascript\">                                    window.PLOTLYENV=window.PLOTLYENV || {};                                    if (document.getElementById(\"23411c6d-49d1-4c6c-ba3b-c26a3cb1e308\")) {                    Plotly.newPlot(                        \"23411c6d-49d1-4c6c-ba3b-c26a3cb1e308\",                        [{\"hovertemplate\":\"Estado=Rond\\u00f4nia<br>Ano=%{x}<br>Desemprego / PIB=%{y}<extra></extra>\",\"legendgroup\":\"Rond\\u00f4nia\",\"line\":{\"color\":\"#636efa\",\"dash\":\"solid\"},\"marker\":{\"symbol\":\"circle\"},\"mode\":\"lines\",\"name\":\"Rond\\u00f4nia\",\"orientation\":\"v\",\"showlegend\":true,\"x\":[2012,2013,2014,2015,2016,2017,2018,2019,2020],\"xaxis\":\"x\",\"y\":[0.016179209145592063,0.015998631152106,0.015095068383652639,0.01405506451549478,0.013104290314796322,0.012218452934561464,0.012129853963422513,0.01172402503567885,0.0027016162808557],\"yaxis\":\"y\",\"type\":\"scatter\"},{\"hovertemplate\":\"Estado=Acre<br>Ano=%{x}<br>Desemprego / PIB=%{y}<extra></extra>\",\"legendgroup\":\"Acre\",\"line\":{\"color\":\"#EF553B\",\"dash\":\"solid\"},\"marker\":{\"symbol\":\"circle\"},\"mode\":\"lines\",\"name\":\"Acre\",\"orientation\":\"v\",\"showlegend\":true,\"x\":[2012,2013,2014,2015,2016,2017,2018,2019,2020],\"xaxis\":\"x\",\"y\":[0.021227224126820328,0.01926105499385308,0.01679211512236047,0.016986226724666872,0.01731102557074913,0.017137323486890517,0.016371925703843715,0.016532291742992828,0.00394504351906175],\"yaxis\":\"y\",\"type\":\"scatter\"},{\"hovertemplate\":\"Estado=Amazonas<br>Ano=%{x}<br>Desemprego / PIB=%{y}<extra></extra>\",\"legendgroup\":\"Amazonas\",\"line\":{\"color\":\"#00cc96\",\"dash\":\"solid\"},\"marker\":{\"symbol\":\"circle\"},\"mode\":\"lines\",\"name\":\"Amazonas\",\"orientation\":\"v\",\"showlegend\":true,\"x\":[2012,2013,2014,2015,2016,2017,2018,2019,2020],\"xaxis\":\"x\",\"y\":[0.013771633544085272,0.012277963416763706,0.012027417929445235,0.012423732917194398,0.012303489243976755,0.012028074899184258,0.01166026290365501,0.010939989503341208,0.0025918137436720043],\"yaxis\":\"y\",\"type\":\"scatter\"},{\"hovertemplate\":\"Estado=Roraima<br>Ano=%{x}<br>Desemprego / PIB=%{y}<extra></extra>\",\"legendgroup\":\"Roraima\",\"line\":{\"color\":\"#ab63fa\",\"dash\":\"solid\"},\"marker\":{\"symbol\":\"circle\"},\"mode\":\"lines\",\"name\":\"Roraima\",\"orientation\":\"v\",\"showlegend\":true,\"x\":[2012,2013,2014,2015,2016,2017,2018,2019,2020],\"xaxis\":\"x\",\"y\":[0.015483435012039576,0.01371698683060949,0.013310588257589307,0.013160328847876062,0.01263933549652473,0.012020115328421583,0.011518335186623492,0.01099898557237664,0.002508693731473929],\"yaxis\":\"y\",\"type\":\"scatter\"},{\"hovertemplate\":\"Estado=Par\\u00e1<br>Ano=%{x}<br>Desemprego / PIB=%{y}<extra></extra>\",\"legendgroup\":\"Par\\u00e1\",\"line\":{\"color\":\"#FFA15A\",\"dash\":\"solid\"},\"marker\":{\"symbol\":\"circle\"},\"mode\":\"lines\",\"name\":\"Par\\u00e1\",\"orientation\":\"v\",\"showlegend\":true,\"x\":[2012,2013,2014,2015,2016,2017,2018,2019,2020],\"xaxis\":\"x\",\"y\":[0.021042038325158937,0.019136340983345598,0.01898463734619225,0.018361413954900978,0.017844068899542587,0.01623114722496046,0.015884761830436755,0.014561295682572039,0.0030272914169608557],\"yaxis\":\"y\",\"type\":\"scatter\"},{\"hovertemplate\":\"Estado=Amap\\u00e1<br>Ano=%{x}<br>Desemprego / PIB=%{y}<extra></extra>\",\"legendgroup\":\"Amap\\u00e1\",\"line\":{\"color\":\"#19d3f3\",\"dash\":\"solid\"},\"marker\":{\"symbol\":\"circle\"},\"mode\":\"lines\",\"name\":\"Amap\\u00e1\",\"orientation\":\"v\",\"showlegend\":true,\"x\":[2012,2013,2014,2015,2016,2017,2018,2019,2020],\"xaxis\":\"x\",\"y\":[0.01799500304908841,0.016664725948205707,0.01624592483717727,0.015748891228819662,0.01572987555490239,0.015295272065468947,0.014462459722741832,0.01420842519640806,0.003400271301582975],\"yaxis\":\"y\",\"type\":\"scatter\"},{\"hovertemplate\":\"Estado=Tocantins<br>Ano=%{x}<br>Desemprego / PIB=%{y}<extra></extra>\",\"legendgroup\":\"Tocantins\",\"line\":{\"color\":\"#FF6692\",\"dash\":\"solid\"},\"marker\":{\"symbol\":\"circle\"},\"mode\":\"lines\",\"name\":\"Tocantins\",\"orientation\":\"v\",\"showlegend\":true,\"x\":[2012,2013,2014,2015,2016,2017,2018,2019,2020],\"xaxis\":\"x\",\"y\":[0.020367977325073915,0.01808237226295172,0.016781648226400388,0.015291930629331938,0.014380327473420702,0.013665362856478144,0.013404854646980633,0.012275147919839281,0.0028247550024121278],\"yaxis\":\"y\",\"type\":\"scatter\"},{\"hovertemplate\":\"Estado=Maranh\\u00e3o<br>Ano=%{x}<br>Desemprego / PIB=%{y}<extra></extra>\",\"legendgroup\":\"Maranh\\u00e3o\",\"line\":{\"color\":\"#B6E880\",\"dash\":\"solid\"},\"marker\":{\"symbol\":\"circle\"},\"mode\":\"lines\",\"name\":\"Maranh\\u00e3o\",\"orientation\":\"v\",\"showlegend\":true,\"x\":[2012,2013,2014,2015,2016,2017,2018,2019,2020],\"xaxis\":\"x\",\"y\":[0.032061440249504115,0.028940165433756083,0.025827012390897915,0.025536471753206915,0.02380962480249572,0.022970031991300984,0.02131198562755216,0.021858448271898746,0.005026377654085645],\"yaxis\":\"y\",\"type\":\"scatter\"},{\"hovertemplate\":\"Estado=Piau\\u00ed<br>Ano=%{x}<br>Desemprego / PIB=%{y}<extra></extra>\",\"legendgroup\":\"Piau\\u00ed\",\"line\":{\"color\":\"#FF97FF\",\"dash\":\"solid\"},\"marker\":{\"symbol\":\"circle\"},\"mode\":\"lines\",\"name\":\"Piau\\u00ed\",\"orientation\":\"v\",\"showlegend\":true,\"x\":[2012,2013,2014,2015,2016,2017,2018,2019,2020],\"xaxis\":\"x\",\"y\":[0.03424857874971695,0.031684340074566025,0.026312513112782324,0.02562983536224932,0.024456178558138385,0.02233854103778557,0.020262645189021027,0.019495731373523086,0.00453793749849775],\"yaxis\":\"y\",\"type\":\"scatter\"},{\"hovertemplate\":\"Estado=Cear\\u00e1<br>Ano=%{x}<br>Desemprego / PIB=%{y}<extra></extra>\",\"legendgroup\":\"Cear\\u00e1\",\"line\":{\"color\":\"#FECB52\",\"dash\":\"solid\"},\"marker\":{\"symbol\":\"circle\"},\"mode\":\"lines\",\"name\":\"Cear\\u00e1\",\"orientation\":\"v\",\"showlegend\":true,\"x\":[2012,2013,2014,2015,2016,2017,2018,2019,2020],\"xaxis\":\"x\",\"y\":[0.02759303337507453,0.02486413814553673,0.021860390705443156,0.021158257711408526,0.02025176240566807,0.019258859228654217,0.01845817448426646,0.017720276339782896,0.004387874292360948],\"yaxis\":\"y\",\"type\":\"scatter\"},{\"hovertemplate\":\"Estado=Rio Grande do Norte<br>Ano=%{x}<br>Desemprego / PIB=%{y}<extra></extra>\",\"legendgroup\":\"Rio Grande do Norte\",\"line\":{\"color\":\"#636efa\",\"dash\":\"solid\"},\"marker\":{\"symbol\":\"circle\"},\"mode\":\"lines\",\"name\":\"Rio Grande do Norte\",\"orientation\":\"v\",\"showlegend\":true,\"x\":[2012,2013,2014,2015,2016,2017,2018,2019,2020],\"xaxis\":\"x\",\"y\":[0.021914492676795887,0.019967601300353785,0.01954923151694171,0.018646005887907706,0.018290009349160724,0.017116600077069083,0.016620983723919232,0.015599246242234764,0.0038978943463252994],\"yaxis\":\"y\",\"type\":\"scatter\"},{\"hovertemplate\":\"Estado=Para\\u00edba<br>Ano=%{x}<br>Desemprego / PIB=%{y}<extra></extra>\",\"legendgroup\":\"Para\\u00edba\",\"line\":{\"color\":\"#EF553B\",\"dash\":\"solid\"},\"marker\":{\"symbol\":\"circle\"},\"mode\":\"lines\",\"name\":\"Para\\u00edba\",\"orientation\":\"v\",\"showlegend\":true,\"x\":[2012,2013,2014,2015,2016,2017,2018,2019,2020],\"xaxis\":\"x\",\"y\":[0.027682883005489888,0.025553450042456512,0.022532664257705098,0.021541846820877213,0.020813882918785314,0.019908080016134127,0.01948314355895825,0.018612635410829664,0.004495530738312276],\"yaxis\":\"y\",\"type\":\"scatter\"},{\"hovertemplate\":\"Estado=Pernambuco<br>Ano=%{x}<br>Desemprego / PIB=%{y}<extra></extra>\",\"legendgroup\":\"Pernambuco\",\"line\":{\"color\":\"#00cc96\",\"dash\":\"solid\"},\"marker\":{\"symbol\":\"circle\"},\"mode\":\"lines\",\"name\":\"Pernambuco\",\"orientation\":\"v\",\"showlegend\":true,\"x\":[2012,2013,2014,2015,2016,2017,2018,2019,2020],\"xaxis\":\"x\",\"y\":[0.02176045642126916,0.020043180681028016,0.018461074618839012,0.01862150678439735,0.01763303026169969,0.016417643274218473,0.016076566915810032,0.015272420533663886,0.003996744721468272],\"yaxis\":\"y\",\"type\":\"scatter\"},{\"hovertemplate\":\"Estado=Alagoas<br>Ano=%{x}<br>Desemprego / PIB=%{y}<extra></extra>\",\"legendgroup\":\"Alagoas\",\"line\":{\"color\":\"#ab63fa\",\"dash\":\"solid\"},\"marker\":{\"symbol\":\"circle\"},\"mode\":\"lines\",\"name\":\"Alagoas\",\"orientation\":\"v\",\"showlegend\":true,\"x\":[2012,2013,2014,2015,2016,2017,2018,2019,2020],\"xaxis\":\"x\",\"y\":[0.02766490632120302,0.026020230464450855,0.02386821581380385,0.021450503209384242,0.02043714841740855,0.01940547389827207,0.019026686861867405,0.017648137633306693,0.004082126762183299],\"yaxis\":\"y\",\"type\":\"scatter\"},{\"hovertemplate\":\"Estado=Sergipe<br>Ano=%{x}<br>Desemprego / PIB=%{y}<extra></extra>\",\"legendgroup\":\"Sergipe\",\"line\":{\"color\":\"#FFA15A\",\"dash\":\"solid\"},\"marker\":{\"symbol\":\"circle\"},\"mode\":\"lines\",\"name\":\"Sergipe\",\"orientation\":\"v\",\"showlegend\":true,\"x\":[2012,2013,2014,2015,2016,2017,2018,2019,2020],\"xaxis\":\"x\",\"y\":[0.01976368753318288,0.01881934180873419,0.017922509245230058,0.01791395625486993,0.018118477645135227,0.017383300555982455,0.016918947039904056,0.01620515506846697,0.003985936333189053],\"yaxis\":\"y\",\"type\":\"scatter\"},{\"hovertemplate\":\"Estado=Bahia<br>Ano=%{x}<br>Desemprego / PIB=%{y}<extra></extra>\",\"legendgroup\":\"Bahia\",\"line\":{\"color\":\"#19d3f3\",\"dash\":\"solid\"},\"marker\":{\"symbol\":\"circle\"},\"mode\":\"lines\",\"name\":\"Bahia\",\"orientation\":\"v\",\"showlegend\":true,\"x\":[2012,2013,2014,2015,2016,2017,2018,2019,2020],\"xaxis\":\"x\",\"y\":[0.02413670884000547,0.021722843031445966,0.020081278432321038,0.01856689313776145,0.017727518956231623,0.01730771512155544,0.016373349334706105,0.01611441783160662,0.003878215800386542],\"yaxis\":\"y\",\"type\":\"scatter\"},{\"hovertemplate\":\"Estado=Minas Gerais<br>Ano=%{x}<br>Desemprego / PIB=%{y}<extra></extra>\",\"legendgroup\":\"Minas Gerais\",\"line\":{\"color\":\"#FF6692\",\"dash\":\"solid\"},\"marker\":{\"symbol\":\"circle\"},\"mode\":\"lines\",\"name\":\"Minas Gerais\",\"orientation\":\"v\",\"showlegend\":true,\"x\":[2012,2013,2014,2015,2016,2017,2018,2019,2020],\"xaxis\":\"x\",\"y\":[0.014554261583910127,0.013359496922649577,0.01277809862140658,0.012875213025559992,0.012389629773354583,0.011783463165097869,0.01115200790011616,0.010616643657478124,0.0025485286800341197],\"yaxis\":\"y\",\"type\":\"scatter\"},{\"hovertemplate\":\"Estado=Esp\\u00edrito Santo<br>Ano=%{x}<br>Desemprego / PIB=%{y}<extra></extra>\",\"legendgroup\":\"Esp\\u00edrito Santo\",\"line\":{\"color\":\"#B6E880\",\"dash\":\"solid\"},\"marker\":{\"symbol\":\"circle\"},\"mode\":\"lines\",\"name\":\"Esp\\u00edrito Santo\",\"orientation\":\"v\",\"showlegend\":true,\"x\":[2012,2013,2014,2015,2016,2017,2018,2019,2020],\"xaxis\":\"x\",\"y\":[0.009920361496220257,0.01014032506707046,0.009338132405036937,0.010179786688200278,0.011386139832315295,0.011084662263328939,0.009243902297380535,0.00931009105895723,0.0023402639418841457],\"yaxis\":\"y\",\"type\":\"scatter\"},{\"hovertemplate\":\"Estado=Rio de Janeiro<br>Ano=%{x}<br>Desemprego / PIB=%{y}<extra></extra>\",\"legendgroup\":\"Rio de Janeiro\",\"line\":{\"color\":\"#FF97FF\",\"dash\":\"solid\"},\"marker\":{\"symbol\":\"circle\"},\"mode\":\"lines\",\"name\":\"Rio de Janeiro\",\"orientation\":\"v\",\"showlegend\":true,\"x\":[2012,2013,2014,2015,2016,2017,2018,2019,2020],\"xaxis\":\"x\",\"y\":[0.009299425537064915,0.008610276242612116,0.008181775375732753,0.008463314122935892,0.00873155756685255,0.0084622573487457,0.007539344788202959,0.0074086333793938405,0.0019354657852041514],\"yaxis\":\"y\",\"type\":\"scatter\"},{\"hovertemplate\":\"Estado=S\\u00e3o Paulo<br>Ano=%{x}<br>Desemprego / PIB=%{y}<extra></extra>\",\"legendgroup\":\"S\\u00e3o Paulo\",\"line\":{\"color\":\"#FECB52\",\"dash\":\"solid\"},\"marker\":{\"symbol\":\"circle\"},\"mode\":\"lines\",\"name\":\"S\\u00e3o Paulo\",\"orientation\":\"v\",\"showlegend\":true,\"x\":[2012,2013,2014,2015,2016,2017,2018,2019,2020],\"xaxis\":\"x\",\"y\":[0.008941373295313613,0.008220839659245437,0.007700640606637541,0.007450582911925521,0.007158183769925659,0.006926002317671189,0.006709153753214585,0.006394863089617206,0.0015858168678971314],\"yaxis\":\"y\",\"type\":\"scatter\"},{\"hovertemplate\":\"Estado=Paran\\u00e1<br>Ano=%{x}<br>Desemprego / PIB=%{y}<extra></extra>\",\"legendgroup\":\"Paran\\u00e1\",\"line\":{\"color\":\"#636efa\",\"dash\":\"solid\"},\"marker\":{\"symbol\":\"circle\"},\"mode\":\"lines\",\"name\":\"Paran\\u00e1\",\"orientation\":\"v\",\"showlegend\":true,\"x\":[2012,2013,2014,2015,2016,2017,2018,2019,2020],\"xaxis\":\"x\",\"y\":[0.01197674387384952,0.010403886329190136,0.010076297896308208,0.009413660436474168,0.008956628010351114,0.008631597587942099,0.008323761949074405,0.007891040322591811,0.0018900229084954758],\"yaxis\":\"y\",\"type\":\"scatter\"},{\"hovertemplate\":\"Estado=Santa Catarina<br>Ano=%{x}<br>Desemprego / PIB=%{y}<extra></extra>\",\"legendgroup\":\"Santa Catarina\",\"line\":{\"color\":\"#EF553B\",\"dash\":\"solid\"},\"marker\":{\"symbol\":\"circle\"},\"mode\":\"lines\",\"name\":\"Santa Catarina\",\"orientation\":\"v\",\"showlegend\":true,\"x\":[2012,2013,2014,2015,2016,2017,2018,2019,2020],\"xaxis\":\"x\",\"y\":[0.010910106077788787,0.009944886988204157,0.00896916003424819,0.00888751878610575,0.008746481662611211,0.008209680303508616,0.007756169969710637,0.007238978148752364,0.0016906448321843597],\"yaxis\":\"y\",\"type\":\"scatter\"},{\"hovertemplate\":\"Estado=Rio Grande do Sul<br>Ano=%{x}<br>Desemprego / PIB=%{y}<extra></extra>\",\"legendgroup\":\"Rio Grande do Sul\",\"line\":{\"color\":\"#00cc96\",\"dash\":\"solid\"},\"marker\":{\"symbol\":\"circle\"},\"mode\":\"lines\",\"name\":\"Rio Grande do Sul\",\"orientation\":\"v\",\"showlegend\":true,\"x\":[2012,2013,2014,2015,2016,2017,2018,2019,2020],\"xaxis\":\"x\",\"y\":[0.012401116073908596,0.010879864998973261,0.010145425861799392,0.009561965308465658,0.009022002147640385,0.008732250305867556,0.00813065630605504,0.007788972063435278,0.001995150798131016],\"yaxis\":\"y\",\"type\":\"scatter\"},{\"hovertemplate\":\"Estado=Mato Grosso do Sul<br>Ano=%{x}<br>Desemprego / PIB=%{y}<extra></extra>\",\"legendgroup\":\"Mato Grosso do Sul\",\"line\":{\"color\":\"#ab63fa\",\"dash\":\"solid\"},\"marker\":{\"symbol\":\"circle\"},\"mode\":\"lines\",\"name\":\"Mato Grosso do Sul\",\"orientation\":\"v\",\"showlegend\":true,\"x\":[2012,2013,2014,2015,2016,2017,2018,2019,2020],\"xaxis\":\"x\",\"y\":[0.012240942075325278,0.011152663257589884,0.009925252473967628,0.009577221148018308,0.008895197225499056,0.008567744342661665,0.007823751660522111,0.007922893949491533,0.001741857301183677],\"yaxis\":\"y\",\"type\":\"scatter\"},{\"hovertemplate\":\"Estado=Mato Grosso<br>Ano=%{x}<br>Desemprego / PIB=%{y}<extra></extra>\",\"legendgroup\":\"Mato Grosso\",\"line\":{\"color\":\"#FFA15A\",\"dash\":\"solid\"},\"marker\":{\"symbol\":\"circle\"},\"mode\":\"lines\",\"name\":\"Mato Grosso\",\"orientation\":\"v\",\"showlegend\":true,\"x\":[2012,2013,2014,2015,2016,2017,2018,2019,2020],\"xaxis\":\"x\",\"y\":[0.012089269373280177,0.011052210997954304,0.009881016844176527,0.009333603549069069,0.008274116520036498,0.008205231845361673,0.007731213214224432,0.007511150911984837,0.0015057411528399945],\"yaxis\":\"y\",\"type\":\"scatter\"},{\"hovertemplate\":\"Estado=Goi\\u00e1s<br>Ano=%{x}<br>Desemprego / PIB=%{y}<extra></extra>\",\"legendgroup\":\"Goi\\u00e1s\",\"line\":{\"color\":\"#19d3f3\",\"dash\":\"solid\"},\"marker\":{\"symbol\":\"circle\"},\"mode\":\"lines\",\"name\":\"Goi\\u00e1s\",\"orientation\":\"v\",\"showlegend\":true,\"x\":[2012,2013,2014,2015,2016,2017,2018,2019,2020],\"xaxis\":\"x\",\"y\":[0.014162804869383877,0.013267003812392347,0.012346732526958714,0.01199142209375067,0.011674211204195182,0.011309816175109094,0.011248367783761367,0.010746025897444823,0.0025182250958517885],\"yaxis\":\"y\",\"type\":\"scatter\"},{\"hovertemplate\":\"Estado=Distrito Federal<br>Ano=%{x}<br>Desemprego / PIB=%{y}<extra></extra>\",\"legendgroup\":\"Distrito Federal\",\"line\":{\"color\":\"#FF6692\",\"dash\":\"solid\"},\"marker\":{\"symbol\":\"circle\"},\"mode\":\"lines\",\"name\":\"Distrito Federal\",\"orientation\":\"v\",\"showlegend\":true,\"x\":[2012,2013,2014,2015,2016,2017,2018,2019,2020],\"xaxis\":\"x\",\"y\":[0.005223601576849267,0.005003219731072212,0.004530672509115736,0.004222846392404962,0.0039139841411835385,0.003868058595215264,0.003815676422566756,0.003588270466013416,0.0009343708521071722],\"yaxis\":\"y\",\"type\":\"scatter\"}],                        {\"template\":{\"data\":{\"bar\":[{\"error_x\":{\"color\":\"#2a3f5f\"},\"error_y\":{\"color\":\"#2a3f5f\"},\"marker\":{\"line\":{\"color\":\"#E5ECF6\",\"width\":0.5},\"pattern\":{\"fillmode\":\"overlay\",\"size\":10,\"solidity\":0.2}},\"type\":\"bar\"}],\"barpolar\":[{\"marker\":{\"line\":{\"color\":\"#E5ECF6\",\"width\":0.5},\"pattern\":{\"fillmode\":\"overlay\",\"size\":10,\"solidity\":0.2}},\"type\":\"barpolar\"}],\"carpet\":[{\"aaxis\":{\"endlinecolor\":\"#2a3f5f\",\"gridcolor\":\"white\",\"linecolor\":\"white\",\"minorgridcolor\":\"white\",\"startlinecolor\":\"#2a3f5f\"},\"baxis\":{\"endlinecolor\":\"#2a3f5f\",\"gridcolor\":\"white\",\"linecolor\":\"white\",\"minorgridcolor\":\"white\",\"startlinecolor\":\"#2a3f5f\"},\"type\":\"carpet\"}],\"choropleth\":[{\"colorbar\":{\"outlinewidth\":0,\"ticks\":\"\"},\"type\":\"choropleth\"}],\"contour\":[{\"colorbar\":{\"outlinewidth\":0,\"ticks\":\"\"},\"colorscale\":[[0.0,\"#0d0887\"],[0.1111111111111111,\"#46039f\"],[0.2222222222222222,\"#7201a8\"],[0.3333333333333333,\"#9c179e\"],[0.4444444444444444,\"#bd3786\"],[0.5555555555555556,\"#d8576b\"],[0.6666666666666666,\"#ed7953\"],[0.7777777777777778,\"#fb9f3a\"],[0.8888888888888888,\"#fdca26\"],[1.0,\"#f0f921\"]],\"type\":\"contour\"}],\"contourcarpet\":[{\"colorbar\":{\"outlinewidth\":0,\"ticks\":\"\"},\"type\":\"contourcarpet\"}],\"heatmap\":[{\"colorbar\":{\"outlinewidth\":0,\"ticks\":\"\"},\"colorscale\":[[0.0,\"#0d0887\"],[0.1111111111111111,\"#46039f\"],[0.2222222222222222,\"#7201a8\"],[0.3333333333333333,\"#9c179e\"],[0.4444444444444444,\"#bd3786\"],[0.5555555555555556,\"#d8576b\"],[0.6666666666666666,\"#ed7953\"],[0.7777777777777778,\"#fb9f3a\"],[0.8888888888888888,\"#fdca26\"],[1.0,\"#f0f921\"]],\"type\":\"heatmap\"}],\"heatmapgl\":[{\"colorbar\":{\"outlinewidth\":0,\"ticks\":\"\"},\"colorscale\":[[0.0,\"#0d0887\"],[0.1111111111111111,\"#46039f\"],[0.2222222222222222,\"#7201a8\"],[0.3333333333333333,\"#9c179e\"],[0.4444444444444444,\"#bd3786\"],[0.5555555555555556,\"#d8576b\"],[0.6666666666666666,\"#ed7953\"],[0.7777777777777778,\"#fb9f3a\"],[0.8888888888888888,\"#fdca26\"],[1.0,\"#f0f921\"]],\"type\":\"heatmapgl\"}],\"histogram\":[{\"marker\":{\"pattern\":{\"fillmode\":\"overlay\",\"size\":10,\"solidity\":0.2}},\"type\":\"histogram\"}],\"histogram2d\":[{\"colorbar\":{\"outlinewidth\":0,\"ticks\":\"\"},\"colorscale\":[[0.0,\"#0d0887\"],[0.1111111111111111,\"#46039f\"],[0.2222222222222222,\"#7201a8\"],[0.3333333333333333,\"#9c179e\"],[0.4444444444444444,\"#bd3786\"],[0.5555555555555556,\"#d8576b\"],[0.6666666666666666,\"#ed7953\"],[0.7777777777777778,\"#fb9f3a\"],[0.8888888888888888,\"#fdca26\"],[1.0,\"#f0f921\"]],\"type\":\"histogram2d\"}],\"histogram2dcontour\":[{\"colorbar\":{\"outlinewidth\":0,\"ticks\":\"\"},\"colorscale\":[[0.0,\"#0d0887\"],[0.1111111111111111,\"#46039f\"],[0.2222222222222222,\"#7201a8\"],[0.3333333333333333,\"#9c179e\"],[0.4444444444444444,\"#bd3786\"],[0.5555555555555556,\"#d8576b\"],[0.6666666666666666,\"#ed7953\"],[0.7777777777777778,\"#fb9f3a\"],[0.8888888888888888,\"#fdca26\"],[1.0,\"#f0f921\"]],\"type\":\"histogram2dcontour\"}],\"mesh3d\":[{\"colorbar\":{\"outlinewidth\":0,\"ticks\":\"\"},\"type\":\"mesh3d\"}],\"parcoords\":[{\"line\":{\"colorbar\":{\"outlinewidth\":0,\"ticks\":\"\"}},\"type\":\"parcoords\"}],\"pie\":[{\"automargin\":true,\"type\":\"pie\"}],\"scatter\":[{\"marker\":{\"colorbar\":{\"outlinewidth\":0,\"ticks\":\"\"}},\"type\":\"scatter\"}],\"scatter3d\":[{\"line\":{\"colorbar\":{\"outlinewidth\":0,\"ticks\":\"\"}},\"marker\":{\"colorbar\":{\"outlinewidth\":0,\"ticks\":\"\"}},\"type\":\"scatter3d\"}],\"scattercarpet\":[{\"marker\":{\"colorbar\":{\"outlinewidth\":0,\"ticks\":\"\"}},\"type\":\"scattercarpet\"}],\"scattergeo\":[{\"marker\":{\"colorbar\":{\"outlinewidth\":0,\"ticks\":\"\"}},\"type\":\"scattergeo\"}],\"scattergl\":[{\"marker\":{\"colorbar\":{\"outlinewidth\":0,\"ticks\":\"\"}},\"type\":\"scattergl\"}],\"scattermapbox\":[{\"marker\":{\"colorbar\":{\"outlinewidth\":0,\"ticks\":\"\"}},\"type\":\"scattermapbox\"}],\"scatterpolar\":[{\"marker\":{\"colorbar\":{\"outlinewidth\":0,\"ticks\":\"\"}},\"type\":\"scatterpolar\"}],\"scatterpolargl\":[{\"marker\":{\"colorbar\":{\"outlinewidth\":0,\"ticks\":\"\"}},\"type\":\"scatterpolargl\"}],\"scatterternary\":[{\"marker\":{\"colorbar\":{\"outlinewidth\":0,\"ticks\":\"\"}},\"type\":\"scatterternary\"}],\"surface\":[{\"colorbar\":{\"outlinewidth\":0,\"ticks\":\"\"},\"colorscale\":[[0.0,\"#0d0887\"],[0.1111111111111111,\"#46039f\"],[0.2222222222222222,\"#7201a8\"],[0.3333333333333333,\"#9c179e\"],[0.4444444444444444,\"#bd3786\"],[0.5555555555555556,\"#d8576b\"],[0.6666666666666666,\"#ed7953\"],[0.7777777777777778,\"#fb9f3a\"],[0.8888888888888888,\"#fdca26\"],[1.0,\"#f0f921\"]],\"type\":\"surface\"}],\"table\":[{\"cells\":{\"fill\":{\"color\":\"#EBF0F8\"},\"line\":{\"color\":\"white\"}},\"header\":{\"fill\":{\"color\":\"#C8D4E3\"},\"line\":{\"color\":\"white\"}},\"type\":\"table\"}]},\"layout\":{\"annotationdefaults\":{\"arrowcolor\":\"#2a3f5f\",\"arrowhead\":0,\"arrowwidth\":1},\"autotypenumbers\":\"strict\",\"coloraxis\":{\"colorbar\":{\"outlinewidth\":0,\"ticks\":\"\"}},\"colorscale\":{\"diverging\":[[0,\"#8e0152\"],[0.1,\"#c51b7d\"],[0.2,\"#de77ae\"],[0.3,\"#f1b6da\"],[0.4,\"#fde0ef\"],[0.5,\"#f7f7f7\"],[0.6,\"#e6f5d0\"],[0.7,\"#b8e186\"],[0.8,\"#7fbc41\"],[0.9,\"#4d9221\"],[1,\"#276419\"]],\"sequential\":[[0.0,\"#0d0887\"],[0.1111111111111111,\"#46039f\"],[0.2222222222222222,\"#7201a8\"],[0.3333333333333333,\"#9c179e\"],[0.4444444444444444,\"#bd3786\"],[0.5555555555555556,\"#d8576b\"],[0.6666666666666666,\"#ed7953\"],[0.7777777777777778,\"#fb9f3a\"],[0.8888888888888888,\"#fdca26\"],[1.0,\"#f0f921\"]],\"sequentialminus\":[[0.0,\"#0d0887\"],[0.1111111111111111,\"#46039f\"],[0.2222222222222222,\"#7201a8\"],[0.3333333333333333,\"#9c179e\"],[0.4444444444444444,\"#bd3786\"],[0.5555555555555556,\"#d8576b\"],[0.6666666666666666,\"#ed7953\"],[0.7777777777777778,\"#fb9f3a\"],[0.8888888888888888,\"#fdca26\"],[1.0,\"#f0f921\"]]},\"colorway\":[\"#636efa\",\"#EF553B\",\"#00cc96\",\"#ab63fa\",\"#FFA15A\",\"#19d3f3\",\"#FF6692\",\"#B6E880\",\"#FF97FF\",\"#FECB52\"],\"font\":{\"color\":\"#2a3f5f\"},\"geo\":{\"bgcolor\":\"white\",\"lakecolor\":\"white\",\"landcolor\":\"#E5ECF6\",\"showlakes\":true,\"showland\":true,\"subunitcolor\":\"white\"},\"hoverlabel\":{\"align\":\"left\"},\"hovermode\":\"closest\",\"mapbox\":{\"style\":\"light\"},\"paper_bgcolor\":\"white\",\"plot_bgcolor\":\"#E5ECF6\",\"polar\":{\"angularaxis\":{\"gridcolor\":\"white\",\"linecolor\":\"white\",\"ticks\":\"\"},\"bgcolor\":\"#E5ECF6\",\"radialaxis\":{\"gridcolor\":\"white\",\"linecolor\":\"white\",\"ticks\":\"\"}},\"scene\":{\"xaxis\":{\"backgroundcolor\":\"#E5ECF6\",\"gridcolor\":\"white\",\"gridwidth\":2,\"linecolor\":\"white\",\"showbackground\":true,\"ticks\":\"\",\"zerolinecolor\":\"white\"},\"yaxis\":{\"backgroundcolor\":\"#E5ECF6\",\"gridcolor\":\"white\",\"gridwidth\":2,\"linecolor\":\"white\",\"showbackground\":true,\"ticks\":\"\",\"zerolinecolor\":\"white\"},\"zaxis\":{\"backgroundcolor\":\"#E5ECF6\",\"gridcolor\":\"white\",\"gridwidth\":2,\"linecolor\":\"white\",\"showbackground\":true,\"ticks\":\"\",\"zerolinecolor\":\"white\"}},\"shapedefaults\":{\"line\":{\"color\":\"#2a3f5f\"}},\"ternary\":{\"aaxis\":{\"gridcolor\":\"white\",\"linecolor\":\"white\",\"ticks\":\"\"},\"baxis\":{\"gridcolor\":\"white\",\"linecolor\":\"white\",\"ticks\":\"\"},\"bgcolor\":\"#E5ECF6\",\"caxis\":{\"gridcolor\":\"white\",\"linecolor\":\"white\",\"ticks\":\"\"}},\"title\":{\"x\":0.05},\"xaxis\":{\"automargin\":true,\"gridcolor\":\"white\",\"linecolor\":\"white\",\"ticks\":\"\",\"title\":{\"standoff\":15},\"zerolinecolor\":\"white\",\"zerolinewidth\":2},\"yaxis\":{\"automargin\":true,\"gridcolor\":\"white\",\"linecolor\":\"white\",\"ticks\":\"\",\"title\":{\"standoff\":15},\"zerolinecolor\":\"white\",\"zerolinewidth\":2}}},\"xaxis\":{\"anchor\":\"y\",\"domain\":[0.0,1.0],\"title\":{\"text\":\"Ano\"}},\"yaxis\":{\"anchor\":\"x\",\"domain\":[0.0,1.0],\"title\":{\"text\":\"Desemprego / PIB\"}},\"legend\":{\"title\":{\"text\":\"Estado\"},\"tracegroupgap\":0},\"title\":{\"text\":\"Rela\\u00e7\\u00e3o entre Desemprego e PIB ao Longo dos Anos\"}},                        {\"responsive\": true}                    )                };                            </script>        </div>\n",
       "</body>\n",
       "</html>"
      ]
     },
     "metadata": {
      "application/vnd.databricks.v1+output": {
       "addedWidgets": {},
       "arguments": {},
       "data": "<html>\n<head><meta charset=\"utf-8\" /></head>\n<body>\n    <div>            <script src=\"https://cdnjs.cloudflare.com/ajax/libs/mathjax/2.7.5/MathJax.js?config=TeX-AMS-MML_SVG\"></script><script type=\"text/javascript\">if (window.MathJax) {MathJax.Hub.Config({SVG: {font: \"STIX-Web\"}});}</script>                <script type=\"text/javascript\">window.PlotlyConfig = {MathJaxConfig: 'local'};</script>\n        <script src=\"https://cdn.plot.ly/plotly-2.9.0.min.js\"></script>                <div id=\"23411c6d-49d1-4c6c-ba3b-c26a3cb1e308\" class=\"plotly-graph-div\" style=\"height:100%; width:100%;\"></div>            <script type=\"text/javascript\">                                    window.PLOTLYENV=window.PLOTLYENV || {};                                    if (document.getElementById(\"23411c6d-49d1-4c6c-ba3b-c26a3cb1e308\")) {                    Plotly.newPlot(                        \"23411c6d-49d1-4c6c-ba3b-c26a3cb1e308\",                        [{\"hovertemplate\":\"Estado=Rond\\u00f4nia<br>Ano=%{x}<br>Desemprego / PIB=%{y}<extra></extra>\",\"legendgroup\":\"Rond\\u00f4nia\",\"line\":{\"color\":\"#636efa\",\"dash\":\"solid\"},\"marker\":{\"symbol\":\"circle\"},\"mode\":\"lines\",\"name\":\"Rond\\u00f4nia\",\"orientation\":\"v\",\"showlegend\":true,\"x\":[2012,2013,2014,2015,2016,2017,2018,2019,2020],\"xaxis\":\"x\",\"y\":[0.016179209145592063,0.015998631152106,0.015095068383652639,0.01405506451549478,0.013104290314796322,0.012218452934561464,0.012129853963422513,0.01172402503567885,0.0027016162808557],\"yaxis\":\"y\",\"type\":\"scatter\"},{\"hovertemplate\":\"Estado=Acre<br>Ano=%{x}<br>Desemprego / PIB=%{y}<extra></extra>\",\"legendgroup\":\"Acre\",\"line\":{\"color\":\"#EF553B\",\"dash\":\"solid\"},\"marker\":{\"symbol\":\"circle\"},\"mode\":\"lines\",\"name\":\"Acre\",\"orientation\":\"v\",\"showlegend\":true,\"x\":[2012,2013,2014,2015,2016,2017,2018,2019,2020],\"xaxis\":\"x\",\"y\":[0.021227224126820328,0.01926105499385308,0.01679211512236047,0.016986226724666872,0.01731102557074913,0.017137323486890517,0.016371925703843715,0.016532291742992828,0.00394504351906175],\"yaxis\":\"y\",\"type\":\"scatter\"},{\"hovertemplate\":\"Estado=Amazonas<br>Ano=%{x}<br>Desemprego / PIB=%{y}<extra></extra>\",\"legendgroup\":\"Amazonas\",\"line\":{\"color\":\"#00cc96\",\"dash\":\"solid\"},\"marker\":{\"symbol\":\"circle\"},\"mode\":\"lines\",\"name\":\"Amazonas\",\"orientation\":\"v\",\"showlegend\":true,\"x\":[2012,2013,2014,2015,2016,2017,2018,2019,2020],\"xaxis\":\"x\",\"y\":[0.013771633544085272,0.012277963416763706,0.012027417929445235,0.012423732917194398,0.012303489243976755,0.012028074899184258,0.01166026290365501,0.010939989503341208,0.0025918137436720043],\"yaxis\":\"y\",\"type\":\"scatter\"},{\"hovertemplate\":\"Estado=Roraima<br>Ano=%{x}<br>Desemprego / PIB=%{y}<extra></extra>\",\"legendgroup\":\"Roraima\",\"line\":{\"color\":\"#ab63fa\",\"dash\":\"solid\"},\"marker\":{\"symbol\":\"circle\"},\"mode\":\"lines\",\"name\":\"Roraima\",\"orientation\":\"v\",\"showlegend\":true,\"x\":[2012,2013,2014,2015,2016,2017,2018,2019,2020],\"xaxis\":\"x\",\"y\":[0.015483435012039576,0.01371698683060949,0.013310588257589307,0.013160328847876062,0.01263933549652473,0.012020115328421583,0.011518335186623492,0.01099898557237664,0.002508693731473929],\"yaxis\":\"y\",\"type\":\"scatter\"},{\"hovertemplate\":\"Estado=Par\\u00e1<br>Ano=%{x}<br>Desemprego / PIB=%{y}<extra></extra>\",\"legendgroup\":\"Par\\u00e1\",\"line\":{\"color\":\"#FFA15A\",\"dash\":\"solid\"},\"marker\":{\"symbol\":\"circle\"},\"mode\":\"lines\",\"name\":\"Par\\u00e1\",\"orientation\":\"v\",\"showlegend\":true,\"x\":[2012,2013,2014,2015,2016,2017,2018,2019,2020],\"xaxis\":\"x\",\"y\":[0.021042038325158937,0.019136340983345598,0.01898463734619225,0.018361413954900978,0.017844068899542587,0.01623114722496046,0.015884761830436755,0.014561295682572039,0.0030272914169608557],\"yaxis\":\"y\",\"type\":\"scatter\"},{\"hovertemplate\":\"Estado=Amap\\u00e1<br>Ano=%{x}<br>Desemprego / PIB=%{y}<extra></extra>\",\"legendgroup\":\"Amap\\u00e1\",\"line\":{\"color\":\"#19d3f3\",\"dash\":\"solid\"},\"marker\":{\"symbol\":\"circle\"},\"mode\":\"lines\",\"name\":\"Amap\\u00e1\",\"orientation\":\"v\",\"showlegend\":true,\"x\":[2012,2013,2014,2015,2016,2017,2018,2019,2020],\"xaxis\":\"x\",\"y\":[0.01799500304908841,0.016664725948205707,0.01624592483717727,0.015748891228819662,0.01572987555490239,0.015295272065468947,0.014462459722741832,0.01420842519640806,0.003400271301582975],\"yaxis\":\"y\",\"type\":\"scatter\"},{\"hovertemplate\":\"Estado=Tocantins<br>Ano=%{x}<br>Desemprego / PIB=%{y}<extra></extra>\",\"legendgroup\":\"Tocantins\",\"line\":{\"color\":\"#FF6692\",\"dash\":\"solid\"},\"marker\":{\"symbol\":\"circle\"},\"mode\":\"lines\",\"name\":\"Tocantins\",\"orientation\":\"v\",\"showlegend\":true,\"x\":[2012,2013,2014,2015,2016,2017,2018,2019,2020],\"xaxis\":\"x\",\"y\":[0.020367977325073915,0.01808237226295172,0.016781648226400388,0.015291930629331938,0.014380327473420702,0.013665362856478144,0.013404854646980633,0.012275147919839281,0.0028247550024121278],\"yaxis\":\"y\",\"type\":\"scatter\"},{\"hovertemplate\":\"Estado=Maranh\\u00e3o<br>Ano=%{x}<br>Desemprego / PIB=%{y}<extra></extra>\",\"legendgroup\":\"Maranh\\u00e3o\",\"line\":{\"color\":\"#B6E880\",\"dash\":\"solid\"},\"marker\":{\"symbol\":\"circle\"},\"mode\":\"lines\",\"name\":\"Maranh\\u00e3o\",\"orientation\":\"v\",\"showlegend\":true,\"x\":[2012,2013,2014,2015,2016,2017,2018,2019,2020],\"xaxis\":\"x\",\"y\":[0.032061440249504115,0.028940165433756083,0.025827012390897915,0.025536471753206915,0.02380962480249572,0.022970031991300984,0.02131198562755216,0.021858448271898746,0.005026377654085645],\"yaxis\":\"y\",\"type\":\"scatter\"},{\"hovertemplate\":\"Estado=Piau\\u00ed<br>Ano=%{x}<br>Desemprego / PIB=%{y}<extra></extra>\",\"legendgroup\":\"Piau\\u00ed\",\"line\":{\"color\":\"#FF97FF\",\"dash\":\"solid\"},\"marker\":{\"symbol\":\"circle\"},\"mode\":\"lines\",\"name\":\"Piau\\u00ed\",\"orientation\":\"v\",\"showlegend\":true,\"x\":[2012,2013,2014,2015,2016,2017,2018,2019,2020],\"xaxis\":\"x\",\"y\":[0.03424857874971695,0.031684340074566025,0.026312513112782324,0.02562983536224932,0.024456178558138385,0.02233854103778557,0.020262645189021027,0.019495731373523086,0.00453793749849775],\"yaxis\":\"y\",\"type\":\"scatter\"},{\"hovertemplate\":\"Estado=Cear\\u00e1<br>Ano=%{x}<br>Desemprego / PIB=%{y}<extra></extra>\",\"legendgroup\":\"Cear\\u00e1\",\"line\":{\"color\":\"#FECB52\",\"dash\":\"solid\"},\"marker\":{\"symbol\":\"circle\"},\"mode\":\"lines\",\"name\":\"Cear\\u00e1\",\"orientation\":\"v\",\"showlegend\":true,\"x\":[2012,2013,2014,2015,2016,2017,2018,2019,2020],\"xaxis\":\"x\",\"y\":[0.02759303337507453,0.02486413814553673,0.021860390705443156,0.021158257711408526,0.02025176240566807,0.019258859228654217,0.01845817448426646,0.017720276339782896,0.004387874292360948],\"yaxis\":\"y\",\"type\":\"scatter\"},{\"hovertemplate\":\"Estado=Rio Grande do Norte<br>Ano=%{x}<br>Desemprego / PIB=%{y}<extra></extra>\",\"legendgroup\":\"Rio Grande do Norte\",\"line\":{\"color\":\"#636efa\",\"dash\":\"solid\"},\"marker\":{\"symbol\":\"circle\"},\"mode\":\"lines\",\"name\":\"Rio Grande do Norte\",\"orientation\":\"v\",\"showlegend\":true,\"x\":[2012,2013,2014,2015,2016,2017,2018,2019,2020],\"xaxis\":\"x\",\"y\":[0.021914492676795887,0.019967601300353785,0.01954923151694171,0.018646005887907706,0.018290009349160724,0.017116600077069083,0.016620983723919232,0.015599246242234764,0.0038978943463252994],\"yaxis\":\"y\",\"type\":\"scatter\"},{\"hovertemplate\":\"Estado=Para\\u00edba<br>Ano=%{x}<br>Desemprego / PIB=%{y}<extra></extra>\",\"legendgroup\":\"Para\\u00edba\",\"line\":{\"color\":\"#EF553B\",\"dash\":\"solid\"},\"marker\":{\"symbol\":\"circle\"},\"mode\":\"lines\",\"name\":\"Para\\u00edba\",\"orientation\":\"v\",\"showlegend\":true,\"x\":[2012,2013,2014,2015,2016,2017,2018,2019,2020],\"xaxis\":\"x\",\"y\":[0.027682883005489888,0.025553450042456512,0.022532664257705098,0.021541846820877213,0.020813882918785314,0.019908080016134127,0.01948314355895825,0.018612635410829664,0.004495530738312276],\"yaxis\":\"y\",\"type\":\"scatter\"},{\"hovertemplate\":\"Estado=Pernambuco<br>Ano=%{x}<br>Desemprego / PIB=%{y}<extra></extra>\",\"legendgroup\":\"Pernambuco\",\"line\":{\"color\":\"#00cc96\",\"dash\":\"solid\"},\"marker\":{\"symbol\":\"circle\"},\"mode\":\"lines\",\"name\":\"Pernambuco\",\"orientation\":\"v\",\"showlegend\":true,\"x\":[2012,2013,2014,2015,2016,2017,2018,2019,2020],\"xaxis\":\"x\",\"y\":[0.02176045642126916,0.020043180681028016,0.018461074618839012,0.01862150678439735,0.01763303026169969,0.016417643274218473,0.016076566915810032,0.015272420533663886,0.003996744721468272],\"yaxis\":\"y\",\"type\":\"scatter\"},{\"hovertemplate\":\"Estado=Alagoas<br>Ano=%{x}<br>Desemprego / PIB=%{y}<extra></extra>\",\"legendgroup\":\"Alagoas\",\"line\":{\"color\":\"#ab63fa\",\"dash\":\"solid\"},\"marker\":{\"symbol\":\"circle\"},\"mode\":\"lines\",\"name\":\"Alagoas\",\"orientation\":\"v\",\"showlegend\":true,\"x\":[2012,2013,2014,2015,2016,2017,2018,2019,2020],\"xaxis\":\"x\",\"y\":[0.02766490632120302,0.026020230464450855,0.02386821581380385,0.021450503209384242,0.02043714841740855,0.01940547389827207,0.019026686861867405,0.017648137633306693,0.004082126762183299],\"yaxis\":\"y\",\"type\":\"scatter\"},{\"hovertemplate\":\"Estado=Sergipe<br>Ano=%{x}<br>Desemprego / PIB=%{y}<extra></extra>\",\"legendgroup\":\"Sergipe\",\"line\":{\"color\":\"#FFA15A\",\"dash\":\"solid\"},\"marker\":{\"symbol\":\"circle\"},\"mode\":\"lines\",\"name\":\"Sergipe\",\"orientation\":\"v\",\"showlegend\":true,\"x\":[2012,2013,2014,2015,2016,2017,2018,2019,2020],\"xaxis\":\"x\",\"y\":[0.01976368753318288,0.01881934180873419,0.017922509245230058,0.01791395625486993,0.018118477645135227,0.017383300555982455,0.016918947039904056,0.01620515506846697,0.003985936333189053],\"yaxis\":\"y\",\"type\":\"scatter\"},{\"hovertemplate\":\"Estado=Bahia<br>Ano=%{x}<br>Desemprego / PIB=%{y}<extra></extra>\",\"legendgroup\":\"Bahia\",\"line\":{\"color\":\"#19d3f3\",\"dash\":\"solid\"},\"marker\":{\"symbol\":\"circle\"},\"mode\":\"lines\",\"name\":\"Bahia\",\"orientation\":\"v\",\"showlegend\":true,\"x\":[2012,2013,2014,2015,2016,2017,2018,2019,2020],\"xaxis\":\"x\",\"y\":[0.02413670884000547,0.021722843031445966,0.020081278432321038,0.01856689313776145,0.017727518956231623,0.01730771512155544,0.016373349334706105,0.01611441783160662,0.003878215800386542],\"yaxis\":\"y\",\"type\":\"scatter\"},{\"hovertemplate\":\"Estado=Minas Gerais<br>Ano=%{x}<br>Desemprego / PIB=%{y}<extra></extra>\",\"legendgroup\":\"Minas Gerais\",\"line\":{\"color\":\"#FF6692\",\"dash\":\"solid\"},\"marker\":{\"symbol\":\"circle\"},\"mode\":\"lines\",\"name\":\"Minas Gerais\",\"orientation\":\"v\",\"showlegend\":true,\"x\":[2012,2013,2014,2015,2016,2017,2018,2019,2020],\"xaxis\":\"x\",\"y\":[0.014554261583910127,0.013359496922649577,0.01277809862140658,0.012875213025559992,0.012389629773354583,0.011783463165097869,0.01115200790011616,0.010616643657478124,0.0025485286800341197],\"yaxis\":\"y\",\"type\":\"scatter\"},{\"hovertemplate\":\"Estado=Esp\\u00edrito Santo<br>Ano=%{x}<br>Desemprego / PIB=%{y}<extra></extra>\",\"legendgroup\":\"Esp\\u00edrito Santo\",\"line\":{\"color\":\"#B6E880\",\"dash\":\"solid\"},\"marker\":{\"symbol\":\"circle\"},\"mode\":\"lines\",\"name\":\"Esp\\u00edrito Santo\",\"orientation\":\"v\",\"showlegend\":true,\"x\":[2012,2013,2014,2015,2016,2017,2018,2019,2020],\"xaxis\":\"x\",\"y\":[0.009920361496220257,0.01014032506707046,0.009338132405036937,0.010179786688200278,0.011386139832315295,0.011084662263328939,0.009243902297380535,0.00931009105895723,0.0023402639418841457],\"yaxis\":\"y\",\"type\":\"scatter\"},{\"hovertemplate\":\"Estado=Rio de Janeiro<br>Ano=%{x}<br>Desemprego / PIB=%{y}<extra></extra>\",\"legendgroup\":\"Rio de Janeiro\",\"line\":{\"color\":\"#FF97FF\",\"dash\":\"solid\"},\"marker\":{\"symbol\":\"circle\"},\"mode\":\"lines\",\"name\":\"Rio de Janeiro\",\"orientation\":\"v\",\"showlegend\":true,\"x\":[2012,2013,2014,2015,2016,2017,2018,2019,2020],\"xaxis\":\"x\",\"y\":[0.009299425537064915,0.008610276242612116,0.008181775375732753,0.008463314122935892,0.00873155756685255,0.0084622573487457,0.007539344788202959,0.0074086333793938405,0.0019354657852041514],\"yaxis\":\"y\",\"type\":\"scatter\"},{\"hovertemplate\":\"Estado=S\\u00e3o Paulo<br>Ano=%{x}<br>Desemprego / PIB=%{y}<extra></extra>\",\"legendgroup\":\"S\\u00e3o Paulo\",\"line\":{\"color\":\"#FECB52\",\"dash\":\"solid\"},\"marker\":{\"symbol\":\"circle\"},\"mode\":\"lines\",\"name\":\"S\\u00e3o Paulo\",\"orientation\":\"v\",\"showlegend\":true,\"x\":[2012,2013,2014,2015,2016,2017,2018,2019,2020],\"xaxis\":\"x\",\"y\":[0.008941373295313613,0.008220839659245437,0.007700640606637541,0.007450582911925521,0.007158183769925659,0.006926002317671189,0.006709153753214585,0.006394863089617206,0.0015858168678971314],\"yaxis\":\"y\",\"type\":\"scatter\"},{\"hovertemplate\":\"Estado=Paran\\u00e1<br>Ano=%{x}<br>Desemprego / PIB=%{y}<extra></extra>\",\"legendgroup\":\"Paran\\u00e1\",\"line\":{\"color\":\"#636efa\",\"dash\":\"solid\"},\"marker\":{\"symbol\":\"circle\"},\"mode\":\"lines\",\"name\":\"Paran\\u00e1\",\"orientation\":\"v\",\"showlegend\":true,\"x\":[2012,2013,2014,2015,2016,2017,2018,2019,2020],\"xaxis\":\"x\",\"y\":[0.01197674387384952,0.010403886329190136,0.010076297896308208,0.009413660436474168,0.008956628010351114,0.008631597587942099,0.008323761949074405,0.007891040322591811,0.0018900229084954758],\"yaxis\":\"y\",\"type\":\"scatter\"},{\"hovertemplate\":\"Estado=Santa Catarina<br>Ano=%{x}<br>Desemprego / PIB=%{y}<extra></extra>\",\"legendgroup\":\"Santa Catarina\",\"line\":{\"color\":\"#EF553B\",\"dash\":\"solid\"},\"marker\":{\"symbol\":\"circle\"},\"mode\":\"lines\",\"name\":\"Santa Catarina\",\"orientation\":\"v\",\"showlegend\":true,\"x\":[2012,2013,2014,2015,2016,2017,2018,2019,2020],\"xaxis\":\"x\",\"y\":[0.010910106077788787,0.009944886988204157,0.00896916003424819,0.00888751878610575,0.008746481662611211,0.008209680303508616,0.007756169969710637,0.007238978148752364,0.0016906448321843597],\"yaxis\":\"y\",\"type\":\"scatter\"},{\"hovertemplate\":\"Estado=Rio Grande do Sul<br>Ano=%{x}<br>Desemprego / PIB=%{y}<extra></extra>\",\"legendgroup\":\"Rio Grande do Sul\",\"line\":{\"color\":\"#00cc96\",\"dash\":\"solid\"},\"marker\":{\"symbol\":\"circle\"},\"mode\":\"lines\",\"name\":\"Rio Grande do Sul\",\"orientation\":\"v\",\"showlegend\":true,\"x\":[2012,2013,2014,2015,2016,2017,2018,2019,2020],\"xaxis\":\"x\",\"y\":[0.012401116073908596,0.010879864998973261,0.010145425861799392,0.009561965308465658,0.009022002147640385,0.008732250305867556,0.00813065630605504,0.007788972063435278,0.001995150798131016],\"yaxis\":\"y\",\"type\":\"scatter\"},{\"hovertemplate\":\"Estado=Mato Grosso do Sul<br>Ano=%{x}<br>Desemprego / PIB=%{y}<extra></extra>\",\"legendgroup\":\"Mato Grosso do Sul\",\"line\":{\"color\":\"#ab63fa\",\"dash\":\"solid\"},\"marker\":{\"symbol\":\"circle\"},\"mode\":\"lines\",\"name\":\"Mato Grosso do Sul\",\"orientation\":\"v\",\"showlegend\":true,\"x\":[2012,2013,2014,2015,2016,2017,2018,2019,2020],\"xaxis\":\"x\",\"y\":[0.012240942075325278,0.011152663257589884,0.009925252473967628,0.009577221148018308,0.008895197225499056,0.008567744342661665,0.007823751660522111,0.007922893949491533,0.001741857301183677],\"yaxis\":\"y\",\"type\":\"scatter\"},{\"hovertemplate\":\"Estado=Mato Grosso<br>Ano=%{x}<br>Desemprego / PIB=%{y}<extra></extra>\",\"legendgroup\":\"Mato Grosso\",\"line\":{\"color\":\"#FFA15A\",\"dash\":\"solid\"},\"marker\":{\"symbol\":\"circle\"},\"mode\":\"lines\",\"name\":\"Mato Grosso\",\"orientation\":\"v\",\"showlegend\":true,\"x\":[2012,2013,2014,2015,2016,2017,2018,2019,2020],\"xaxis\":\"x\",\"y\":[0.012089269373280177,0.011052210997954304,0.009881016844176527,0.009333603549069069,0.008274116520036498,0.008205231845361673,0.007731213214224432,0.007511150911984837,0.0015057411528399945],\"yaxis\":\"y\",\"type\":\"scatter\"},{\"hovertemplate\":\"Estado=Goi\\u00e1s<br>Ano=%{x}<br>Desemprego / PIB=%{y}<extra></extra>\",\"legendgroup\":\"Goi\\u00e1s\",\"line\":{\"color\":\"#19d3f3\",\"dash\":\"solid\"},\"marker\":{\"symbol\":\"circle\"},\"mode\":\"lines\",\"name\":\"Goi\\u00e1s\",\"orientation\":\"v\",\"showlegend\":true,\"x\":[2012,2013,2014,2015,2016,2017,2018,2019,2020],\"xaxis\":\"x\",\"y\":[0.014162804869383877,0.013267003812392347,0.012346732526958714,0.01199142209375067,0.011674211204195182,0.011309816175109094,0.011248367783761367,0.010746025897444823,0.0025182250958517885],\"yaxis\":\"y\",\"type\":\"scatter\"},{\"hovertemplate\":\"Estado=Distrito Federal<br>Ano=%{x}<br>Desemprego / PIB=%{y}<extra></extra>\",\"legendgroup\":\"Distrito Federal\",\"line\":{\"color\":\"#FF6692\",\"dash\":\"solid\"},\"marker\":{\"symbol\":\"circle\"},\"mode\":\"lines\",\"name\":\"Distrito Federal\",\"orientation\":\"v\",\"showlegend\":true,\"x\":[2012,2013,2014,2015,2016,2017,2018,2019,2020],\"xaxis\":\"x\",\"y\":[0.005223601576849267,0.005003219731072212,0.004530672509115736,0.004222846392404962,0.0039139841411835385,0.003868058595215264,0.003815676422566756,0.003588270466013416,0.0009343708521071722],\"yaxis\":\"y\",\"type\":\"scatter\"}],                        {\"template\":{\"data\":{\"bar\":[{\"error_x\":{\"color\":\"#2a3f5f\"},\"error_y\":{\"color\":\"#2a3f5f\"},\"marker\":{\"line\":{\"color\":\"#E5ECF6\",\"width\":0.5},\"pattern\":{\"fillmode\":\"overlay\",\"size\":10,\"solidity\":0.2}},\"type\":\"bar\"}],\"barpolar\":[{\"marker\":{\"line\":{\"color\":\"#E5ECF6\",\"width\":0.5},\"pattern\":{\"fillmode\":\"overlay\",\"size\":10,\"solidity\":0.2}},\"type\":\"barpolar\"}],\"carpet\":[{\"aaxis\":{\"endlinecolor\":\"#2a3f5f\",\"gridcolor\":\"white\",\"linecolor\":\"white\",\"minorgridcolor\":\"white\",\"startlinecolor\":\"#2a3f5f\"},\"baxis\":{\"endlinecolor\":\"#2a3f5f\",\"gridcolor\":\"white\",\"linecolor\":\"white\",\"minorgridcolor\":\"white\",\"startlinecolor\":\"#2a3f5f\"},\"type\":\"carpet\"}],\"choropleth\":[{\"colorbar\":{\"outlinewidth\":0,\"ticks\":\"\"},\"type\":\"choropleth\"}],\"contour\":[{\"colorbar\":{\"outlinewidth\":0,\"ticks\":\"\"},\"colorscale\":[[0.0,\"#0d0887\"],[0.1111111111111111,\"#46039f\"],[0.2222222222222222,\"#7201a8\"],[0.3333333333333333,\"#9c179e\"],[0.4444444444444444,\"#bd3786\"],[0.5555555555555556,\"#d8576b\"],[0.6666666666666666,\"#ed7953\"],[0.7777777777777778,\"#fb9f3a\"],[0.8888888888888888,\"#fdca26\"],[1.0,\"#f0f921\"]],\"type\":\"contour\"}],\"contourcarpet\":[{\"colorbar\":{\"outlinewidth\":0,\"ticks\":\"\"},\"type\":\"contourcarpet\"}],\"heatmap\":[{\"colorbar\":{\"outlinewidth\":0,\"ticks\":\"\"},\"colorscale\":[[0.0,\"#0d0887\"],[0.1111111111111111,\"#46039f\"],[0.2222222222222222,\"#7201a8\"],[0.3333333333333333,\"#9c179e\"],[0.4444444444444444,\"#bd3786\"],[0.5555555555555556,\"#d8576b\"],[0.6666666666666666,\"#ed7953\"],[0.7777777777777778,\"#fb9f3a\"],[0.8888888888888888,\"#fdca26\"],[1.0,\"#f0f921\"]],\"type\":\"heatmap\"}],\"heatmapgl\":[{\"colorbar\":{\"outlinewidth\":0,\"ticks\":\"\"},\"colorscale\":[[0.0,\"#0d0887\"],[0.1111111111111111,\"#46039f\"],[0.2222222222222222,\"#7201a8\"],[0.3333333333333333,\"#9c179e\"],[0.4444444444444444,\"#bd3786\"],[0.5555555555555556,\"#d8576b\"],[0.6666666666666666,\"#ed7953\"],[0.7777777777777778,\"#fb9f3a\"],[0.8888888888888888,\"#fdca26\"],[1.0,\"#f0f921\"]],\"type\":\"heatmapgl\"}],\"histogram\":[{\"marker\":{\"pattern\":{\"fillmode\":\"overlay\",\"size\":10,\"solidity\":0.2}},\"type\":\"histogram\"}],\"histogram2d\":[{\"colorbar\":{\"outlinewidth\":0,\"ticks\":\"\"},\"colorscale\":[[0.0,\"#0d0887\"],[0.1111111111111111,\"#46039f\"],[0.2222222222222222,\"#7201a8\"],[0.3333333333333333,\"#9c179e\"],[0.4444444444444444,\"#bd3786\"],[0.5555555555555556,\"#d8576b\"],[0.6666666666666666,\"#ed7953\"],[0.7777777777777778,\"#fb9f3a\"],[0.8888888888888888,\"#fdca26\"],[1.0,\"#f0f921\"]],\"type\":\"histogram2d\"}],\"histogram2dcontour\":[{\"colorbar\":{\"outlinewidth\":0,\"ticks\":\"\"},\"colorscale\":[[0.0,\"#0d0887\"],[0.1111111111111111,\"#46039f\"],[0.2222222222222222,\"#7201a8\"],[0.3333333333333333,\"#9c179e\"],[0.4444444444444444,\"#bd3786\"],[0.5555555555555556,\"#d8576b\"],[0.6666666666666666,\"#ed7953\"],[0.7777777777777778,\"#fb9f3a\"],[0.8888888888888888,\"#fdca26\"],[1.0,\"#f0f921\"]],\"type\":\"histogram2dcontour\"}],\"mesh3d\":[{\"colorbar\":{\"outlinewidth\":0,\"ticks\":\"\"},\"type\":\"mesh3d\"}],\"parcoords\":[{\"line\":{\"colorbar\":{\"outlinewidth\":0,\"ticks\":\"\"}},\"type\":\"parcoords\"}],\"pie\":[{\"automargin\":true,\"type\":\"pie\"}],\"scatter\":[{\"marker\":{\"colorbar\":{\"outlinewidth\":0,\"ticks\":\"\"}},\"type\":\"scatter\"}],\"scatter3d\":[{\"line\":{\"colorbar\":{\"outlinewidth\":0,\"ticks\":\"\"}},\"marker\":{\"colorbar\":{\"outlinewidth\":0,\"ticks\":\"\"}},\"type\":\"scatter3d\"}],\"scattercarpet\":[{\"marker\":{\"colorbar\":{\"outlinewidth\":0,\"ticks\":\"\"}},\"type\":\"scattercarpet\"}],\"scattergeo\":[{\"marker\":{\"colorbar\":{\"outlinewidth\":0,\"ticks\":\"\"}},\"type\":\"scattergeo\"}],\"scattergl\":[{\"marker\":{\"colorbar\":{\"outlinewidth\":0,\"ticks\":\"\"}},\"type\":\"scattergl\"}],\"scattermapbox\":[{\"marker\":{\"colorbar\":{\"outlinewidth\":0,\"ticks\":\"\"}},\"type\":\"scattermapbox\"}],\"scatterpolar\":[{\"marker\":{\"colorbar\":{\"outlinewidth\":0,\"ticks\":\"\"}},\"type\":\"scatterpolar\"}],\"scatterpolargl\":[{\"marker\":{\"colorbar\":{\"outlinewidth\":0,\"ticks\":\"\"}},\"type\":\"scatterpolargl\"}],\"scatterternary\":[{\"marker\":{\"colorbar\":{\"outlinewidth\":0,\"ticks\":\"\"}},\"type\":\"scatterternary\"}],\"surface\":[{\"colorbar\":{\"outlinewidth\":0,\"ticks\":\"\"},\"colorscale\":[[0.0,\"#0d0887\"],[0.1111111111111111,\"#46039f\"],[0.2222222222222222,\"#7201a8\"],[0.3333333333333333,\"#9c179e\"],[0.4444444444444444,\"#bd3786\"],[0.5555555555555556,\"#d8576b\"],[0.6666666666666666,\"#ed7953\"],[0.7777777777777778,\"#fb9f3a\"],[0.8888888888888888,\"#fdca26\"],[1.0,\"#f0f921\"]],\"type\":\"surface\"}],\"table\":[{\"cells\":{\"fill\":{\"color\":\"#EBF0F8\"},\"line\":{\"color\":\"white\"}},\"header\":{\"fill\":{\"color\":\"#C8D4E3\"},\"line\":{\"color\":\"white\"}},\"type\":\"table\"}]},\"layout\":{\"annotationdefaults\":{\"arrowcolor\":\"#2a3f5f\",\"arrowhead\":0,\"arrowwidth\":1},\"autotypenumbers\":\"strict\",\"coloraxis\":{\"colorbar\":{\"outlinewidth\":0,\"ticks\":\"\"}},\"colorscale\":{\"diverging\":[[0,\"#8e0152\"],[0.1,\"#c51b7d\"],[0.2,\"#de77ae\"],[0.3,\"#f1b6da\"],[0.4,\"#fde0ef\"],[0.5,\"#f7f7f7\"],[0.6,\"#e6f5d0\"],[0.7,\"#b8e186\"],[0.8,\"#7fbc41\"],[0.9,\"#4d9221\"],[1,\"#276419\"]],\"sequential\":[[0.0,\"#0d0887\"],[0.1111111111111111,\"#46039f\"],[0.2222222222222222,\"#7201a8\"],[0.3333333333333333,\"#9c179e\"],[0.4444444444444444,\"#bd3786\"],[0.5555555555555556,\"#d8576b\"],[0.6666666666666666,\"#ed7953\"],[0.7777777777777778,\"#fb9f3a\"],[0.8888888888888888,\"#fdca26\"],[1.0,\"#f0f921\"]],\"sequentialminus\":[[0.0,\"#0d0887\"],[0.1111111111111111,\"#46039f\"],[0.2222222222222222,\"#7201a8\"],[0.3333333333333333,\"#9c179e\"],[0.4444444444444444,\"#bd3786\"],[0.5555555555555556,\"#d8576b\"],[0.6666666666666666,\"#ed7953\"],[0.7777777777777778,\"#fb9f3a\"],[0.8888888888888888,\"#fdca26\"],[1.0,\"#f0f921\"]]},\"colorway\":[\"#636efa\",\"#EF553B\",\"#00cc96\",\"#ab63fa\",\"#FFA15A\",\"#19d3f3\",\"#FF6692\",\"#B6E880\",\"#FF97FF\",\"#FECB52\"],\"font\":{\"color\":\"#2a3f5f\"},\"geo\":{\"bgcolor\":\"white\",\"lakecolor\":\"white\",\"landcolor\":\"#E5ECF6\",\"showlakes\":true,\"showland\":true,\"subunitcolor\":\"white\"},\"hoverlabel\":{\"align\":\"left\"},\"hovermode\":\"closest\",\"mapbox\":{\"style\":\"light\"},\"paper_bgcolor\":\"white\",\"plot_bgcolor\":\"#E5ECF6\",\"polar\":{\"angularaxis\":{\"gridcolor\":\"white\",\"linecolor\":\"white\",\"ticks\":\"\"},\"bgcolor\":\"#E5ECF6\",\"radialaxis\":{\"gridcolor\":\"white\",\"linecolor\":\"white\",\"ticks\":\"\"}},\"scene\":{\"xaxis\":{\"backgroundcolor\":\"#E5ECF6\",\"gridcolor\":\"white\",\"gridwidth\":2,\"linecolor\":\"white\",\"showbackground\":true,\"ticks\":\"\",\"zerolinecolor\":\"white\"},\"yaxis\":{\"backgroundcolor\":\"#E5ECF6\",\"gridcolor\":\"white\",\"gridwidth\":2,\"linecolor\":\"white\",\"showbackground\":true,\"ticks\":\"\",\"zerolinecolor\":\"white\"},\"zaxis\":{\"backgroundcolor\":\"#E5ECF6\",\"gridcolor\":\"white\",\"gridwidth\":2,\"linecolor\":\"white\",\"showbackground\":true,\"ticks\":\"\",\"zerolinecolor\":\"white\"}},\"shapedefaults\":{\"line\":{\"color\":\"#2a3f5f\"}},\"ternary\":{\"aaxis\":{\"gridcolor\":\"white\",\"linecolor\":\"white\",\"ticks\":\"\"},\"baxis\":{\"gridcolor\":\"white\",\"linecolor\":\"white\",\"ticks\":\"\"},\"bgcolor\":\"#E5ECF6\",\"caxis\":{\"gridcolor\":\"white\",\"linecolor\":\"white\",\"ticks\":\"\"}},\"title\":{\"x\":0.05},\"xaxis\":{\"automargin\":true,\"gridcolor\":\"white\",\"linecolor\":\"white\",\"ticks\":\"\",\"title\":{\"standoff\":15},\"zerolinecolor\":\"white\",\"zerolinewidth\":2},\"yaxis\":{\"automargin\":true,\"gridcolor\":\"white\",\"linecolor\":\"white\",\"ticks\":\"\",\"title\":{\"standoff\":15},\"zerolinecolor\":\"white\",\"zerolinewidth\":2}}},\"xaxis\":{\"anchor\":\"y\",\"domain\":[0.0,1.0],\"title\":{\"text\":\"Ano\"}},\"yaxis\":{\"anchor\":\"x\",\"domain\":[0.0,1.0],\"title\":{\"text\":\"Desemprego / PIB\"}},\"legend\":{\"title\":{\"text\":\"Estado\"},\"tracegroupgap\":0},\"title\":{\"text\":\"Rela\\u00e7\\u00e3o entre Desemprego e PIB ao Longo dos Anos\"}},                        {\"responsive\": true}                    )                };                            </script>        </div>\n</body>\n</html>",
       "datasetInfos": [],
       "metadata": {},
       "removedWidgets": [],
       "textData": null,
       "type": "htmlSandbox"
      }
     },
     "output_type": "display_data"
    }
   ],
   "source": [
    "df_spark = spark.sql(\"\"\"\n",
    "    SELECT des.ANO, des.ESTADO, des.VALOR_TOTAL, pib.VALOR_PIB, \n",
    "           (des.VALOR_TOTAL * 100) / pib.VALOR_PIB AS DESEMPREGO_PIB\n",
    "    FROM gold.desemprego des\n",
    "    INNER JOIN gold.pib pib \n",
    "    ON pib.ESTADO = des.ESTADO \n",
    "    AND pib.ANO = des.ANO \n",
    "    AND des.SEXO = 'Total'\n",
    "    ORDER BY des.ANO\n",
    "\"\"\")\n",
    "\n",
    "df_pandas = df_spark.toPandas()\n",
    "\n",
    "import plotly.express as px\n",
    "\n",
    "fig = px.line(df_pandas, x='ANO', y='DESEMPREGO_PIB', color='ESTADO',\n",
    "              title=\"Relação entre Desemprego e PIB ao Longo dos Anos\", \n",
    "              labels={\"DESEMPREGO_PIB\": \"Desemprego / PIB\", \"ANO\": \"Ano\", \"ESTADO\": \"Estado\"})\n",
    "\n",
    "\n",
    "fig.show()\n"
   ]
  },
  {
   "cell_type": "code",
   "execution_count": 0,
   "metadata": {
    "application/vnd.databricks.v1+cell": {
     "cellMetadata": {
      "byteLimit": 2048000,
      "implicitDf": true,
      "rowLimit": 10000
     },
     "inputWidgets": {},
     "nuid": "2db02472-52d2-40a4-a694-5db4aa309885",
     "showTitle": false,
     "tableResultSettingsMap": {},
     "title": ""
    }
   },
   "outputs": [
    {
     "output_type": "display_data",
     "data": {
      "text/html": [
       "<style scoped>\n",
       "  .table-result-container {\n",
       "    max-height: 300px;\n",
       "    overflow: auto;\n",
       "  }\n",
       "  table, th, td {\n",
       "    border: 1px solid black;\n",
       "    border-collapse: collapse;\n",
       "  }\n",
       "  th, td {\n",
       "    padding: 5px;\n",
       "  }\n",
       "  th {\n",
       "    text-align: left;\n",
       "  }\n",
       "</style><div class='table-result-container'><table class='table-result'><thead style='background-color: white'><tr><th>corr(VALOR_TOTAL, VALOR_PIB)</th></tr></thead><tbody><tr><td>0.8846421500107723</td></tr></tbody></table></div>"
      ]
     },
     "metadata": {
      "application/vnd.databricks.v1+output": {
       "addedWidgets": {},
       "aggData": [],
       "aggError": "",
       "aggOverflow": false,
       "aggSchema": [],
       "aggSeriesLimitReached": false,
       "aggType": "",
       "arguments": {},
       "columnCustomDisplayInfos": {},
       "data": [
        [
         0.8846421500107723
        ]
       ],
       "datasetInfos": [],
       "dbfsResultPath": null,
       "isJsonSchema": true,
       "metadata": {},
       "overflow": false,
       "plotOptions": {
        "customPlotOptions": {},
        "displayType": "table",
        "pivotAggregation": null,
        "pivotColumns": null,
        "xColumns": null,
        "yColumns": null
       },
       "removedWidgets": [],
       "schema": [
        {
         "metadata": "{\"__autoGeneratedAlias\":\"true\"}",
         "name": "corr(VALOR_TOTAL, VALOR_PIB)",
         "type": "\"double\""
        }
       ],
       "type": "table"
      }
     },
     "output_type": "display_data"
    }
   ],
   "source": [
    "%sql\n",
    "select corr(des.VALOR_TOTAL, pib.VALOR_PIB) from gold.desemprego des\n",
    "inner join gold.pib pib on pib.ESTADO = des.ESTADO and pib.ANO = des.ANO and des.SEXO = 'Total'"
   ]
  },
  {
   "cell_type": "code",
   "execution_count": 0,
   "metadata": {
    "application/vnd.databricks.v1+cell": {
     "cellMetadata": {},
     "inputWidgets": {},
     "nuid": "8291bd86-9c64-49af-92ae-9dfbc5daa31a",
     "showTitle": false,
     "tableResultSettingsMap": {},
     "title": ""
    }
   },
   "outputs": [],
   "source": [
    "df_spark = spark.sql(\"\"\"\n",
    "    SELECT des.ANO, des.ESTADO, des.VALOR_TOTAL, pib.VALOR_PIB, \n",
    "           (des.VALOR_TOTAL * 100) / pib.VALOR_PIB AS DESEMPREGO_PIB\n",
    "    FROM gold.desemprego des\n",
    "    INNER JOIN gold.pib pib \n",
    "    ON pib.ESTADO = des.ESTADO \n",
    "    AND pib.ANO = des.ANO \n",
    "    AND des.SEXO = 'Total'\n",
    "    ORDER BY des.ANO\n",
    "\"\"\")\n",
    "\n",
    "df_pandas = df_spark.toPandas()\n",
    "\n",
    "import plotly.express as px\n",
    "\n",
    "fig = px.line(df_pandas, x='ANO', y='DESEMPREGO_PIB', color='ESTADO',\n",
    "              title=\"Relação entre Desemprego e PIB ao Longo dos Anos\", \n",
    "              labels={\"DESEMPREGO_PIB\": \"Desemprego / PIB\", \"ANO\": \"Ano\", \"ESTADO\": \"Estado\"})\n",
    "\n",
    "\n",
    "fig.show()"
   ]
  },
  {
   "cell_type": "code",
   "execution_count": 0,
   "metadata": {
    "application/vnd.databricks.v1+cell": {
     "cellMetadata": {
      "byteLimit": 2048000,
      "implicitDf": true,
      "rowLimit": 10000
     },
     "inputWidgets": {},
     "nuid": "50349dc1-17bb-4e88-8cd4-10f963dcd219",
     "showTitle": false,
     "tableResultSettingsMap": {},
     "title": ""
    }
   },
   "outputs": [
    {
     "output_type": "display_data",
     "data": {
      "text/html": [
       "<html>\n",
       "<head><meta charset=\"utf-8\" /></head>\n",
       "<body>\n",
       "    <div>            <script src=\"https://cdnjs.cloudflare.com/ajax/libs/mathjax/2.7.5/MathJax.js?config=TeX-AMS-MML_SVG\"></script><script type=\"text/javascript\">if (window.MathJax) {MathJax.Hub.Config({SVG: {font: \"STIX-Web\"}});}</script>                <script type=\"text/javascript\">window.PlotlyConfig = {MathJaxConfig: 'local'};</script>\n",
       "        <script src=\"https://cdn.plot.ly/plotly-2.9.0.min.js\"></script>                <div id=\"fcae4ea0-041f-4d7c-bb24-dc2905a55317\" class=\"plotly-graph-div\" style=\"height:800px; width:100%;\"></div>            <script type=\"text/javascript\">                                    window.PLOTLYENV=window.PLOTLYENV || {};                                    if (document.getElementById(\"fcae4ea0-041f-4d7c-bb24-dc2905a55317\")) {                    Plotly.newPlot(                        \"fcae4ea0-041f-4d7c-bb24-dc2905a55317\",                        [{\"alignmentgroup\":\"True\",\"hovertemplate\":\"Sexo=Homens<br>Desemprego Total=%{x}<br>Estado=%{y}<extra></extra>\",\"legendgroup\":\"Homens\",\"marker\":{\"color\":\"#636efa\",\"pattern\":{\"shape\":\"\"}},\"name\":\"Homens\",\"offsetgroup\":\"Homens\",\"orientation\":\"h\",\"showlegend\":true,\"textposition\":\"auto\",\"x\":[-1049,-4569,-1004,-4980,-21226,-12880,-4025,-5653,-9601,-9474,-4886,-3747,-31488,-16648,-5567,-11143,-13220,-4714,-4965,-17224,-25069,-2445,-593,-10295,-3155,-67284,-2137],\"xaxis\":\"x\",\"y\":[\"Acre\",\"Alagoas\",\"Amap\\u00e1\",\"Amazonas\",\"Bahia\",\"Cear\\u00e1\",\"Distrito Federal\",\"Esp\\u00edrito Santo\",\"Goi\\u00e1s\",\"Maranh\\u00e3o\",\"Mato Grosso\",\"Mato Grosso do Sul\",\"Minas Gerais\",\"Paran\\u00e1\",\"Para\\u00edba\",\"Par\\u00e1\",\"Pernambuco\",\"Piau\\u00ed\",\"Rio Grande do Norte\",\"Rio Grande do Sul\",\"Rio de Janeiro\",\"Rond\\u00f4nia\",\"Roraima\",\"Santa Catarina\",\"Sergipe\",\"S\\u00e3o Paulo\",\"Tocantins\"],\"yaxis\":\"y\",\"type\":\"bar\"},{\"alignmentgroup\":\"True\",\"hovertemplate\":\"Sexo=Mulheres<br>Desemprego Total=%{x}<br>Estado=%{y}<extra></extra>\",\"legendgroup\":\"Mulheres\",\"marker\":{\"color\":\"#EF553B\",\"pattern\":{\"shape\":\"\"}},\"name\":\"Mulheres\",\"offsetgroup\":\"Mulheres\",\"orientation\":\"h\",\"showlegend\":true,\"textposition\":\"auto\",\"x\":[1102,5018,997,4968,22841,13877,4547,5939,10050,9919,4744,3844,32882,17560,6196,11389,14632,5094,5206,18440,28392,2427,599,10629,3339,72114,2076],\"xaxis\":\"x\",\"y\":[\"Acre\",\"Alagoas\",\"Amap\\u00e1\",\"Amazonas\",\"Bahia\",\"Cear\\u00e1\",\"Distrito Federal\",\"Esp\\u00edrito Santo\",\"Goi\\u00e1s\",\"Maranh\\u00e3o\",\"Mato Grosso\",\"Mato Grosso do Sul\",\"Minas Gerais\",\"Paran\\u00e1\",\"Para\\u00edba\",\"Par\\u00e1\",\"Pernambuco\",\"Piau\\u00ed\",\"Rio Grande do Norte\",\"Rio Grande do Sul\",\"Rio de Janeiro\",\"Rond\\u00f4nia\",\"Roraima\",\"Santa Catarina\",\"Sergipe\",\"S\\u00e3o Paulo\",\"Tocantins\"],\"yaxis\":\"y\",\"type\":\"bar\"}],                        {\"template\":{\"data\":{\"bar\":[{\"error_x\":{\"color\":\"#2a3f5f\"},\"error_y\":{\"color\":\"#2a3f5f\"},\"marker\":{\"line\":{\"color\":\"#E5ECF6\",\"width\":0.5},\"pattern\":{\"fillmode\":\"overlay\",\"size\":10,\"solidity\":0.2}},\"type\":\"bar\"}],\"barpolar\":[{\"marker\":{\"line\":{\"color\":\"#E5ECF6\",\"width\":0.5},\"pattern\":{\"fillmode\":\"overlay\",\"size\":10,\"solidity\":0.2}},\"type\":\"barpolar\"}],\"carpet\":[{\"aaxis\":{\"endlinecolor\":\"#2a3f5f\",\"gridcolor\":\"white\",\"linecolor\":\"white\",\"minorgridcolor\":\"white\",\"startlinecolor\":\"#2a3f5f\"},\"baxis\":{\"endlinecolor\":\"#2a3f5f\",\"gridcolor\":\"white\",\"linecolor\":\"white\",\"minorgridcolor\":\"white\",\"startlinecolor\":\"#2a3f5f\"},\"type\":\"carpet\"}],\"choropleth\":[{\"colorbar\":{\"outlinewidth\":0,\"ticks\":\"\"},\"type\":\"choropleth\"}],\"contour\":[{\"colorbar\":{\"outlinewidth\":0,\"ticks\":\"\"},\"colorscale\":[[0.0,\"#0d0887\"],[0.1111111111111111,\"#46039f\"],[0.2222222222222222,\"#7201a8\"],[0.3333333333333333,\"#9c179e\"],[0.4444444444444444,\"#bd3786\"],[0.5555555555555556,\"#d8576b\"],[0.6666666666666666,\"#ed7953\"],[0.7777777777777778,\"#fb9f3a\"],[0.8888888888888888,\"#fdca26\"],[1.0,\"#f0f921\"]],\"type\":\"contour\"}],\"contourcarpet\":[{\"colorbar\":{\"outlinewidth\":0,\"ticks\":\"\"},\"type\":\"contourcarpet\"}],\"heatmap\":[{\"colorbar\":{\"outlinewidth\":0,\"ticks\":\"\"},\"colorscale\":[[0.0,\"#0d0887\"],[0.1111111111111111,\"#46039f\"],[0.2222222222222222,\"#7201a8\"],[0.3333333333333333,\"#9c179e\"],[0.4444444444444444,\"#bd3786\"],[0.5555555555555556,\"#d8576b\"],[0.6666666666666666,\"#ed7953\"],[0.7777777777777778,\"#fb9f3a\"],[0.8888888888888888,\"#fdca26\"],[1.0,\"#f0f921\"]],\"type\":\"heatmap\"}],\"heatmapgl\":[{\"colorbar\":{\"outlinewidth\":0,\"ticks\":\"\"},\"colorscale\":[[0.0,\"#0d0887\"],[0.1111111111111111,\"#46039f\"],[0.2222222222222222,\"#7201a8\"],[0.3333333333333333,\"#9c179e\"],[0.4444444444444444,\"#bd3786\"],[0.5555555555555556,\"#d8576b\"],[0.6666666666666666,\"#ed7953\"],[0.7777777777777778,\"#fb9f3a\"],[0.8888888888888888,\"#fdca26\"],[1.0,\"#f0f921\"]],\"type\":\"heatmapgl\"}],\"histogram\":[{\"marker\":{\"pattern\":{\"fillmode\":\"overlay\",\"size\":10,\"solidity\":0.2}},\"type\":\"histogram\"}],\"histogram2d\":[{\"colorbar\":{\"outlinewidth\":0,\"ticks\":\"\"},\"colorscale\":[[0.0,\"#0d0887\"],[0.1111111111111111,\"#46039f\"],[0.2222222222222222,\"#7201a8\"],[0.3333333333333333,\"#9c179e\"],[0.4444444444444444,\"#bd3786\"],[0.5555555555555556,\"#d8576b\"],[0.6666666666666666,\"#ed7953\"],[0.7777777777777778,\"#fb9f3a\"],[0.8888888888888888,\"#fdca26\"],[1.0,\"#f0f921\"]],\"type\":\"histogram2d\"}],\"histogram2dcontour\":[{\"colorbar\":{\"outlinewidth\":0,\"ticks\":\"\"},\"colorscale\":[[0.0,\"#0d0887\"],[0.1111111111111111,\"#46039f\"],[0.2222222222222222,\"#7201a8\"],[0.3333333333333333,\"#9c179e\"],[0.4444444444444444,\"#bd3786\"],[0.5555555555555556,\"#d8576b\"],[0.6666666666666666,\"#ed7953\"],[0.7777777777777778,\"#fb9f3a\"],[0.8888888888888888,\"#fdca26\"],[1.0,\"#f0f921\"]],\"type\":\"histogram2dcontour\"}],\"mesh3d\":[{\"colorbar\":{\"outlinewidth\":0,\"ticks\":\"\"},\"type\":\"mesh3d\"}],\"parcoords\":[{\"line\":{\"colorbar\":{\"outlinewidth\":0,\"ticks\":\"\"}},\"type\":\"parcoords\"}],\"pie\":[{\"automargin\":true,\"type\":\"pie\"}],\"scatter\":[{\"marker\":{\"colorbar\":{\"outlinewidth\":0,\"ticks\":\"\"}},\"type\":\"scatter\"}],\"scatter3d\":[{\"line\":{\"colorbar\":{\"outlinewidth\":0,\"ticks\":\"\"}},\"marker\":{\"colorbar\":{\"outlinewidth\":0,\"ticks\":\"\"}},\"type\":\"scatter3d\"}],\"scattercarpet\":[{\"marker\":{\"colorbar\":{\"outlinewidth\":0,\"ticks\":\"\"}},\"type\":\"scattercarpet\"}],\"scattergeo\":[{\"marker\":{\"colorbar\":{\"outlinewidth\":0,\"ticks\":\"\"}},\"type\":\"scattergeo\"}],\"scattergl\":[{\"marker\":{\"colorbar\":{\"outlinewidth\":0,\"ticks\":\"\"}},\"type\":\"scattergl\"}],\"scattermapbox\":[{\"marker\":{\"colorbar\":{\"outlinewidth\":0,\"ticks\":\"\"}},\"type\":\"scattermapbox\"}],\"scatterpolar\":[{\"marker\":{\"colorbar\":{\"outlinewidth\":0,\"ticks\":\"\"}},\"type\":\"scatterpolar\"}],\"scatterpolargl\":[{\"marker\":{\"colorbar\":{\"outlinewidth\":0,\"ticks\":\"\"}},\"type\":\"scatterpolargl\"}],\"scatterternary\":[{\"marker\":{\"colorbar\":{\"outlinewidth\":0,\"ticks\":\"\"}},\"type\":\"scatterternary\"}],\"surface\":[{\"colorbar\":{\"outlinewidth\":0,\"ticks\":\"\"},\"colorscale\":[[0.0,\"#0d0887\"],[0.1111111111111111,\"#46039f\"],[0.2222222222222222,\"#7201a8\"],[0.3333333333333333,\"#9c179e\"],[0.4444444444444444,\"#bd3786\"],[0.5555555555555556,\"#d8576b\"],[0.6666666666666666,\"#ed7953\"],[0.7777777777777778,\"#fb9f3a\"],[0.8888888888888888,\"#fdca26\"],[1.0,\"#f0f921\"]],\"type\":\"surface\"}],\"table\":[{\"cells\":{\"fill\":{\"color\":\"#EBF0F8\"},\"line\":{\"color\":\"white\"}},\"header\":{\"fill\":{\"color\":\"#C8D4E3\"},\"line\":{\"color\":\"white\"}},\"type\":\"table\"}]},\"layout\":{\"annotationdefaults\":{\"arrowcolor\":\"#2a3f5f\",\"arrowhead\":0,\"arrowwidth\":1},\"autotypenumbers\":\"strict\",\"coloraxis\":{\"colorbar\":{\"outlinewidth\":0,\"ticks\":\"\"}},\"colorscale\":{\"diverging\":[[0,\"#8e0152\"],[0.1,\"#c51b7d\"],[0.2,\"#de77ae\"],[0.3,\"#f1b6da\"],[0.4,\"#fde0ef\"],[0.5,\"#f7f7f7\"],[0.6,\"#e6f5d0\"],[0.7,\"#b8e186\"],[0.8,\"#7fbc41\"],[0.9,\"#4d9221\"],[1,\"#276419\"]],\"sequential\":[[0.0,\"#0d0887\"],[0.1111111111111111,\"#46039f\"],[0.2222222222222222,\"#7201a8\"],[0.3333333333333333,\"#9c179e\"],[0.4444444444444444,\"#bd3786\"],[0.5555555555555556,\"#d8576b\"],[0.6666666666666666,\"#ed7953\"],[0.7777777777777778,\"#fb9f3a\"],[0.8888888888888888,\"#fdca26\"],[1.0,\"#f0f921\"]],\"sequentialminus\":[[0.0,\"#0d0887\"],[0.1111111111111111,\"#46039f\"],[0.2222222222222222,\"#7201a8\"],[0.3333333333333333,\"#9c179e\"],[0.4444444444444444,\"#bd3786\"],[0.5555555555555556,\"#d8576b\"],[0.6666666666666666,\"#ed7953\"],[0.7777777777777778,\"#fb9f3a\"],[0.8888888888888888,\"#fdca26\"],[1.0,\"#f0f921\"]]},\"colorway\":[\"#636efa\",\"#EF553B\",\"#00cc96\",\"#ab63fa\",\"#FFA15A\",\"#19d3f3\",\"#FF6692\",\"#B6E880\",\"#FF97FF\",\"#FECB52\"],\"font\":{\"color\":\"#2a3f5f\"},\"geo\":{\"bgcolor\":\"white\",\"lakecolor\":\"white\",\"landcolor\":\"#E5ECF6\",\"showlakes\":true,\"showland\":true,\"subunitcolor\":\"white\"},\"hoverlabel\":{\"align\":\"left\"},\"hovermode\":\"closest\",\"mapbox\":{\"style\":\"light\"},\"paper_bgcolor\":\"white\",\"plot_bgcolor\":\"#E5ECF6\",\"polar\":{\"angularaxis\":{\"gridcolor\":\"white\",\"linecolor\":\"white\",\"ticks\":\"\"},\"bgcolor\":\"#E5ECF6\",\"radialaxis\":{\"gridcolor\":\"white\",\"linecolor\":\"white\",\"ticks\":\"\"}},\"scene\":{\"xaxis\":{\"backgroundcolor\":\"#E5ECF6\",\"gridcolor\":\"white\",\"gridwidth\":2,\"linecolor\":\"white\",\"showbackground\":true,\"ticks\":\"\",\"zerolinecolor\":\"white\"},\"yaxis\":{\"backgroundcolor\":\"#E5ECF6\",\"gridcolor\":\"white\",\"gridwidth\":2,\"linecolor\":\"white\",\"showbackground\":true,\"ticks\":\"\",\"zerolinecolor\":\"white\"},\"zaxis\":{\"backgroundcolor\":\"#E5ECF6\",\"gridcolor\":\"white\",\"gridwidth\":2,\"linecolor\":\"white\",\"showbackground\":true,\"ticks\":\"\",\"zerolinecolor\":\"white\"}},\"shapedefaults\":{\"line\":{\"color\":\"#2a3f5f\"}},\"ternary\":{\"aaxis\":{\"gridcolor\":\"white\",\"linecolor\":\"white\",\"ticks\":\"\"},\"baxis\":{\"gridcolor\":\"white\",\"linecolor\":\"white\",\"ticks\":\"\"},\"bgcolor\":\"#E5ECF6\",\"caxis\":{\"gridcolor\":\"white\",\"linecolor\":\"white\",\"ticks\":\"\"}},\"title\":{\"x\":0.05},\"xaxis\":{\"automargin\":true,\"gridcolor\":\"white\",\"linecolor\":\"white\",\"ticks\":\"\",\"title\":{\"standoff\":15},\"zerolinecolor\":\"white\",\"zerolinewidth\":2},\"yaxis\":{\"automargin\":true,\"gridcolor\":\"white\",\"linecolor\":\"white\",\"ticks\":\"\",\"title\":{\"standoff\":15},\"zerolinecolor\":\"white\",\"zerolinewidth\":2}}},\"xaxis\":{\"anchor\":\"y\",\"domain\":[0.0,1.0],\"title\":{\"text\":\"Desemprego Total\"},\"tickformat\":\",\"},\"yaxis\":{\"anchor\":\"x\",\"domain\":[0.0,1.0],\"title\":{\"text\":\"Estado\"}},\"legend\":{\"title\":{\"text\":\"Sexo\"},\"tracegroupgap\":0},\"title\":{\"text\":\"PIR\\u00c2MIDE DE DESEMPREGO POR SEXO - 2012\"},\"barmode\":\"relative\",\"height\":800},                        {\"responsive\": true}                    )                };                            </script>        </div>\n",
       "</body>\n",
       "</html>"
      ]
     },
     "metadata": {
      "application/vnd.databricks.v1+output": {
       "addedWidgets": {},
       "arguments": {},
       "data": "<html>\n<head><meta charset=\"utf-8\" /></head>\n<body>\n    <div>            <script src=\"https://cdnjs.cloudflare.com/ajax/libs/mathjax/2.7.5/MathJax.js?config=TeX-AMS-MML_SVG\"></script><script type=\"text/javascript\">if (window.MathJax) {MathJax.Hub.Config({SVG: {font: \"STIX-Web\"}});}</script>                <script type=\"text/javascript\">window.PlotlyConfig = {MathJaxConfig: 'local'};</script>\n        <script src=\"https://cdn.plot.ly/plotly-2.9.0.min.js\"></script>                <div id=\"fcae4ea0-041f-4d7c-bb24-dc2905a55317\" class=\"plotly-graph-div\" style=\"height:800px; width:100%;\"></div>            <script type=\"text/javascript\">                                    window.PLOTLYENV=window.PLOTLYENV || {};                                    if (document.getElementById(\"fcae4ea0-041f-4d7c-bb24-dc2905a55317\")) {                    Plotly.newPlot(                        \"fcae4ea0-041f-4d7c-bb24-dc2905a55317\",                        [{\"alignmentgroup\":\"True\",\"hovertemplate\":\"Sexo=Homens<br>Desemprego Total=%{x}<br>Estado=%{y}<extra></extra>\",\"legendgroup\":\"Homens\",\"marker\":{\"color\":\"#636efa\",\"pattern\":{\"shape\":\"\"}},\"name\":\"Homens\",\"offsetgroup\":\"Homens\",\"orientation\":\"h\",\"showlegend\":true,\"textposition\":\"auto\",\"x\":[-1049,-4569,-1004,-4980,-21226,-12880,-4025,-5653,-9601,-9474,-4886,-3747,-31488,-16648,-5567,-11143,-13220,-4714,-4965,-17224,-25069,-2445,-593,-10295,-3155,-67284,-2137],\"xaxis\":\"x\",\"y\":[\"Acre\",\"Alagoas\",\"Amap\\u00e1\",\"Amazonas\",\"Bahia\",\"Cear\\u00e1\",\"Distrito Federal\",\"Esp\\u00edrito Santo\",\"Goi\\u00e1s\",\"Maranh\\u00e3o\",\"Mato Grosso\",\"Mato Grosso do Sul\",\"Minas Gerais\",\"Paran\\u00e1\",\"Para\\u00edba\",\"Par\\u00e1\",\"Pernambuco\",\"Piau\\u00ed\",\"Rio Grande do Norte\",\"Rio Grande do Sul\",\"Rio de Janeiro\",\"Rond\\u00f4nia\",\"Roraima\",\"Santa Catarina\",\"Sergipe\",\"S\\u00e3o Paulo\",\"Tocantins\"],\"yaxis\":\"y\",\"type\":\"bar\"},{\"alignmentgroup\":\"True\",\"hovertemplate\":\"Sexo=Mulheres<br>Desemprego Total=%{x}<br>Estado=%{y}<extra></extra>\",\"legendgroup\":\"Mulheres\",\"marker\":{\"color\":\"#EF553B\",\"pattern\":{\"shape\":\"\"}},\"name\":\"Mulheres\",\"offsetgroup\":\"Mulheres\",\"orientation\":\"h\",\"showlegend\":true,\"textposition\":\"auto\",\"x\":[1102,5018,997,4968,22841,13877,4547,5939,10050,9919,4744,3844,32882,17560,6196,11389,14632,5094,5206,18440,28392,2427,599,10629,3339,72114,2076],\"xaxis\":\"x\",\"y\":[\"Acre\",\"Alagoas\",\"Amap\\u00e1\",\"Amazonas\",\"Bahia\",\"Cear\\u00e1\",\"Distrito Federal\",\"Esp\\u00edrito Santo\",\"Goi\\u00e1s\",\"Maranh\\u00e3o\",\"Mato Grosso\",\"Mato Grosso do Sul\",\"Minas Gerais\",\"Paran\\u00e1\",\"Para\\u00edba\",\"Par\\u00e1\",\"Pernambuco\",\"Piau\\u00ed\",\"Rio Grande do Norte\",\"Rio Grande do Sul\",\"Rio de Janeiro\",\"Rond\\u00f4nia\",\"Roraima\",\"Santa Catarina\",\"Sergipe\",\"S\\u00e3o Paulo\",\"Tocantins\"],\"yaxis\":\"y\",\"type\":\"bar\"}],                        {\"template\":{\"data\":{\"bar\":[{\"error_x\":{\"color\":\"#2a3f5f\"},\"error_y\":{\"color\":\"#2a3f5f\"},\"marker\":{\"line\":{\"color\":\"#E5ECF6\",\"width\":0.5},\"pattern\":{\"fillmode\":\"overlay\",\"size\":10,\"solidity\":0.2}},\"type\":\"bar\"}],\"barpolar\":[{\"marker\":{\"line\":{\"color\":\"#E5ECF6\",\"width\":0.5},\"pattern\":{\"fillmode\":\"overlay\",\"size\":10,\"solidity\":0.2}},\"type\":\"barpolar\"}],\"carpet\":[{\"aaxis\":{\"endlinecolor\":\"#2a3f5f\",\"gridcolor\":\"white\",\"linecolor\":\"white\",\"minorgridcolor\":\"white\",\"startlinecolor\":\"#2a3f5f\"},\"baxis\":{\"endlinecolor\":\"#2a3f5f\",\"gridcolor\":\"white\",\"linecolor\":\"white\",\"minorgridcolor\":\"white\",\"startlinecolor\":\"#2a3f5f\"},\"type\":\"carpet\"}],\"choropleth\":[{\"colorbar\":{\"outlinewidth\":0,\"ticks\":\"\"},\"type\":\"choropleth\"}],\"contour\":[{\"colorbar\":{\"outlinewidth\":0,\"ticks\":\"\"},\"colorscale\":[[0.0,\"#0d0887\"],[0.1111111111111111,\"#46039f\"],[0.2222222222222222,\"#7201a8\"],[0.3333333333333333,\"#9c179e\"],[0.4444444444444444,\"#bd3786\"],[0.5555555555555556,\"#d8576b\"],[0.6666666666666666,\"#ed7953\"],[0.7777777777777778,\"#fb9f3a\"],[0.8888888888888888,\"#fdca26\"],[1.0,\"#f0f921\"]],\"type\":\"contour\"}],\"contourcarpet\":[{\"colorbar\":{\"outlinewidth\":0,\"ticks\":\"\"},\"type\":\"contourcarpet\"}],\"heatmap\":[{\"colorbar\":{\"outlinewidth\":0,\"ticks\":\"\"},\"colorscale\":[[0.0,\"#0d0887\"],[0.1111111111111111,\"#46039f\"],[0.2222222222222222,\"#7201a8\"],[0.3333333333333333,\"#9c179e\"],[0.4444444444444444,\"#bd3786\"],[0.5555555555555556,\"#d8576b\"],[0.6666666666666666,\"#ed7953\"],[0.7777777777777778,\"#fb9f3a\"],[0.8888888888888888,\"#fdca26\"],[1.0,\"#f0f921\"]],\"type\":\"heatmap\"}],\"heatmapgl\":[{\"colorbar\":{\"outlinewidth\":0,\"ticks\":\"\"},\"colorscale\":[[0.0,\"#0d0887\"],[0.1111111111111111,\"#46039f\"],[0.2222222222222222,\"#7201a8\"],[0.3333333333333333,\"#9c179e\"],[0.4444444444444444,\"#bd3786\"],[0.5555555555555556,\"#d8576b\"],[0.6666666666666666,\"#ed7953\"],[0.7777777777777778,\"#fb9f3a\"],[0.8888888888888888,\"#fdca26\"],[1.0,\"#f0f921\"]],\"type\":\"heatmapgl\"}],\"histogram\":[{\"marker\":{\"pattern\":{\"fillmode\":\"overlay\",\"size\":10,\"solidity\":0.2}},\"type\":\"histogram\"}],\"histogram2d\":[{\"colorbar\":{\"outlinewidth\":0,\"ticks\":\"\"},\"colorscale\":[[0.0,\"#0d0887\"],[0.1111111111111111,\"#46039f\"],[0.2222222222222222,\"#7201a8\"],[0.3333333333333333,\"#9c179e\"],[0.4444444444444444,\"#bd3786\"],[0.5555555555555556,\"#d8576b\"],[0.6666666666666666,\"#ed7953\"],[0.7777777777777778,\"#fb9f3a\"],[0.8888888888888888,\"#fdca26\"],[1.0,\"#f0f921\"]],\"type\":\"histogram2d\"}],\"histogram2dcontour\":[{\"colorbar\":{\"outlinewidth\":0,\"ticks\":\"\"},\"colorscale\":[[0.0,\"#0d0887\"],[0.1111111111111111,\"#46039f\"],[0.2222222222222222,\"#7201a8\"],[0.3333333333333333,\"#9c179e\"],[0.4444444444444444,\"#bd3786\"],[0.5555555555555556,\"#d8576b\"],[0.6666666666666666,\"#ed7953\"],[0.7777777777777778,\"#fb9f3a\"],[0.8888888888888888,\"#fdca26\"],[1.0,\"#f0f921\"]],\"type\":\"histogram2dcontour\"}],\"mesh3d\":[{\"colorbar\":{\"outlinewidth\":0,\"ticks\":\"\"},\"type\":\"mesh3d\"}],\"parcoords\":[{\"line\":{\"colorbar\":{\"outlinewidth\":0,\"ticks\":\"\"}},\"type\":\"parcoords\"}],\"pie\":[{\"automargin\":true,\"type\":\"pie\"}],\"scatter\":[{\"marker\":{\"colorbar\":{\"outlinewidth\":0,\"ticks\":\"\"}},\"type\":\"scatter\"}],\"scatter3d\":[{\"line\":{\"colorbar\":{\"outlinewidth\":0,\"ticks\":\"\"}},\"marker\":{\"colorbar\":{\"outlinewidth\":0,\"ticks\":\"\"}},\"type\":\"scatter3d\"}],\"scattercarpet\":[{\"marker\":{\"colorbar\":{\"outlinewidth\":0,\"ticks\":\"\"}},\"type\":\"scattercarpet\"}],\"scattergeo\":[{\"marker\":{\"colorbar\":{\"outlinewidth\":0,\"ticks\":\"\"}},\"type\":\"scattergeo\"}],\"scattergl\":[{\"marker\":{\"colorbar\":{\"outlinewidth\":0,\"ticks\":\"\"}},\"type\":\"scattergl\"}],\"scattermapbox\":[{\"marker\":{\"colorbar\":{\"outlinewidth\":0,\"ticks\":\"\"}},\"type\":\"scattermapbox\"}],\"scatterpolar\":[{\"marker\":{\"colorbar\":{\"outlinewidth\":0,\"ticks\":\"\"}},\"type\":\"scatterpolar\"}],\"scatterpolargl\":[{\"marker\":{\"colorbar\":{\"outlinewidth\":0,\"ticks\":\"\"}},\"type\":\"scatterpolargl\"}],\"scatterternary\":[{\"marker\":{\"colorbar\":{\"outlinewidth\":0,\"ticks\":\"\"}},\"type\":\"scatterternary\"}],\"surface\":[{\"colorbar\":{\"outlinewidth\":0,\"ticks\":\"\"},\"colorscale\":[[0.0,\"#0d0887\"],[0.1111111111111111,\"#46039f\"],[0.2222222222222222,\"#7201a8\"],[0.3333333333333333,\"#9c179e\"],[0.4444444444444444,\"#bd3786\"],[0.5555555555555556,\"#d8576b\"],[0.6666666666666666,\"#ed7953\"],[0.7777777777777778,\"#fb9f3a\"],[0.8888888888888888,\"#fdca26\"],[1.0,\"#f0f921\"]],\"type\":\"surface\"}],\"table\":[{\"cells\":{\"fill\":{\"color\":\"#EBF0F8\"},\"line\":{\"color\":\"white\"}},\"header\":{\"fill\":{\"color\":\"#C8D4E3\"},\"line\":{\"color\":\"white\"}},\"type\":\"table\"}]},\"layout\":{\"annotationdefaults\":{\"arrowcolor\":\"#2a3f5f\",\"arrowhead\":0,\"arrowwidth\":1},\"autotypenumbers\":\"strict\",\"coloraxis\":{\"colorbar\":{\"outlinewidth\":0,\"ticks\":\"\"}},\"colorscale\":{\"diverging\":[[0,\"#8e0152\"],[0.1,\"#c51b7d\"],[0.2,\"#de77ae\"],[0.3,\"#f1b6da\"],[0.4,\"#fde0ef\"],[0.5,\"#f7f7f7\"],[0.6,\"#e6f5d0\"],[0.7,\"#b8e186\"],[0.8,\"#7fbc41\"],[0.9,\"#4d9221\"],[1,\"#276419\"]],\"sequential\":[[0.0,\"#0d0887\"],[0.1111111111111111,\"#46039f\"],[0.2222222222222222,\"#7201a8\"],[0.3333333333333333,\"#9c179e\"],[0.4444444444444444,\"#bd3786\"],[0.5555555555555556,\"#d8576b\"],[0.6666666666666666,\"#ed7953\"],[0.7777777777777778,\"#fb9f3a\"],[0.8888888888888888,\"#fdca26\"],[1.0,\"#f0f921\"]],\"sequentialminus\":[[0.0,\"#0d0887\"],[0.1111111111111111,\"#46039f\"],[0.2222222222222222,\"#7201a8\"],[0.3333333333333333,\"#9c179e\"],[0.4444444444444444,\"#bd3786\"],[0.5555555555555556,\"#d8576b\"],[0.6666666666666666,\"#ed7953\"],[0.7777777777777778,\"#fb9f3a\"],[0.8888888888888888,\"#fdca26\"],[1.0,\"#f0f921\"]]},\"colorway\":[\"#636efa\",\"#EF553B\",\"#00cc96\",\"#ab63fa\",\"#FFA15A\",\"#19d3f3\",\"#FF6692\",\"#B6E880\",\"#FF97FF\",\"#FECB52\"],\"font\":{\"color\":\"#2a3f5f\"},\"geo\":{\"bgcolor\":\"white\",\"lakecolor\":\"white\",\"landcolor\":\"#E5ECF6\",\"showlakes\":true,\"showland\":true,\"subunitcolor\":\"white\"},\"hoverlabel\":{\"align\":\"left\"},\"hovermode\":\"closest\",\"mapbox\":{\"style\":\"light\"},\"paper_bgcolor\":\"white\",\"plot_bgcolor\":\"#E5ECF6\",\"polar\":{\"angularaxis\":{\"gridcolor\":\"white\",\"linecolor\":\"white\",\"ticks\":\"\"},\"bgcolor\":\"#E5ECF6\",\"radialaxis\":{\"gridcolor\":\"white\",\"linecolor\":\"white\",\"ticks\":\"\"}},\"scene\":{\"xaxis\":{\"backgroundcolor\":\"#E5ECF6\",\"gridcolor\":\"white\",\"gridwidth\":2,\"linecolor\":\"white\",\"showbackground\":true,\"ticks\":\"\",\"zerolinecolor\":\"white\"},\"yaxis\":{\"backgroundcolor\":\"#E5ECF6\",\"gridcolor\":\"white\",\"gridwidth\":2,\"linecolor\":\"white\",\"showbackground\":true,\"ticks\":\"\",\"zerolinecolor\":\"white\"},\"zaxis\":{\"backgroundcolor\":\"#E5ECF6\",\"gridcolor\":\"white\",\"gridwidth\":2,\"linecolor\":\"white\",\"showbackground\":true,\"ticks\":\"\",\"zerolinecolor\":\"white\"}},\"shapedefaults\":{\"line\":{\"color\":\"#2a3f5f\"}},\"ternary\":{\"aaxis\":{\"gridcolor\":\"white\",\"linecolor\":\"white\",\"ticks\":\"\"},\"baxis\":{\"gridcolor\":\"white\",\"linecolor\":\"white\",\"ticks\":\"\"},\"bgcolor\":\"#E5ECF6\",\"caxis\":{\"gridcolor\":\"white\",\"linecolor\":\"white\",\"ticks\":\"\"}},\"title\":{\"x\":0.05},\"xaxis\":{\"automargin\":true,\"gridcolor\":\"white\",\"linecolor\":\"white\",\"ticks\":\"\",\"title\":{\"standoff\":15},\"zerolinecolor\":\"white\",\"zerolinewidth\":2},\"yaxis\":{\"automargin\":true,\"gridcolor\":\"white\",\"linecolor\":\"white\",\"ticks\":\"\",\"title\":{\"standoff\":15},\"zerolinecolor\":\"white\",\"zerolinewidth\":2}}},\"xaxis\":{\"anchor\":\"y\",\"domain\":[0.0,1.0],\"title\":{\"text\":\"Desemprego Total\"},\"tickformat\":\",\"},\"yaxis\":{\"anchor\":\"x\",\"domain\":[0.0,1.0],\"title\":{\"text\":\"Estado\"}},\"legend\":{\"title\":{\"text\":\"Sexo\"},\"tracegroupgap\":0},\"title\":{\"text\":\"PIR\\u00c2MIDE DE DESEMPREGO POR SEXO - 2012\"},\"barmode\":\"relative\",\"height\":800},                        {\"responsive\": true}                    )                };                            </script>        </div>\n</body>\n</html>",
       "datasetInfos": [],
       "metadata": {},
       "removedWidgets": [],
       "textData": null,
       "type": "htmlSandbox"
      }
     },
     "output_type": "display_data"
    }
   ],
   "source": [
    "df_spark = spark.sql(\"\"\"\n",
    "    SELECT des.ESTADO, \n",
    "           des.SEXO, \n",
    "           SUM(des.VALOR_TOTAL) AS TOTAL_DESUMPREGO\n",
    "    FROM gold.desemprego des\n",
    "    WHERE des.ANO = 2012 AND des.SEXO IN ('Homens', 'Mulheres')\n",
    "    GROUP BY des.ESTADO, des.SEXO\n",
    "\"\"\")\n",
    "\n",
    "\n",
    "df_pandas = df_spark.toPandas()\n",
    "\n",
    "\n",
    "df_pandas['TOTAL_DESUMPREGO'] = df_pandas.apply(\n",
    "    lambda row: -row['TOTAL_DESUMPREGO'] if row['SEXO'] == 'Homens' else row['TOTAL_DESUMPREGO'],\n",
    "    axis=1\n",
    ")\n",
    "\n",
    "\n",
    "df_pivot = df_pandas.pivot(index='ESTADO', columns='SEXO', values='TOTAL_DESUMPREGO').fillna(0).reset_index()\n",
    "\n",
    "\n",
    "df_long = df_pivot.melt(id_vars='ESTADO', value_vars=['Homens', 'Mulheres'],\n",
    "                        var_name='SEXO', value_name='TOTAL_DESUMPREGO')\n",
    "\n",
    "import plotly.express as px\n",
    "\n",
    "fig = px.bar(df_long,\n",
    "             x='TOTAL_DESUMPREGO',\n",
    "             y='ESTADO',\n",
    "             color='SEXO',\n",
    "             orientation='h',\n",
    "             title=\"PIRÂMIDE DE DESEMPREGO POR SEXO - 2012\",\n",
    "             labels={'TOTAL_DESUMPREGO': 'Desemprego Total', 'ESTADO': 'Estado', 'SEXO': 'Sexo'},\n",
    "             height=800)\n",
    "\n",
    "\n",
    "fig.update_layout(xaxis_tickformat=',', barmode='relative')\n",
    "\n",
    "fig.show()\n"
   ]
  },
  {
   "cell_type": "code",
   "execution_count": 0,
   "metadata": {
    "application/vnd.databricks.v1+cell": {
     "cellMetadata": {
      "byteLimit": 2048000,
      "rowLimit": 10000
     },
     "inputWidgets": {},
     "nuid": "53a4628b-0142-41a8-aca9-38deae8b48ec",
     "showTitle": false,
     "tableResultSettingsMap": {},
     "title": ""
    }
   },
   "outputs": [
    {
     "output_type": "display_data",
     "data": {
      "text/html": [
       "<html>\n",
       "<head><meta charset=\"utf-8\" /></head>\n",
       "<body>\n",
       "    <div>            <script src=\"https://cdnjs.cloudflare.com/ajax/libs/mathjax/2.7.5/MathJax.js?config=TeX-AMS-MML_SVG\"></script><script type=\"text/javascript\">if (window.MathJax) {MathJax.Hub.Config({SVG: {font: \"STIX-Web\"}});}</script>                <script type=\"text/javascript\">window.PlotlyConfig = {MathJaxConfig: 'local'};</script>\n",
       "        <script src=\"https://cdn.plot.ly/plotly-2.9.0.min.js\"></script>                <div id=\"b985549e-3a76-4c4a-8f65-996a72c01c13\" class=\"plotly-graph-div\" style=\"height:800px; width:100%;\"></div>            <script type=\"text/javascript\">                                    window.PLOTLYENV=window.PLOTLYENV || {};                                    if (document.getElementById(\"b985549e-3a76-4c4a-8f65-996a72c01c13\")) {                    Plotly.newPlot(                        \"b985549e-3a76-4c4a-8f65-996a72c01c13\",                        [{\"alignmentgroup\":\"True\",\"hovertemplate\":\"Sexo=Homens<br>Desemprego Total=%{x}<br>Estado=%{y}<extra></extra>\",\"legendgroup\":\"Homens\",\"marker\":{\"color\":\"#636efa\",\"pattern\":{\"shape\":\"\"}},\"name\":\"Homens\",\"offsetgroup\":\"Homens\",\"orientation\":\"h\",\"showlegend\":true,\"textposition\":\"auto\",\"x\":[-1383,-5005,-1363,-6490,-23286,-14426,-4961,-6666,-11835,-10765,-5587,-4406,-35133,-18975,-6275,-13738,-14661,-5113,-5651,-18549,-27514,-2960,-920,-12311,-3622,-76456,-2645],\"xaxis\":\"x\",\"y\":[\"Acre\",\"Alagoas\",\"Amap\\u00e1\",\"Amazonas\",\"Bahia\",\"Cear\\u00e1\",\"Distrito Federal\",\"Esp\\u00edrito Santo\",\"Goi\\u00e1s\",\"Maranh\\u00e3o\",\"Mato Grosso\",\"Mato Grosso do Sul\",\"Minas Gerais\",\"Paran\\u00e1\",\"Para\\u00edba\",\"Par\\u00e1\",\"Pernambuco\",\"Piau\\u00ed\",\"Rio Grande do Norte\",\"Rio Grande do Sul\",\"Rio de Janeiro\",\"Rond\\u00f4nia\",\"Roraima\",\"Santa Catarina\",\"Sergipe\",\"S\\u00e3o Paulo\",\"Tocantins\"],\"yaxis\":\"y\",\"type\":\"bar\"},{\"alignmentgroup\":\"True\",\"hovertemplate\":\"Sexo=Mulheres<br>Desemprego Total=%{x}<br>Estado=%{y}<extra></extra>\",\"legendgroup\":\"Mulheres\",\"marker\":{\"color\":\"#EF553B\",\"pattern\":{\"shape\":\"\"}},\"name\":\"Mulheres\",\"offsetgroup\":\"Mulheres\",\"orientation\":\"h\",\"showlegend\":true,\"textposition\":\"auto\",\"x\":[1413,5643,1422,6593,25809,15927,5492,6979,12285,11678,5739,4615,36044,19520,6786,14091,16677,5444,6170,19602,31740,3030,921,12489,4020,81672,2561],\"xaxis\":\"x\",\"y\":[\"Acre\",\"Alagoas\",\"Amap\\u00e1\",\"Amazonas\",\"Bahia\",\"Cear\\u00e1\",\"Distrito Federal\",\"Esp\\u00edrito Santo\",\"Goi\\u00e1s\",\"Maranh\\u00e3o\",\"Mato Grosso\",\"Mato Grosso do Sul\",\"Minas Gerais\",\"Paran\\u00e1\",\"Para\\u00edba\",\"Par\\u00e1\",\"Pernambuco\",\"Piau\\u00ed\",\"Rio Grande do Norte\",\"Rio Grande do Sul\",\"Rio de Janeiro\",\"Rond\\u00f4nia\",\"Roraima\",\"Santa Catarina\",\"Sergipe\",\"S\\u00e3o Paulo\",\"Tocantins\"],\"yaxis\":\"y\",\"type\":\"bar\"}],                        {\"template\":{\"data\":{\"bar\":[{\"error_x\":{\"color\":\"#2a3f5f\"},\"error_y\":{\"color\":\"#2a3f5f\"},\"marker\":{\"line\":{\"color\":\"#E5ECF6\",\"width\":0.5},\"pattern\":{\"fillmode\":\"overlay\",\"size\":10,\"solidity\":0.2}},\"type\":\"bar\"}],\"barpolar\":[{\"marker\":{\"line\":{\"color\":\"#E5ECF6\",\"width\":0.5},\"pattern\":{\"fillmode\":\"overlay\",\"size\":10,\"solidity\":0.2}},\"type\":\"barpolar\"}],\"carpet\":[{\"aaxis\":{\"endlinecolor\":\"#2a3f5f\",\"gridcolor\":\"white\",\"linecolor\":\"white\",\"minorgridcolor\":\"white\",\"startlinecolor\":\"#2a3f5f\"},\"baxis\":{\"endlinecolor\":\"#2a3f5f\",\"gridcolor\":\"white\",\"linecolor\":\"white\",\"minorgridcolor\":\"white\",\"startlinecolor\":\"#2a3f5f\"},\"type\":\"carpet\"}],\"choropleth\":[{\"colorbar\":{\"outlinewidth\":0,\"ticks\":\"\"},\"type\":\"choropleth\"}],\"contour\":[{\"colorbar\":{\"outlinewidth\":0,\"ticks\":\"\"},\"colorscale\":[[0.0,\"#0d0887\"],[0.1111111111111111,\"#46039f\"],[0.2222222222222222,\"#7201a8\"],[0.3333333333333333,\"#9c179e\"],[0.4444444444444444,\"#bd3786\"],[0.5555555555555556,\"#d8576b\"],[0.6666666666666666,\"#ed7953\"],[0.7777777777777778,\"#fb9f3a\"],[0.8888888888888888,\"#fdca26\"],[1.0,\"#f0f921\"]],\"type\":\"contour\"}],\"contourcarpet\":[{\"colorbar\":{\"outlinewidth\":0,\"ticks\":\"\"},\"type\":\"contourcarpet\"}],\"heatmap\":[{\"colorbar\":{\"outlinewidth\":0,\"ticks\":\"\"},\"colorscale\":[[0.0,\"#0d0887\"],[0.1111111111111111,\"#46039f\"],[0.2222222222222222,\"#7201a8\"],[0.3333333333333333,\"#9c179e\"],[0.4444444444444444,\"#bd3786\"],[0.5555555555555556,\"#d8576b\"],[0.6666666666666666,\"#ed7953\"],[0.7777777777777778,\"#fb9f3a\"],[0.8888888888888888,\"#fdca26\"],[1.0,\"#f0f921\"]],\"type\":\"heatmap\"}],\"heatmapgl\":[{\"colorbar\":{\"outlinewidth\":0,\"ticks\":\"\"},\"colorscale\":[[0.0,\"#0d0887\"],[0.1111111111111111,\"#46039f\"],[0.2222222222222222,\"#7201a8\"],[0.3333333333333333,\"#9c179e\"],[0.4444444444444444,\"#bd3786\"],[0.5555555555555556,\"#d8576b\"],[0.6666666666666666,\"#ed7953\"],[0.7777777777777778,\"#fb9f3a\"],[0.8888888888888888,\"#fdca26\"],[1.0,\"#f0f921\"]],\"type\":\"heatmapgl\"}],\"histogram\":[{\"marker\":{\"pattern\":{\"fillmode\":\"overlay\",\"size\":10,\"solidity\":0.2}},\"type\":\"histogram\"}],\"histogram2d\":[{\"colorbar\":{\"outlinewidth\":0,\"ticks\":\"\"},\"colorscale\":[[0.0,\"#0d0887\"],[0.1111111111111111,\"#46039f\"],[0.2222222222222222,\"#7201a8\"],[0.3333333333333333,\"#9c179e\"],[0.4444444444444444,\"#bd3786\"],[0.5555555555555556,\"#d8576b\"],[0.6666666666666666,\"#ed7953\"],[0.7777777777777778,\"#fb9f3a\"],[0.8888888888888888,\"#fdca26\"],[1.0,\"#f0f921\"]],\"type\":\"histogram2d\"}],\"histogram2dcontour\":[{\"colorbar\":{\"outlinewidth\":0,\"ticks\":\"\"},\"colorscale\":[[0.0,\"#0d0887\"],[0.1111111111111111,\"#46039f\"],[0.2222222222222222,\"#7201a8\"],[0.3333333333333333,\"#9c179e\"],[0.4444444444444444,\"#bd3786\"],[0.5555555555555556,\"#d8576b\"],[0.6666666666666666,\"#ed7953\"],[0.7777777777777778,\"#fb9f3a\"],[0.8888888888888888,\"#fdca26\"],[1.0,\"#f0f921\"]],\"type\":\"histogram2dcontour\"}],\"mesh3d\":[{\"colorbar\":{\"outlinewidth\":0,\"ticks\":\"\"},\"type\":\"mesh3d\"}],\"parcoords\":[{\"line\":{\"colorbar\":{\"outlinewidth\":0,\"ticks\":\"\"}},\"type\":\"parcoords\"}],\"pie\":[{\"automargin\":true,\"type\":\"pie\"}],\"scatter\":[{\"marker\":{\"colorbar\":{\"outlinewidth\":0,\"ticks\":\"\"}},\"type\":\"scatter\"}],\"scatter3d\":[{\"line\":{\"colorbar\":{\"outlinewidth\":0,\"ticks\":\"\"}},\"marker\":{\"colorbar\":{\"outlinewidth\":0,\"ticks\":\"\"}},\"type\":\"scatter3d\"}],\"scattercarpet\":[{\"marker\":{\"colorbar\":{\"outlinewidth\":0,\"ticks\":\"\"}},\"type\":\"scattercarpet\"}],\"scattergeo\":[{\"marker\":{\"colorbar\":{\"outlinewidth\":0,\"ticks\":\"\"}},\"type\":\"scattergeo\"}],\"scattergl\":[{\"marker\":{\"colorbar\":{\"outlinewidth\":0,\"ticks\":\"\"}},\"type\":\"scattergl\"}],\"scattermapbox\":[{\"marker\":{\"colorbar\":{\"outlinewidth\":0,\"ticks\":\"\"}},\"type\":\"scattermapbox\"}],\"scatterpolar\":[{\"marker\":{\"colorbar\":{\"outlinewidth\":0,\"ticks\":\"\"}},\"type\":\"scatterpolar\"}],\"scatterpolargl\":[{\"marker\":{\"colorbar\":{\"outlinewidth\":0,\"ticks\":\"\"}},\"type\":\"scatterpolargl\"}],\"scatterternary\":[{\"marker\":{\"colorbar\":{\"outlinewidth\":0,\"ticks\":\"\"}},\"type\":\"scatterternary\"}],\"surface\":[{\"colorbar\":{\"outlinewidth\":0,\"ticks\":\"\"},\"colorscale\":[[0.0,\"#0d0887\"],[0.1111111111111111,\"#46039f\"],[0.2222222222222222,\"#7201a8\"],[0.3333333333333333,\"#9c179e\"],[0.4444444444444444,\"#bd3786\"],[0.5555555555555556,\"#d8576b\"],[0.6666666666666666,\"#ed7953\"],[0.7777777777777778,\"#fb9f3a\"],[0.8888888888888888,\"#fdca26\"],[1.0,\"#f0f921\"]],\"type\":\"surface\"}],\"table\":[{\"cells\":{\"fill\":{\"color\":\"#EBF0F8\"},\"line\":{\"color\":\"white\"}},\"header\":{\"fill\":{\"color\":\"#C8D4E3\"},\"line\":{\"color\":\"white\"}},\"type\":\"table\"}]},\"layout\":{\"annotationdefaults\":{\"arrowcolor\":\"#2a3f5f\",\"arrowhead\":0,\"arrowwidth\":1},\"autotypenumbers\":\"strict\",\"coloraxis\":{\"colorbar\":{\"outlinewidth\":0,\"ticks\":\"\"}},\"colorscale\":{\"diverging\":[[0,\"#8e0152\"],[0.1,\"#c51b7d\"],[0.2,\"#de77ae\"],[0.3,\"#f1b6da\"],[0.4,\"#fde0ef\"],[0.5,\"#f7f7f7\"],[0.6,\"#e6f5d0\"],[0.7,\"#b8e186\"],[0.8,\"#7fbc41\"],[0.9,\"#4d9221\"],[1,\"#276419\"]],\"sequential\":[[0.0,\"#0d0887\"],[0.1111111111111111,\"#46039f\"],[0.2222222222222222,\"#7201a8\"],[0.3333333333333333,\"#9c179e\"],[0.4444444444444444,\"#bd3786\"],[0.5555555555555556,\"#d8576b\"],[0.6666666666666666,\"#ed7953\"],[0.7777777777777778,\"#fb9f3a\"],[0.8888888888888888,\"#fdca26\"],[1.0,\"#f0f921\"]],\"sequentialminus\":[[0.0,\"#0d0887\"],[0.1111111111111111,\"#46039f\"],[0.2222222222222222,\"#7201a8\"],[0.3333333333333333,\"#9c179e\"],[0.4444444444444444,\"#bd3786\"],[0.5555555555555556,\"#d8576b\"],[0.6666666666666666,\"#ed7953\"],[0.7777777777777778,\"#fb9f3a\"],[0.8888888888888888,\"#fdca26\"],[1.0,\"#f0f921\"]]},\"colorway\":[\"#636efa\",\"#EF553B\",\"#00cc96\",\"#ab63fa\",\"#FFA15A\",\"#19d3f3\",\"#FF6692\",\"#B6E880\",\"#FF97FF\",\"#FECB52\"],\"font\":{\"color\":\"#2a3f5f\"},\"geo\":{\"bgcolor\":\"white\",\"lakecolor\":\"white\",\"landcolor\":\"#E5ECF6\",\"showlakes\":true,\"showland\":true,\"subunitcolor\":\"white\"},\"hoverlabel\":{\"align\":\"left\"},\"hovermode\":\"closest\",\"mapbox\":{\"style\":\"light\"},\"paper_bgcolor\":\"white\",\"plot_bgcolor\":\"#E5ECF6\",\"polar\":{\"angularaxis\":{\"gridcolor\":\"white\",\"linecolor\":\"white\",\"ticks\":\"\"},\"bgcolor\":\"#E5ECF6\",\"radialaxis\":{\"gridcolor\":\"white\",\"linecolor\":\"white\",\"ticks\":\"\"}},\"scene\":{\"xaxis\":{\"backgroundcolor\":\"#E5ECF6\",\"gridcolor\":\"white\",\"gridwidth\":2,\"linecolor\":\"white\",\"showbackground\":true,\"ticks\":\"\",\"zerolinecolor\":\"white\"},\"yaxis\":{\"backgroundcolor\":\"#E5ECF6\",\"gridcolor\":\"white\",\"gridwidth\":2,\"linecolor\":\"white\",\"showbackground\":true,\"ticks\":\"\",\"zerolinecolor\":\"white\"},\"zaxis\":{\"backgroundcolor\":\"#E5ECF6\",\"gridcolor\":\"white\",\"gridwidth\":2,\"linecolor\":\"white\",\"showbackground\":true,\"ticks\":\"\",\"zerolinecolor\":\"white\"}},\"shapedefaults\":{\"line\":{\"color\":\"#2a3f5f\"}},\"ternary\":{\"aaxis\":{\"gridcolor\":\"white\",\"linecolor\":\"white\",\"ticks\":\"\"},\"baxis\":{\"gridcolor\":\"white\",\"linecolor\":\"white\",\"ticks\":\"\"},\"bgcolor\":\"#E5ECF6\",\"caxis\":{\"gridcolor\":\"white\",\"linecolor\":\"white\",\"ticks\":\"\"}},\"title\":{\"x\":0.05},\"xaxis\":{\"automargin\":true,\"gridcolor\":\"white\",\"linecolor\":\"white\",\"ticks\":\"\",\"title\":{\"standoff\":15},\"zerolinecolor\":\"white\",\"zerolinewidth\":2},\"yaxis\":{\"automargin\":true,\"gridcolor\":\"white\",\"linecolor\":\"white\",\"ticks\":\"\",\"title\":{\"standoff\":15},\"zerolinecolor\":\"white\",\"zerolinewidth\":2}}},\"xaxis\":{\"anchor\":\"y\",\"domain\":[0.0,1.0],\"title\":{\"text\":\"Desemprego Total\"},\"tickformat\":\",\"},\"yaxis\":{\"anchor\":\"x\",\"domain\":[0.0,1.0],\"title\":{\"text\":\"Estado\"}},\"legend\":{\"title\":{\"text\":\"Sexo\"},\"tracegroupgap\":0},\"title\":{\"text\":\"PIR\\u00c2MIDE DE DESEMPREGO POR SEXO - 2024\"},\"barmode\":\"relative\",\"height\":800},                        {\"responsive\": true}                    )                };                            </script>        </div>\n",
       "</body>\n",
       "</html>"
      ]
     },
     "metadata": {
      "application/vnd.databricks.v1+output": {
       "addedWidgets": {},
       "arguments": {},
       "data": "<html>\n<head><meta charset=\"utf-8\" /></head>\n<body>\n    <div>            <script src=\"https://cdnjs.cloudflare.com/ajax/libs/mathjax/2.7.5/MathJax.js?config=TeX-AMS-MML_SVG\"></script><script type=\"text/javascript\">if (window.MathJax) {MathJax.Hub.Config({SVG: {font: \"STIX-Web\"}});}</script>                <script type=\"text/javascript\">window.PlotlyConfig = {MathJaxConfig: 'local'};</script>\n        <script src=\"https://cdn.plot.ly/plotly-2.9.0.min.js\"></script>                <div id=\"b985549e-3a76-4c4a-8f65-996a72c01c13\" class=\"plotly-graph-div\" style=\"height:800px; width:100%;\"></div>            <script type=\"text/javascript\">                                    window.PLOTLYENV=window.PLOTLYENV || {};                                    if (document.getElementById(\"b985549e-3a76-4c4a-8f65-996a72c01c13\")) {                    Plotly.newPlot(                        \"b985549e-3a76-4c4a-8f65-996a72c01c13\",                        [{\"alignmentgroup\":\"True\",\"hovertemplate\":\"Sexo=Homens<br>Desemprego Total=%{x}<br>Estado=%{y}<extra></extra>\",\"legendgroup\":\"Homens\",\"marker\":{\"color\":\"#636efa\",\"pattern\":{\"shape\":\"\"}},\"name\":\"Homens\",\"offsetgroup\":\"Homens\",\"orientation\":\"h\",\"showlegend\":true,\"textposition\":\"auto\",\"x\":[-1383,-5005,-1363,-6490,-23286,-14426,-4961,-6666,-11835,-10765,-5587,-4406,-35133,-18975,-6275,-13738,-14661,-5113,-5651,-18549,-27514,-2960,-920,-12311,-3622,-76456,-2645],\"xaxis\":\"x\",\"y\":[\"Acre\",\"Alagoas\",\"Amap\\u00e1\",\"Amazonas\",\"Bahia\",\"Cear\\u00e1\",\"Distrito Federal\",\"Esp\\u00edrito Santo\",\"Goi\\u00e1s\",\"Maranh\\u00e3o\",\"Mato Grosso\",\"Mato Grosso do Sul\",\"Minas Gerais\",\"Paran\\u00e1\",\"Para\\u00edba\",\"Par\\u00e1\",\"Pernambuco\",\"Piau\\u00ed\",\"Rio Grande do Norte\",\"Rio Grande do Sul\",\"Rio de Janeiro\",\"Rond\\u00f4nia\",\"Roraima\",\"Santa Catarina\",\"Sergipe\",\"S\\u00e3o Paulo\",\"Tocantins\"],\"yaxis\":\"y\",\"type\":\"bar\"},{\"alignmentgroup\":\"True\",\"hovertemplate\":\"Sexo=Mulheres<br>Desemprego Total=%{x}<br>Estado=%{y}<extra></extra>\",\"legendgroup\":\"Mulheres\",\"marker\":{\"color\":\"#EF553B\",\"pattern\":{\"shape\":\"\"}},\"name\":\"Mulheres\",\"offsetgroup\":\"Mulheres\",\"orientation\":\"h\",\"showlegend\":true,\"textposition\":\"auto\",\"x\":[1413,5643,1422,6593,25809,15927,5492,6979,12285,11678,5739,4615,36044,19520,6786,14091,16677,5444,6170,19602,31740,3030,921,12489,4020,81672,2561],\"xaxis\":\"x\",\"y\":[\"Acre\",\"Alagoas\",\"Amap\\u00e1\",\"Amazonas\",\"Bahia\",\"Cear\\u00e1\",\"Distrito Federal\",\"Esp\\u00edrito Santo\",\"Goi\\u00e1s\",\"Maranh\\u00e3o\",\"Mato Grosso\",\"Mato Grosso do Sul\",\"Minas Gerais\",\"Paran\\u00e1\",\"Para\\u00edba\",\"Par\\u00e1\",\"Pernambuco\",\"Piau\\u00ed\",\"Rio Grande do Norte\",\"Rio Grande do Sul\",\"Rio de Janeiro\",\"Rond\\u00f4nia\",\"Roraima\",\"Santa Catarina\",\"Sergipe\",\"S\\u00e3o Paulo\",\"Tocantins\"],\"yaxis\":\"y\",\"type\":\"bar\"}],                        {\"template\":{\"data\":{\"bar\":[{\"error_x\":{\"color\":\"#2a3f5f\"},\"error_y\":{\"color\":\"#2a3f5f\"},\"marker\":{\"line\":{\"color\":\"#E5ECF6\",\"width\":0.5},\"pattern\":{\"fillmode\":\"overlay\",\"size\":10,\"solidity\":0.2}},\"type\":\"bar\"}],\"barpolar\":[{\"marker\":{\"line\":{\"color\":\"#E5ECF6\",\"width\":0.5},\"pattern\":{\"fillmode\":\"overlay\",\"size\":10,\"solidity\":0.2}},\"type\":\"barpolar\"}],\"carpet\":[{\"aaxis\":{\"endlinecolor\":\"#2a3f5f\",\"gridcolor\":\"white\",\"linecolor\":\"white\",\"minorgridcolor\":\"white\",\"startlinecolor\":\"#2a3f5f\"},\"baxis\":{\"endlinecolor\":\"#2a3f5f\",\"gridcolor\":\"white\",\"linecolor\":\"white\",\"minorgridcolor\":\"white\",\"startlinecolor\":\"#2a3f5f\"},\"type\":\"carpet\"}],\"choropleth\":[{\"colorbar\":{\"outlinewidth\":0,\"ticks\":\"\"},\"type\":\"choropleth\"}],\"contour\":[{\"colorbar\":{\"outlinewidth\":0,\"ticks\":\"\"},\"colorscale\":[[0.0,\"#0d0887\"],[0.1111111111111111,\"#46039f\"],[0.2222222222222222,\"#7201a8\"],[0.3333333333333333,\"#9c179e\"],[0.4444444444444444,\"#bd3786\"],[0.5555555555555556,\"#d8576b\"],[0.6666666666666666,\"#ed7953\"],[0.7777777777777778,\"#fb9f3a\"],[0.8888888888888888,\"#fdca26\"],[1.0,\"#f0f921\"]],\"type\":\"contour\"}],\"contourcarpet\":[{\"colorbar\":{\"outlinewidth\":0,\"ticks\":\"\"},\"type\":\"contourcarpet\"}],\"heatmap\":[{\"colorbar\":{\"outlinewidth\":0,\"ticks\":\"\"},\"colorscale\":[[0.0,\"#0d0887\"],[0.1111111111111111,\"#46039f\"],[0.2222222222222222,\"#7201a8\"],[0.3333333333333333,\"#9c179e\"],[0.4444444444444444,\"#bd3786\"],[0.5555555555555556,\"#d8576b\"],[0.6666666666666666,\"#ed7953\"],[0.7777777777777778,\"#fb9f3a\"],[0.8888888888888888,\"#fdca26\"],[1.0,\"#f0f921\"]],\"type\":\"heatmap\"}],\"heatmapgl\":[{\"colorbar\":{\"outlinewidth\":0,\"ticks\":\"\"},\"colorscale\":[[0.0,\"#0d0887\"],[0.1111111111111111,\"#46039f\"],[0.2222222222222222,\"#7201a8\"],[0.3333333333333333,\"#9c179e\"],[0.4444444444444444,\"#bd3786\"],[0.5555555555555556,\"#d8576b\"],[0.6666666666666666,\"#ed7953\"],[0.7777777777777778,\"#fb9f3a\"],[0.8888888888888888,\"#fdca26\"],[1.0,\"#f0f921\"]],\"type\":\"heatmapgl\"}],\"histogram\":[{\"marker\":{\"pattern\":{\"fillmode\":\"overlay\",\"size\":10,\"solidity\":0.2}},\"type\":\"histogram\"}],\"histogram2d\":[{\"colorbar\":{\"outlinewidth\":0,\"ticks\":\"\"},\"colorscale\":[[0.0,\"#0d0887\"],[0.1111111111111111,\"#46039f\"],[0.2222222222222222,\"#7201a8\"],[0.3333333333333333,\"#9c179e\"],[0.4444444444444444,\"#bd3786\"],[0.5555555555555556,\"#d8576b\"],[0.6666666666666666,\"#ed7953\"],[0.7777777777777778,\"#fb9f3a\"],[0.8888888888888888,\"#fdca26\"],[1.0,\"#f0f921\"]],\"type\":\"histogram2d\"}],\"histogram2dcontour\":[{\"colorbar\":{\"outlinewidth\":0,\"ticks\":\"\"},\"colorscale\":[[0.0,\"#0d0887\"],[0.1111111111111111,\"#46039f\"],[0.2222222222222222,\"#7201a8\"],[0.3333333333333333,\"#9c179e\"],[0.4444444444444444,\"#bd3786\"],[0.5555555555555556,\"#d8576b\"],[0.6666666666666666,\"#ed7953\"],[0.7777777777777778,\"#fb9f3a\"],[0.8888888888888888,\"#fdca26\"],[1.0,\"#f0f921\"]],\"type\":\"histogram2dcontour\"}],\"mesh3d\":[{\"colorbar\":{\"outlinewidth\":0,\"ticks\":\"\"},\"type\":\"mesh3d\"}],\"parcoords\":[{\"line\":{\"colorbar\":{\"outlinewidth\":0,\"ticks\":\"\"}},\"type\":\"parcoords\"}],\"pie\":[{\"automargin\":true,\"type\":\"pie\"}],\"scatter\":[{\"marker\":{\"colorbar\":{\"outlinewidth\":0,\"ticks\":\"\"}},\"type\":\"scatter\"}],\"scatter3d\":[{\"line\":{\"colorbar\":{\"outlinewidth\":0,\"ticks\":\"\"}},\"marker\":{\"colorbar\":{\"outlinewidth\":0,\"ticks\":\"\"}},\"type\":\"scatter3d\"}],\"scattercarpet\":[{\"marker\":{\"colorbar\":{\"outlinewidth\":0,\"ticks\":\"\"}},\"type\":\"scattercarpet\"}],\"scattergeo\":[{\"marker\":{\"colorbar\":{\"outlinewidth\":0,\"ticks\":\"\"}},\"type\":\"scattergeo\"}],\"scattergl\":[{\"marker\":{\"colorbar\":{\"outlinewidth\":0,\"ticks\":\"\"}},\"type\":\"scattergl\"}],\"scattermapbox\":[{\"marker\":{\"colorbar\":{\"outlinewidth\":0,\"ticks\":\"\"}},\"type\":\"scattermapbox\"}],\"scatterpolar\":[{\"marker\":{\"colorbar\":{\"outlinewidth\":0,\"ticks\":\"\"}},\"type\":\"scatterpolar\"}],\"scatterpolargl\":[{\"marker\":{\"colorbar\":{\"outlinewidth\":0,\"ticks\":\"\"}},\"type\":\"scatterpolargl\"}],\"scatterternary\":[{\"marker\":{\"colorbar\":{\"outlinewidth\":0,\"ticks\":\"\"}},\"type\":\"scatterternary\"}],\"surface\":[{\"colorbar\":{\"outlinewidth\":0,\"ticks\":\"\"},\"colorscale\":[[0.0,\"#0d0887\"],[0.1111111111111111,\"#46039f\"],[0.2222222222222222,\"#7201a8\"],[0.3333333333333333,\"#9c179e\"],[0.4444444444444444,\"#bd3786\"],[0.5555555555555556,\"#d8576b\"],[0.6666666666666666,\"#ed7953\"],[0.7777777777777778,\"#fb9f3a\"],[0.8888888888888888,\"#fdca26\"],[1.0,\"#f0f921\"]],\"type\":\"surface\"}],\"table\":[{\"cells\":{\"fill\":{\"color\":\"#EBF0F8\"},\"line\":{\"color\":\"white\"}},\"header\":{\"fill\":{\"color\":\"#C8D4E3\"},\"line\":{\"color\":\"white\"}},\"type\":\"table\"}]},\"layout\":{\"annotationdefaults\":{\"arrowcolor\":\"#2a3f5f\",\"arrowhead\":0,\"arrowwidth\":1},\"autotypenumbers\":\"strict\",\"coloraxis\":{\"colorbar\":{\"outlinewidth\":0,\"ticks\":\"\"}},\"colorscale\":{\"diverging\":[[0,\"#8e0152\"],[0.1,\"#c51b7d\"],[0.2,\"#de77ae\"],[0.3,\"#f1b6da\"],[0.4,\"#fde0ef\"],[0.5,\"#f7f7f7\"],[0.6,\"#e6f5d0\"],[0.7,\"#b8e186\"],[0.8,\"#7fbc41\"],[0.9,\"#4d9221\"],[1,\"#276419\"]],\"sequential\":[[0.0,\"#0d0887\"],[0.1111111111111111,\"#46039f\"],[0.2222222222222222,\"#7201a8\"],[0.3333333333333333,\"#9c179e\"],[0.4444444444444444,\"#bd3786\"],[0.5555555555555556,\"#d8576b\"],[0.6666666666666666,\"#ed7953\"],[0.7777777777777778,\"#fb9f3a\"],[0.8888888888888888,\"#fdca26\"],[1.0,\"#f0f921\"]],\"sequentialminus\":[[0.0,\"#0d0887\"],[0.1111111111111111,\"#46039f\"],[0.2222222222222222,\"#7201a8\"],[0.3333333333333333,\"#9c179e\"],[0.4444444444444444,\"#bd3786\"],[0.5555555555555556,\"#d8576b\"],[0.6666666666666666,\"#ed7953\"],[0.7777777777777778,\"#fb9f3a\"],[0.8888888888888888,\"#fdca26\"],[1.0,\"#f0f921\"]]},\"colorway\":[\"#636efa\",\"#EF553B\",\"#00cc96\",\"#ab63fa\",\"#FFA15A\",\"#19d3f3\",\"#FF6692\",\"#B6E880\",\"#FF97FF\",\"#FECB52\"],\"font\":{\"color\":\"#2a3f5f\"},\"geo\":{\"bgcolor\":\"white\",\"lakecolor\":\"white\",\"landcolor\":\"#E5ECF6\",\"showlakes\":true,\"showland\":true,\"subunitcolor\":\"white\"},\"hoverlabel\":{\"align\":\"left\"},\"hovermode\":\"closest\",\"mapbox\":{\"style\":\"light\"},\"paper_bgcolor\":\"white\",\"plot_bgcolor\":\"#E5ECF6\",\"polar\":{\"angularaxis\":{\"gridcolor\":\"white\",\"linecolor\":\"white\",\"ticks\":\"\"},\"bgcolor\":\"#E5ECF6\",\"radialaxis\":{\"gridcolor\":\"white\",\"linecolor\":\"white\",\"ticks\":\"\"}},\"scene\":{\"xaxis\":{\"backgroundcolor\":\"#E5ECF6\",\"gridcolor\":\"white\",\"gridwidth\":2,\"linecolor\":\"white\",\"showbackground\":true,\"ticks\":\"\",\"zerolinecolor\":\"white\"},\"yaxis\":{\"backgroundcolor\":\"#E5ECF6\",\"gridcolor\":\"white\",\"gridwidth\":2,\"linecolor\":\"white\",\"showbackground\":true,\"ticks\":\"\",\"zerolinecolor\":\"white\"},\"zaxis\":{\"backgroundcolor\":\"#E5ECF6\",\"gridcolor\":\"white\",\"gridwidth\":2,\"linecolor\":\"white\",\"showbackground\":true,\"ticks\":\"\",\"zerolinecolor\":\"white\"}},\"shapedefaults\":{\"line\":{\"color\":\"#2a3f5f\"}},\"ternary\":{\"aaxis\":{\"gridcolor\":\"white\",\"linecolor\":\"white\",\"ticks\":\"\"},\"baxis\":{\"gridcolor\":\"white\",\"linecolor\":\"white\",\"ticks\":\"\"},\"bgcolor\":\"#E5ECF6\",\"caxis\":{\"gridcolor\":\"white\",\"linecolor\":\"white\",\"ticks\":\"\"}},\"title\":{\"x\":0.05},\"xaxis\":{\"automargin\":true,\"gridcolor\":\"white\",\"linecolor\":\"white\",\"ticks\":\"\",\"title\":{\"standoff\":15},\"zerolinecolor\":\"white\",\"zerolinewidth\":2},\"yaxis\":{\"automargin\":true,\"gridcolor\":\"white\",\"linecolor\":\"white\",\"ticks\":\"\",\"title\":{\"standoff\":15},\"zerolinecolor\":\"white\",\"zerolinewidth\":2}}},\"xaxis\":{\"anchor\":\"y\",\"domain\":[0.0,1.0],\"title\":{\"text\":\"Desemprego Total\"},\"tickformat\":\",\"},\"yaxis\":{\"anchor\":\"x\",\"domain\":[0.0,1.0],\"title\":{\"text\":\"Estado\"}},\"legend\":{\"title\":{\"text\":\"Sexo\"},\"tracegroupgap\":0},\"title\":{\"text\":\"PIR\\u00c2MIDE DE DESEMPREGO POR SEXO - 2024\"},\"barmode\":\"relative\",\"height\":800},                        {\"responsive\": true}                    )                };                            </script>        </div>\n</body>\n</html>",
       "datasetInfos": [],
       "metadata": {},
       "removedWidgets": [],
       "textData": null,
       "type": "htmlSandbox"
      }
     },
     "output_type": "display_data"
    }
   ],
   "source": [
    "df_spark = spark.sql(\"\"\"\n",
    "    SELECT des.ESTADO, \n",
    "           des.SEXO, \n",
    "           SUM(des.VALOR_TOTAL) AS TOTAL_DESUMPREGO\n",
    "    FROM gold.desemprego des\n",
    "    WHERE des.ANO = 2024 AND des.SEXO IN ('Homens', 'Mulheres')\n",
    "    GROUP BY des.ESTADO, des.SEXO\n",
    "\"\"\")\n",
    "\n",
    "\n",
    "df_pandas = df_spark.toPandas()\n",
    "\n",
    "\n",
    "df_pandas['TOTAL_DESUMPREGO'] = df_pandas.apply(\n",
    "    lambda row: -row['TOTAL_DESUMPREGO'] if row['SEXO'] == 'Homens' else row['TOTAL_DESUMPREGO'],\n",
    "    axis=1\n",
    ")\n",
    "\n",
    "\n",
    "df_pivot = df_pandas.pivot(index='ESTADO', columns='SEXO', values='TOTAL_DESUMPREGO').fillna(0).reset_index()\n",
    "\n",
    "\n",
    "df_long = df_pivot.melt(id_vars='ESTADO', value_vars=['Homens', 'Mulheres'],\n",
    "                        var_name='SEXO', value_name='TOTAL_DESUMPREGO')\n",
    "\n",
    "import plotly.express as px\n",
    "\n",
    "fig = px.bar(df_long,\n",
    "             x='TOTAL_DESUMPREGO',\n",
    "             y='ESTADO',\n",
    "             color='SEXO',\n",
    "             orientation='h',\n",
    "             title=\"PIRÂMIDE DE DESEMPREGO POR SEXO - 2024\",\n",
    "             labels={'TOTAL_DESUMPREGO': 'Desemprego Total', 'ESTADO': 'Estado', 'SEXO': 'Sexo'},\n",
    "             height=800)\n",
    "\n",
    "\n",
    "fig.update_layout(xaxis_tickformat=',', barmode='relative')\n",
    "\n",
    "fig.show()"
   ]
  },
  {
   "cell_type": "code",
   "execution_count": 0,
   "metadata": {
    "application/vnd.databricks.v1+cell": {
     "cellMetadata": {
      "byteLimit": 2048000,
      "implicitDf": true,
      "rowLimit": 10000
     },
     "inputWidgets": {},
     "nuid": "05eb64a8-ab36-469c-b602-1fe149dd9a9e",
     "showTitle": false,
     "tableResultSettingsMap": {},
     "title": ""
    }
   },
   "outputs": [
    {
     "output_type": "display_data",
     "data": {
      "text/html": [
       "<style scoped>\n",
       "  .table-result-container {\n",
       "    max-height: 300px;\n",
       "    overflow: auto;\n",
       "  }\n",
       "  table, th, td {\n",
       "    border: 1px solid black;\n",
       "    border-collapse: collapse;\n",
       "  }\n",
       "  th, td {\n",
       "    padding: 5px;\n",
       "  }\n",
       "  th {\n",
       "    text-align: left;\n",
       "  }\n",
       "</style><div class='table-result-container'><table class='table-result'><thead style='background-color: white'><tr><th>ANO</th><th>ESTADO</th><th>VALOR_TOTAL</th></tr></thead><tbody><tr><td>2012</td><td>São Paulo</td><td>139399</td></tr><tr><td>2013</td><td>São Paulo</td><td>141007</td></tr><tr><td>2014</td><td>São Paulo</td><td>143093</td></tr><tr><td>2015</td><td>São Paulo</td><td>144534</td></tr><tr><td>2016</td><td>São Paulo</td><td>145938</td></tr><tr><td>2017</td><td>São Paulo</td><td>146884</td></tr><tr><td>2018</td><td>São Paulo</td><td>148310</td></tr><tr><td>2019</td><td>São Paulo</td><td>150173</td></tr><tr><td>2020</td><td>São Paulo</td><td>37705</td></tr><tr><td>2022</td><td>São Paulo</td><td>116337</td></tr><tr><td>2023</td><td>São Paulo</td><td>156420</td></tr><tr><td>2024</td><td>São Paulo</td><td>158129</td></tr></tbody></table></div>"
      ]
     },
     "metadata": {
      "application/vnd.databricks.v1+output": {
       "addedWidgets": {},
       "aggData": [],
       "aggError": "",
       "aggOverflow": false,
       "aggSchema": [],
       "aggSeriesLimitReached": false,
       "aggType": "",
       "arguments": {},
       "columnCustomDisplayInfos": {},
       "data": [
        [
         2012,
         "São Paulo",
         139399
        ],
        [
         2013,
         "São Paulo",
         141007
        ],
        [
         2014,
         "São Paulo",
         143093
        ],
        [
         2015,
         "São Paulo",
         144534
        ],
        [
         2016,
         "São Paulo",
         145938
        ],
        [
         2017,
         "São Paulo",
         146884
        ],
        [
         2018,
         "São Paulo",
         148310
        ],
        [
         2019,
         "São Paulo",
         150173
        ],
        [
         2020,
         "São Paulo",
         37705
        ],
        [
         2022,
         "São Paulo",
         116337
        ],
        [
         2023,
         "São Paulo",
         156420
        ],
        [
         2024,
         "São Paulo",
         158129
        ]
       ],
       "datasetInfos": [],
       "dbfsResultPath": null,
       "isJsonSchema": true,
       "metadata": {},
       "overflow": false,
       "plotOptions": {
        "customPlotOptions": {},
        "displayType": "table",
        "pivotAggregation": null,
        "pivotColumns": null,
        "xColumns": null,
        "yColumns": null
       },
       "removedWidgets": [],
       "schema": [
        {
         "metadata": "{}",
         "name": "ANO",
         "type": "\"integer\""
        },
        {
         "metadata": "{}",
         "name": "ESTADO",
         "type": "\"string\""
        },
        {
         "metadata": "{}",
         "name": "VALOR_TOTAL",
         "type": "\"long\""
        }
       ],
       "type": "table"
      }
     },
     "output_type": "display_data"
    }
   ],
   "source": [
    "%sql\n",
    "SELECT \n",
    "    des.ANO, \n",
    "    des.ESTADO, \n",
    "    des.VALOR_TOTAL\n",
    "FROM gold.desemprego des\n",
    "WHERE des.SEXO = 'Total'\n",
    "  AND (des.ANO, des.VALOR_TOTAL) IN (\n",
    "    SELECT A.ANO, MAX(A.VALOR_TOTAL)\n",
    "    FROM gold.desemprego A\n",
    "    WHERE A.SEXO = 'Total'\n",
    "    GROUP BY A.ANO\n",
    ")\n",
    "ORDER BY des.ANO\n"
   ]
  }
 ],
 "metadata": {
  "application/vnd.databricks.v1+notebook": {
   "computePreferences": null,
   "dashboards": [],
   "environmentMetadata": {
    "base_environment": "",
    "environment_version": "1"
   },
   "inputWidgetPreferences": null,
   "language": "python",
   "notebookMetadata": {
    "mostRecentlyExecutedCommandWithImplicitDF": {
     "commandId": 724924196686731,
     "dataframes": [
      "_sqldf"
     ]
    },
    "pythonIndentUnit": 4
   },
   "notebookName": "Codigo MVP---Engenharia-de-Dados-Brasil-em-Movimento-Futebol-PIB-e-as-Rotas-da-Migra-o-Interna",
   "widgets": {}
  }
 },
 "nbformat": 4,
 "nbformat_minor": 0
}